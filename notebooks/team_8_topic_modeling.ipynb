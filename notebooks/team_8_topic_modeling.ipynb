{
 "cells": [
  {
   "cell_type": "code",
   "execution_count": 101,
   "id": "ccca366a-3733-4e9c-83aa-628537d4e186",
   "metadata": {
    "tags": []
   },
   "outputs": [],
   "source": [
    "import pandas as pd\n",
    "import numpy as np\n",
    "import spacy\n",
    "import json\n",
    "import re\n",
    "\n",
    "import seaborn as sns\n",
    "import matplotlib.pyplot as plt\n",
    "\n",
    "from guess_language import guess_language\n",
    "from sklearn.decomposition import LatentDirichletAllocation\n",
    "from sklearn.feature_extraction.text import TfidfVectorizer\n",
    "from nltk.corpus import stopwords"
   ]
  },
  {
   "cell_type": "code",
   "execution_count": 37,
   "id": "7c0003d3-6a8d-4509-a906-6c322696a409",
   "metadata": {
    "tags": []
   },
   "outputs": [],
   "source": [
    "DATA_PATH = 'D:/Data_Science/mentoring/src/data/'"
   ]
  },
  {
   "cell_type": "code",
   "execution_count": 174,
   "id": "db1eaa77-b1cc-433b-8faa-cb24a2ffca4d",
   "metadata": {
    "tags": []
   },
   "outputs": [
    {
     "name": "stdout",
     "output_type": "stream",
     "text": [
      "<class 'pandas.core.frame.DataFrame'>\n",
      "Int64Index: 9802 entries, 0 to 9801\n",
      "Data columns (total 6 columns):\n",
      " #   Column         Non-Null Count  Dtype  \n",
      "---  ------         --------------  -----  \n",
      " 0   profile_url    9802 non-null   object \n",
      " 1   post_url       117 non-null    object \n",
      " 2   post           9802 non-null   object \n",
      " 3   reactions_cnt  9653 non-null   object \n",
      " 4   comments_cnt   9467 non-null   float64\n",
      " 5   reposts_cnt    9356 non-null   float64\n",
      "dtypes: float64(2), object(4)\n",
      "memory usage: 536.0+ KB\n",
      "None\n"
     ]
    },
    {
     "data": {
      "text/html": [
       "<div>\n",
       "<style scoped>\n",
       "    .dataframe tbody tr th:only-of-type {\n",
       "        vertical-align: middle;\n",
       "    }\n",
       "\n",
       "    .dataframe tbody tr th {\n",
       "        vertical-align: top;\n",
       "    }\n",
       "\n",
       "    .dataframe thead th {\n",
       "        text-align: right;\n",
       "    }\n",
       "</style>\n",
       "<table border=\"1\" class=\"dataframe\">\n",
       "  <thead>\n",
       "    <tr style=\"text-align: right;\">\n",
       "      <th></th>\n",
       "      <th>profile_url</th>\n",
       "      <th>post_url</th>\n",
       "      <th>post</th>\n",
       "      <th>reactions_cnt</th>\n",
       "      <th>comments_cnt</th>\n",
       "      <th>reposts_cnt</th>\n",
       "    </tr>\n",
       "  </thead>\n",
       "  <tbody>\n",
       "    <tr>\n",
       "      <th>0</th>\n",
       "      <td>https://www.linkedin.com/in/ali-wodan/recent-a...</td>\n",
       "      <td>NaN</td>\n",
       "      <td>Кстати говоря. Теперь подкаст Миражи доступен ...</td>\n",
       "      <td>1</td>\n",
       "      <td>0.0</td>\n",
       "      <td>0.0</td>\n",
       "    </tr>\n",
       "    <tr>\n",
       "      <th>1</th>\n",
       "      <td>https://www.linkedin.com/in/ali-wodan/recent-a...</td>\n",
       "      <td>NaN</td>\n",
       "      <td>I’m #hiring. Know anyone who might be interested?</td>\n",
       "      <td>1</td>\n",
       "      <td>0.0</td>\n",
       "      <td>0.0</td>\n",
       "    </tr>\n",
       "    <tr>\n",
       "      <th>2</th>\n",
       "      <td>https://www.linkedin.com/in/ali-wodan/recent-a...</td>\n",
       "      <td>NaN</td>\n",
       "      <td>Хэй честной народ! Ищу векторного иллюстратора...</td>\n",
       "      <td>6</td>\n",
       "      <td>0.0</td>\n",
       "      <td>0.0</td>\n",
       "    </tr>\n",
       "    <tr>\n",
       "      <th>3</th>\n",
       "      <td>https://www.linkedin.com/in/ali-wodan/recent-a...</td>\n",
       "      <td>NaN</td>\n",
       "      <td>Новый пост подкаста \"Миражи\" на всех платформа...</td>\n",
       "      <td>1</td>\n",
       "      <td>0.0</td>\n",
       "      <td>0.0</td>\n",
       "    </tr>\n",
       "    <tr>\n",
       "      <th>4</th>\n",
       "      <td>https://www.linkedin.com/in/ali-wodan/recent-a...</td>\n",
       "      <td>NaN</td>\n",
       "      <td>Подкаст Миражи, Эпизод 13Ошибка невозвратных з...</td>\n",
       "      <td>2</td>\n",
       "      <td>0.0</td>\n",
       "      <td>0.0</td>\n",
       "    </tr>\n",
       "  </tbody>\n",
       "</table>\n",
       "</div>"
      ],
      "text/plain": [
       "                                         profile_url post_url  \\\n",
       "0  https://www.linkedin.com/in/ali-wodan/recent-a...      NaN   \n",
       "1  https://www.linkedin.com/in/ali-wodan/recent-a...      NaN   \n",
       "2  https://www.linkedin.com/in/ali-wodan/recent-a...      NaN   \n",
       "3  https://www.linkedin.com/in/ali-wodan/recent-a...      NaN   \n",
       "4  https://www.linkedin.com/in/ali-wodan/recent-a...      NaN   \n",
       "\n",
       "                                                post reactions_cnt  \\\n",
       "0  Кстати говоря. Теперь подкаст Миражи доступен ...             1   \n",
       "1  I’m #hiring. Know anyone who might be interested?             1   \n",
       "2  Хэй честной народ! Ищу векторного иллюстратора...             6   \n",
       "3  Новый пост подкаста \"Миражи\" на всех платформа...             1   \n",
       "4  Подкаст Миражи, Эпизод 13Ошибка невозвратных з...             2   \n",
       "\n",
       "   comments_cnt  reposts_cnt  \n",
       "0           0.0          0.0  \n",
       "1           0.0          0.0  \n",
       "2           0.0          0.0  \n",
       "3           0.0          0.0  \n",
       "4           0.0          0.0  "
      ]
     },
     "execution_count": 174,
     "metadata": {},
     "output_type": "execute_result"
    }
   ],
   "source": [
    "posts = pd.read_csv(f'{DATA_PATH}teams_2_3_8_10_posts.csv', sep=';', index_col=0)\n",
    "print(posts.info())\n",
    "posts.head()"
   ]
  },
  {
   "cell_type": "markdown",
   "id": "4853b829-68d7-43c3-8279-60d4c376fc51",
   "metadata": {},
   "source": [
    "# Категоризация текстов по языку"
   ]
  },
  {
   "cell_type": "markdown",
   "id": "46c3288b-b79c-4d03-8910-5499f1a9fc14",
   "metadata": {
    "tags": []
   },
   "source": [
    "Так как при парсинге в выборку попадали тексты на разных языках, произведем категоризацию по ним, используя библиотеку `guess_language`"
   ]
  },
  {
   "cell_type": "code",
   "execution_count": 175,
   "id": "36a9bf12-9363-4b63-a7af-30beb3703aa9",
   "metadata": {
    "tags": []
   },
   "outputs": [
    {
     "data": {
      "text/html": [
       "<div>\n",
       "<style scoped>\n",
       "    .dataframe tbody tr th:only-of-type {\n",
       "        vertical-align: middle;\n",
       "    }\n",
       "\n",
       "    .dataframe tbody tr th {\n",
       "        vertical-align: top;\n",
       "    }\n",
       "\n",
       "    .dataframe thead th {\n",
       "        text-align: right;\n",
       "    }\n",
       "</style>\n",
       "<table border=\"1\" class=\"dataframe\">\n",
       "  <thead>\n",
       "    <tr style=\"text-align: right;\">\n",
       "      <th></th>\n",
       "      <th>profile_url</th>\n",
       "      <th>post_url</th>\n",
       "      <th>post</th>\n",
       "      <th>reactions_cnt</th>\n",
       "      <th>comments_cnt</th>\n",
       "      <th>reposts_cnt</th>\n",
       "      <th>language</th>\n",
       "    </tr>\n",
       "  </thead>\n",
       "  <tbody>\n",
       "    <tr>\n",
       "      <th>4980</th>\n",
       "      <td>https://www.linkedin.com/in/vnzubarev/recent-a...</td>\n",
       "      <td>NaN</td>\n",
       "      <td>Welcome the new ambassador of UNITED24 — Kathe...</td>\n",
       "      <td>607</td>\n",
       "      <td>11.0</td>\n",
       "      <td>6.0</td>\n",
       "      <td>en</td>\n",
       "    </tr>\n",
       "    <tr>\n",
       "      <th>3707</th>\n",
       "      <td>https://www.linkedin.com/in/helenlonskaya/rece...</td>\n",
       "      <td>NaN</td>\n",
       "      <td>Absolutely Agree! Remote work has been a game-...</td>\n",
       "      <td>5</td>\n",
       "      <td>2.0</td>\n",
       "      <td>0.0</td>\n",
       "      <td>en</td>\n",
       "    </tr>\n",
       "    <tr>\n",
       "      <th>5742</th>\n",
       "      <td>https://www.linkedin.com/in/polinalazareva/rec...</td>\n",
       "      <td>NaN</td>\n",
       "      <td>How To Implement An ERP Solution Like A ProNow...</td>\n",
       "      <td>11</td>\n",
       "      <td>0.0</td>\n",
       "      <td>0.0</td>\n",
       "      <td>en</td>\n",
       "    </tr>\n",
       "    <tr>\n",
       "      <th>1671</th>\n",
       "      <td>https://www.linkedin.com/in/oleksii-udovenko/r...</td>\n",
       "      <td>NaN</td>\n",
       "      <td>How we help clients turn their ideas into succ...</td>\n",
       "      <td>3</td>\n",
       "      <td>0.0</td>\n",
       "      <td>1.0</td>\n",
       "      <td>en</td>\n",
       "    </tr>\n",
       "    <tr>\n",
       "      <th>8601</th>\n",
       "      <td>https://www.linkedin.com/in/murashevandrey/rec...</td>\n",
       "      <td>NaN</td>\n",
       "      <td>Пробуем собрать комьюнити выходцев из VK/Mail....</td>\n",
       "      <td>25</td>\n",
       "      <td>1.0</td>\n",
       "      <td>0.0</td>\n",
       "      <td>ru</td>\n",
       "    </tr>\n",
       "    <tr>\n",
       "      <th>8245</th>\n",
       "      <td>https://www.linkedin.com/in/suxrobgm/recent-ac...</td>\n",
       "      <td>NaN</td>\n",
       "      <td>Friends, let's support poor family😢😢 Repost Fa...</td>\n",
       "      <td>2</td>\n",
       "      <td>0.0</td>\n",
       "      <td>0.0</td>\n",
       "      <td>en</td>\n",
       "    </tr>\n",
       "    <tr>\n",
       "      <th>5657</th>\n",
       "      <td>https://www.linkedin.com/in/albert-akhmetov/re...</td>\n",
       "      <td>NaN</td>\n",
       "      <td>Hiring of UA candidates in Hungary, Croatia, R...</td>\n",
       "      <td>4</td>\n",
       "      <td>1.0</td>\n",
       "      <td>0.0</td>\n",
       "      <td>en</td>\n",
       "    </tr>\n",
       "    <tr>\n",
       "      <th>8902</th>\n",
       "      <td>https://www.linkedin.com/in/leraginzburg/recen...</td>\n",
       "      <td>NaN</td>\n",
       "      <td>Check out these 16 Figma plugins saving time f...</td>\n",
       "      <td>15 894</td>\n",
       "      <td>502.0</td>\n",
       "      <td>2.0</td>\n",
       "      <td>en</td>\n",
       "    </tr>\n",
       "    <tr>\n",
       "      <th>5547</th>\n",
       "      <td>https://www.linkedin.com/in/artyommartynov/rec...</td>\n",
       "      <td>NaN</td>\n",
       "      <td>Когнитивные искаженияНа днях узнал, что выделя...</td>\n",
       "      <td>1</td>\n",
       "      <td>0.0</td>\n",
       "      <td>0.0</td>\n",
       "      <td>ru</td>\n",
       "    </tr>\n",
       "    <tr>\n",
       "      <th>2164</th>\n",
       "      <td>https://www.linkedin.com/in/valerian-valkin/re...</td>\n",
       "      <td>NaN</td>\n",
       "      <td>If you work in real estate, insurance, recruit...</td>\n",
       "      <td>0</td>\n",
       "      <td>0.0</td>\n",
       "      <td>0.0</td>\n",
       "      <td>en</td>\n",
       "    </tr>\n",
       "  </tbody>\n",
       "</table>\n",
       "</div>"
      ],
      "text/plain": [
       "                                            profile_url post_url  \\\n",
       "4980  https://www.linkedin.com/in/vnzubarev/recent-a...      NaN   \n",
       "3707  https://www.linkedin.com/in/helenlonskaya/rece...      NaN   \n",
       "5742  https://www.linkedin.com/in/polinalazareva/rec...      NaN   \n",
       "1671  https://www.linkedin.com/in/oleksii-udovenko/r...      NaN   \n",
       "8601  https://www.linkedin.com/in/murashevandrey/rec...      NaN   \n",
       "8245  https://www.linkedin.com/in/suxrobgm/recent-ac...      NaN   \n",
       "5657  https://www.linkedin.com/in/albert-akhmetov/re...      NaN   \n",
       "8902  https://www.linkedin.com/in/leraginzburg/recen...      NaN   \n",
       "5547  https://www.linkedin.com/in/artyommartynov/rec...      NaN   \n",
       "2164  https://www.linkedin.com/in/valerian-valkin/re...      NaN   \n",
       "\n",
       "                                                   post reactions_cnt  \\\n",
       "4980  Welcome the new ambassador of UNITED24 — Kathe...           607   \n",
       "3707  Absolutely Agree! Remote work has been a game-...             5   \n",
       "5742  How To Implement An ERP Solution Like A ProNow...            11   \n",
       "1671  How we help clients turn their ideas into succ...             3   \n",
       "8601  Пробуем собрать комьюнити выходцев из VK/Mail....            25   \n",
       "8245  Friends, let's support poor family😢😢 Repost Fa...             2   \n",
       "5657  Hiring of UA candidates in Hungary, Croatia, R...             4   \n",
       "8902  Check out these 16 Figma plugins saving time f...        15 894   \n",
       "5547  Когнитивные искаженияНа днях узнал, что выделя...             1   \n",
       "2164  If you work in real estate, insurance, recruit...             0   \n",
       "\n",
       "      comments_cnt  reposts_cnt language  \n",
       "4980          11.0          6.0       en  \n",
       "3707           2.0          0.0       en  \n",
       "5742           0.0          0.0       en  \n",
       "1671           0.0          1.0       en  \n",
       "8601           1.0          0.0       ru  \n",
       "8245           0.0          0.0       en  \n",
       "5657           1.0          0.0       en  \n",
       "8902         502.0          2.0       en  \n",
       "5547           0.0          0.0       ru  \n",
       "2164           0.0          0.0       en  "
      ]
     },
     "execution_count": 175,
     "metadata": {},
     "output_type": "execute_result"
    }
   ],
   "source": [
    "posts['language'] = posts['post'].apply(guess_language)\n",
    "posts.sample(10)"
   ]
  },
  {
   "cell_type": "markdown",
   "id": "cb0be2a4-8f38-4155-9437-25f8868c6b24",
   "metadata": {},
   "source": [
    "По десяти случайным строкам видно, что есть категория UNKNOWN и какие-то языки кроме английского и русского. Посмотрим внимательнее"
   ]
  },
  {
   "cell_type": "code",
   "execution_count": 176,
   "id": "1e3b9981-9297-4848-b42c-1e59e07ec030",
   "metadata": {
    "tags": []
   },
   "outputs": [
    {
     "data": {
      "text/plain": [
       "en         6056\n",
       "ru         2287\n",
       "UNKNOWN     386\n",
       "uk          226\n",
       "bg          181\n",
       "fr           77\n",
       "de           47\n",
       "ca           42\n",
       "af           38\n",
       "az           36\n",
       "mk           35\n",
       "it           35\n",
       "nl           33\n",
       "da           32\n",
       "ro           30\n",
       "hy           29\n",
       "la           29\n",
       "es           21\n",
       "tl           17\n",
       "nb           17\n",
       "eo           15\n",
       "sr           13\n",
       "sv           13\n",
       "ar           11\n",
       "pt           11\n",
       "id           10\n",
       "fi            7\n",
       "ha            7\n",
       "nso           6\n",
       "haw           4\n",
       "he            4\n",
       "sl            4\n",
       "kk            4\n",
       "sq            3\n",
       "tr            3\n",
       "ss            3\n",
       "cy            3\n",
       "uz            3\n",
       "is            3\n",
       "hr            3\n",
       "et            2\n",
       "ceb           2\n",
       "hu            2\n",
       "tn            2\n",
       "sk            2\n",
       "vi            1\n",
       "so            1\n",
       "ka            1\n",
       "ve            1\n",
       "tlh           1\n",
       "st            1\n",
       "ky            1\n",
       "lt            1\n",
       "Name: language, dtype: int64"
      ]
     },
     "execution_count": 176,
     "metadata": {},
     "output_type": "execute_result"
    }
   ],
   "source": [
    "posts['language'].value_counts()"
   ]
  },
  {
   "cell_type": "markdown",
   "id": "371a3a30-abb8-4b90-9dea-4b47bfe41d08",
   "metadata": {},
   "source": [
    "Большинство текстов написаны на  русском и английском языках. Визуально посмотрим, на тексты иных языков 'uk', 'bg', 'fr' и категорию `unknown`. Эти категории мамые популярные:"
   ]
  },
  {
   "cell_type": "code",
   "execution_count": 177,
   "id": "6160ec0e-9372-4c44-994f-a124c377f337",
   "metadata": {
    "tags": []
   },
   "outputs": [
    {
     "data": {
      "text/html": [
       "<div>\n",
       "<style scoped>\n",
       "    .dataframe tbody tr th:only-of-type {\n",
       "        vertical-align: middle;\n",
       "    }\n",
       "\n",
       "    .dataframe tbody tr th {\n",
       "        vertical-align: top;\n",
       "    }\n",
       "\n",
       "    .dataframe thead th {\n",
       "        text-align: right;\n",
       "    }\n",
       "</style>\n",
       "<table border=\"1\" class=\"dataframe\">\n",
       "  <thead>\n",
       "    <tr style=\"text-align: right;\">\n",
       "      <th></th>\n",
       "      <th>post</th>\n",
       "      <th>language</th>\n",
       "    </tr>\n",
       "  </thead>\n",
       "  <tbody>\n",
       "    <tr>\n",
       "      <th>403</th>\n",
       "      <td>#hr #lean #tatneft</td>\n",
       "      <td>UNKNOWN</td>\n",
       "    </tr>\n",
       "    <tr>\n",
       "      <th>7845</th>\n",
       "      <td>absolutely amazing</td>\n",
       "      <td>UNKNOWN</td>\n",
       "    </tr>\n",
       "    <tr>\n",
       "      <th>2767</th>\n",
       "      <td>wow! 👍 Well, why not? 😀</td>\n",
       "      <td>UNKNOWN</td>\n",
       "    </tr>\n",
       "    <tr>\n",
       "      <th>8166</th>\n",
       "      <td>#stopwar #nowar</td>\n",
       "      <td>UNKNOWN</td>\n",
       "    </tr>\n",
       "    <tr>\n",
       "      <th>6103</th>\n",
       "      <td>your thoughts guys🤔🤔</td>\n",
       "      <td>UNKNOWN</td>\n",
       "    </tr>\n",
       "    <tr>\n",
       "      <th>734</th>\n",
       "      <td>March Picks</td>\n",
       "      <td>UNKNOWN</td>\n",
       "    </tr>\n",
       "    <tr>\n",
       "      <th>9331</th>\n",
       "      <td>Thanks</td>\n",
       "      <td>UNKNOWN</td>\n",
       "    </tr>\n",
       "    <tr>\n",
       "      <th>825</th>\n",
       "      <td>Джунам посвящается :)</td>\n",
       "      <td>UNKNOWN</td>\n",
       "    </tr>\n",
       "    <tr>\n",
       "      <th>4541</th>\n",
       "      <td>❤️</td>\n",
       "      <td>UNKNOWN</td>\n",
       "    </tr>\n",
       "    <tr>\n",
       "      <th>1534</th>\n",
       "      <td>Сомнительно, но окей 🥲</td>\n",
       "      <td>UNKNOWN</td>\n",
       "    </tr>\n",
       "  </tbody>\n",
       "</table>\n",
       "</div>"
      ],
      "text/plain": [
       "                         post language\n",
       "403        #hr #lean #tatneft  UNKNOWN\n",
       "7845       absolutely amazing  UNKNOWN\n",
       "2767  wow! 👍 Well, why not? 😀  UNKNOWN\n",
       "8166          #stopwar #nowar  UNKNOWN\n",
       "6103     your thoughts guys🤔🤔  UNKNOWN\n",
       "734               March Picks  UNKNOWN\n",
       "9331                   Thanks  UNKNOWN\n",
       "825     Джунам посвящается :)  UNKNOWN\n",
       "4541                       ❤️  UNKNOWN\n",
       "1534   Сомнительно, но окей 🥲  UNKNOWN"
      ]
     },
     "execution_count": 177,
     "metadata": {},
     "output_type": "execute_result"
    }
   ],
   "source": [
    "posts.query('language == \"UNKNOWN\"')[['post', 'language']].sample(10)"
   ]
  },
  {
   "cell_type": "markdown",
   "id": "52af76f0-ef6c-4c7f-a414-bbc3d752dcb4",
   "metadata": {},
   "source": [
    "Похоже, это очень короткие тексты, которые нам особо не пригодятся. Исключим из выборки"
   ]
  },
  {
   "cell_type": "code",
   "execution_count": 179,
   "id": "a1736cf0-96df-4218-b945-267a3a3580fe",
   "metadata": {
    "tags": []
   },
   "outputs": [
    {
     "data": {
      "text/html": [
       "<div>\n",
       "<style scoped>\n",
       "    .dataframe tbody tr th:only-of-type {\n",
       "        vertical-align: middle;\n",
       "    }\n",
       "\n",
       "    .dataframe tbody tr th {\n",
       "        vertical-align: top;\n",
       "    }\n",
       "\n",
       "    .dataframe thead th {\n",
       "        text-align: right;\n",
       "    }\n",
       "</style>\n",
       "<table border=\"1\" class=\"dataframe\">\n",
       "  <thead>\n",
       "    <tr style=\"text-align: right;\">\n",
       "      <th></th>\n",
       "      <th>post</th>\n",
       "      <th>language</th>\n",
       "    </tr>\n",
       "  </thead>\n",
       "  <tbody>\n",
       "    <tr>\n",
       "      <th>8339</th>\n",
       "      <td>Коли на ревʼю кажуть, що ти, звісно, молодець,...</td>\n",
       "      <td>uk</td>\n",
       "    </tr>\n",
       "    <tr>\n",
       "      <th>735</th>\n",
       "      <td>Написал немного про удаленную работу</td>\n",
       "      <td>uk</td>\n",
       "    </tr>\n",
       "    <tr>\n",
       "      <th>5584</th>\n",
       "      <td>📚основи тестування . «Святослав Куліков. Тесту...</td>\n",
       "      <td>uk</td>\n",
       "    </tr>\n",
       "    <tr>\n",
       "      <th>3551</th>\n",
       "      <td>Побачила допис з цим тестом у одного зі своїх ...</td>\n",
       "      <td>uk</td>\n",
       "    </tr>\n",
       "    <tr>\n",
       "      <th>5065</th>\n",
       "      <td>Чи буде чат #GPT в «Дії» і як інтегрувати штуч...</td>\n",
       "      <td>uk</td>\n",
       "    </tr>\n",
       "    <tr>\n",
       "      <th>6507</th>\n",
       "      <td>🤝 Важкі часи потребують зважених рішень і взає...</td>\n",
       "      <td>uk</td>\n",
       "    </tr>\n",
       "    <tr>\n",
       "      <th>6113</th>\n",
       "      <td>Привітики)За цей час наш стартап таки просуває...</td>\n",
       "      <td>uk</td>\n",
       "    </tr>\n",
       "    <tr>\n",
       "      <th>7365</th>\n",
       "      <td>Підтримую прекрасну і взаємновигідну ініціатив...</td>\n",
       "      <td>uk</td>\n",
       "    </tr>\n",
       "    <tr>\n",
       "      <th>2116</th>\n",
       "      <td>Шановні партнери,Шукаю нові виклики на посадах...</td>\n",
       "      <td>uk</td>\n",
       "    </tr>\n",
       "    <tr>\n",
       "      <th>5609</th>\n",
       "      <td>Baza Trainee Ukraine шукає ментора-тестувальни...</td>\n",
       "      <td>uk</td>\n",
       "    </tr>\n",
       "  </tbody>\n",
       "</table>\n",
       "</div>"
      ],
      "text/plain": [
       "                                                   post language\n",
       "8339  Коли на ревʼю кажуть, що ти, звісно, молодець,...       uk\n",
       "735                Написал немного про удаленную работу       uk\n",
       "5584  📚основи тестування . «Святослав Куліков. Тесту...       uk\n",
       "3551  Побачила допис з цим тестом у одного зі своїх ...       uk\n",
       "5065  Чи буде чат #GPT в «Дії» і як інтегрувати штуч...       uk\n",
       "6507  🤝 Важкі часи потребують зважених рішень і взає...       uk\n",
       "6113  Привітики)За цей час наш стартап таки просуває...       uk\n",
       "7365  Підтримую прекрасну і взаємновигідну ініціатив...       uk\n",
       "2116  Шановні партнери,Шукаю нові виклики на посадах...       uk\n",
       "5609  Baza Trainee Ukraine шукає ментора-тестувальни...       uk"
      ]
     },
     "execution_count": 179,
     "metadata": {},
     "output_type": "execute_result"
    }
   ],
   "source": [
    "posts.query('language == \"uk\"')[['post', 'language']].sample(10)"
   ]
  },
  {
   "cell_type": "markdown",
   "id": "6a04fa4e-f7da-4bcb-be38-eac558e96d40",
   "metadata": {},
   "source": [
    "Украинский язык (логично :-)). Для того, чтобы не подгружать множество языковых моделей, думаю, что целесообразно исключить его из общей выборки. Сосредоточимся на наиболее популярных языках 'ru' и 'en'. Посмотрим 'bg':"
   ]
  },
  {
   "cell_type": "code",
   "execution_count": 180,
   "id": "fadb83eb-3faf-4b8b-afbd-2482602bf753",
   "metadata": {
    "tags": []
   },
   "outputs": [
    {
     "data": {
      "text/html": [
       "<div>\n",
       "<style scoped>\n",
       "    .dataframe tbody tr th:only-of-type {\n",
       "        vertical-align: middle;\n",
       "    }\n",
       "\n",
       "    .dataframe tbody tr th {\n",
       "        vertical-align: top;\n",
       "    }\n",
       "\n",
       "    .dataframe thead th {\n",
       "        text-align: right;\n",
       "    }\n",
       "</style>\n",
       "<table border=\"1\" class=\"dataframe\">\n",
       "  <thead>\n",
       "    <tr style=\"text-align: right;\">\n",
       "      <th></th>\n",
       "      <th>post</th>\n",
       "      <th>language</th>\n",
       "    </tr>\n",
       "  </thead>\n",
       "  <tbody>\n",
       "    <tr>\n",
       "      <th>3663</th>\n",
       "      <td>#Career #work #recruitmentА кому обычно пишите...</td>\n",
       "      <td>bg</td>\n",
       "    </tr>\n",
       "    <tr>\n",
       "      <th>8314</th>\n",
       "      <td>Куди далі то - іран, північна корея, сирія?</td>\n",
       "      <td>bg</td>\n",
       "    </tr>\n",
       "    <tr>\n",
       "      <th>2669</th>\n",
       "      <td>Liked \"Ключевые показатели digital-производств...</td>\n",
       "      <td>bg</td>\n",
       "    </tr>\n",
       "    <tr>\n",
       "      <th>5887</th>\n",
       "      <td>❗❗❗❗ Дизайнер интерьеров на необычный проект! ",
       "...</td>\n",
       "      <td>bg</td>\n",
       "    </tr>\n",
       "    <tr>\n",
       "      <th>8955</th>\n",
       "      <td>У нас вакансия рекрутера в наше агентство. Смо...</td>\n",
       "      <td>bg</td>\n",
       "    </tr>\n",
       "    <tr>\n",
       "      <th>1514</th>\n",
       "      <td>Наше открытое менторство зашло на ура, а потом...</td>\n",
       "      <td>bg</td>\n",
       "    </tr>\n",
       "    <tr>\n",
       "      <th>7530</th>\n",
       "      <td>On Facebook, I noticed one of the presentation...</td>\n",
       "      <td>bg</td>\n",
       "    </tr>\n",
       "    <tr>\n",
       "      <th>7210</th>\n",
       "      <td>NPS и отзывы студентов - это важная часть оцен...</td>\n",
       "      <td>bg</td>\n",
       "    </tr>\n",
       "    <tr>\n",
       "      <th>1696</th>\n",
       "      <td>Вашему вниманию успешный кейс из Казахстана.Об...</td>\n",
       "      <td>bg</td>\n",
       "    </tr>\n",
       "    <tr>\n",
       "      <th>8839</th>\n",
       "      <td>С 14 ноября оставил внешнюю клиентскую поддерж...</td>\n",
       "      <td>bg</td>\n",
       "    </tr>\n",
       "  </tbody>\n",
       "</table>\n",
       "</div>"
      ],
      "text/plain": [
       "                                                   post language\n",
       "3663  #Career #work #recruitmentА кому обычно пишите...       bg\n",
       "8314        Куди далі то - іран, північна корея, сирія?       bg\n",
       "2669  Liked \"Ключевые показатели digital-производств...       bg\n",
       "5887  ❗❗❗❗ Дизайнер интерьеров на необычный проект!\n",
       "...       bg\n",
       "8955  У нас вакансия рекрутера в наше агентство. Смо...       bg\n",
       "1514  Наше открытое менторство зашло на ура, а потом...       bg\n",
       "7530  On Facebook, I noticed one of the presentation...       bg\n",
       "7210  NPS и отзывы студентов - это важная часть оцен...       bg\n",
       "1696  Вашему вниманию успешный кейс из Казахстана.Об...       bg\n",
       "8839  С 14 ноября оставил внешнюю клиентскую поддерж...       bg"
      ]
     },
     "execution_count": 180,
     "metadata": {},
     "output_type": "execute_result"
    }
   ],
   "source": [
    "posts.query('language == \"bg\"')[['post', 'language']].sample(10)"
   ]
  },
  {
   "cell_type": "markdown",
   "id": "9d8151d3-9b16-4fb2-adc9-03a8c6d3a342",
   "metadata": {},
   "source": [
    "Большинство текстов с такой меткой написаны на русском. Думаю, что стоит поменять метку языка 'bg' на 'ru'"
   ]
  },
  {
   "cell_type": "code",
   "execution_count": 181,
   "id": "269da72d-5ef1-4112-a147-b61a7016a004",
   "metadata": {
    "tags": []
   },
   "outputs": [
    {
     "data": {
      "text/html": [
       "<div>\n",
       "<style scoped>\n",
       "    .dataframe tbody tr th:only-of-type {\n",
       "        vertical-align: middle;\n",
       "    }\n",
       "\n",
       "    .dataframe tbody tr th {\n",
       "        vertical-align: top;\n",
       "    }\n",
       "\n",
       "    .dataframe thead th {\n",
       "        text-align: right;\n",
       "    }\n",
       "</style>\n",
       "<table border=\"1\" class=\"dataframe\">\n",
       "  <thead>\n",
       "    <tr style=\"text-align: right;\">\n",
       "      <th></th>\n",
       "      <th>post</th>\n",
       "      <th>language</th>\n",
       "    </tr>\n",
       "  </thead>\n",
       "  <tbody>\n",
       "    <tr>\n",
       "      <th>8349</th>\n",
       "      <td>Коли QA робить регрессію одразу за 3 спринта:\"...</td>\n",
       "      <td>fr</td>\n",
       "    </tr>\n",
       "    <tr>\n",
       "      <th>3685</th>\n",
       "      <td>Logo design - pulse#branding #visualidentity #...</td>\n",
       "      <td>fr</td>\n",
       "    </tr>\n",
       "    <tr>\n",
       "      <th>3514</th>\n",
       "      <td>Les russes attaquent les Ukrainiens non seulem...</td>\n",
       "      <td>fr</td>\n",
       "    </tr>\n",
       "    <tr>\n",
       "      <th>1501</th>\n",
       "      <td>https://lnkd.in/evSbexJ #cybersecurity #interv...</td>\n",
       "      <td>fr</td>\n",
       "    </tr>\n",
       "    <tr>\n",
       "      <th>3704</th>\n",
       "      <td>Our first post on Medium about #serverlessPlea...</td>\n",
       "      <td>fr</td>\n",
       "    </tr>\n",
       "    <tr>\n",
       "      <th>4872</th>\n",
       "      <td>https://lnkd.in/et6MTHU#testdrivendevelopment ...</td>\n",
       "      <td>fr</td>\n",
       "    </tr>\n",
       "    <tr>\n",
       "      <th>7159</th>\n",
       "      <td>#russiaisaterrorisstate</td>\n",
       "      <td>fr</td>\n",
       "    </tr>\n",
       "    <tr>\n",
       "      <th>9224</th>\n",
       "      <td>#Apple #Xcode #Developers</td>\n",
       "      <td>fr</td>\n",
       "    </tr>\n",
       "    <tr>\n",
       "      <th>3941</th>\n",
       "      <td>Animation Process #motiondesign #aftereffects</td>\n",
       "      <td>fr</td>\n",
       "    </tr>\n",
       "    <tr>\n",
       "      <th>5317</th>\n",
       "      <td>Become our partner now</td>\n",
       "      <td>fr</td>\n",
       "    </tr>\n",
       "  </tbody>\n",
       "</table>\n",
       "</div>"
      ],
      "text/plain": [
       "                                                   post language\n",
       "8349  Коли QA робить регрессію одразу за 3 спринта:\"...       fr\n",
       "3685  Logo design - pulse#branding #visualidentity #...       fr\n",
       "3514  Les russes attaquent les Ukrainiens non seulem...       fr\n",
       "1501  https://lnkd.in/evSbexJ #cybersecurity #interv...       fr\n",
       "3704  Our first post on Medium about #serverlessPlea...       fr\n",
       "4872  https://lnkd.in/et6MTHU#testdrivendevelopment ...       fr\n",
       "7159                            #russiaisaterrorisstate       fr\n",
       "9224                          #Apple #Xcode #Developers       fr\n",
       "3941      Animation Process #motiondesign #aftereffects       fr\n",
       "5317                             Become our partner now       fr"
      ]
     },
     "execution_count": 181,
     "metadata": {},
     "output_type": "execute_result"
    }
   ],
   "source": [
    "posts.query('language == \"fr\"')[['post', 'language']].sample(10)"
   ]
  },
  {
   "cell_type": "markdown",
   "id": "4e6358b7-3df1-4dc7-9fd8-5bf13a9f1c8c",
   "metadata": {},
   "source": [
    "Большой разброс по фактическим языкам. Думаю, что эту категорию не стоит включать в выборку. Подкорректируем метки функцией и посмотрим, что получилось:"
   ]
  },
  {
   "cell_type": "code",
   "execution_count": 182,
   "id": "4abeeaa9-33f7-4903-84a3-5d05804dbe1a",
   "metadata": {
    "tags": []
   },
   "outputs": [],
   "source": [
    "def lang_correction(text):\n",
    "    if text == 'bg':\n",
    "        return 'ru'\n",
    "    elif text == 'UNKNOWN' or text == 'ru' or text == 'en':\n",
    "        return text\n",
    "    else:\n",
    "        return 'UNKNOWN'"
   ]
  },
  {
   "cell_type": "code",
   "execution_count": 183,
   "id": "c5ccaef6-c571-4a8a-ab65-c3a28ae3bd3a",
   "metadata": {
    "tags": []
   },
   "outputs": [
    {
     "data": {
      "text/plain": [
       "en         6056\n",
       "ru         2468\n",
       "UNKNOWN    1278\n",
       "Name: language, dtype: int64"
      ]
     },
     "execution_count": 183,
     "metadata": {},
     "output_type": "execute_result"
    }
   ],
   "source": [
    "posts['language'] = posts['language'].apply(lang_correction)\n",
    "posts['language'].value_counts()"
   ]
  },
  {
   "cell_type": "markdown",
   "id": "8c308269-a732-49a2-9ccf-bea5e3e536e1",
   "metadata": {
    "tags": []
   },
   "source": [
    "Метка UNKNOWN позволит нам легко исключить ненужные нам для анализа тексты. А что с длиной текстов. Построим распределение:"
   ]
  },
  {
   "cell_type": "code",
   "execution_count": 187,
   "id": "d9c04254-5f45-4fe7-8238-378fd0327e59",
   "metadata": {
    "tags": []
   },
   "outputs": [
    {
     "data": {
      "text/plain": [
       "0       155\n",
       "1        49\n",
       "2       486\n",
       "3       614\n",
       "4       143\n",
       "       ... \n",
       "9797     44\n",
       "9798    112\n",
       "9799    291\n",
       "9800      8\n",
       "9801    208\n",
       "Name: post_len, Length: 9802, dtype: int64"
      ]
     },
     "execution_count": 187,
     "metadata": {},
     "output_type": "execute_result"
    }
   ],
   "source": [
    "def post_len(text):\n",
    "    return len(text)\n",
    "\n",
    "posts['post_len'] = posts['post'].apply(post_len)"
   ]
  },
  {
   "cell_type": "code",
   "execution_count": 197,
   "id": "95bd0169-e666-4cbe-8067-5ec10adc62cb",
   "metadata": {
    "tags": []
   },
   "outputs": [
    {
     "data": {
      "image/png": "[encoded data removed]",
      "text/plain": [
       "<Figure size 640x480 with 1 Axes>"
      ]
     },
     "metadata": {},
     "output_type": "display_data"
    }
   ],
   "source": [
    "sns.histplot(posts, x='post_len',\n",
    "                    hue=\"language\").set_title('Распределение текстов на разных языках по длине')\n",
    "plt.show()"
   ]
  },
  {
   "cell_type": "markdown",
   "id": "19992f08-fe72-4737-9ad3-5c4849812661",
   "metadata": {},
   "source": [
    "Большинство текстов на русском и английском языках длиной меньше 500 символов. Также подтверждается гипотеза, что метка UNKNOWN в значимой степени связана с длиной текста (гистограмма резче остальных показывает спад количества с увеличением длины)."
   ]
  },
  {
   "cell_type": "code",
   "execution_count": 198,
   "id": "faeeef17-e21d-4113-8353-9f77e30bcd6a",
   "metadata": {
    "tags": []
   },
   "outputs": [
    {
     "data": {
      "text/html": [
       "<div>\n",
       "<style scoped>\n",
       "    .dataframe tbody tr th:only-of-type {\n",
       "        vertical-align: middle;\n",
       "    }\n",
       "\n",
       "    .dataframe tbody tr th {\n",
       "        vertical-align: top;\n",
       "    }\n",
       "\n",
       "    .dataframe thead th {\n",
       "        text-align: right;\n",
       "    }\n",
       "</style>\n",
       "<table border=\"1\" class=\"dataframe\">\n",
       "  <thead>\n",
       "    <tr style=\"text-align: right;\">\n",
       "      <th></th>\n",
       "      <th>profile_url</th>\n",
       "      <th>post_url</th>\n",
       "      <th>post</th>\n",
       "      <th>reactions_cnt</th>\n",
       "      <th>comments_cnt</th>\n",
       "      <th>reposts_cnt</th>\n",
       "      <th>language</th>\n",
       "      <th>post_len</th>\n",
       "    </tr>\n",
       "  </thead>\n",
       "  <tbody>\n",
       "    <tr>\n",
       "      <th>6106</th>\n",
       "      <td>https://www.linkedin.com/in/artsiom-liskevich/...</td>\n",
       "      <td>NaN</td>\n",
       "      <td>Software development process scares a lot of p...</td>\n",
       "      <td>0</td>\n",
       "      <td>0.0</td>\n",
       "      <td>0.0</td>\n",
       "      <td>en</td>\n",
       "      <td>514</td>\n",
       "    </tr>\n",
       "    <tr>\n",
       "      <th>7065</th>\n",
       "      <td>https://www.linkedin.com/in/tentser/recent-act...</td>\n",
       "      <td>NaN</td>\n",
       "      <td>Hi FolksWe have launched our brand new chrome ...</td>\n",
       "      <td>13</td>\n",
       "      <td>0.0</td>\n",
       "      <td>5.0</td>\n",
       "      <td>en</td>\n",
       "      <td>162</td>\n",
       "    </tr>\n",
       "    <tr>\n",
       "      <th>7113</th>\n",
       "      <td>https://www.linkedin.com/in/comisarov/recent-a...</td>\n",
       "      <td>NaN</td>\n",
       "      <td>When you switch to a new system, transfer oper...</td>\n",
       "      <td>7</td>\n",
       "      <td>0.0</td>\n",
       "      <td>3.0</td>\n",
       "      <td>en</td>\n",
       "      <td>354</td>\n",
       "    </tr>\n",
       "    <tr>\n",
       "      <th>9667</th>\n",
       "      <td>https://www.linkedin.com/in/vladimirskabelkin</td>\n",
       "      <td>NaN</td>\n",
       "      <td>SpeedyZero is a distributed model-based RL tra...</td>\n",
       "      <td>NaN</td>\n",
       "      <td>NaN</td>\n",
       "      <td>NaN</td>\n",
       "      <td>en</td>\n",
       "      <td>140</td>\n",
       "    </tr>\n",
       "    <tr>\n",
       "      <th>5525</th>\n",
       "      <td>https://www.linkedin.com/in/dan-henyk/recent-a...</td>\n",
       "      <td>NaN</td>\n",
       "      <td>2,000 innocent Ukrainians dead. That's thousan...</td>\n",
       "      <td>0</td>\n",
       "      <td>1.0</td>\n",
       "      <td>0.0</td>\n",
       "      <td>en</td>\n",
       "      <td>373</td>\n",
       "    </tr>\n",
       "  </tbody>\n",
       "</table>\n",
       "</div>"
      ],
      "text/plain": [
       "                                            profile_url post_url  \\\n",
       "6106  https://www.linkedin.com/in/artsiom-liskevich/...      NaN   \n",
       "7065  https://www.linkedin.com/in/tentser/recent-act...      NaN   \n",
       "7113  https://www.linkedin.com/in/comisarov/recent-a...      NaN   \n",
       "9667      https://www.linkedin.com/in/vladimirskabelkin      NaN   \n",
       "5525  https://www.linkedin.com/in/dan-henyk/recent-a...      NaN   \n",
       "\n",
       "                                                   post reactions_cnt  \\\n",
       "6106  Software development process scares a lot of p...             0   \n",
       "7065  Hi FolksWe have launched our brand new chrome ...            13   \n",
       "7113  When you switch to a new system, transfer oper...             7   \n",
       "9667  SpeedyZero is a distributed model-based RL tra...           NaN   \n",
       "5525  2,000 innocent Ukrainians dead. That's thousan...             0   \n",
       "\n",
       "      comments_cnt  reposts_cnt language  post_len  \n",
       "6106           0.0          0.0       en       514  \n",
       "7065           0.0          5.0       en       162  \n",
       "7113           0.0          3.0       en       354  \n",
       "9667           NaN          NaN       en       140  \n",
       "5525           1.0          0.0       en       373  "
      ]
     },
     "execution_count": 198,
     "metadata": {},
     "output_type": "execute_result"
    }
   ],
   "source": [
    "posts_en = posts.query('language == \"en\"')\n",
    "posts_en.sample(5)"
   ]
  },
  {
   "cell_type": "code",
   "execution_count": 199,
   "id": "4e468e3e-6bbf-43da-82d0-2410f2bf0406",
   "metadata": {
    "tags": []
   },
   "outputs": [
    {
     "data": {
      "text/html": [
       "<div>\n",
       "<style scoped>\n",
       "    .dataframe tbody tr th:only-of-type {\n",
       "        vertical-align: middle;\n",
       "    }\n",
       "\n",
       "    .dataframe tbody tr th {\n",
       "        vertical-align: top;\n",
       "    }\n",
       "\n",
       "    .dataframe thead th {\n",
       "        text-align: right;\n",
       "    }\n",
       "</style>\n",
       "<table border=\"1\" class=\"dataframe\">\n",
       "  <thead>\n",
       "    <tr style=\"text-align: right;\">\n",
       "      <th></th>\n",
       "      <th>profile_url</th>\n",
       "      <th>post_url</th>\n",
       "      <th>post</th>\n",
       "      <th>reactions_cnt</th>\n",
       "      <th>comments_cnt</th>\n",
       "      <th>reposts_cnt</th>\n",
       "      <th>language</th>\n",
       "      <th>post_len</th>\n",
       "    </tr>\n",
       "  </thead>\n",
       "  <tbody>\n",
       "    <tr>\n",
       "      <th>4889</th>\n",
       "      <td>https://www.linkedin.com/in/talap-kenzhebaev/r...</td>\n",
       "      <td>NaN</td>\n",
       "      <td>С удовольствием сообщаю, что я начинаю работу ...</td>\n",
       "      <td>105</td>\n",
       "      <td>22.0</td>\n",
       "      <td>0.0</td>\n",
       "      <td>ru</td>\n",
       "      <td>106</td>\n",
       "    </tr>\n",
       "    <tr>\n",
       "      <th>329</th>\n",
       "      <td>https://www.linkedin.com/in/%D0%B0%D0%BB%D0%B5...</td>\n",
       "      <td>NaN</td>\n",
       "      <td>Интересная статья про успех и неудачи от компа...</td>\n",
       "      <td>2</td>\n",
       "      <td>1.0</td>\n",
       "      <td>0.0</td>\n",
       "      <td>ru</td>\n",
       "      <td>310</td>\n",
       "    </tr>\n",
       "    <tr>\n",
       "      <th>166</th>\n",
       "      <td>https://www.linkedin.com/in/mikhailsolovyev/re...</td>\n",
       "      <td>NaN</td>\n",
       "      <td>Примерно в 35 лет я захотел сменить сферу деят...</td>\n",
       "      <td>56</td>\n",
       "      <td>5.0</td>\n",
       "      <td>0.0</td>\n",
       "      <td>ru</td>\n",
       "      <td>1840</td>\n",
       "    </tr>\n",
       "    <tr>\n",
       "      <th>2276</th>\n",
       "      <td>https://www.linkedin.com/in/damiruali/recent-a...</td>\n",
       "      <td>NaN</td>\n",
       "      <td>ALTEL Kazakhtelecom JSC  вы на категорию польз...</td>\n",
       "      <td>0</td>\n",
       "      <td>0.0</td>\n",
       "      <td>0.0</td>\n",
       "      <td>ru</td>\n",
       "      <td>608</td>\n",
       "    </tr>\n",
       "    <tr>\n",
       "      <th>2285</th>\n",
       "      <td>https://www.linkedin.com/in/damiruali/recent-a...</td>\n",
       "      <td>NaN</td>\n",
       "      <td>Курс FlutterFlow 3.0NO CODE ИНЖЕНЕР МОБИЛЬНЫХ ...</td>\n",
       "      <td>9</td>\n",
       "      <td>0.0</td>\n",
       "      <td>2.0</td>\n",
       "      <td>ru</td>\n",
       "      <td>245</td>\n",
       "    </tr>\n",
       "  </tbody>\n",
       "</table>\n",
       "</div>"
      ],
      "text/plain": [
       "                                            profile_url post_url  \\\n",
       "4889  https://www.linkedin.com/in/talap-kenzhebaev/r...      NaN   \n",
       "329   https://www.linkedin.com/in/%D0%B0%D0%BB%D0%B5...      NaN   \n",
       "166   https://www.linkedin.com/in/mikhailsolovyev/re...      NaN   \n",
       "2276  https://www.linkedin.com/in/damiruali/recent-a...      NaN   \n",
       "2285  https://www.linkedin.com/in/damiruali/recent-a...      NaN   \n",
       "\n",
       "                                                   post reactions_cnt  \\\n",
       "4889  С удовольствием сообщаю, что я начинаю работу ...           105   \n",
       "329   Интересная статья про успех и неудачи от компа...             2   \n",
       "166   Примерно в 35 лет я захотел сменить сферу деят...            56   \n",
       "2276  ALTEL Kazakhtelecom JSC  вы на категорию польз...             0   \n",
       "2285  Курс FlutterFlow 3.0NO CODE ИНЖЕНЕР МОБИЛЬНЫХ ...             9   \n",
       "\n",
       "      comments_cnt  reposts_cnt language  post_len  \n",
       "4889          22.0          0.0       ru       106  \n",
       "329            1.0          0.0       ru       310  \n",
       "166            5.0          0.0       ru      1840  \n",
       "2276           0.0          0.0       ru       608  \n",
       "2285           0.0          2.0       ru       245  "
      ]
     },
     "execution_count": 199,
     "metadata": {},
     "output_type": "execute_result"
    }
   ],
   "source": [
    "posts_ru = posts.query('language == \"ru\"')\n",
    "posts_ru.sample(5)"
   ]
  },
  {
   "cell_type": "markdown",
   "id": "3d0aad53-dfb6-4444-95d8-788ca0340241",
   "metadata": {},
   "source": [
    "# Подготовка текстов"
   ]
  },
  {
   "cell_type": "markdown",
   "id": "b694dfb0-14b2-402f-bb26-61250534130f",
   "metadata": {},
   "source": [
    "Скачаем и загрузим модели (библиотеку spacy предварительно установили)"
   ]
  },
  {
   "cell_type": "code",
   "execution_count": 200,
   "id": "7ca55e07-1499-4381-95bb-12b899c2de0b",
   "metadata": {
    "tags": []
   },
   "outputs": [],
   "source": [
    "! python -m spacy download ru_core_news_sm >> None\n",
    "! python -m spacy download en_core_web_sm >> None"
   ]
  },
  {
   "cell_type": "code",
   "execution_count": 201,
   "id": "df6b953a-cf55-49c6-aa0d-310bc9386d16",
   "metadata": {
    "tags": []
   },
   "outputs": [],
   "source": [
    "model_en = spacy.load('en_core_web_sm', disable=['ner', 'parser'])\n",
    "model_ru = spacy.load('ru_core_news_sm', disable=['ner', 'parser'])"
   ]
  },
  {
   "cell_type": "markdown",
   "id": "bf3e07b9-a102-4afd-bc7f-c6151404f9e9",
   "metadata": {},
   "source": [
    "Сохраним посты на английском и русском языках, как списки"
   ]
  },
  {
   "cell_type": "code",
   "execution_count": 202,
   "id": "bc7a6c5e-48eb-4db9-a74d-d953771556e6",
   "metadata": {
    "tags": []
   },
   "outputs": [],
   "source": [
    "posts_ru_list = list(posts_ru['post'])\n",
    "posts_en_list = list(posts_en['post'])"
   ]
  },
  {
   "cell_type": "markdown",
   "id": "33a42c87-5dea-4289-a3ab-a18a84e70ef5",
   "metadata": {},
   "source": [
    "Лемматизируем посты и сохраним результат в файлы"
   ]
  },
  {
   "cell_type": "code",
   "execution_count": 203,
   "id": "8c3b71f7-d614-43a9-ac70-c77b7d792eac",
   "metadata": {
    "tags": []
   },
   "outputs": [],
   "source": [
    "res_ru = []\n",
    "for doc in model_ru.pipe(posts_ru_list, disable=[\"tagger\", \"parser\"]):\n",
    "    res_ru.append([token.lemma_ for token in doc])\n",
    "    \n",
    "with open(\"lemmas_ru.json\", \"w\") as fid:\n",
    "    json.dump({\"lemmas_ru\": res_ru}, fid)"
   ]
  },
  {
   "cell_type": "code",
   "execution_count": 204,
   "id": "66f62272-23ca-4d74-92d8-a95a603ac899",
   "metadata": {
    "tags": []
   },
   "outputs": [
    {
     "name": "stderr",
     "output_type": "stream",
     "text": [
      "C:\\Dev\\Jupyter\\dist\\pyenv3.10-win64\\Lib\\site-packages\\spacy\\pipeline\\lemmatizer.py:211: UserWarning: [W108] The rule-based lemmatizer did not find POS annotation for one or more tokens. Check that your pipeline includes components that assign token.pos, typically 'tagger'+'attribute_ruler' or 'morphologizer'.\n",
      "  warnings.warn(Warnings.W108)\n"
     ]
    }
   ],
   "source": [
    "res_en = []\n",
    "for doc in model_en.pipe(posts_en_list, disable=[\"tagger\", \"parser\"]):\n",
    "    res_en.append([token.lemma_ for token in doc])\n",
    "    \n",
    "with open(\"lemmas_en.json\", \"w\") as fid:\n",
    "    json.dump({\"lemmas_en\": res_en}, fid)"
   ]
  },
  {
   "cell_type": "markdown",
   "id": "83658d6d-e2d0-419a-96c1-f31e848a2f92",
   "metadata": {},
   "source": [
    "Проконтролируем, что получилось."
   ]
  },
  {
   "cell_type": "code",
   "execution_count": 205,
   "id": "493a9575-5f83-4a89-b347-7479fc1f2a21",
   "metadata": {
    "tags": []
   },
   "outputs": [
    {
     "data": {
      "text/plain": [
       "'с, удовольствие, сообщать, ,, что, я, начинать, работа, в, новый, должность, \\xa0, –, product, designer, в, компания, мтс, !'"
      ]
     },
     "execution_count": 205,
     "metadata": {},
     "output_type": "execute_result"
    }
   ],
   "source": [
    "\", \".join(res_ru[np.random.randint(len(res_ru))])"
   ]
  },
  {
   "cell_type": "code",
   "execution_count": 206,
   "id": "aac2f969-9eaf-4d9d-8059-4c3a8f111f25",
   "metadata": {
    "tags": []
   },
   "outputs": [
    {
     "data": {
      "text/plain": [
       "'best, 12, ai, tools, to, try, in, 2023try, this, amazing, ai, tool, now, :, https://lnkd.in/dqrsrh3w, 🔵, 𝗙𝗼𝗹𝗹𝗼𝘄, 𝗠𝗲, 𝗼𝗻, 𝗧𝗲𝗹𝗲𝗴𝗿𝗮𝗺, 𝗳𝗼𝗿, 𝗔𝗺𝗮𝘇𝗶𝗻𝗴, 𝗜𝗻𝘀𝗶𝗴𝗵𝘁𝘀, 𝗼𝗻, 𝗔𝗜, :, https://lnkd.in/gxh8jpux, 🔵, 𝗙𝗼𝗹𝗹𝗼𝘄, 𝗠𝗲, 𝗼𝗻, 𝗧𝘄𝗶𝘁𝘁𝗲𝗿, 𝗳𝗼𝗿, 𝗔𝗺𝗮𝘇𝗶𝗻𝗴, 𝗜𝗻𝘀𝗶𝗴𝗵𝘁𝘀, 𝗼𝗻, 𝗔𝗜, :, \\xa0, https://lnkd.in/d-rtvz2h, 🔵, 📍, chatgpt, solves, anthing, -, https://chat.openai.com, 📍, writesonic, writes, anything,  , -, https://lnkd.in/dbktmmae, 📍, midjourney, generates, art, -,   , https://lnkd.in/d7gngvhk, 📍, replit, generates, code, -, https://lnkd.in/dn-kjheg, 📍, synthesia, generates, video, -, https://www.synthesia.io, 📍, soundraw, generates, music, -, https://soundraw.io/, 📍, fliki, generates, tiktoks, -, https://fliki.ai/, 📍, starry, generates, avatars, -,  , https://lnkd.in/dh_vcdfn, 📍, slidesai.io, generates, ppt, -, https://www.slidesai.io/, 📍, remini, edit, pictures, -, https://remini.ai/, 📍, pictory, edit, videos, -, https://pictory.ai/, 📍, wordtune, summarize, notes, -, https://www.wordtune.com/, follow, aakash, kanojiya, for, more, insights, on, ai.𝗙𝗼𝗹𝗹𝗼𝘄, 𝗠𝗲, 𝗼𝗻, 𝗧𝘄𝗶𝘁𝘁𝗲𝗿, 𝗳𝗼𝗿, 𝗔𝗺𝗮𝘇𝗶𝗻𝗴, 𝗜𝗻𝘀𝗶𝗴𝗵𝘁𝘀, 𝗼𝗻, 𝗔𝗜, :, \\xa0, https://lnkd.in/d-rtvz2h#chatgpt, #, aitools, #, productivity'"
      ]
     },
     "execution_count": 206,
     "metadata": {},
     "output_type": "execute_result"
    }
   ],
   "source": [
    "\", \".join(res_en[np.random.randint(len(res_en))])"
   ]
  },
  {
   "cell_type": "markdown",
   "id": "95e1301e-4bf7-4933-aa6a-022aec1d0a76",
   "metadata": {},
   "source": [
    "Остаётся констатировать, что лемматизация прошла успешно. Почистим тексты:"
   ]
  },
  {
   "cell_type": "code",
   "execution_count": 207,
   "id": "55290b96-a443-469d-880d-3ba9ecfdc171",
   "metadata": {
    "tags": []
   },
   "outputs": [],
   "source": [
    "word_pattern_ru = re.compile(\"^[а-я]*$\")\n",
    "word_pattern_en = re.compile(\"^[a-z]*$\")"
   ]
  },
  {
   "cell_type": "code",
   "execution_count": 208,
   "id": "91a74df7-7542-4a84-97ba-d82ad358e55b",
   "metadata": {
    "tags": []
   },
   "outputs": [],
   "source": [
    "def remove_symbols_ru(doc):\n",
    "    return [token for token in doc if word_pattern_ru.match(token)]\n",
    "\n",
    "def remove_symbols_en(doc):\n",
    "    return [token for token in doc if word_pattern_en.match(token)]"
   ]
  },
  {
   "cell_type": "code",
   "execution_count": 209,
   "id": "52fb9b51-7419-46d6-896f-78a8a55b3a7b",
   "metadata": {
    "tags": []
   },
   "outputs": [],
   "source": [
    "corpus_ru = list(map(remove_symbols_ru, res_ru))\n",
    "corpus_en = list(map(remove_symbols_en, res_en))"
   ]
  },
  {
   "cell_type": "code",
   "execution_count": 210,
   "id": "af5499d6-ce8a-4934-a967-9e254517d71b",
   "metadata": {
    "tags": []
   },
   "outputs": [
    {
     "data": {
      "text/plain": [
       "'только, утихли, страсть, по, как, на, свет, появиться, более, продвинутый, и, умный, если, с, предыдущий, я, игрался, через, знакомых, то, с, новый, версия, я, решить, побеседовать, лично, краткий, итог, это, не, такой, уж, и, волшебство, массовый, увольнение, точно, не, будет, тот, персонал, который, способный, заменить, нейросеть, как, правило, брать, не, только, и, не, совсем, для, тот, функция, которые, выполнять, я, прийти, к, такой, вывод, прочесть, в, этот, нейросети, будущее, технология, информационныетехнологии, нейросеть, нейронка, чат'"
      ]
     },
     "execution_count": 210,
     "metadata": {},
     "output_type": "execute_result"
    }
   ],
   "source": [
    "\", \".join(corpus_ru[np.random.randint(len(corpus_ru))])"
   ]
  },
  {
   "cell_type": "code",
   "execution_count": 211,
   "id": "d793693b-cf4a-4a9c-860e-dd4b30a07d58",
   "metadata": {
    "tags": []
   },
   "outputs": [
    {
     "data": {
      "text/plain": [
       "'improving, your, skills, and, knowledge, as, a, developer, or, software, engineer, is, essential, and, technical, books, can, help, they, offer, insights, into, programming, languages, frameworks, and, industry, trends, check, out, some, of, our, top, clean, code, and, clean, architecture, by, robert, herding, cats, a, primer, for, programmers, who, lead, programmers, by, rainwater, what, are, some, of, your, favorite, technical, books, share, your, recommendations, in, the, comments, below, let, us, help, each, other, grow, softwareengineering, softwarearchitecture, books, technicalbooks, softwareengineer, programming'"
      ]
     },
     "execution_count": 211,
     "metadata": {},
     "output_type": "execute_result"
    }
   ],
   "source": [
    "\", \".join(corpus_en[np.random.randint(len(corpus_en))])"
   ]
  },
  {
   "cell_type": "markdown",
   "id": "b0df9716-4537-4159-b4fe-756b3e3d696d",
   "metadata": {},
   "source": [
    "Отличный результат. Удалим стоп-слова и будет идеально."
   ]
  },
  {
   "cell_type": "markdown",
   "id": "43403787-4601-4c4c-80f7-601a94b7a142",
   "metadata": {},
   "source": [
    "# Векторизация текстов"
   ]
  },
  {
   "cell_type": "markdown",
   "id": "e339bbd0-0479-4e78-b7c1-b6739f6831c8",
   "metadata": {},
   "source": [
    " Подгружаем и формируем список стоп-слов"
   ]
  },
  {
   "cell_type": "code",
   "execution_count": 212,
   "id": "de60acd3-ffea-4d8e-a0ef-684fe1c2742a",
   "metadata": {
    "tags": []
   },
   "outputs": [],
   "source": [
    "stop_words_ru = stopwords.words('russian')\n",
    "stop_words_en = stopwords.words('english')\n",
    "\n",
    "# сформируем единый список для обоих языков - это не помешает работе векторайзера\n",
    "stop_words = stop_words_ru + stop_words_en"
   ]
  },
  {
   "cell_type": "markdown",
   "id": "478f5b05-712f-44f6-b699-cf80dba09b84",
   "metadata": {
    "tags": []
   },
   "source": [
    "Объединим отдельные слова обратно в тексты и проконтролируем результат"
   ]
  },
  {
   "cell_type": "code",
   "execution_count": 213,
   "id": "a7f6dad6-40f6-416c-aa18-f94a2df5d6ab",
   "metadata": {
    "tags": []
   },
   "outputs": [
    {
     "data": {
      "text/plain": [
       "['i hiring know anyone who might be interested',\n",
       " 'hello everyone i ecstatic to announce my new role as ceo of metakratos studio a seasoned it firm known for delivering advanced software solutions across various industries such as finance it blockchain industrial automatization security edtech and advertising with years of experience in empowering businesses of all sizes to achieve rapid growth and effortless scaling metakratos studio has built a reputation for excellence and innovation i honored to be leading this incredible team and eager to continue the company legacy of pushing the boundaries of technology as we embark on this journey together i look forward to tackling new challenges seizing opportunities and fostering a culture of collaboration and creativity within our team i committed to ensuring that metakratos studio remains at the forefront of innovation and continues to make a lasting impact on the industries we serve i invite you to follow the metakratos studio community on linkedin to stay updated on our latest news insights and accomplishments thank you for your support as i step into this new role let us connect and collaborate to drive innovation growth and success for businesses worldwide newbeginnings ceo metakratosstudio technology innovation softwaredevelopment businessgrowth software success community',\n",
       " 'elon musk sending this tweet through space via starlink satellite']"
      ]
     },
     "execution_count": 213,
     "metadata": {},
     "output_type": "execute_result"
    }
   ],
   "source": [
    "docs_en = [\" \".join(tokens) for tokens in corpus_en]\n",
    "docs_en[:3]"
   ]
  },
  {
   "cell_type": "code",
   "execution_count": 214,
   "id": "b0e60ebd-cc39-4c01-811f-e194c7a9bac0",
   "metadata": {
    "tags": []
   },
   "outputs": [
    {
     "data": {
      "text/plain": [
       "['кстати говорить теперь подкаст миражи доступный в соцсеть вконтакте наконец разобраться как туда прикрутить мираж',\n",
       " 'хэй честной народ искать векторный иллюстратор на проект с возможный длительный сотрудничество по итог можно уровень иллюстрация не плохой чем в пример ты уметь так рисовать напиши мне в личка иллюстрация проект',\n",
       " 'новый пост подкаст мираж на весь платформа в аудио инстаграм а патреоне психология психологиячеловека психологияжизни психологияличности личностныйрост подкаст подкастмиражи маркетинг осознанность мысль мысливслух установка влияние подсознаниеиспользованные звук музыка и картинка аудиоцитата из фильм формула любовь марка']"
      ]
     },
     "execution_count": 214,
     "metadata": {},
     "output_type": "execute_result"
    }
   ],
   "source": [
    "docs_ru = [\" \".join(tokens) for tokens in corpus_ru]\n",
    "docs_ru[:3]"
   ]
  },
  {
   "cell_type": "markdown",
   "id": "c86549e5-5b81-4ec4-947a-f56e2ef2e4e1",
   "metadata": {},
   "source": [
    "Успешно. Векторизируем тексты"
   ]
  },
  {
   "cell_type": "code",
   "execution_count": 215,
   "id": "dff4a986-5f92-4b25-8ad8-5fcd66aa84d0",
   "metadata": {
    "tags": []
   },
   "outputs": [],
   "source": [
    "# создаём \"векторизатор\" :-)\n",
    "tfidf = TfidfVectorizer(stop_words=stop_words, min_df=10, max_df=0.9)"
   ]
  },
  {
   "cell_type": "markdown",
   "id": "061285d5-0aef-4c02-95a3-17600f1394fd",
   "metadata": {},
   "source": [
    "Векторизируем тексты на двух языках, создадим список векторизированных слов и проконтролируем результат"
   ]
  },
  {
   "cell_type": "code",
   "execution_count": 217,
   "id": "9655d949-7b88-450a-a2fb-ea7e9e15db53",
   "metadata": {
    "tags": []
   },
   "outputs": [
    {
     "data": {
      "text/plain": [
       "(2468, 1929)"
      ]
     },
     "execution_count": 217,
     "metadata": {},
     "output_type": "execute_result"
    }
   ],
   "source": [
    "x_ru = tfidf.fit_transform(docs_ru)\n",
    "id2word_ru = {i: token for i, token in enumerate(tfidf.get_feature_names_out())}\n",
    "\n",
    "x_ru.shape"
   ]
  },
  {
   "cell_type": "code",
   "execution_count": 218,
   "id": "72cdaca6-9922-4fbe-9679-c30718cfa749",
   "metadata": {
    "tags": []
   },
   "outputs": [
    {
     "data": {
      "text/plain": [
       "(6056, 3648)"
      ]
     },
     "execution_count": 218,
     "metadata": {},
     "output_type": "execute_result"
    }
   ],
   "source": [
    "x_en = tfidf.fit_transform(docs_en)\n",
    "id2word_en = {i: token for i, token in enumerate(tfidf.get_feature_names_out())}\n",
    "\n",
    "x_en.shape"
   ]
  },
  {
   "cell_type": "markdown",
   "id": "1a8ad8f8-0e6a-4cda-86ef-8e23eede68a3",
   "metadata": {},
   "source": [
    "# LDA"
   ]
  },
  {
   "cell_type": "markdown",
   "id": "0be8186e-8143-408a-a74f-d5aff3a8f1f1",
   "metadata": {},
   "source": [
    "Сформируем топ-10 тем"
   ]
  },
  {
   "cell_type": "code",
   "execution_count": 220,
   "id": "58f079e0-0845-4b3e-8e47-d4791c4224ee",
   "metadata": {
    "tags": []
   },
   "outputs": [],
   "source": [
    "n_topics = 10"
   ]
  },
  {
   "cell_type": "code",
   "execution_count": 226,
   "id": "58166cc8-29dc-45d8-8689-c6308846529e",
   "metadata": {
    "tags": []
   },
   "outputs": [
    {
     "data": {
      "text/plain": [
       "(2468, 10)"
      ]
     },
     "execution_count": 226,
     "metadata": {},
     "output_type": "execute_result"
    }
   ],
   "source": [
    "lda_ru = LatentDirichletAllocation(n_components=n_topics, random_state=10723)\n",
    "topics_ru = lda_ru.fit_transform(x_ru)\n",
    "topics_ru.shape"
   ]
  },
  {
   "cell_type": "code",
   "execution_count": 227,
   "id": "1b4dcdc8-0d55-417e-80a3-ccaa9aee31a7",
   "metadata": {
    "tags": []
   },
   "outputs": [
    {
     "data": {
      "text/plain": [
       "(6056, 10)"
      ]
     },
     "execution_count": 227,
     "metadata": {},
     "output_type": "execute_result"
    }
   ],
   "source": [
    "lda_en = LatentDirichletAllocation(n_components=n_topics, random_state=10723)\n",
    "topics_en = lda_en.fit_transform(x_en)\n",
    "topics_en.shape"
   ]
  },
  {
   "cell_type": "markdown",
   "id": "eb65008e-361c-496a-ad6d-b24d18bd990b",
   "metadata": {},
   "source": [
    "## Ключевые слова и типичные статьи"
   ]
  },
  {
   "cell_type": "markdown",
   "id": "9cca60a7-b1b6-4315-afb7-2ea213dc8bb5",
   "metadata": {
    "tags": []
   },
   "source": [
    "Взглянем на ключевые слова по каждой теме. Для этого напишем функцию"
   ]
  },
  {
   "cell_type": "code",
   "execution_count": 237,
   "id": "d0513aa4-c544-4657-9f1a-9c686ea2146d",
   "metadata": {
    "tags": []
   },
   "outputs": [],
   "source": [
    "def topic_text(id2word, lda, topics, posts, n_topics=n_topics):\n",
    "    for i in range(n_topics):\n",
    "        c = lda.components_[i, :]\n",
    "        topic_tokens = [id2word.get(token_id) for token_id in np.argsort(c)[-20:]]\n",
    "        doc_id = np.argmax(topics[:, i])\n",
    "        print(\"Тема\",i+1, \":\")\n",
    "        print(\", \".join(topic_tokens))\n",
    "        print(\"***************************\")\n",
    "        print(\"Текст на тему\",i+1, \":\")\n",
    "        print(posts.iloc[doc_id]['post'])\n",
    "        print(\"\\n \")"
   ]
  },
  {
   "cell_type": "markdown",
   "id": "95e8d73d-3ef2-4e8d-8fa1-cac92333bae2",
   "metadata": {},
   "source": [
    "### Русский язык"
   ]
  },
  {
   "cell_type": "code",
   "execution_count": 238,
   "id": "88d8f794-d1de-421f-b63e-961df0320f66",
   "metadata": {
    "tags": []
   },
   "outputs": [
    {
     "name": "stdout",
     "output_type": "stream",
     "text": [
      "Тема 1 :\n",
      "собес, потерять, программист, системный, стол, войтивайти, дизайнер, ловить, искать, разработчик, желательный, крутой, александр, руководитель, зарабатывать, живой, гайд, занятость, вакансия, аналитик\n",
      "***************************\n",
      "Текст на тему 1 :\n",
      "Ты UI/UX Дизайнер? Ты ищешь работу? 🤔 Тогда тебе к нам в Банк ЦентрКредит ✔ Нам нужны специалисты от middle уровняРабота в г. Алматы (гибрид)Ссылка на вакансию ⬇ https://lnkd.in/e2qxAg_XПишите по номеру: +7 702 196 7205 (Кристина)#вакансия #designer #дизайнер\n",
      "\n",
      " \n",
      "Тема 2 :\n",
      "находиться, репостам, гибрид, приложение, сообщать, предложение, поиск, радость, бизнес, привет, фронтенд, всем, услуги, оказывать, ищу, страница, разработчик, просмотреть, услуга, разработка\n",
      "***************************\n",
      "Текст на тему 2 :\n",
      "С радостью сообщаю, что я оказываю бизнес-услуги в LinkedIn #OpenForBusiness. Просмотрите мою страницу услуг «Бизнес-аналитика, Проектирование пользовательского интерфейса (UED), Разработка баз данных, Разработка пользовательского ПО, Разработка приложений, Управление корпоративным контентом, Управление информацией» и «Тестирование ПО».\n",
      "\n",
      " \n",
      "Тема 3 :\n",
      "раздел, визуальный, аренда, тенденция, аналитический, генерация, ранее, составлять, разработчик, ведущий, айтишник, зарубежный, сертификат, работа, новый, компания, начинать, должность, удовольствие, сообщать\n",
      "***************************\n",
      "Текст на тему 3 :\n",
      "С удовольствием сообщаю, что я начинаю работу в новой должности – Главный инженер по разработке в компании SberDevices!\n",
      "\n",
      " \n",
      "Тема 4 :\n",
      "пишите, рассылка, креативный, февраль, ноябрь, апрель, лето, утро, январь, день, праздник, сеть, хотеть, находка, пройти, следующий, проверка, тест, значок, навык\n",
      "***************************\n",
      "Текст на тему 4 :\n",
      "Я только что получил(а) значок за навык «ИТ-операции». Кто хочет быть следующим? Пройдите тест на проверку навыков #LinkedInSkillAssessment.\n",
      "\n",
      " \n",
      "Тема 5 :\n",
      "статья, задача, защита, инфобез, линия, вывести, эксперт, инвестор, разработать, информационный, сайт, логотип, объект, сессия, подписчик, безопасность, связь, кибербезопасность, дизайн, иб\n",
      "***************************\n",
      "Текст на тему 5 :\n",
      "Вебинар про #SentinelOne (одного из лидеров среди #NGAV, #EDR и #XDR-решений) от Тайгер Оптикс  2 декабря в 11:00 по МСК.Регистрация: https://lnkd.in/ekDuNugW#cybersecurity #ITsecurity #infosec #ИБ #Кибербезопасность #Инфобез\n",
      "\n",
      " \n",
      "Тема 6 :\n",
      "ваш, отличный, спасибо, выходной, выразить, экономический, эффект, невероятный, год, блог, делать, ценить, команда, результат, подписываться, наш, пропустить, мем, благодарность, отзыв\n",
      "***************************\n",
      "Текст на тему 6 :\n",
      "Представляю вашему вниманию обновленную версию от 2022 года дорожной карты тестировщика. Очень наглядный и полезный материал.#engineer #software #qa #it #recruiting #HR #tester #qa_engineer #testing #тестирование #web #тестировщик #тестер #programming #development #PM #DA #BA #developer #linkedin\n",
      "\n",
      " \n",
      "Тема 7 :\n",
      "знать, которых, нанимать, заинтересовать, новый, которые, ваш, весь, мочь, поиск, рекомендация, карьерный, предложить, совет, поддержка, контакт, заранее, благодарить, здравствовать, возможность\n",
      "***************************\n",
      "Текст на тему 7 :\n",
      "Всем привет, я, как вы догадались, в поиске новой карьерной возможности и буду признательна за вашу поддержку и помощь в распространении этого поста) Заранее благодарю за все репосты, рекомендации контактов, советы или возможности, которые вы можете предложить. #OpenToWork\n",
      "\n",
      " \n",
      "Тема 8 :\n",
      "материал, применение, собес, задачка, решение, весьма, схема, странный, видео, полезный, тестировщика, конверсия, экономия, тетрадь, тильда, обзор, лендинг, инфобез, кибербезопасность, иб\n",
      "***************************\n",
      "Текст на тему 8 :\n",
      "📹 Как создать продающий оффер для вашего бизнеса: https://lnkd.in/ep6y5qzaДополнительные материалы (рабочая тетрадь и полная схема из видео): https://lnkd.in/eYygVvgNМой Telegram-канал с ответами на ваши вопросы: https://lnkd.in/eCbBMc59\n",
      "\n",
      " \n",
      "Тема 9 :\n",
      "хороший, ваш, нужный, работать, очень, разработка, время, человек, новый, мочь, год, весь, наш, проект, команда, опыт, компания, свой, работа, это\n",
      "***************************\n",
      "Текст на тему 9 :\n",
      "Только ленивый не писал про #выгораниеЧто  это за явление до конца не понятно, поэтому ниже список базовых советов как пережить любые  #тяжелыевремена  IT менеджерам,  Тимлидам и руководителям проектов и не только.📎 Больше общаться. Если есть какое-то неудобство на проекте или во взаимоотношениях с командой, нужно обратиться к руководителю или аккаунту за советом. Ну и всё-таки важно выстраивать дружественный климат вокруг: то есть не надо замыкаться, чтобы самому себя не закапывать. Будьте открытыми: например, в чём-то просите помощи, если не успеваете, или поделитесь, что какие-то конкретные задачи вам нравятся больше. Возможно, это кому-то сложно, но надо стараться хотя бы начинать заниматься этим. Когда присутствует взаимная поддержка, выгорание случается реже или как минимум не в такой интенсивной форме.  📎 Планировать и приоритизировать. Внимательно относитесь к распределению задач, чтобы не загонять себя и не уходить в перегрузы. Оценивание своего времени – то, чему надо постоянно учиться. От проекта к проекту понимать, почему в этой ситуации я недооценил, сколько сложных задач подряд я могу решать без снижения эффективности. Может быть такое, что проект не требует напряжённой работы, но вы овертаймите из-за того, что выделили на задачу 4 часа, а не сделали её и за 7.Если вы менеджер и понимаете, что никак не укладываетесь (или ваш сотрудник) – то делегируйте задачи, распределите их. Поможет декомпозиция: разбейте задачи на более мелкие, раздайте их остальным участникам процесса и контролируйте выполнение.📎 Любить своё дело. Если получаете удовольствие от работы: вам это нравится, это ваше хобби – вы можете заниматься этим иногда почти круглосуточно.📎 Быть в тонусе. Главное в этот момент – не расслабляться, чтобы принимать правильные решения, которые позволят решить ситуацию (очень помогает любая физическая активность).📎 Относиться с интересом. Нужно попробовать воспринимать происходящее как уровень в игре, который никак не поддаётся. То есть смотреть на всё не только с позиции надо, но и с желанием покорить эту гонку. Включить соревновательный дух. Принять вызов.📎 Не ограничиваться работой. Наша работа – часть жизни, но только лишь часть.. Надо всегда понимать это и  даже если на проекте что-то получилось не так и вы по уши в огне!)– вы способны изменить ситуацию– у вас есть ваши семья, друзья,  личная жизнь, хобби.Если обстоятельства складываются так, что всё горит, просто обратите внимание, что это не смертельно и всё! Зачастую это помогает решить психологические проблемы и высвобождает свежие мысли. 📎  Очень важно быть эмпатичным и с уважением относиться к переживаниям других: коллег, заказчика, подрядчика, босса и т.д. Также важно профессионально объяснять причины любой  ситуации и погружать  в план действий: например, в изменения процесса контроля. Тем самым вы показываете, что обстоятельства не хаотичны и вы управляете ими, работаете над конечным результатом.А какие методы от #выгорание используете Вы?\n",
      "\n",
      " \n",
      "Тема 10 :\n",
      "весь, архитектура, работать, секунда, смотреть, правило, небольшой, рамка, отличный, рекомендовать, проектноеуправление, наставник, управлениепроектами, мир, обучениеснуля, интересный, системнаяаналитика, погнать, октябрь, импортозамещение\n",
      "***************************\n",
      "Текст на тему 10 :\n",
      "Ты чувствуешь, что IT - это твоя тема! Тебе интересно, ты увлечен и созрел развить свои компетенции? Погнали в IT в нами!Экспресс персональное обучение с наставником IT-профессии с нуля вопросы в Директ #обучениеIT #проектноеобучение #управлениепроектами #обучениеснуля\n",
      "\n",
      " \n"
     ]
    }
   ],
   "source": [
    "topic_text(id2word_ru, lda_ru, topics_ru, posts_ru)"
   ]
  },
  {
   "cell_type": "markdown",
   "id": "f36a46c9-0345-42a7-ad1c-60c9aad6b943",
   "metadata": {},
   "source": [
    "### Английский язык"
   ]
  },
  {
   "cell_type": "code",
   "execution_count": 239,
   "id": "8875c8c2-ee62-4115-a684-39c5362107f5",
   "metadata": {
    "tags": []
   },
   "outputs": [
    {
     "name": "stdout",
     "output_type": "stream",
     "text": [
      "Тема 1 :\n",
      "ruby, webdevelopmentcompany, month, office, rubydeveloper, heading, agency, mentoring, frorex, last, sloboda, hiringdevelopers, studio, explanation, added, vr, important, best, profile, slideshare\n",
      "***************************\n",
      "Текст на тему 1 :\n",
      "🖐 Dear fellows !It’s a terrifying time for Ukraine and our people. We are in the middle of unimaginable aggression and fighting for our freedom as hard as we can!Every support counts #StandWithUkraine!Dribbble: https://lnkd.in/e48Tb4EZ#dribbbler #dribblersofinstagram #dribbbleinspiration #dribbleui #dailywebdesign #uxdesign #uidesign #uitrends #usability #uxui #uxdesigner #uidesigns #uidesigners #webdesigninspiration #uxdesigninspiration #uxdesignagency #userinterface #uxigers #designfeedinstagram #uxd #websitedesigning #websitedesign #лендинг #webdevelopmentcompany #webdev #frorex #studio #agency #linkedin #dribbble\n",
      "\n",
      " \n",
      "Тема 2 :\n",
      "startup, let, football, us, insurance, networking, event, insurtech, attending, entrepreneur, see, earned, opportunity, linkedinskillassessment, next, dubai, badge, great, skill, summit\n",
      "***************************\n",
      "Текст на тему 2 :\n",
      "By the way our CEO Ilia Kiselevich is going to visit Startup Grind in California.It's an amazing opportunity to catch up with open-minded people and figure out how technologies could help your start-ups be succeed 🏆\n",
      "\n",
      " \n",
      "Тема 3 :\n",
      "season, cegeka, binance, georgia, xtiles, easter, holiday, published, wishing, style, year, day, template, welding, brand, behance, wish, new, happy, design\n",
      "***************************\n",
      "Текст на тему 3 :\n",
      "Our new brand style guide template is now available on Creative Market! 🤩 Download your copy today and craft comprehensive and professional guidelines for your clients. 👇https://lnkd.in/ezE2cfqV#brand #branding #styleguide #guidelines #brandbook #graphicdesign #graphicdesigner\n",
      "\n",
      " \n",
      "Тема 4 :\n",
      "job, announce, excited, web, interesting, developer, react, openforbusiness, services, senior, software, development, frontend, new, engineer, qa, share, starting, happy, position\n",
      "***************************\n",
      "Текст на тему 4 :\n",
      "Excited to announce I’m #OpenForBusiness and providing services on LinkedIn. Check out my services page for Web Design, Web Development, Database Development, Cloud Application Development, Custom Software Development, Application Development, Software Testing and User Experience Design (UED). #linkedin #webdevelopment #softwaredevelopment #database\n",
      "\n",
      " \n",
      "Тема 5 :\n",
      "bay, hospital, illustration, providers, telehealth, may, tampa, dark, proud, digitalhealth, thanks, healthtech, balance, part, telemedicine, health, care, patients, patient, healthcare\n",
      "***************************\n",
      "Текст на тему 5 :\n",
      "fitness app https://lnkd.in/deVfWQ5MStill continuing to form a new style Dooda:integrate the doodle style with small elementsbulk text and active featuressoft colorthoughts aloud#dailyuichallenge #finance #product #ui #ux #dark #mobile #app #interface  #crypto #stocks #illustration #flat #profile #onboarding #send #design #sendmoney #card #voice #ai #voiceassistant #balance #fintech #startup #wallet #interactivedesign #trend #balance #concept #admin #panel #football #mls #ragby #widget #entry #game #dark #dribbble\n",
      "\n",
      " \n",
      "Тема 6 :\n",
      "dribbble, native, like, developer, softwaredevelopment, check, mobile, magento, case, design, webdevelopment, app, css, project, react, article, android, ios, javascript, new\n",
      "***************************\n",
      "Текст на тему 6 :\n",
      "Hey all! #projects Are you looking for skilled candidates to join your team??Look no further! We have them for you:👨‍💻 Full Stack Developers🎨 UI/UX Designer & Developers📱 Applications iOS/Android Developers🐍 Python & React Native Developers💳 E-commerce Developers☕ Java Developers🔍 Vue js, QA Analysts🚀 MEAN stack, MERN stack, NodejS, ReactJS, PHP/Laravel, Wordpress/Shopify Developers💻 Dot Net, Dot Net Fullstack Developers🎥 Video EditorsOur candidates are available for Contract-to-Hire positions and can join your team immediately!Contact to learn more about how we can help you with your projects.#C2H #DevOps #JavaFullstack #WebDesign #NewOpportunities #Teamwork #LinkedIn #ReactJS #WebDeveloper #UX #Team #Opportunities #uiux #ReactNative #WordPress #HTML #PHP #CILaravel #ContractBase #Remotely #ApplicationDevelopment#Android #ios #Flutter #Ecommerce #Shopify #WooCommerce #SEOoptimization #Maintienadomicile #Video #Media #Developer #Designer #Email #Java #Commerce #QA #React #NodeJS #Python #videoeditor #videoediting #ui #help\n",
      "\n",
      " \n",
      "Тема 7 :\n",
      "wow, photoshop, currency, uidesign, unity, whatsapp, productdesign, apple, designers, uxdesign, forex, designer, design, ux, know, ui, interested, anyone, might, hiring\n",
      "***************************\n",
      "Текст на тему 7 :\n",
      "Hello everyone ! 👋 I would like to show animation of the Calls and Geolocation screens for my Apple Watch Ui Kit. Hope you enjoy it, I'll be showing more cozy designs in my feed soon!🚀 #ui #animation #like #design #uidesign #uxdesign #motion #illustration\n",
      "\n",
      " \n",
      "Тема 8 :\n",
      "design, get, need, experience, company, make, us, like, help, people, software, one, product, project, time, new, business, development, work, team\n",
      "***************************\n",
      "Текст на тему 8 :\n",
      "This week Startup Network Europe hosted the first-ever European Startup Conference, live from Kyiv.🚀 Ukraine is a country with more than 250 000 IT specialists and one of the fastest growing EEU countries in terms of tech enterprise value creation (almost 10x from €2.5B in 2017 to €23.3B in 2022). 💪Moreover, the Ukrainian government is determined to create favorable conditions for tech companies and significantly grow the startup ecosystem. 💯The combination of these factors laying the firm foundation to believe that Ukraine is the right place for tech investors as the appearance of new Ukrainian unicorns is just a matter of time.🚀🚀🚀 Invest in Ukraine! 🚀🚀🚀Advice to startups from the top experts:✅Lucien Burm  👉 The crisis is the perfect opportunity for startups. It is the time to innovate and disrupt. An enormous amount of “dry pounder” is still waiting for bold ideas. More attention is moving to early-stage companies as they have a longer life span. ✅ Olga Barreto Goncalves 👉 Employee stock options are a great motivation tool. Keeping wages below the market in combination with stock options can help attract passionate people while filtering out cash hunters. ✅ Hannah Wundsam  👉 A vast majority of people are unhappy with their jobs as they see no impact. Creating a collaborative atmosphere and the opportunity to have an impact can unlock a huge amount of entrepreneurial energy. ✅Tomek Snazyk 👉 Usually inception phase is funded with founders and  FFF money. Commitment and support of other people add trust to your startup. Prepare to inspire.✅ Mind the difference between business angels and VCs. Business angels are individuals inspired by your idea and your team. They act like coaches or mentors and usually invest between 10k and 100k to help you to take off the ground. VCs are organizations that are inspired by the potential to solve big problems and multiply investments. They usually invest more significant funds than angels, seek to establish more control, and demand more transparency. Advice to startups from VC panelists (Ihar Mahaniok, Valery Krasovsky, Eugene Malobrodsky):✅ VCs expect that founders can tell a good story about their startup and clearly articulate core elements (customers, traction, market size, competitors, advantages, etc) in a well-structured pitch deck. ✅ The team is everything and solid relations between co-founders are a must. The ability to hire talents and expand a team is vital. A unique advisory board is a plus. Solo founders are associated with bigger risks. ✅ Finding a co-founder is like a marriage as it takes 5-10 years to grow a startup. Start looking for a co-founder within your network. Be aware of the risks of destroying relationships with friends if a startup fails. If you don’t have a co-founder yet, start yourself, and get the first employee, the team doesn’t mean that everyone is equal. Thank you Adam Fulham for bringing European Startup Conference to Ukraine!\n",
      "\n",
      " \n",
      "Тема 9 :\n",
      "blockchain, intelligence, introduction, analytics, financial, machinelearning, insurance, fintech, chatgpt, ml, machine, python, finished, datacamp, technology, course, cloud, learning, data, ai\n",
      "***************************\n",
      "Текст на тему 9 :\n",
      "What's Next in AI's Transformation of IT Industry?This paper examines the impact of AI in the IT services market, exploring the benefits and challenges of integrating AI into software development projects. I highlight the potential of AI to streamline development processes, increase productivity and create new business opportunities, but also acknowledge the ethical and social implications of AI adoption. Overall, the article offers a glimpse into the future of AI in the IT industry and invites readers to think about the opportunities and challenges ahead.#AI #ITservices #artificialintelligence #technology #innovation #business #digitaltransformation #future #automation #machinelearning #tech #datascience #computerscience #cybersecurity #cloudcomputing #deeplearning #technews #futureofwork #digital #industry4.0\n",
      "\n",
      " \n",
      "Тема 10 :\n",
      "created, ai, teamplayer, ukraine, new, kudos, role, offer, everyone, would, advice, hi, looking, advance, opportunities, connections, opentowork, appreciate, support, thank\n",
      "***************************\n",
      "Текст на тему 10 :\n",
      "I'm Russian. And I don't have words.I didn't choose this president. No one from my friends and family and everyone I know voted for him.People in 52 cities in Russia went out yesterday, protesting against this war. No one told them to. They knew they would be beaten up, thrown in jail, just for raising their voices. They still went.My heart is with Ukrainians, with their families and friends. This has to stop.#standwithukraine #peace\n",
      "\n",
      " \n"
     ]
    }
   ],
   "source": [
    "topic_text(id2word_en, lda_en, topics_en, posts_en)"
   ]
  }
 ],
 "metadata": {
  "kernelspec": {
   "display_name": "Python 3 (ipykernel)",
   "language": "python",
   "name": "python3"
  },
  "language_info": {
   "codemirror_mode": {
    "name": "ipython",
    "version": 3
   },
   "file_extension": ".py",
   "mimetype": "text/x-python",
   "name": "python",
   "nbconvert_exporter": "python",
   "pygments_lexer": "ipython3",
   "version": "3.11.3"
  }
 },
 "nbformat": 4,
 "nbformat_minor": 5
}
