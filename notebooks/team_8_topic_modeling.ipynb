{
 "cells": [
  {
   "cell_type": "code",
   "execution_count": 21,
   "id": "ccca366a-3733-4e9c-83aa-628537d4e186",
   "metadata": {
    "tags": []
   },
   "outputs": [],
   "source": [
    "import pandas as pd\n",
    "import numpy as np\n",
    "import spacy\n",
    "import json\n",
    "import re\n",
    "\n",
    "import seaborn as sns\n",
    "import matplotlib.pyplot as plt\n",
    "\n",
    "from guess_language import guess_language\n",
    "from sklearn.decomposition import LatentDirichletAllocation\n",
    "from sklearn.feature_extraction.text import TfidfVectorizer\n",
    "from nltk.corpus import stopwords"
   ]
  },
  {
   "cell_type": "code",
   "execution_count": 22,
   "id": "7c0003d3-6a8d-4509-a906-6c322696a409",
   "metadata": {
    "tags": []
   },
   "outputs": [],
   "source": [
    "DATA_PATH = 'D:/Data_Science/mentoring/src/preprocessed-data/'"
   ]
  },
  {
   "cell_type": "code",
   "execution_count": 23,
   "id": "db1eaa77-b1cc-433b-8faa-cb24a2ffca4d",
   "metadata": {
    "tags": []
   },
   "outputs": [
    {
     "name": "stdout",
     "output_type": "stream",
     "text": [
      "<class 'pandas.core.frame.DataFrame'>\n",
      "Int64Index: 9802 entries, 0 to 9801\n",
      "Data columns (total 6 columns):\n",
      " #   Column         Non-Null Count  Dtype  \n",
      "---  ------         --------------  -----  \n",
      " 0   profile_url    9802 non-null   object \n",
      " 1   post_url       117 non-null    object \n",
      " 2   post           9802 non-null   object \n",
      " 3   reactions_cnt  9653 non-null   object \n",
      " 4   comments_cnt   9467 non-null   float64\n",
      " 5   reposts_cnt    9356 non-null   float64\n",
      "dtypes: float64(2), object(4)\n",
      "memory usage: 536.0+ KB\n",
      "None\n"
     ]
    },
    {
     "data": {
      "text/html": [
       "<div>\n",
       "<style scoped>\n",
       "    .dataframe tbody tr th:only-of-type {\n",
       "        vertical-align: middle;\n",
       "    }\n",
       "\n",
       "    .dataframe tbody tr th {\n",
       "        vertical-align: top;\n",
       "    }\n",
       "\n",
       "    .dataframe thead th {\n",
       "        text-align: right;\n",
       "    }\n",
       "</style>\n",
       "<table border=\"1\" class=\"dataframe\">\n",
       "  <thead>\n",
       "    <tr style=\"text-align: right;\">\n",
       "      <th></th>\n",
       "      <th>profile_url</th>\n",
       "      <th>post_url</th>\n",
       "      <th>post</th>\n",
       "      <th>reactions_cnt</th>\n",
       "      <th>comments_cnt</th>\n",
       "      <th>reposts_cnt</th>\n",
       "    </tr>\n",
       "  </thead>\n",
       "  <tbody>\n",
       "    <tr>\n",
       "      <th>0</th>\n",
       "      <td>https://www.linkedin.com/in/ali-wodan/recent-a...</td>\n",
       "      <td>NaN</td>\n",
       "      <td>Кстати говоря. Теперь подкаст Миражи доступен ...</td>\n",
       "      <td>1</td>\n",
       "      <td>0.0</td>\n",
       "      <td>0.0</td>\n",
       "    </tr>\n",
       "    <tr>\n",
       "      <th>1</th>\n",
       "      <td>https://www.linkedin.com/in/ali-wodan/recent-a...</td>\n",
       "      <td>NaN</td>\n",
       "      <td>I’m #hiring. Know anyone who might be interested?</td>\n",
       "      <td>1</td>\n",
       "      <td>0.0</td>\n",
       "      <td>0.0</td>\n",
       "    </tr>\n",
       "    <tr>\n",
       "      <th>2</th>\n",
       "      <td>https://www.linkedin.com/in/ali-wodan/recent-a...</td>\n",
       "      <td>NaN</td>\n",
       "      <td>Хэй честной народ! Ищу векторного иллюстратора...</td>\n",
       "      <td>6</td>\n",
       "      <td>0.0</td>\n",
       "      <td>0.0</td>\n",
       "    </tr>\n",
       "    <tr>\n",
       "      <th>3</th>\n",
       "      <td>https://www.linkedin.com/in/ali-wodan/recent-a...</td>\n",
       "      <td>NaN</td>\n",
       "      <td>Новый пост подкаста \"Миражи\" на всех платформа...</td>\n",
       "      <td>1</td>\n",
       "      <td>0.0</td>\n",
       "      <td>0.0</td>\n",
       "    </tr>\n",
       "    <tr>\n",
       "      <th>4</th>\n",
       "      <td>https://www.linkedin.com/in/ali-wodan/recent-a...</td>\n",
       "      <td>NaN</td>\n",
       "      <td>Подкаст Миражи, Эпизод 13Ошибка невозвратных з...</td>\n",
       "      <td>2</td>\n",
       "      <td>0.0</td>\n",
       "      <td>0.0</td>\n",
       "    </tr>\n",
       "  </tbody>\n",
       "</table>\n",
       "</div>"
      ],
      "text/plain": [
       "                                         profile_url post_url  \\\n",
       "0  https://www.linkedin.com/in/ali-wodan/recent-a...      NaN   \n",
       "1  https://www.linkedin.com/in/ali-wodan/recent-a...      NaN   \n",
       "2  https://www.linkedin.com/in/ali-wodan/recent-a...      NaN   \n",
       "3  https://www.linkedin.com/in/ali-wodan/recent-a...      NaN   \n",
       "4  https://www.linkedin.com/in/ali-wodan/recent-a...      NaN   \n",
       "\n",
       "                                                post reactions_cnt  \\\n",
       "0  Кстати говоря. Теперь подкаст Миражи доступен ...             1   \n",
       "1  I’m #hiring. Know anyone who might be interested?             1   \n",
       "2  Хэй честной народ! Ищу векторного иллюстратора...             6   \n",
       "3  Новый пост подкаста \"Миражи\" на всех платформа...             1   \n",
       "4  Подкаст Миражи, Эпизод 13Ошибка невозвратных з...             2   \n",
       "\n",
       "   comments_cnt  reposts_cnt  \n",
       "0           0.0          0.0  \n",
       "1           0.0          0.0  \n",
       "2           0.0          0.0  \n",
       "3           0.0          0.0  \n",
       "4           0.0          0.0  "
      ]
     },
     "execution_count": 23,
     "metadata": {},
     "output_type": "execute_result"
    }
   ],
   "source": [
    "posts = pd.read_csv(f'{DATA_PATH}teams_2_3_8_10_posts.csv', sep=';', index_col=0)\n",
    "print(posts.info())\n",
    "posts.head()"
   ]
  },
  {
   "cell_type": "markdown",
   "id": "4853b829-68d7-43c3-8279-60d4c376fc51",
   "metadata": {},
   "source": [
    "# Категоризация текстов по языку"
   ]
  },
  {
   "cell_type": "markdown",
   "id": "46c3288b-b79c-4d03-8910-5499f1a9fc14",
   "metadata": {
    "tags": []
   },
   "source": [
    "Так как при парсинге в выборку попадали тексты на разных языках, произведем категоризацию по ним, используя библиотеку `guess_language`"
   ]
  },
  {
   "cell_type": "code",
   "execution_count": 24,
   "id": "36a9bf12-9363-4b63-a7af-30beb3703aa9",
   "metadata": {
    "tags": []
   },
   "outputs": [
    {
     "data": {
      "text/html": [
       "<div>\n",
       "<style scoped>\n",
       "    .dataframe tbody tr th:only-of-type {\n",
       "        vertical-align: middle;\n",
       "    }\n",
       "\n",
       "    .dataframe tbody tr th {\n",
       "        vertical-align: top;\n",
       "    }\n",
       "\n",
       "    .dataframe thead th {\n",
       "        text-align: right;\n",
       "    }\n",
       "</style>\n",
       "<table border=\"1\" class=\"dataframe\">\n",
       "  <thead>\n",
       "    <tr style=\"text-align: right;\">\n",
       "      <th></th>\n",
       "      <th>profile_url</th>\n",
       "      <th>post_url</th>\n",
       "      <th>post</th>\n",
       "      <th>reactions_cnt</th>\n",
       "      <th>comments_cnt</th>\n",
       "      <th>reposts_cnt</th>\n",
       "      <th>language</th>\n",
       "    </tr>\n",
       "  </thead>\n",
       "  <tbody>\n",
       "    <tr>\n",
       "      <th>6470</th>\n",
       "      <td>https://www.linkedin.com/in/yuliya-l-b60416223...</td>\n",
       "      <td>NaN</td>\n",
       "      <td>Какой UI вам больше всего понравился?</td>\n",
       "      <td>3</td>\n",
       "      <td>0.0</td>\n",
       "      <td>0.0</td>\n",
       "      <td>ru</td>\n",
       "    </tr>\n",
       "    <tr>\n",
       "      <th>6060</th>\n",
       "      <td>https://www.linkedin.com/in/gorpoghosyan/recen...</td>\n",
       "      <td>NaN</td>\n",
       "      <td>𝐇𝐨𝐰 𝐓𝐨 𝐋𝐞𝐯𝐞𝐫𝐚𝐠𝐞 𝐄𝐦𝐨𝐭𝐢𝐨𝐧𝐚𝐥 𝐈𝐧𝐭𝐞𝐥𝐥𝐢𝐠𝐞𝐧𝐜𝐞 𝐈𝐧 𝐓𝐡𝐞 ...</td>\n",
       "      <td>4</td>\n",
       "      <td>0.0</td>\n",
       "      <td>0.0</td>\n",
       "      <td>en</td>\n",
       "    </tr>\n",
       "    <tr>\n",
       "      <th>9319</th>\n",
       "      <td>https://www.linkedin.com/in/averkieff</td>\n",
       "      <td>NaN</td>\n",
       "      <td>Transatlantic Cable podcast, episode 96</td>\n",
       "      <td>NaN</td>\n",
       "      <td>NaN</td>\n",
       "      <td>NaN</td>\n",
       "      <td>ca</td>\n",
       "    </tr>\n",
       "    <tr>\n",
       "      <th>7729</th>\n",
       "      <td>https://www.linkedin.com/in/arybalko/recent-ac...</td>\n",
       "      <td>NaN</td>\n",
       "      <td>JUST IN: OpenAI is adding support for plugins ...</td>\n",
       "      <td>461</td>\n",
       "      <td>19.0</td>\n",
       "      <td>48.0</td>\n",
       "      <td>en</td>\n",
       "    </tr>\n",
       "    <tr>\n",
       "      <th>8633</th>\n",
       "      <td>https://www.linkedin.com/in/selesnow/recent-ac...</td>\n",
       "      <td>NaN</td>\n",
       "      <td>Добавляем подграфики распределения данных по о...</td>\n",
       "      <td>17</td>\n",
       "      <td>0.0</td>\n",
       "      <td>0.0</td>\n",
       "      <td>ru</td>\n",
       "    </tr>\n",
       "    <tr>\n",
       "      <th>6846</th>\n",
       "      <td>https://www.linkedin.com/in/pikman/recent-acti...</td>\n",
       "      <td>NaN</td>\n",
       "      <td>I used #ChatGPT and #DallE2 to create children...</td>\n",
       "      <td>9</td>\n",
       "      <td>2.0</td>\n",
       "      <td>1.0</td>\n",
       "      <td>en</td>\n",
       "    </tr>\n",
       "    <tr>\n",
       "      <th>1761</th>\n",
       "      <td>https://www.linkedin.com/in/tudor-c-449a9522b/...</td>\n",
       "      <td>NaN</td>\n",
       "      <td>We called it 'Purple Mood'Our inst : @spaceaim...</td>\n",
       "      <td>0</td>\n",
       "      <td>0.0</td>\n",
       "      <td>0.0</td>\n",
       "      <td>en</td>\n",
       "    </tr>\n",
       "    <tr>\n",
       "      <th>6781</th>\n",
       "      <td>https://www.linkedin.com/in/vladislav-popov-20...</td>\n",
       "      <td>NaN</td>\n",
       "      <td>Здравствуйте, я в поиске новой карьерной возмо...</td>\n",
       "      <td>52</td>\n",
       "      <td>0.0</td>\n",
       "      <td>9.0</td>\n",
       "      <td>ru</td>\n",
       "    </tr>\n",
       "    <tr>\n",
       "      <th>8331</th>\n",
       "      <td>https://www.linkedin.com/in/alexander-berezovs...</td>\n",
       "      <td>NaN</td>\n",
       "      <td>Uman, Ukraine, 8.06.2023#russiaisaterrorisstat...</td>\n",
       "      <td>252</td>\n",
       "      <td>8.0</td>\n",
       "      <td>33.0</td>\n",
       "      <td>fr</td>\n",
       "    </tr>\n",
       "    <tr>\n",
       "      <th>8619</th>\n",
       "      <td>https://www.linkedin.com/in/selesnow/recent-ac...</td>\n",
       "      <td>NaN</td>\n",
       "      <td>Язык R: Пакет для поиска пакетов на CRANПакет ...</td>\n",
       "      <td>4</td>\n",
       "      <td>1.0</td>\n",
       "      <td>0.0</td>\n",
       "      <td>bg</td>\n",
       "    </tr>\n",
       "  </tbody>\n",
       "</table>\n",
       "</div>"
      ],
      "text/plain": [
       "                                            profile_url post_url  \\\n",
       "6470  https://www.linkedin.com/in/yuliya-l-b60416223...      NaN   \n",
       "6060  https://www.linkedin.com/in/gorpoghosyan/recen...      NaN   \n",
       "9319              https://www.linkedin.com/in/averkieff      NaN   \n",
       "7729  https://www.linkedin.com/in/arybalko/recent-ac...      NaN   \n",
       "8633  https://www.linkedin.com/in/selesnow/recent-ac...      NaN   \n",
       "6846  https://www.linkedin.com/in/pikman/recent-acti...      NaN   \n",
       "1761  https://www.linkedin.com/in/tudor-c-449a9522b/...      NaN   \n",
       "6781  https://www.linkedin.com/in/vladislav-popov-20...      NaN   \n",
       "8331  https://www.linkedin.com/in/alexander-berezovs...      NaN   \n",
       "8619  https://www.linkedin.com/in/selesnow/recent-ac...      NaN   \n",
       "\n",
       "                                                   post reactions_cnt  \\\n",
       "6470              Какой UI вам больше всего понравился?             3   \n",
       "6060  𝐇𝐨𝐰 𝐓𝐨 𝐋𝐞𝐯𝐞𝐫𝐚𝐠𝐞 𝐄𝐦𝐨𝐭𝐢𝐨𝐧𝐚𝐥 𝐈𝐧𝐭𝐞𝐥𝐥𝐢𝐠𝐞𝐧𝐜𝐞 𝐈𝐧 𝐓𝐡𝐞 ...             4   \n",
       "9319            Transatlantic Cable podcast, episode 96           NaN   \n",
       "7729  JUST IN: OpenAI is adding support for plugins ...           461   \n",
       "8633  Добавляем подграфики распределения данных по о...            17   \n",
       "6846  I used #ChatGPT and #DallE2 to create children...             9   \n",
       "1761  We called it 'Purple Mood'Our inst : @spaceaim...             0   \n",
       "6781  Здравствуйте, я в поиске новой карьерной возмо...            52   \n",
       "8331  Uman, Ukraine, 8.06.2023#russiaisaterrorisstat...           252   \n",
       "8619  Язык R: Пакет для поиска пакетов на CRANПакет ...             4   \n",
       "\n",
       "      comments_cnt  reposts_cnt language  \n",
       "6470           0.0          0.0       ru  \n",
       "6060           0.0          0.0       en  \n",
       "9319           NaN          NaN       ca  \n",
       "7729          19.0         48.0       en  \n",
       "8633           0.0          0.0       ru  \n",
       "6846           2.0          1.0       en  \n",
       "1761           0.0          0.0       en  \n",
       "6781           0.0          9.0       ru  \n",
       "8331           8.0         33.0       fr  \n",
       "8619           1.0          0.0       bg  "
      ]
     },
     "execution_count": 24,
     "metadata": {},
     "output_type": "execute_result"
    }
   ],
   "source": [
    "posts['language'] = posts['post'].apply(guess_language)\n",
    "posts.sample(10)"
   ]
  },
  {
   "cell_type": "markdown",
   "id": "cb0be2a4-8f38-4155-9437-25f8868c6b24",
   "metadata": {},
   "source": [
    "По десяти случайным строкам видно, что есть категория UNKNOWN и какие-то языки кроме английского и русского. Посмотрим внимательнее"
   ]
  },
  {
   "cell_type": "code",
   "execution_count": 25,
   "id": "1e3b9981-9297-4848-b42c-1e59e07ec030",
   "metadata": {
    "tags": []
   },
   "outputs": [
    {
     "data": {
      "text/plain": [
       "en         6056\n",
       "ru         2287\n",
       "UNKNOWN     386\n",
       "uk          226\n",
       "bg          181\n",
       "fr           77\n",
       "de           47\n",
       "ca           42\n",
       "af           38\n",
       "az           36\n",
       "mk           35\n",
       "it           35\n",
       "nl           33\n",
       "da           32\n",
       "ro           30\n",
       "hy           29\n",
       "la           29\n",
       "es           21\n",
       "tl           17\n",
       "nb           17\n",
       "eo           15\n",
       "sr           13\n",
       "sv           13\n",
       "ar           11\n",
       "pt           11\n",
       "id           10\n",
       "fi            7\n",
       "ha            7\n",
       "nso           6\n",
       "haw           4\n",
       "he            4\n",
       "sl            4\n",
       "kk            4\n",
       "sq            3\n",
       "tr            3\n",
       "ss            3\n",
       "cy            3\n",
       "uz            3\n",
       "is            3\n",
       "hr            3\n",
       "et            2\n",
       "ceb           2\n",
       "hu            2\n",
       "tn            2\n",
       "sk            2\n",
       "vi            1\n",
       "so            1\n",
       "ka            1\n",
       "ve            1\n",
       "tlh           1\n",
       "st            1\n",
       "ky            1\n",
       "lt            1\n",
       "Name: language, dtype: int64"
      ]
     },
     "execution_count": 25,
     "metadata": {},
     "output_type": "execute_result"
    }
   ],
   "source": [
    "posts['language'].value_counts()"
   ]
  },
  {
   "cell_type": "markdown",
   "id": "371a3a30-abb8-4b90-9dea-4b47bfe41d08",
   "metadata": {},
   "source": [
    "Большинство текстов написаны на  русском и английском языках. Визуально посмотрим, на тексты иных языков 'uk', 'bg', 'fr' и категорию `unknown`. Эти категории мамые популярные:"
   ]
  },
  {
   "cell_type": "code",
   "execution_count": 26,
   "id": "6160ec0e-9372-4c44-994f-a124c377f337",
   "metadata": {
    "tags": []
   },
   "outputs": [
    {
     "data": {
      "text/html": [
       "<div>\n",
       "<style scoped>\n",
       "    .dataframe tbody tr th:only-of-type {\n",
       "        vertical-align: middle;\n",
       "    }\n",
       "\n",
       "    .dataframe tbody tr th {\n",
       "        vertical-align: top;\n",
       "    }\n",
       "\n",
       "    .dataframe thead th {\n",
       "        text-align: right;\n",
       "    }\n",
       "</style>\n",
       "<table border=\"1\" class=\"dataframe\">\n",
       "  <thead>\n",
       "    <tr style=\"text-align: right;\">\n",
       "      <th></th>\n",
       "      <th>post</th>\n",
       "      <th>language</th>\n",
       "    </tr>\n",
       "  </thead>\n",
       "  <tbody>\n",
       "    <tr>\n",
       "      <th>5546</th>\n",
       "      <td>I’m #hiring #backend</td>\n",
       "      <td>UNKNOWN</td>\n",
       "    </tr>\n",
       "    <tr>\n",
       "      <th>6465</th>\n",
       "      <td>I love abstract art</td>\n",
       "      <td>UNKNOWN</td>\n",
       "    </tr>\n",
       "    <tr>\n",
       "      <th>6046</th>\n",
       "      <td>my dream team</td>\n",
       "      <td>UNKNOWN</td>\n",
       "    </tr>\n",
       "    <tr>\n",
       "      <th>5833</th>\n",
       "      <td>I'll be there!</td>\n",
       "      <td>UNKNOWN</td>\n",
       "    </tr>\n",
       "    <tr>\n",
       "      <th>4119</th>\n",
       "      <td>Easy algorithm:)</td>\n",
       "      <td>UNKNOWN</td>\n",
       "    </tr>\n",
       "    <tr>\n",
       "      <th>391</th>\n",
       "      <td>#lean #leanglossary</td>\n",
       "      <td>UNKNOWN</td>\n",
       "    </tr>\n",
       "    <tr>\n",
       "      <th>705</th>\n",
       "      <td>October Tech Picks</td>\n",
       "      <td>UNKNOWN</td>\n",
       "    </tr>\n",
       "    <tr>\n",
       "      <th>5093</th>\n",
       "      <td>Have a great week 🍀</td>\n",
       "      <td>UNKNOWN</td>\n",
       "    </tr>\n",
       "    <tr>\n",
       "      <th>2965</th>\n",
       "      <td>Biden the Grey…..</td>\n",
       "      <td>UNKNOWN</td>\n",
       "    </tr>\n",
       "    <tr>\n",
       "      <th>8988</th>\n",
       "      <td>Пахаххахаха</td>\n",
       "      <td>UNKNOWN</td>\n",
       "    </tr>\n",
       "  </tbody>\n",
       "</table>\n",
       "</div>"
      ],
      "text/plain": [
       "                      post language\n",
       "5546  I’m #hiring #backend  UNKNOWN\n",
       "6465   I love abstract art  UNKNOWN\n",
       "6046         my dream team  UNKNOWN\n",
       "5833        I'll be there!  UNKNOWN\n",
       "4119      Easy algorithm:)  UNKNOWN\n",
       "391    #lean #leanglossary  UNKNOWN\n",
       "705     October Tech Picks  UNKNOWN\n",
       "5093   Have a great week 🍀  UNKNOWN\n",
       "2965     Biden the Grey…..  UNKNOWN\n",
       "8988           Пахаххахаха  UNKNOWN"
      ]
     },
     "execution_count": 26,
     "metadata": {},
     "output_type": "execute_result"
    }
   ],
   "source": [
    "posts.query('language == \"UNKNOWN\"')[['post', 'language']].sample(10)"
   ]
  },
  {
   "cell_type": "markdown",
   "id": "52af76f0-ef6c-4c7f-a414-bbc3d752dcb4",
   "metadata": {},
   "source": [
    "Похоже, это очень короткие тексты, которые нам особо не пригодятся. Исключим из выборки"
   ]
  },
  {
   "cell_type": "code",
   "execution_count": 27,
   "id": "a1736cf0-96df-4218-b945-267a3a3580fe",
   "metadata": {
    "tags": []
   },
   "outputs": [
    {
     "data": {
      "text/html": [
       "<div>\n",
       "<style scoped>\n",
       "    .dataframe tbody tr th:only-of-type {\n",
       "        vertical-align: middle;\n",
       "    }\n",
       "\n",
       "    .dataframe tbody tr th {\n",
       "        vertical-align: top;\n",
       "    }\n",
       "\n",
       "    .dataframe thead th {\n",
       "        text-align: right;\n",
       "    }\n",
       "</style>\n",
       "<table border=\"1\" class=\"dataframe\">\n",
       "  <thead>\n",
       "    <tr style=\"text-align: right;\">\n",
       "      <th></th>\n",
       "      <th>post</th>\n",
       "      <th>language</th>\n",
       "    </tr>\n",
       "  </thead>\n",
       "  <tbody>\n",
       "    <tr>\n",
       "      <th>8215</th>\n",
       "      <td>Добрий день! Моя основна праця з 2011 р. фотор...</td>\n",
       "      <td>uk</td>\n",
       "    </tr>\n",
       "    <tr>\n",
       "      <th>5048</th>\n",
       "      <td>Favbet та Міністерство молоді та спорту Україн...</td>\n",
       "      <td>uk</td>\n",
       "    </tr>\n",
       "    <tr>\n",
       "      <th>4566</th>\n",
       "      <td>На наступному тижні відриваємо додаткові вакан...</td>\n",
       "      <td>uk</td>\n",
       "    </tr>\n",
       "    <tr>\n",
       "      <th>9526</th>\n",
       "      <td>нужен кому автоматизатор с опытом? беру дорого.</td>\n",
       "      <td>uk</td>\n",
       "    </tr>\n",
       "    <tr>\n",
       "      <th>4653</th>\n",
       "      <td>Part 1/3(English below) Воу, вже 31 грудня. То...</td>\n",
       "      <td>uk</td>\n",
       "    </tr>\n",
       "    <tr>\n",
       "      <th>4578</th>\n",
       "      <td>#NeutralWhiteSPORTНейтрально-білий спорт</td>\n",
       "      <td>uk</td>\n",
       "    </tr>\n",
       "    <tr>\n",
       "      <th>4569</th>\n",
       "      <td>Ми робимо не тількі сайти. В нас також є дуже ...</td>\n",
       "      <td>uk</td>\n",
       "    </tr>\n",
       "    <tr>\n",
       "      <th>3291</th>\n",
       "      <td>Одна гарна людина запропонувала мені завести а...</td>\n",
       "      <td>uk</td>\n",
       "    </tr>\n",
       "    <tr>\n",
       "      <th>9306</th>\n",
       "      <td>Vitali Kashko #Отзывы с благодарностью Вы вдох...</td>\n",
       "      <td>uk</td>\n",
       "    </tr>\n",
       "    <tr>\n",
       "      <th>5056</th>\n",
       "      <td>Катрін Денев прочитала вірш Лесі Українки на в...</td>\n",
       "      <td>uk</td>\n",
       "    </tr>\n",
       "  </tbody>\n",
       "</table>\n",
       "</div>"
      ],
      "text/plain": [
       "                                                   post language\n",
       "8215  Добрий день! Моя основна праця з 2011 р. фотор...       uk\n",
       "5048  Favbet та Міністерство молоді та спорту Україн...       uk\n",
       "4566  На наступному тижні відриваємо додаткові вакан...       uk\n",
       "9526    нужен кому автоматизатор с опытом? беру дорого.       uk\n",
       "4653  Part 1/3(English below) Воу, вже 31 грудня. То...       uk\n",
       "4578           #NeutralWhiteSPORTНейтрально-білий спорт       uk\n",
       "4569  Ми робимо не тількі сайти. В нас також є дуже ...       uk\n",
       "3291  Одна гарна людина запропонувала мені завести а...       uk\n",
       "9306  Vitali Kashko #Отзывы с благодарностью Вы вдох...       uk\n",
       "5056  Катрін Денев прочитала вірш Лесі Українки на в...       uk"
      ]
     },
     "execution_count": 27,
     "metadata": {},
     "output_type": "execute_result"
    }
   ],
   "source": [
    "posts.query('language == \"uk\"')[['post', 'language']].sample(10)"
   ]
  },
  {
   "cell_type": "markdown",
   "id": "6a04fa4e-f7da-4bcb-be38-eac558e96d40",
   "metadata": {},
   "source": [
    "Украинский язык (логично :-)). Для того, чтобы не подгружать множество языковых моделей, думаю, что целесообразно исключить его из общей выборки. Сосредоточимся на наиболее популярных языках 'ru' и 'en'. Посмотрим 'bg':"
   ]
  },
  {
   "cell_type": "code",
   "execution_count": 28,
   "id": "fadb83eb-3faf-4b8b-afbd-2482602bf753",
   "metadata": {
    "tags": []
   },
   "outputs": [
    {
     "data": {
      "text/html": [
       "<div>\n",
       "<style scoped>\n",
       "    .dataframe tbody tr th:only-of-type {\n",
       "        vertical-align: middle;\n",
       "    }\n",
       "\n",
       "    .dataframe tbody tr th {\n",
       "        vertical-align: top;\n",
       "    }\n",
       "\n",
       "    .dataframe thead th {\n",
       "        text-align: right;\n",
       "    }\n",
       "</style>\n",
       "<table border=\"1\" class=\"dataframe\">\n",
       "  <thead>\n",
       "    <tr style=\"text-align: right;\">\n",
       "      <th></th>\n",
       "      <th>post</th>\n",
       "      <th>language</th>\n",
       "    </tr>\n",
       "  </thead>\n",
       "  <tbody>\n",
       "    <tr>\n",
       "      <th>7242</th>\n",
       "      <td>Logo исследованиеКакой лучше?Обратная связь це...</td>\n",
       "      <td>bg</td>\n",
       "    </tr>\n",
       "    <tr>\n",
       "      <th>335</th>\n",
       "      <td>Классные кейсы! Особенно в первом кейсе впечат...</td>\n",
       "      <td>bg</td>\n",
       "    </tr>\n",
       "    <tr>\n",
       "      <th>3651</th>\n",
       "      <td>И два контейнера с постгрей и дженкинсом 😱#IT ...</td>\n",
       "      <td>bg</td>\n",
       "    </tr>\n",
       "    <tr>\n",
       "      <th>8313</th>\n",
       "      <td>⚡️Полк Каліноўскага рыхтуе зварот да беларуска...</td>\n",
       "      <td>bg</td>\n",
       "    </tr>\n",
       "    <tr>\n",
       "      <th>9092</th>\n",
       "      <td>В Big Data Мегафон ищем Team Lead Data Analyti...</td>\n",
       "      <td>bg</td>\n",
       "    </tr>\n",
       "    <tr>\n",
       "      <th>260</th>\n",
       "      <td>«Погнали в IT»Новое направление!Разработка пол...</td>\n",
       "      <td>bg</td>\n",
       "    </tr>\n",
       "    <tr>\n",
       "      <th>3949</th>\n",
       "      <td>Внимание! Большой IT и бизнес ивент в Бишкеке!...</td>\n",
       "      <td>bg</td>\n",
       "    </tr>\n",
       "    <tr>\n",
       "      <th>2752</th>\n",
       "      <td>Привет, мир!Наконец-то холодное время позади и...</td>\n",
       "      <td>bg</td>\n",
       "    </tr>\n",
       "    <tr>\n",
       "      <th>1356</th>\n",
       "      <td>26 июля, еще один день когда я ищу работу выпо...</td>\n",
       "      <td>bg</td>\n",
       "    </tr>\n",
       "    <tr>\n",
       "      <th>830</th>\n",
       "      <td>Когда устал от отказов 😒</td>\n",
       "      <td>bg</td>\n",
       "    </tr>\n",
       "  </tbody>\n",
       "</table>\n",
       "</div>"
      ],
      "text/plain": [
       "                                                   post language\n",
       "7242  Logo исследованиеКакой лучше?Обратная связь це...       bg\n",
       "335   Классные кейсы! Особенно в первом кейсе впечат...       bg\n",
       "3651  И два контейнера с постгрей и дженкинсом 😱#IT ...       bg\n",
       "8313  ⚡️Полк Каліноўскага рыхтуе зварот да беларуска...       bg\n",
       "9092  В Big Data Мегафон ищем Team Lead Data Analyti...       bg\n",
       "260   «Погнали в IT»Новое направление!Разработка пол...       bg\n",
       "3949  Внимание! Большой IT и бизнес ивент в Бишкеке!...       bg\n",
       "2752  Привет, мир!Наконец-то холодное время позади и...       bg\n",
       "1356  26 июля, еще один день когда я ищу работу выпо...       bg\n",
       "830                            Когда устал от отказов 😒       bg"
      ]
     },
     "execution_count": 28,
     "metadata": {},
     "output_type": "execute_result"
    }
   ],
   "source": [
    "posts.query('language == \"bg\"')[['post', 'language']].sample(10)"
   ]
  },
  {
   "cell_type": "markdown",
   "id": "9d8151d3-9b16-4fb2-adc9-03a8c6d3a342",
   "metadata": {},
   "source": [
    "Большинство текстов с такой меткой написаны на русском. Думаю, что стоит поменять метку языка 'bg' на 'ru'"
   ]
  },
  {
   "cell_type": "code",
   "execution_count": 29,
   "id": "269da72d-5ef1-4112-a147-b61a7016a004",
   "metadata": {
    "tags": []
   },
   "outputs": [
    {
     "data": {
      "text/html": [
       "<div>\n",
       "<style scoped>\n",
       "    .dataframe tbody tr th:only-of-type {\n",
       "        vertical-align: middle;\n",
       "    }\n",
       "\n",
       "    .dataframe tbody tr th {\n",
       "        vertical-align: top;\n",
       "    }\n",
       "\n",
       "    .dataframe thead th {\n",
       "        text-align: right;\n",
       "    }\n",
       "</style>\n",
       "<table border=\"1\" class=\"dataframe\">\n",
       "  <thead>\n",
       "    <tr style=\"text-align: right;\">\n",
       "      <th></th>\n",
       "      <th>post</th>\n",
       "      <th>language</th>\n",
       "    </tr>\n",
       "  </thead>\n",
       "  <tbody>\n",
       "    <tr>\n",
       "      <th>791</th>\n",
       "      <td>#taskmanagement #productivity</td>\n",
       "      <td>fr</td>\n",
       "    </tr>\n",
       "    <tr>\n",
       "      <th>7178</th>\n",
       "      <td>It’s not Mars. Russians hit Zaporizhzhia with ...</td>\n",
       "      <td>fr</td>\n",
       "    </tr>\n",
       "    <tr>\n",
       "      <th>358</th>\n",
       "      <td>Bubblemorph mobile appFashion design trendsett...</td>\n",
       "      <td>fr</td>\n",
       "    </tr>\n",
       "    <tr>\n",
       "      <th>6232</th>\n",
       "      <td>Интересная рассылка от mvideo@sender.mvideo.ru...</td>\n",
       "      <td>fr</td>\n",
       "    </tr>\n",
       "    <tr>\n",
       "      <th>3941</th>\n",
       "      <td>Animation Process #motiondesign #aftereffects</td>\n",
       "      <td>fr</td>\n",
       "    </tr>\n",
       "    <tr>\n",
       "      <th>6120</th>\n",
       "      <td>PlayStation - UX/UI ConceptDribble: https://ln...</td>\n",
       "      <td>fr</td>\n",
       "    </tr>\n",
       "    <tr>\n",
       "      <th>7033</th>\n",
       "      <td>Corporate Results Roundup Q1 2023 https://lnkd...</td>\n",
       "      <td>fr</td>\n",
       "    </tr>\n",
       "    <tr>\n",
       "      <th>8124</th>\n",
       "      <td>Check out our latest Newsletter post ⤵</td>\n",
       "      <td>fr</td>\n",
       "    </tr>\n",
       "    <tr>\n",
       "      <th>8179</th>\n",
       "      <td>Risk Assessment by Tom 😂😂#riskassessment #risk...</td>\n",
       "      <td>fr</td>\n",
       "    </tr>\n",
       "    <tr>\n",
       "      <th>8020</th>\n",
       "      <td>Wrote a post on how to check your DV-LOTTERY 2...</td>\n",
       "      <td>fr</td>\n",
       "    </tr>\n",
       "  </tbody>\n",
       "</table>\n",
       "</div>"
      ],
      "text/plain": [
       "                                                   post language\n",
       "791                       #taskmanagement #productivity       fr\n",
       "7178  It’s not Mars. Russians hit Zaporizhzhia with ...       fr\n",
       "358   Bubblemorph mobile appFashion design trendsett...       fr\n",
       "6232  Интересная рассылка от mvideo@sender.mvideo.ru...       fr\n",
       "3941      Animation Process #motiondesign #aftereffects       fr\n",
       "6120  PlayStation - UX/UI ConceptDribble: https://ln...       fr\n",
       "7033  Corporate Results Roundup Q1 2023 https://lnkd...       fr\n",
       "8124             Check out our latest Newsletter post ⤵       fr\n",
       "8179  Risk Assessment by Tom 😂😂#riskassessment #risk...       fr\n",
       "8020  Wrote a post on how to check your DV-LOTTERY 2...       fr"
      ]
     },
     "execution_count": 29,
     "metadata": {},
     "output_type": "execute_result"
    }
   ],
   "source": [
    "posts.query('language == \"fr\"')[['post', 'language']].sample(10)"
   ]
  },
  {
   "cell_type": "markdown",
   "id": "4e6358b7-3df1-4dc7-9fd8-5bf13a9f1c8c",
   "metadata": {},
   "source": [
    "Большой разброс по фактическим языкам. Думаю, что эту категорию не стоит включать в выборку. Подкорректируем метки функцией и посмотрим, что получилось:"
   ]
  },
  {
   "cell_type": "code",
   "execution_count": 30,
   "id": "4abeeaa9-33f7-4903-84a3-5d05804dbe1a",
   "metadata": {
    "tags": []
   },
   "outputs": [],
   "source": [
    "def lang_correction(text):\n",
    "    if text == 'bg':\n",
    "        return 'ru'\n",
    "    elif text == 'UNKNOWN' or text == 'ru' or text == 'en':\n",
    "        return text\n",
    "    else:\n",
    "        return 'UNKNOWN'"
   ]
  },
  {
   "cell_type": "code",
   "execution_count": 31,
   "id": "c5ccaef6-c571-4a8a-ab65-c3a28ae3bd3a",
   "metadata": {
    "tags": []
   },
   "outputs": [
    {
     "data": {
      "text/plain": [
       "en         6056\n",
       "ru         2468\n",
       "UNKNOWN    1278\n",
       "Name: language, dtype: int64"
      ]
     },
     "execution_count": 31,
     "metadata": {},
     "output_type": "execute_result"
    }
   ],
   "source": [
    "posts['language'] = posts['language'].apply(lang_correction)\n",
    "posts['language'].value_counts()"
   ]
  },
  {
   "cell_type": "markdown",
   "id": "8c308269-a732-49a2-9ccf-bea5e3e536e1",
   "metadata": {
    "tags": []
   },
   "source": [
    "Метка UNKNOWN позволит нам легко исключить ненужные нам для анализа тексты. А что с длиной текстов. Построим распределение:"
   ]
  },
  {
   "cell_type": "code",
   "execution_count": 32,
   "id": "d9c04254-5f45-4fe7-8238-378fd0327e59",
   "metadata": {
    "tags": []
   },
   "outputs": [],
   "source": [
    "def post_len(text):\n",
    "    return len(text)\n",
    "\n",
    "posts['post_len'] = posts['post'].apply(post_len)"
   ]
  },
  {
   "cell_type": "code",
   "execution_count": 33,
   "id": "95bd0169-e666-4cbe-8067-5ec10adc62cb",
   "metadata": {
    "tags": []
   },
   "outputs": [
    {
     "data": {
      "image/png": "[encoded data removed]",
      "text/plain": [
       "<Figure size 640x480 with 1 Axes>"
      ]
     },
     "metadata": {},
     "output_type": "display_data"
    }
   ],
   "source": [
    "sns.histplot(posts, x='post_len',\n",
    "                    hue=\"language\").set_title('Распределение текстов на разных языках по длине')\n",
    "plt.show()"
   ]
  },
  {
   "cell_type": "markdown",
   "id": "19992f08-fe72-4737-9ad3-5c4849812661",
   "metadata": {},
   "source": [
    "Большинство текстов на русском и английском языках длиной меньше 500 символов. Также подтверждается гипотеза, что метка UNKNOWN в значимой степени связана с длиной текста (гистограмма резче остальных показывает спад количества с увеличением длины)."
   ]
  },
  {
   "cell_type": "code",
   "execution_count": 34,
   "id": "faeeef17-e21d-4113-8353-9f77e30bcd6a",
   "metadata": {
    "tags": []
   },
   "outputs": [
    {
     "data": {
      "text/html": [
       "<div>\n",
       "<style scoped>\n",
       "    .dataframe tbody tr th:only-of-type {\n",
       "        vertical-align: middle;\n",
       "    }\n",
       "\n",
       "    .dataframe tbody tr th {\n",
       "        vertical-align: top;\n",
       "    }\n",
       "\n",
       "    .dataframe thead th {\n",
       "        text-align: right;\n",
       "    }\n",
       "</style>\n",
       "<table border=\"1\" class=\"dataframe\">\n",
       "  <thead>\n",
       "    <tr style=\"text-align: right;\">\n",
       "      <th></th>\n",
       "      <th>profile_url</th>\n",
       "      <th>post_url</th>\n",
       "      <th>post</th>\n",
       "      <th>reactions_cnt</th>\n",
       "      <th>comments_cnt</th>\n",
       "      <th>reposts_cnt</th>\n",
       "      <th>language</th>\n",
       "      <th>post_len</th>\n",
       "    </tr>\n",
       "  </thead>\n",
       "  <tbody>\n",
       "    <tr>\n",
       "      <th>1298</th>\n",
       "      <td>https://www.linkedin.com/in/andrey-mashukov/re...</td>\n",
       "      <td>NaN</td>\n",
       "      <td>Hello everyone, we are #open for new #opportun...</td>\n",
       "      <td>3</td>\n",
       "      <td>1.0</td>\n",
       "      <td>0.0</td>\n",
       "      <td>en</td>\n",
       "      <td>467</td>\n",
       "    </tr>\n",
       "    <tr>\n",
       "      <th>9422</th>\n",
       "      <td>https://www.linkedin.com/in/alexsvetlakov</td>\n",
       "      <td>NaN</td>\n",
       "      <td>Remember, you're choosing specific frameworks ...</td>\n",
       "      <td>NaN</td>\n",
       "      <td>NaN</td>\n",
       "      <td>NaN</td>\n",
       "      <td>en</td>\n",
       "      <td>142</td>\n",
       "    </tr>\n",
       "    <tr>\n",
       "      <th>8310</th>\n",
       "      <td>https://www.linkedin.com/in/andrrey/recent-act...</td>\n",
       "      <td>NaN</td>\n",
       "      <td>DXC Technology today announced an agreement to...</td>\n",
       "      <td>2</td>\n",
       "      <td>0.0</td>\n",
       "      <td>0.0</td>\n",
       "      <td>en</td>\n",
       "      <td>260</td>\n",
       "    </tr>\n",
       "    <tr>\n",
       "      <th>7269</th>\n",
       "      <td>https://www.linkedin.com/in/anna-pronina/recen...</td>\n",
       "      <td>NaN</td>\n",
       "      <td>As you can see, our team is visiting a lot of ...</td>\n",
       "      <td>17</td>\n",
       "      <td>0.0</td>\n",
       "      <td>0.0</td>\n",
       "      <td>en</td>\n",
       "      <td>1141</td>\n",
       "    </tr>\n",
       "    <tr>\n",
       "      <th>7412</th>\n",
       "      <td>https://www.linkedin.com/in/cyrilbialo/recent-...</td>\n",
       "      <td>NaN</td>\n",
       "      <td>Russian representative on miss universe contes...</td>\n",
       "      <td>2,019</td>\n",
       "      <td>97.0</td>\n",
       "      <td>221.0</td>\n",
       "      <td>en</td>\n",
       "      <td>359</td>\n",
       "    </tr>\n",
       "  </tbody>\n",
       "</table>\n",
       "</div>"
      ],
      "text/plain": [
       "                                            profile_url post_url  \\\n",
       "1298  https://www.linkedin.com/in/andrey-mashukov/re...      NaN   \n",
       "9422          https://www.linkedin.com/in/alexsvetlakov      NaN   \n",
       "8310  https://www.linkedin.com/in/andrrey/recent-act...      NaN   \n",
       "7269  https://www.linkedin.com/in/anna-pronina/recen...      NaN   \n",
       "7412  https://www.linkedin.com/in/cyrilbialo/recent-...      NaN   \n",
       "\n",
       "                                                   post reactions_cnt  \\\n",
       "1298  Hello everyone, we are #open for new #opportun...             3   \n",
       "9422  Remember, you're choosing specific frameworks ...           NaN   \n",
       "8310  DXC Technology today announced an agreement to...             2   \n",
       "7269  As you can see, our team is visiting a lot of ...            17   \n",
       "7412  Russian representative on miss universe contes...         2,019   \n",
       "\n",
       "      comments_cnt  reposts_cnt language  post_len  \n",
       "1298           1.0          0.0       en       467  \n",
       "9422           NaN          NaN       en       142  \n",
       "8310           0.0          0.0       en       260  \n",
       "7269           0.0          0.0       en      1141  \n",
       "7412          97.0        221.0       en       359  "
      ]
     },
     "execution_count": 34,
     "metadata": {},
     "output_type": "execute_result"
    }
   ],
   "source": [
    "posts_en = posts.query('language == \"en\"')\n",
    "posts_en.sample(5)"
   ]
  },
  {
   "cell_type": "code",
   "execution_count": 35,
   "id": "4e468e3e-6bbf-43da-82d0-2410f2bf0406",
   "metadata": {
    "tags": []
   },
   "outputs": [
    {
     "data": {
      "text/html": [
       "<div>\n",
       "<style scoped>\n",
       "    .dataframe tbody tr th:only-of-type {\n",
       "        vertical-align: middle;\n",
       "    }\n",
       "\n",
       "    .dataframe tbody tr th {\n",
       "        vertical-align: top;\n",
       "    }\n",
       "\n",
       "    .dataframe thead th {\n",
       "        text-align: right;\n",
       "    }\n",
       "</style>\n",
       "<table border=\"1\" class=\"dataframe\">\n",
       "  <thead>\n",
       "    <tr style=\"text-align: right;\">\n",
       "      <th></th>\n",
       "      <th>profile_url</th>\n",
       "      <th>post_url</th>\n",
       "      <th>post</th>\n",
       "      <th>reactions_cnt</th>\n",
       "      <th>comments_cnt</th>\n",
       "      <th>reposts_cnt</th>\n",
       "      <th>language</th>\n",
       "      <th>post_len</th>\n",
       "    </tr>\n",
       "  </thead>\n",
       "  <tbody>\n",
       "    <tr>\n",
       "      <th>838</th>\n",
       "      <td>https://www.linkedin.com/in/ordalion/recent-ac...</td>\n",
       "      <td>NaN</td>\n",
       "      <td>Делал тестовое для Тинькофф. В кейсе расписал ...</td>\n",
       "      <td>30</td>\n",
       "      <td>0.0</td>\n",
       "      <td>0.0</td>\n",
       "      <td>ru</td>\n",
       "      <td>181</td>\n",
       "    </tr>\n",
       "    <tr>\n",
       "      <th>2058</th>\n",
       "      <td>https://www.linkedin.com/in/ferrethikky/recent...</td>\n",
       "      <td>NaN</td>\n",
       "      <td>Ветряные мельницы или как работа прóдуктов в «...</td>\n",
       "      <td>11</td>\n",
       "      <td>0.0</td>\n",
       "      <td>0.0</td>\n",
       "      <td>ru</td>\n",
       "      <td>2633</td>\n",
       "    </tr>\n",
       "    <tr>\n",
       "      <th>9027</th>\n",
       "      <td>https://www.linkedin.com/in/misikhin</td>\n",
       "      <td>NaN</td>\n",
       "      <td>Не пропустите вебинар с автором интересной кни...</td>\n",
       "      <td>2</td>\n",
       "      <td>0.0</td>\n",
       "      <td>0.0</td>\n",
       "      <td>ru</td>\n",
       "      <td>72</td>\n",
       "    </tr>\n",
       "    <tr>\n",
       "      <th>2608</th>\n",
       "      <td>https://www.linkedin.com/in/linkwolf/recent-ac...</td>\n",
       "      <td>NaN</td>\n",
       "      <td>Я вот написал новую статью! Получалась очень и...</td>\n",
       "      <td>1</td>\n",
       "      <td>0.0</td>\n",
       "      <td>0.0</td>\n",
       "      <td>ru</td>\n",
       "      <td>270</td>\n",
       "    </tr>\n",
       "    <tr>\n",
       "      <th>3940</th>\n",
       "      <td>https://www.linkedin.com/in/bekuzba/recent-act...</td>\n",
       "      <td>NaN</td>\n",
       "      <td>Бекназар покорил 3 IT-гиганта! Вот это результ...</td>\n",
       "      <td>29</td>\n",
       "      <td>0.0</td>\n",
       "      <td>1.0</td>\n",
       "      <td>ru</td>\n",
       "      <td>975</td>\n",
       "    </tr>\n",
       "  </tbody>\n",
       "</table>\n",
       "</div>"
      ],
      "text/plain": [
       "                                            profile_url post_url  \\\n",
       "838   https://www.linkedin.com/in/ordalion/recent-ac...      NaN   \n",
       "2058  https://www.linkedin.com/in/ferrethikky/recent...      NaN   \n",
       "9027               https://www.linkedin.com/in/misikhin      NaN   \n",
       "2608  https://www.linkedin.com/in/linkwolf/recent-ac...      NaN   \n",
       "3940  https://www.linkedin.com/in/bekuzba/recent-act...      NaN   \n",
       "\n",
       "                                                   post reactions_cnt  \\\n",
       "838   Делал тестовое для Тинькофф. В кейсе расписал ...            30   \n",
       "2058  Ветряные мельницы или как работа прóдуктов в «...            11   \n",
       "9027  Не пропустите вебинар с автором интересной кни...             2   \n",
       "2608  Я вот написал новую статью! Получалась очень и...             1   \n",
       "3940  Бекназар покорил 3 IT-гиганта! Вот это результ...            29   \n",
       "\n",
       "      comments_cnt  reposts_cnt language  post_len  \n",
       "838            0.0          0.0       ru       181  \n",
       "2058           0.0          0.0       ru      2633  \n",
       "9027           0.0          0.0       ru        72  \n",
       "2608           0.0          0.0       ru       270  \n",
       "3940           0.0          1.0       ru       975  "
      ]
     },
     "execution_count": 35,
     "metadata": {},
     "output_type": "execute_result"
    }
   ],
   "source": [
    "posts_ru = posts.query('language == \"ru\"')\n",
    "posts_ru.sample(5)"
   ]
  },
  {
   "cell_type": "markdown",
   "id": "3d0aad53-dfb6-4444-95d8-788ca0340241",
   "metadata": {},
   "source": [
    "# Подготовка текстов"
   ]
  },
  {
   "cell_type": "markdown",
   "id": "b694dfb0-14b2-402f-bb26-61250534130f",
   "metadata": {},
   "source": [
    "Скачаем и загрузим модели (библиотеку spacy предварительно установили)"
   ]
  },
  {
   "cell_type": "code",
   "execution_count": 36,
   "id": "7ca55e07-1499-4381-95bb-12b899c2de0b",
   "metadata": {
    "tags": []
   },
   "outputs": [],
   "source": [
    "! python -m spacy download ru_core_news_sm >> None\n",
    "! python -m spacy download en_core_web_sm >> None"
   ]
  },
  {
   "cell_type": "code",
   "execution_count": 37,
   "id": "df6b953a-cf55-49c6-aa0d-310bc9386d16",
   "metadata": {
    "tags": []
   },
   "outputs": [],
   "source": [
    "model_en = spacy.load('en_core_web_sm', disable=['ner', 'parser'])\n",
    "model_ru = spacy.load('ru_core_news_sm', disable=['ner', 'parser'])"
   ]
  },
  {
   "cell_type": "markdown",
   "id": "bf3e07b9-a102-4afd-bc7f-c6151404f9e9",
   "metadata": {},
   "source": [
    "Сохраним посты на английском и русском языках, как списки"
   ]
  },
  {
   "cell_type": "code",
   "execution_count": 38,
   "id": "bc7a6c5e-48eb-4db9-a74d-d953771556e6",
   "metadata": {
    "tags": []
   },
   "outputs": [],
   "source": [
    "posts_ru_list = list(posts_ru['post'])\n",
    "posts_en_list = list(posts_en['post'])"
   ]
  },
  {
   "cell_type": "markdown",
   "id": "33a42c87-5dea-4289-a3ab-a18a84e70ef5",
   "metadata": {},
   "source": [
    "Лемматизируем посты и сохраним результат в файлы"
   ]
  },
  {
   "cell_type": "code",
   "execution_count": 39,
   "id": "8c3b71f7-d614-43a9-ac70-c77b7d792eac",
   "metadata": {
    "tags": []
   },
   "outputs": [],
   "source": [
    "res_ru = []\n",
    "for doc in model_ru.pipe(posts_ru_list, disable=[\"tagger\", \"parser\"]):\n",
    "    res_ru.append([token.lemma_ for token in doc])\n",
    "    \n",
    "with open(\"lemmas_ru.json\", \"w\") as fid:\n",
    "    json.dump({\"lemmas_ru\": res_ru}, fid)"
   ]
  },
  {
   "cell_type": "code",
   "execution_count": 40,
   "id": "66f62272-23ca-4d74-92d8-a95a603ac899",
   "metadata": {
    "tags": []
   },
   "outputs": [
    {
     "name": "stderr",
     "output_type": "stream",
     "text": [
      "C:\\Dev\\Jupyter\\dist\\pyenv3.10-win64\\Lib\\site-packages\\spacy\\pipeline\\lemmatizer.py:211: UserWarning: [W108] The rule-based lemmatizer did not find POS annotation for one or more tokens. Check that your pipeline includes components that assign token.pos, typically 'tagger'+'attribute_ruler' or 'morphologizer'.\n",
      "  warnings.warn(Warnings.W108)\n"
     ]
    }
   ],
   "source": [
    "res_en = []\n",
    "for doc in model_en.pipe(posts_en_list, disable=[\"tagger\", \"parser\"]):\n",
    "    res_en.append([token.lemma_ for token in doc])\n",
    "    \n",
    "with open(\"lemmas_en.json\", \"w\") as fid:\n",
    "    json.dump({\"lemmas_en\": res_en}, fid)"
   ]
  },
  {
   "cell_type": "markdown",
   "id": "83658d6d-e2d0-419a-96c1-f31e848a2f92",
   "metadata": {},
   "source": [
    "Проконтролируем, что получилось."
   ]
  },
  {
   "cell_type": "code",
   "execution_count": 41,
   "id": "493a9575-5f83-4a89-b347-7479fc1f2a21",
   "metadata": {
    "tags": []
   },
   "outputs": [
    {
     "data": {
      "text/plain": [
       "'горящая, вакансия, для, qa!“компания, —, аутсорсер, в, рф, ., можно, платить, в, рф, ,, можно, платить, зарубежом, ., человек, мы, брать, вообще, в, компания, ,, не, только, на, проект, ., основный, работа, вести, в, область, life, sciences, ., английский, ,, дмс, при, полный, занятость, ,, и, прочие, приятный, бонус, ., Конкретно, на, это, проекте:1, ., нужный, приличный, английский.2, ., работа, по, график, восточный, побережье, (, c, 15/16, по, москва, до, 23/24).3, ., pixel, perfect, тестирование, сайтов.4, ., процесс, на, проект, ещё, выстраиваться, ,, пока, весь, тестирование, ручной, ,, в, перспектива, следующий, квартал, -, два, —, добавить, автоматизацию.5, ., искать, опытный, джуна, или, начинать, миддла, ., ”от, меня, :, оплата, достойный, ,, компания, классный, ,, резюме, присылать, мне, в, телеграм, @shharikova, ,, желательный, на, английский, ., upd, :, поиск, завершить, ,, спасибо, весь, ,, кто, прислать, резюме!#qa, #, lifesciences'"
      ]
     },
     "execution_count": 41,
     "metadata": {},
     "output_type": "execute_result"
    }
   ],
   "source": [
    "\", \".join(res_ru[np.random.randint(len(res_ru))])"
   ]
  },
  {
   "cell_type": "code",
   "execution_count": 42,
   "id": "aac2f969-9eaf-4d9d-8059-4c3a8f111f25",
   "metadata": {
    "tags": []
   },
   "outputs": [
    {
     "data": {
      "text/plain": [
       "'#, machinelearning, #, robotics, #, ai'"
      ]
     },
     "execution_count": 42,
     "metadata": {},
     "output_type": "execute_result"
    }
   ],
   "source": [
    "\", \".join(res_en[np.random.randint(len(res_en))])"
   ]
  },
  {
   "cell_type": "markdown",
   "id": "95e1301e-4bf7-4933-aa6a-022aec1d0a76",
   "metadata": {},
   "source": [
    "Остаётся констатировать, что лемматизация прошла успешно. Почистим тексты:"
   ]
  },
  {
   "cell_type": "code",
   "execution_count": 43,
   "id": "55290b96-a443-469d-880d-3ba9ecfdc171",
   "metadata": {
    "tags": []
   },
   "outputs": [],
   "source": [
    "word_pattern_ru = re.compile(\"^[а-я]*$\")\n",
    "word_pattern_en = re.compile(\"^[a-z]*$\")"
   ]
  },
  {
   "cell_type": "code",
   "execution_count": 44,
   "id": "91a74df7-7542-4a84-97ba-d82ad358e55b",
   "metadata": {
    "tags": []
   },
   "outputs": [],
   "source": [
    "def remove_symbols_ru(doc):\n",
    "    return [token for token in doc if word_pattern_ru.match(token)]\n",
    "\n",
    "def remove_symbols_en(doc):\n",
    "    return [token for token in doc if word_pattern_en.match(token)]"
   ]
  },
  {
   "cell_type": "code",
   "execution_count": 45,
   "id": "52fb9b51-7419-46d6-896f-78a8a55b3a7b",
   "metadata": {
    "tags": []
   },
   "outputs": [],
   "source": [
    "corpus_ru = list(map(remove_symbols_ru, res_ru))\n",
    "corpus_en = list(map(remove_symbols_en, res_en))"
   ]
  },
  {
   "cell_type": "code",
   "execution_count": 46,
   "id": "af5499d6-ce8a-4934-a967-9e254517d71b",
   "metadata": {
    "tags": []
   },
   "outputs": [
    {
     "data": {
      "text/plain": [
       "'делиться, кейс, наш, клиент, по, автоматизация, контакт, центр, на, основа, решение, о, том, чтобы, автоматизировать, контакт, центр, написать, мне, в, личный, вск'"
      ]
     },
     "execution_count": 46,
     "metadata": {},
     "output_type": "execute_result"
    }
   ],
   "source": [
    "\", \".join(corpus_ru[np.random.randint(len(corpus_ru))])"
   ]
  },
  {
   "cell_type": "code",
   "execution_count": 47,
   "id": "d793693b-cf4a-4a9c-860e-dd4b30a07d58",
   "metadata": {
    "tags": []
   },
   "outputs": [
    {
     "data": {
      "text/plain": [
       "'attention, everyone, today, i, want, to, talk, about, my, experience, in, blockchain, i, started, working, on, blockchain, related, projects, at, the, end, of, at, that, time, i, was, just, learning, all, the, possibilities, of, this, technology, and, looked, at, new, trends, with, skepticism, just, then, i, was, offered, a, salary, in, bitcoins, namely, btc, about, per, btc, for, a, month, of, work, and, heck, i, could, become, a, millionaire, been, a, long, time, since, then, and, amazing, things, have, been, happening, before, my, eyes, i, participated, in, ico, myself, then, slowly, moved, on, to, sto, and, so, on, i, saw, the, birth, of, nft, dao, defi, not, to, mention, giants, like, binance, and, coinbase, i, accumulated, hundreds, of, contacts, over, the, years, and, probably, some, of, the, most, fun, memories, from, trips, to, finland, to, business, trips, to, singapore, and, the, states, i, ca, even, believe, that, it, been, years, we, go, side, by, side, with, crypto, we, currently, have, completed, projects, to, talk, about, and, a, few, of, them, are, still, under, nda, if, you, need, development, or, are, thinking, of, launching, your, own, startup, we, will, be, happy, to, help, you, not, only, with, development, but, also, with, marketing, financial, models, and, dex, rust, solidity, infura, waffle, truffle, vyper, technology, development, projects, help, like, experience, learning, startup, work, business'"
      ]
     },
     "execution_count": 47,
     "metadata": {},
     "output_type": "execute_result"
    }
   ],
   "source": [
    "\", \".join(corpus_en[np.random.randint(len(corpus_en))])"
   ]
  },
  {
   "cell_type": "markdown",
   "id": "b0df9716-4537-4159-b4fe-756b3e3d696d",
   "metadata": {},
   "source": [
    "Отличный результат. Удалим стоп-слова и будет идеально."
   ]
  },
  {
   "cell_type": "markdown",
   "id": "43403787-4601-4c4c-80f7-601a94b7a142",
   "metadata": {},
   "source": [
    "# Векторизация текстов"
   ]
  },
  {
   "cell_type": "markdown",
   "id": "e339bbd0-0479-4e78-b7c1-b6739f6831c8",
   "metadata": {},
   "source": [
    " Подгружаем и формируем список стоп-слов"
   ]
  },
  {
   "cell_type": "code",
   "execution_count": 48,
   "id": "de60acd3-ffea-4d8e-a0ef-684fe1c2742a",
   "metadata": {
    "tags": []
   },
   "outputs": [],
   "source": [
    "stop_words_ru = stopwords.words('russian')\n",
    "stop_words_en = stopwords.words('english')\n",
    "\n",
    "# сформируем единый список для обоих языков - это не помешает работе векторайзера\n",
    "stop_words = stop_words_ru + stop_words_en"
   ]
  },
  {
   "cell_type": "markdown",
   "id": "478f5b05-712f-44f6-b699-cf80dba09b84",
   "metadata": {
    "tags": []
   },
   "source": [
    "Объединим отдельные слова обратно в тексты и проконтролируем результат"
   ]
  },
  {
   "cell_type": "code",
   "execution_count": 49,
   "id": "a7f6dad6-40f6-416c-aa18-f94a2df5d6ab",
   "metadata": {
    "tags": []
   },
   "outputs": [
    {
     "data": {
      "text/plain": [
       "['i hiring know anyone who might be interested',\n",
       " 'hello everyone i ecstatic to announce my new role as ceo of metakratos studio a seasoned it firm known for delivering advanced software solutions across various industries such as finance it blockchain industrial automatization security edtech and advertising with years of experience in empowering businesses of all sizes to achieve rapid growth and effortless scaling metakratos studio has built a reputation for excellence and innovation i honored to be leading this incredible team and eager to continue the company legacy of pushing the boundaries of technology as we embark on this journey together i look forward to tackling new challenges seizing opportunities and fostering a culture of collaboration and creativity within our team i committed to ensuring that metakratos studio remains at the forefront of innovation and continues to make a lasting impact on the industries we serve i invite you to follow the metakratos studio community on linkedin to stay updated on our latest news insights and accomplishments thank you for your support as i step into this new role let us connect and collaborate to drive innovation growth and success for businesses worldwide newbeginnings ceo metakratosstudio technology innovation softwaredevelopment businessgrowth software success community',\n",
       " 'elon musk sending this tweet through space via starlink satellite']"
      ]
     },
     "execution_count": 49,
     "metadata": {},
     "output_type": "execute_result"
    }
   ],
   "source": [
    "docs_en = [\" \".join(tokens) for tokens in corpus_en]\n",
    "docs_en[:3]"
   ]
  },
  {
   "cell_type": "code",
   "execution_count": 50,
   "id": "b0e60ebd-cc39-4c01-811f-e194c7a9bac0",
   "metadata": {
    "tags": []
   },
   "outputs": [
    {
     "data": {
      "text/plain": [
       "['кстати говорить теперь подкаст миражи доступный в соцсеть вконтакте наконец разобраться как туда прикрутить мираж',\n",
       " 'хэй честной народ искать векторный иллюстратор на проект с возможный длительный сотрудничество по итог можно уровень иллюстрация не плохой чем в пример ты уметь так рисовать напиши мне в личка иллюстрация проект',\n",
       " 'новый пост подкаст мираж на весь платформа в аудио инстаграм а патреоне психология психологиячеловека психологияжизни психологияличности личностныйрост подкаст подкастмиражи маркетинг осознанность мысль мысливслух установка влияние подсознаниеиспользованные звук музыка и картинка аудиоцитата из фильм формула любовь марка']"
      ]
     },
     "execution_count": 50,
     "metadata": {},
     "output_type": "execute_result"
    }
   ],
   "source": [
    "docs_ru = [\" \".join(tokens) for tokens in corpus_ru]\n",
    "docs_ru[:3]"
   ]
  },
  {
   "cell_type": "markdown",
   "id": "c86549e5-5b81-4ec4-947a-f56e2ef2e4e1",
   "metadata": {},
   "source": [
    "Успешно. Векторизируем тексты"
   ]
  },
  {
   "cell_type": "code",
   "execution_count": 51,
   "id": "dff4a986-5f92-4b25-8ad8-5fcd66aa84d0",
   "metadata": {
    "tags": []
   },
   "outputs": [],
   "source": [
    "# создаём \"векторизатор\" :-)\n",
    "tfidf = TfidfVectorizer(stop_words=stop_words, min_df=10, max_df=0.9)"
   ]
  },
  {
   "cell_type": "markdown",
   "id": "061285d5-0aef-4c02-95a3-17600f1394fd",
   "metadata": {},
   "source": [
    "Векторизируем тексты на двух языках, создадим список векторизированных слов и проконтролируем результат"
   ]
  },
  {
   "cell_type": "code",
   "execution_count": 52,
   "id": "9655d949-7b88-450a-a2fb-ea7e9e15db53",
   "metadata": {
    "tags": []
   },
   "outputs": [
    {
     "data": {
      "text/plain": [
       "(2468, 1929)"
      ]
     },
     "execution_count": 52,
     "metadata": {},
     "output_type": "execute_result"
    }
   ],
   "source": [
    "x_ru = tfidf.fit_transform(docs_ru)\n",
    "id2word_ru = {i: token for i, token in enumerate(tfidf.get_feature_names_out())}\n",
    "\n",
    "x_ru.shape"
   ]
  },
  {
   "cell_type": "code",
   "execution_count": 53,
   "id": "72cdaca6-9922-4fbe-9679-c30718cfa749",
   "metadata": {
    "tags": []
   },
   "outputs": [
    {
     "data": {
      "text/plain": [
       "(6056, 3648)"
      ]
     },
     "execution_count": 53,
     "metadata": {},
     "output_type": "execute_result"
    }
   ],
   "source": [
    "x_en = tfidf.fit_transform(docs_en)\n",
    "id2word_en = {i: token for i, token in enumerate(tfidf.get_feature_names_out())}\n",
    "\n",
    "x_en.shape"
   ]
  },
  {
   "cell_type": "markdown",
   "id": "1a8ad8f8-0e6a-4cda-86ef-8e23eede68a3",
   "metadata": {},
   "source": [
    "# LDA"
   ]
  },
  {
   "cell_type": "markdown",
   "id": "0be8186e-8143-408a-a74f-d5aff3a8f1f1",
   "metadata": {},
   "source": [
    "Сформируем топ-100 тем"
   ]
  },
  {
   "cell_type": "code",
   "execution_count": 54,
   "id": "58f079e0-0845-4b3e-8e47-d4791c4224ee",
   "metadata": {
    "tags": []
   },
   "outputs": [],
   "source": [
    "n_topics = 100"
   ]
  },
  {
   "cell_type": "code",
   "execution_count": 55,
   "id": "58166cc8-29dc-45d8-8689-c6308846529e",
   "metadata": {
    "tags": []
   },
   "outputs": [
    {
     "data": {
      "text/plain": [
       "(2468, 100)"
      ]
     },
     "execution_count": 55,
     "metadata": {},
     "output_type": "execute_result"
    }
   ],
   "source": [
    "lda_ru = LatentDirichletAllocation(n_components=n_topics, random_state=10723)\n",
    "topics_ru = lda_ru.fit_transform(x_ru)\n",
    "topics_ru.shape"
   ]
  },
  {
   "cell_type": "code",
   "execution_count": 56,
   "id": "1b4dcdc8-0d55-417e-80a3-ccaa9aee31a7",
   "metadata": {
    "tags": []
   },
   "outputs": [
    {
     "data": {
      "text/plain": [
       "(6056, 100)"
      ]
     },
     "execution_count": 56,
     "metadata": {},
     "output_type": "execute_result"
    }
   ],
   "source": [
    "lda_en = LatentDirichletAllocation(n_components=n_topics, random_state=10723)\n",
    "topics_en = lda_en.fit_transform(x_en)\n",
    "topics_en.shape"
   ]
  },
  {
   "cell_type": "markdown",
   "id": "8eb74fea-3e60-48b8-9e13-6a365a3a9deb",
   "metadata": {},
   "source": [
    "# Формирование датафреймов"
   ]
  },
  {
   "cell_type": "markdown",
   "id": "698ed2b0-149d-4040-8a6e-980f1b76c078",
   "metadata": {
    "tags": []
   },
   "source": [
    "Сформируем общие датафреймы для последующего анализа."
   ]
  },
  {
   "cell_type": "code",
   "execution_count": 57,
   "id": "b76eeb40-b135-4a0c-802a-6830caea939c",
   "metadata": {
    "tags": []
   },
   "outputs": [
    {
     "data": {
      "text/html": [
       "<div>\n",
       "<style scoped>\n",
       "    .dataframe tbody tr th:only-of-type {\n",
       "        vertical-align: middle;\n",
       "    }\n",
       "\n",
       "    .dataframe tbody tr th {\n",
       "        vertical-align: top;\n",
       "    }\n",
       "\n",
       "    .dataframe thead th {\n",
       "        text-align: right;\n",
       "    }\n",
       "</style>\n",
       "<table border=\"1\" class=\"dataframe\">\n",
       "  <thead>\n",
       "    <tr style=\"text-align: right;\">\n",
       "      <th></th>\n",
       "      <th>profile_url</th>\n",
       "      <th>post_url</th>\n",
       "      <th>post</th>\n",
       "      <th>reactions_cnt</th>\n",
       "      <th>comments_cnt</th>\n",
       "      <th>reposts_cnt</th>\n",
       "      <th>language</th>\n",
       "      <th>post_len</th>\n",
       "      <th>topic</th>\n",
       "    </tr>\n",
       "  </thead>\n",
       "  <tbody>\n",
       "    <tr>\n",
       "      <th>0</th>\n",
       "      <td>https://www.linkedin.com/in/ali-wodan/recent-a...</td>\n",
       "      <td>NaN</td>\n",
       "      <td>Кстати говоря. Теперь подкаст Миражи доступен ...</td>\n",
       "      <td>1</td>\n",
       "      <td>0.0</td>\n",
       "      <td>0.0</td>\n",
       "      <td>ru</td>\n",
       "      <td>155</td>\n",
       "      <td>39</td>\n",
       "    </tr>\n",
       "    <tr>\n",
       "      <th>1</th>\n",
       "      <td>https://www.linkedin.com/in/ali-wodan/recent-a...</td>\n",
       "      <td>NaN</td>\n",
       "      <td>Хэй честной народ! Ищу векторного иллюстратора...</td>\n",
       "      <td>6</td>\n",
       "      <td>0.0</td>\n",
       "      <td>0.0</td>\n",
       "      <td>ru</td>\n",
       "      <td>486</td>\n",
       "      <td>39</td>\n",
       "    </tr>\n",
       "    <tr>\n",
       "      <th>2</th>\n",
       "      <td>https://www.linkedin.com/in/ali-wodan/recent-a...</td>\n",
       "      <td>NaN</td>\n",
       "      <td>Новый пост подкаста \"Миражи\" на всех платформа...</td>\n",
       "      <td>1</td>\n",
       "      <td>0.0</td>\n",
       "      <td>0.0</td>\n",
       "      <td>ru</td>\n",
       "      <td>614</td>\n",
       "      <td>38</td>\n",
       "    </tr>\n",
       "    <tr>\n",
       "      <th>3</th>\n",
       "      <td>https://www.linkedin.com/in/ali-wodan/recent-a...</td>\n",
       "      <td>NaN</td>\n",
       "      <td>Подкаст Миражи, Эпизод 13Ошибка невозвратных з...</td>\n",
       "      <td>2</td>\n",
       "      <td>0.0</td>\n",
       "      <td>0.0</td>\n",
       "      <td>ru</td>\n",
       "      <td>143</td>\n",
       "      <td>37</td>\n",
       "    </tr>\n",
       "    <tr>\n",
       "      <th>4</th>\n",
       "      <td>https://www.linkedin.com/in/ali-wodan/recent-a...</td>\n",
       "      <td>NaN</td>\n",
       "      <td>Редкий случай, когда считаю правильным распрос...</td>\n",
       "      <td>0</td>\n",
       "      <td>0.0</td>\n",
       "      <td>0.0</td>\n",
       "      <td>ru</td>\n",
       "      <td>326</td>\n",
       "      <td>39</td>\n",
       "    </tr>\n",
       "  </tbody>\n",
       "</table>\n",
       "</div>"
      ],
      "text/plain": [
       "                                         profile_url post_url  \\\n",
       "0  https://www.linkedin.com/in/ali-wodan/recent-a...      NaN   \n",
       "1  https://www.linkedin.com/in/ali-wodan/recent-a...      NaN   \n",
       "2  https://www.linkedin.com/in/ali-wodan/recent-a...      NaN   \n",
       "3  https://www.linkedin.com/in/ali-wodan/recent-a...      NaN   \n",
       "4  https://www.linkedin.com/in/ali-wodan/recent-a...      NaN   \n",
       "\n",
       "                                                post reactions_cnt  \\\n",
       "0  Кстати говоря. Теперь подкаст Миражи доступен ...             1   \n",
       "1  Хэй честной народ! Ищу векторного иллюстратора...             6   \n",
       "2  Новый пост подкаста \"Миражи\" на всех платформа...             1   \n",
       "3  Подкаст Миражи, Эпизод 13Ошибка невозвратных з...             2   \n",
       "4  Редкий случай, когда считаю правильным распрос...             0   \n",
       "\n",
       "   comments_cnt  reposts_cnt language  post_len  topic  \n",
       "0           0.0          0.0       ru       155     39  \n",
       "1           0.0          0.0       ru       486     39  \n",
       "2           0.0          0.0       ru       614     38  \n",
       "3           0.0          0.0       ru       143     37  \n",
       "4           0.0          0.0       ru       326     39  "
      ]
     },
     "execution_count": 57,
     "metadata": {},
     "output_type": "execute_result"
    }
   ],
   "source": [
    "# выбираем наиболее вероятную тему для каждого поста\n",
    "df_topics_ru = pd.DataFrame(topics_ru, index=posts_ru.index).transpose().idxmax()\n",
    "\n",
    "# мерджим с общей таблицей\n",
    "df_posts_ru = posts_ru.merge(pd.Series(df_topics_ru, name='topic'),\n",
    "               left_index=True,\n",
    "               right_index=True).reset_index(drop=True)\n",
    "\n",
    "df_posts_ru.head()"
   ]
  },
  {
   "cell_type": "markdown",
   "id": "3b7d88aa-016c-4cbf-84c8-c6370c83aa3e",
   "metadata": {},
   "source": [
    "С русским языком порядок, теперь английский"
   ]
  },
  {
   "cell_type": "code",
   "execution_count": 58,
   "id": "47cf70bb-974a-473e-9fa8-2ee4bd531f67",
   "metadata": {
    "tags": []
   },
   "outputs": [
    {
     "data": {
      "text/html": [
       "<div>\n",
       "<style scoped>\n",
       "    .dataframe tbody tr th:only-of-type {\n",
       "        vertical-align: middle;\n",
       "    }\n",
       "\n",
       "    .dataframe tbody tr th {\n",
       "        vertical-align: top;\n",
       "    }\n",
       "\n",
       "    .dataframe thead th {\n",
       "        text-align: right;\n",
       "    }\n",
       "</style>\n",
       "<table border=\"1\" class=\"dataframe\">\n",
       "  <thead>\n",
       "    <tr style=\"text-align: right;\">\n",
       "      <th></th>\n",
       "      <th>profile_url</th>\n",
       "      <th>post_url</th>\n",
       "      <th>post</th>\n",
       "      <th>reactions_cnt</th>\n",
       "      <th>comments_cnt</th>\n",
       "      <th>reposts_cnt</th>\n",
       "      <th>language</th>\n",
       "      <th>post_len</th>\n",
       "      <th>topic</th>\n",
       "    </tr>\n",
       "  </thead>\n",
       "  <tbody>\n",
       "    <tr>\n",
       "      <th>0</th>\n",
       "      <td>https://www.linkedin.com/in/ali-wodan/recent-a...</td>\n",
       "      <td>NaN</td>\n",
       "      <td>I’m #hiring. Know anyone who might be interested?</td>\n",
       "      <td>1</td>\n",
       "      <td>0.0</td>\n",
       "      <td>0.0</td>\n",
       "      <td>en</td>\n",
       "      <td>49</td>\n",
       "      <td>11</td>\n",
       "    </tr>\n",
       "    <tr>\n",
       "      <th>1</th>\n",
       "      <td>https://www.linkedin.com/in/ikotow/recent-acti...</td>\n",
       "      <td>NaN</td>\n",
       "      <td>Hello Everyone! I'm ecstatic to announce my ne...</td>\n",
       "      <td>21</td>\n",
       "      <td>1.0</td>\n",
       "      <td>1.0</td>\n",
       "      <td>en</td>\n",
       "      <td>1356</td>\n",
       "      <td>56</td>\n",
       "    </tr>\n",
       "    <tr>\n",
       "      <th>2</th>\n",
       "      <td>https://www.linkedin.com/in/groshev-andrew/rec...</td>\n",
       "      <td>NaN</td>\n",
       "      <td>Elon Musk (@elonmusk) твитнул(а): Sending this...</td>\n",
       "      <td>0</td>\n",
       "      <td>0.0</td>\n",
       "      <td>0.0</td>\n",
       "      <td>en</td>\n",
       "      <td>91</td>\n",
       "      <td>65</td>\n",
       "    </tr>\n",
       "    <tr>\n",
       "      <th>3</th>\n",
       "      <td>https://www.linkedin.com/in/groshev-andrew/rec...</td>\n",
       "      <td>NaN</td>\n",
       "      <td>Wow ! I loved this videohttps://zuzus.tech</td>\n",
       "      <td>0</td>\n",
       "      <td>0.0</td>\n",
       "      <td>0.0</td>\n",
       "      <td>en</td>\n",
       "      <td>42</td>\n",
       "      <td>6</td>\n",
       "    </tr>\n",
       "    <tr>\n",
       "      <th>4</th>\n",
       "      <td>https://www.linkedin.com/in/spasatos/recent-ac...</td>\n",
       "      <td>NaN</td>\n",
       "      <td>I teach \"Data Visualization\" at the Higher Sch...</td>\n",
       "      <td>0</td>\n",
       "      <td>0.0</td>\n",
       "      <td>0.0</td>\n",
       "      <td>en</td>\n",
       "      <td>210</td>\n",
       "      <td>47</td>\n",
       "    </tr>\n",
       "  </tbody>\n",
       "</table>\n",
       "</div>"
      ],
      "text/plain": [
       "                                         profile_url post_url  \\\n",
       "0  https://www.linkedin.com/in/ali-wodan/recent-a...      NaN   \n",
       "1  https://www.linkedin.com/in/ikotow/recent-acti...      NaN   \n",
       "2  https://www.linkedin.com/in/groshev-andrew/rec...      NaN   \n",
       "3  https://www.linkedin.com/in/groshev-andrew/rec...      NaN   \n",
       "4  https://www.linkedin.com/in/spasatos/recent-ac...      NaN   \n",
       "\n",
       "                                                post reactions_cnt  \\\n",
       "0  I’m #hiring. Know anyone who might be interested?             1   \n",
       "1  Hello Everyone! I'm ecstatic to announce my ne...            21   \n",
       "2  Elon Musk (@elonmusk) твитнул(а): Sending this...             0   \n",
       "3         Wow ! I loved this videohttps://zuzus.tech             0   \n",
       "4  I teach \"Data Visualization\" at the Higher Sch...             0   \n",
       "\n",
       "   comments_cnt  reposts_cnt language  post_len  topic  \n",
       "0           0.0          0.0       en        49     11  \n",
       "1           1.0          1.0       en      1356     56  \n",
       "2           0.0          0.0       en        91     65  \n",
       "3           0.0          0.0       en        42      6  \n",
       "4           0.0          0.0       en       210     47  "
      ]
     },
     "execution_count": 58,
     "metadata": {},
     "output_type": "execute_result"
    }
   ],
   "source": [
    "# выбираем наиболее вероятную тему для каждого поста\n",
    "df_topics_en = pd.DataFrame(topics_en, index=posts_en.index).transpose().idxmax()\n",
    "\n",
    "# мерджим с общей таблицей\n",
    "df_posts_en = posts_en.merge(pd.Series(df_topics_en, name='topic'),\n",
    "               left_index=True,\n",
    "               right_index=True).reset_index(drop=True)\n",
    "\n",
    "df_posts_en.head()"
   ]
  },
  {
   "cell_type": "markdown",
   "id": "3f82db1f-43b6-4be4-ba62-188fb260f4f7",
   "metadata": {},
   "source": [
    "Успешно. Поработаем немного с пропусками в данных"
   ]
  },
  {
   "cell_type": "code",
   "execution_count": 59,
   "id": "2f1fba33-cfc6-4793-af19-2335fdfa16a7",
   "metadata": {
    "tags": []
   },
   "outputs": [
    {
     "name": "stdout",
     "output_type": "stream",
     "text": [
      "<class 'pandas.core.frame.DataFrame'>\n",
      "RangeIndex: 6056 entries, 0 to 6055\n",
      "Data columns (total 9 columns):\n",
      " #   Column         Non-Null Count  Dtype  \n",
      "---  ------         --------------  -----  \n",
      " 0   profile_url    6056 non-null   object \n",
      " 1   post_url       49 non-null     object \n",
      " 2   post           6056 non-null   object \n",
      " 3   reactions_cnt  5989 non-null   object \n",
      " 4   comments_cnt   5909 non-null   float64\n",
      " 5   reposts_cnt    5872 non-null   float64\n",
      " 6   language       6056 non-null   object \n",
      " 7   post_len       6056 non-null   int64  \n",
      " 8   topic          6056 non-null   int64  \n",
      "dtypes: float64(2), int64(2), object(5)\n",
      "memory usage: 425.9+ KB\n",
      "None\n",
      "\n",
      "\n",
      "<class 'pandas.core.frame.DataFrame'>\n",
      "RangeIndex: 2468 entries, 0 to 2467\n",
      "Data columns (total 9 columns):\n",
      " #   Column         Non-Null Count  Dtype  \n",
      "---  ------         --------------  -----  \n",
      " 0   profile_url    2468 non-null   object \n",
      " 1   post_url       42 non-null     object \n",
      " 2   post           2468 non-null   object \n",
      " 3   reactions_cnt  2449 non-null   object \n",
      " 4   comments_cnt   2373 non-null   float64\n",
      " 5   reposts_cnt    2325 non-null   float64\n",
      " 6   language       2468 non-null   object \n",
      " 7   post_len       2468 non-null   int64  \n",
      " 8   topic          2468 non-null   int64  \n",
      "dtypes: float64(2), int64(2), object(5)\n",
      "memory usage: 173.7+ KB\n"
     ]
    }
   ],
   "source": [
    "print(df_posts_en.info())\n",
    "print('\\n')\n",
    "df_posts_ru.info()"
   ]
  },
  {
   "cell_type": "markdown",
   "id": "37bcd737-992d-4540-ad31-d118b039f519",
   "metadata": {},
   "source": [
    "видно, что есть пропуски. Заполним их учитывая логику парсинга. Пропуски в количестве реакций и комментариев означают их отсутствие - заполним нулями. Ссылки на посты тоже не всем удалось собрать. Тоже можно заполнить нулём со смыслом - \"отсутствует\""
   ]
  },
  {
   "cell_type": "code",
   "execution_count": 60,
   "id": "7d4b89e9-a4a2-4416-82e4-fc6dc8aa9ea4",
   "metadata": {
    "tags": []
   },
   "outputs": [],
   "source": [
    "df_posts_ru = df_posts_ru.fillna(0)\n",
    "df_posts_en = df_posts_en.fillna(0)"
   ]
  },
  {
   "cell_type": "code",
   "execution_count": 61,
   "id": "825a4da5-a9a1-44f1-8c24-2632761b16d9",
   "metadata": {
    "tags": []
   },
   "outputs": [
    {
     "name": "stdout",
     "output_type": "stream",
     "text": [
      "<class 'pandas.core.frame.DataFrame'>\n",
      "RangeIndex: 6056 entries, 0 to 6055\n",
      "Data columns (total 9 columns):\n",
      " #   Column         Non-Null Count  Dtype  \n",
      "---  ------         --------------  -----  \n",
      " 0   profile_url    6056 non-null   object \n",
      " 1   post_url       6056 non-null   object \n",
      " 2   post           6056 non-null   object \n",
      " 3   reactions_cnt  6056 non-null   object \n",
      " 4   comments_cnt   6056 non-null   float64\n",
      " 5   reposts_cnt    6056 non-null   float64\n",
      " 6   language       6056 non-null   object \n",
      " 7   post_len       6056 non-null   int64  \n",
      " 8   topic          6056 non-null   int64  \n",
      "dtypes: float64(2), int64(2), object(5)\n",
      "memory usage: 425.9+ KB\n",
      "None\n",
      "\n",
      "\n",
      "<class 'pandas.core.frame.DataFrame'>\n",
      "RangeIndex: 2468 entries, 0 to 2467\n",
      "Data columns (total 9 columns):\n",
      " #   Column         Non-Null Count  Dtype  \n",
      "---  ------         --------------  -----  \n",
      " 0   profile_url    2468 non-null   object \n",
      " 1   post_url       2468 non-null   object \n",
      " 2   post           2468 non-null   object \n",
      " 3   reactions_cnt  2468 non-null   object \n",
      " 4   comments_cnt   2468 non-null   float64\n",
      " 5   reposts_cnt    2468 non-null   float64\n",
      " 6   language       2468 non-null   object \n",
      " 7   post_len       2468 non-null   int64  \n",
      " 8   topic          2468 non-null   int64  \n",
      "dtypes: float64(2), int64(2), object(5)\n",
      "memory usage: 173.7+ KB\n"
     ]
    }
   ],
   "source": [
    "print(df_posts_en.info())\n",
    "print('\\n')\n",
    "df_posts_ru.info()"
   ]
  },
  {
   "cell_type": "markdown",
   "id": "115fdc94-864f-4e2a-b2b7-c399efad55bf",
   "metadata": {},
   "source": [
    "Замена прошла успешно. Посмотрим на результат визуально."
   ]
  },
  {
   "cell_type": "code",
   "execution_count": 62,
   "id": "a2d325c6-6769-4bd4-b821-a3998aaa2709",
   "metadata": {
    "tags": []
   },
   "outputs": [
    {
     "data": {
      "text/html": [
       "<div>\n",
       "<style scoped>\n",
       "    .dataframe tbody tr th:only-of-type {\n",
       "        vertical-align: middle;\n",
       "    }\n",
       "\n",
       "    .dataframe tbody tr th {\n",
       "        vertical-align: top;\n",
       "    }\n",
       "\n",
       "    .dataframe thead th {\n",
       "        text-align: right;\n",
       "    }\n",
       "</style>\n",
       "<table border=\"1\" class=\"dataframe\">\n",
       "  <thead>\n",
       "    <tr style=\"text-align: right;\">\n",
       "      <th></th>\n",
       "      <th>profile_url</th>\n",
       "      <th>post_url</th>\n",
       "      <th>post</th>\n",
       "      <th>reactions_cnt</th>\n",
       "      <th>comments_cnt</th>\n",
       "      <th>reposts_cnt</th>\n",
       "      <th>language</th>\n",
       "      <th>post_len</th>\n",
       "      <th>topic</th>\n",
       "    </tr>\n",
       "  </thead>\n",
       "  <tbody>\n",
       "    <tr>\n",
       "      <th>1992</th>\n",
       "      <td>https://www.linkedin.com/in/serhii-verzhbytsky...</td>\n",
       "      <td>0</td>\n",
       "      <td>From this article, you can learn what will be ...</td>\n",
       "      <td>9</td>\n",
       "      <td>0.0</td>\n",
       "      <td>0.0</td>\n",
       "      <td>en</td>\n",
       "      <td>577</td>\n",
       "      <td>7</td>\n",
       "    </tr>\n",
       "    <tr>\n",
       "      <th>3285</th>\n",
       "      <td>https://www.linkedin.com/in/albert-akhmetov/re...</td>\n",
       "      <td>0</td>\n",
       "      <td>I think it's a good time to take a read, that ...</td>\n",
       "      <td>1</td>\n",
       "      <td>0.0</td>\n",
       "      <td>0.0</td>\n",
       "      <td>en</td>\n",
       "      <td>85</td>\n",
       "      <td>20</td>\n",
       "    </tr>\n",
       "    <tr>\n",
       "      <th>3175</th>\n",
       "      <td>https://www.linkedin.com/in/artyommartynov/rec...</td>\n",
       "      <td>0</td>\n",
       "      <td>That is the greatest way how IT companies and ...</td>\n",
       "      <td>6</td>\n",
       "      <td>2.0</td>\n",
       "      <td>0.0</td>\n",
       "      <td>en</td>\n",
       "      <td>372</td>\n",
       "      <td>7</td>\n",
       "    </tr>\n",
       "    <tr>\n",
       "      <th>6043</th>\n",
       "      <td>https://www.linkedin.com/in/alexey-mamaev-ba59...</td>\n",
       "      <td>0</td>\n",
       "      <td>I’m happy to share that I’m starting a new pos...</td>\n",
       "      <td>9.0</td>\n",
       "      <td>0.0</td>\n",
       "      <td>0.0</td>\n",
       "      <td>en</td>\n",
       "      <td>104</td>\n",
       "      <td>28</td>\n",
       "    </tr>\n",
       "    <tr>\n",
       "      <th>2031</th>\n",
       "      <td>https://www.linkedin.com/in/ilyapl/recent-acti...</td>\n",
       "      <td>0</td>\n",
       "      <td>Night reflections about stages that teams pass...</td>\n",
       "      <td>5</td>\n",
       "      <td>0.0</td>\n",
       "      <td>0.0</td>\n",
       "      <td>en</td>\n",
       "      <td>1119</td>\n",
       "      <td>7</td>\n",
       "    </tr>\n",
       "  </tbody>\n",
       "</table>\n",
       "</div>"
      ],
      "text/plain": [
       "                                            profile_url post_url  \\\n",
       "1992  https://www.linkedin.com/in/serhii-verzhbytsky...        0   \n",
       "3285  https://www.linkedin.com/in/albert-akhmetov/re...        0   \n",
       "3175  https://www.linkedin.com/in/artyommartynov/rec...        0   \n",
       "6043  https://www.linkedin.com/in/alexey-mamaev-ba59...        0   \n",
       "2031  https://www.linkedin.com/in/ilyapl/recent-acti...        0   \n",
       "\n",
       "                                                   post reactions_cnt  \\\n",
       "1992  From this article, you can learn what will be ...             9   \n",
       "3285  I think it's a good time to take a read, that ...             1   \n",
       "3175  That is the greatest way how IT companies and ...             6   \n",
       "6043  I’m happy to share that I’m starting a new pos...           9.0   \n",
       "2031  Night reflections about stages that teams pass...             5   \n",
       "\n",
       "      comments_cnt  reposts_cnt language  post_len  topic  \n",
       "1992           0.0          0.0       en       577      7  \n",
       "3285           0.0          0.0       en        85     20  \n",
       "3175           2.0          0.0       en       372      7  \n",
       "6043           0.0          0.0       en       104     28  \n",
       "2031           0.0          0.0       en      1119      7  "
      ]
     },
     "metadata": {},
     "output_type": "display_data"
    },
    {
     "name": "stdout",
     "output_type": "stream",
     "text": [
      "\n",
      "\n"
     ]
    },
    {
     "data": {
      "text/html": [
       "<div>\n",
       "<style scoped>\n",
       "    .dataframe tbody tr th:only-of-type {\n",
       "        vertical-align: middle;\n",
       "    }\n",
       "\n",
       "    .dataframe tbody tr th {\n",
       "        vertical-align: top;\n",
       "    }\n",
       "\n",
       "    .dataframe thead th {\n",
       "        text-align: right;\n",
       "    }\n",
       "</style>\n",
       "<table border=\"1\" class=\"dataframe\">\n",
       "  <thead>\n",
       "    <tr style=\"text-align: right;\">\n",
       "      <th></th>\n",
       "      <th>profile_url</th>\n",
       "      <th>post_url</th>\n",
       "      <th>post</th>\n",
       "      <th>reactions_cnt</th>\n",
       "      <th>comments_cnt</th>\n",
       "      <th>reposts_cnt</th>\n",
       "      <th>language</th>\n",
       "      <th>post_len</th>\n",
       "      <th>topic</th>\n",
       "    </tr>\n",
       "  </thead>\n",
       "  <tbody>\n",
       "    <tr>\n",
       "      <th>2091</th>\n",
       "      <td>https://www.linkedin.com/in/elminaliev/recent-...</td>\n",
       "      <td>0</td>\n",
       "      <td>Weekly review of tech and business world, поех...</td>\n",
       "      <td>18</td>\n",
       "      <td>2.0</td>\n",
       "      <td>0.0</td>\n",
       "      <td>ru</td>\n",
       "      <td>2686</td>\n",
       "      <td>39</td>\n",
       "    </tr>\n",
       "    <tr>\n",
       "      <th>272</th>\n",
       "      <td>https://www.linkedin.com/in/olegisit/recent-ac...</td>\n",
       "      <td>0</td>\n",
       "      <td>Коллеги, нужна консультация людей, имеющих усп...</td>\n",
       "      <td>4</td>\n",
       "      <td>3.0</td>\n",
       "      <td>0.0</td>\n",
       "      <td>ru</td>\n",
       "      <td>341</td>\n",
       "      <td>39</td>\n",
       "    </tr>\n",
       "    <tr>\n",
       "      <th>2077</th>\n",
       "      <td>https://www.linkedin.com/in/fedor-malyshko/rec...</td>\n",
       "      <td>0</td>\n",
       "      <td>Всем привет.Хочу поделиться интересными идеями...</td>\n",
       "      <td>10</td>\n",
       "      <td>2.0</td>\n",
       "      <td>0.0</td>\n",
       "      <td>ru</td>\n",
       "      <td>1891</td>\n",
       "      <td>56</td>\n",
       "    </tr>\n",
       "    <tr>\n",
       "      <th>1691</th>\n",
       "      <td>https://www.linkedin.com/in/ruslan-kochubarov/...</td>\n",
       "      <td>0</td>\n",
       "      <td>📣 Подборка сайтиков номер 7!Новая неделя начин...</td>\n",
       "      <td>15</td>\n",
       "      <td>0.0</td>\n",
       "      <td>0.0</td>\n",
       "      <td>ru</td>\n",
       "      <td>1126</td>\n",
       "      <td>24</td>\n",
       "    </tr>\n",
       "    <tr>\n",
       "      <th>1532</th>\n",
       "      <td>https://www.linkedin.com/in/ekaterina-khoruzhe...</td>\n",
       "      <td>0</td>\n",
       "      <td>Когда необходим аудит приложения и процессов?Е...</td>\n",
       "      <td>1</td>\n",
       "      <td>0.0</td>\n",
       "      <td>0.0</td>\n",
       "      <td>ru</td>\n",
       "      <td>634</td>\n",
       "      <td>56</td>\n",
       "    </tr>\n",
       "  </tbody>\n",
       "</table>\n",
       "</div>"
      ],
      "text/plain": [
       "                                            profile_url post_url  \\\n",
       "2091  https://www.linkedin.com/in/elminaliev/recent-...        0   \n",
       "272   https://www.linkedin.com/in/olegisit/recent-ac...        0   \n",
       "2077  https://www.linkedin.com/in/fedor-malyshko/rec...        0   \n",
       "1691  https://www.linkedin.com/in/ruslan-kochubarov/...        0   \n",
       "1532  https://www.linkedin.com/in/ekaterina-khoruzhe...        0   \n",
       "\n",
       "                                                   post reactions_cnt  \\\n",
       "2091  Weekly review of tech and business world, поех...            18   \n",
       "272   Коллеги, нужна консультация людей, имеющих усп...             4   \n",
       "2077  Всем привет.Хочу поделиться интересными идеями...            10   \n",
       "1691  📣 Подборка сайтиков номер 7!Новая неделя начин...            15   \n",
       "1532  Когда необходим аудит приложения и процессов?Е...             1   \n",
       "\n",
       "      comments_cnt  reposts_cnt language  post_len  topic  \n",
       "2091           2.0          0.0       ru      2686     39  \n",
       "272            3.0          0.0       ru       341     39  \n",
       "2077           2.0          0.0       ru      1891     56  \n",
       "1691           0.0          0.0       ru      1126     24  \n",
       "1532           0.0          0.0       ru       634     56  "
      ]
     },
     "execution_count": 62,
     "metadata": {},
     "output_type": "execute_result"
    }
   ],
   "source": [
    "display(df_posts_en.sample(5))\n",
    "print('\\n')\n",
    "df_posts_ru.sample(5)"
   ]
  },
  {
   "cell_type": "markdown",
   "id": "14c977d3-7650-43ce-93d2-a18b35b4de2b",
   "metadata": {},
   "source": [
    "Визуально всё в порядке."
   ]
  },
  {
   "cell_type": "markdown",
   "id": "5c9fb4ac-e7b5-4988-a11f-ab1448373cc7",
   "metadata": {},
   "source": [
    "Выделим топ-10 популярных тем для русскоязычных и англоязычных постов и построим иллюстрирующие популярность графики"
   ]
  },
  {
   "cell_type": "code",
   "execution_count": 129,
   "id": "006a8fb3-45dc-408c-82e9-39784b8b0151",
   "metadata": {
    "tags": []
   },
   "outputs": [
    {
     "data": {
      "image/png": "[encoded data removed]",
      "text/plain": [
       "<Figure size 640x480 with 1 Axes>"
      ]
     },
     "metadata": {},
     "output_type": "display_data"
    }
   ],
   "source": [
    "top10topic_ru = df_posts_ru['topic'].value_counts().head(10)\n",
    "sns.barplot(x=top10topic_ru.index, y=top10topic_ru.values, order=top10topic_ru.index).set_title('ТОП-10 тем на русском языке')\n",
    "plt.xticks(rotation=90)\n",
    "plt.show()"
   ]
  },
  {
   "cell_type": "code",
   "execution_count": 130,
   "id": "428d28ea-0a88-455a-b874-455ab834446c",
   "metadata": {
    "tags": []
   },
   "outputs": [
    {
     "data": {
      "image/png": "[encoded data removed]",
      "text/plain": [
       "<Figure size 640x480 with 1 Axes>"
      ]
     },
     "metadata": {},
     "output_type": "display_data"
    }
   ],
   "source": [
    "top10topic_en = df_posts_en['topic'].value_counts().head(10)\n",
    "sns.barplot(x=top10topic_en.index, y=top10topic_en.values, order=top10topic_en.index).set_title('ТОП-10 тем на английском языке')\n",
    "plt.xticks(rotation=90)\n",
    "plt.show()"
   ]
  },
  {
   "cell_type": "markdown",
   "id": "ea031784-9acf-4a05-8159-738e6bdea2c8",
   "metadata": {},
   "source": [
    "# Формулирование топ-10 тем постов"
   ]
  },
  {
   "cell_type": "markdown",
   "id": "5698734d-484d-4545-b9d5-3c88446be6c3",
   "metadata": {},
   "source": [
    "Номера тем не дают нам никакой информации. Сформулируем их по-человечески. А для этого посмотрим ключевые слова и типичные тексты"
   ]
  },
  {
   "cell_type": "markdown",
   "id": "eb65008e-361c-496a-ad6d-b24d18bd990b",
   "metadata": {},
   "source": [
    "## Ключевые слова и типичные статьи для топ-10 тем"
   ]
  },
  {
   "cell_type": "markdown",
   "id": "6a5eedcd-df4c-49df-95aa-03f777d7bf4d",
   "metadata": {},
   "source": [
    "Предварительно создадим списки с номерами тем для последующего создания словарей"
   ]
  },
  {
   "cell_type": "code",
   "execution_count": 65,
   "id": "f2fffbb2-3040-4cce-96ee-ef600e35d3bf",
   "metadata": {
    "tags": []
   },
   "outputs": [],
   "source": [
    "top10list_ru = top10topic_ru.index\n",
    "top10list_en = top10topic_en.index"
   ]
  },
  {
   "cell_type": "markdown",
   "id": "9cca60a7-b1b6-4315-afb7-2ea213dc8bb5",
   "metadata": {
    "tags": []
   },
   "source": [
    "Взглянем на ключевые слова по каждой теме. Для этого напишем функцию"
   ]
  },
  {
   "cell_type": "code",
   "execution_count": 66,
   "id": "d0513aa4-c544-4657-9f1a-9c686ea2146d",
   "metadata": {
    "tags": []
   },
   "outputs": [],
   "source": [
    "def topic_text(id2word, lda, topics, posts, top10list=top10list_ru):\n",
    "    for topic in top10list:\n",
    "        c = lda.components_[topic, :]\n",
    "        topic_tokens = [id2word.get(token_id) for token_id in np.argsort(c)[-20:]]\n",
    "        doc_id = np.argmax(topics[:, topic])\n",
    "        print(\"Тема\",topic, \":\")\n",
    "        print(\", \".join(topic_tokens))\n",
    "        print(\"***************************\")\n",
    "        print(\"Текст на тему\",topic, \":\")\n",
    "        print(posts.loc[doc_id]['post'])\n",
    "        print(\"\\n \")"
   ]
  },
  {
   "cell_type": "markdown",
   "id": "95e8d73d-3ef2-4e8d-8fa1-cac92333bae2",
   "metadata": {},
   "source": [
    "### Русский язык"
   ]
  },
  {
   "cell_type": "code",
   "execution_count": 67,
   "id": "88d8f794-d1de-421f-b63e-961df0320f66",
   "metadata": {
    "tags": []
   },
   "outputs": [
    {
     "name": "stdout",
     "output_type": "stream",
     "text": [
      "Тема 56 :\n",
      "возможность, работать, команда, которые, новый, ваш, жизнь, первый, проект, время, год, весь, хороший, компания, человек, мочь, работа, наш, свой, это\n",
      "***************************\n",
      "Текст на тему 56 :\n",
      "Новые инструменты на базе AI1. Courseau — делайте курсы из чего угодно. Возьмите что-нибудь сложное: видео на YouTube, научную статью или подкаст и превратите это в увлекательный мини-курс. (https://courseau.co/)2. Playtext — превратите любой текст в аудиокнигу и читай в 2 раза быстрее (https://playtext.app/)3. 60sec — сайт с помощью AI за 60 секунд. (https://60sec.site/)4. Simulai — сгенерируйте свой блог с готовыми статьями. (https://www.simulai.co/)5. Ecoute — транскрипция видео (вебинаров) и подсказки. (https://lnkd.in/edzAKaSp)6. TLDV — расширение для Zoom для выделения важных моментов на созвонах. (https://tldv.io/)7. ChatNode — обучайте ChatGPT на ваших собственных данных. (https://https://www.linkedin.com/redir/general-malware-page?url=www%2echatnode%2eai%2F%298. Hushl —улучшайте свой LinkedIn с помощью AI. (https://www.hushl.ai/)9. Firefly — Photoshop внедряет генеративный искусственный интеллект с добавлением ряда функций на базе Firefly, которые позволят пользователям расширять изображения. (https://lnkd.in/essP5fsc)10. Caspa — бесплатные фотографии реалистичных людей с вашим продуктом. (https://www.caspa.ai/)#ai #aiassistant\n",
      "\n",
      " \n",
      "Тема 39 :\n",
      "разработка, сегодня, приложение, новый, проблема, нам, год, разработчик, вопрос, проект, компания, команда, интересный, весь, свой, очень, работа, это, опыт, нужный\n",
      "***************************\n",
      "Текст на тему 39 :\n",
      "I see, that it is a permanently growing demand for mentoring nowadays. After 10 years working experience I believe that I have enough to share from my expertise. And I'm ready to take 1-2 persons for mentoring for free - just as small New Year Present :)How can I help:- for people who don't find their path yet - I can take an advice and route you to the right direction;- for people who already works in Product/Project management and would like to grow - we will find your points of growth;- for people who is already grown but met some challenging issues  - we can discuss and have a brainstorm together.Format: 3-4 one-hour sessions + support in chat.You are welcome!Вижу, что сильно возрос запрос на менторинг, и я подумала - а почему нет? Спустя 10 лет опыта мне есть, чем поделиться. Готова взять 1-2 человек на менторинг в качестве новогодней акции бесплатно!Чем я могу помочь:- для тех, кто ещё не нашёл своё призвание - подскажу и направлю, где вы сможете применить свои способности и навыки;- для тех, кто уже работает в продуктовом или проджектовом менеджменте и хочет расти - вместе найдём ваши точки роста;- для тех, кто уже вырос, но столкнулся со сложными задачами - я могу обсудить и побрейнштормить вместе с вами.Формат: 3-4 часовых сессии + поддержка в чате.Желающих велкам в личку :)\n",
      "\n",
      " \n",
      "Тема 25 :\n",
      "специалист, жить, машина, пол, александр, муж, оставить, случиться, улица, ценный, направление, линкедин, разработчик, работа, новый, компания, начинать, должность, удовольствие, сообщать\n",
      "***************************\n",
      "Текст на тему 25 :\n",
      "С удовольствием сообщаю, что я начинаю работу в новой должности – iOS-разработчик в компании VK!\n",
      "\n",
      " \n",
      "Тема 49 :\n",
      "страна, отправить, проведение, экспертный, мочь, которые, новый, ваш, весь, поиск, рекомендация, карьерный, предложить, совет, поддержка, контакт, здравствовать, заранее, благодарить, возможность\n",
      "***************************\n",
      "Текст на тему 49 :\n",
      "Здравствуйте, я в поиске новой карьерной возможности и буду признателен(а) за вашу поддержку. Заранее благодарю за все рекомендации контактов, советы или возможности, которые вы можете предложить. #OpenToWork\n",
      "\n",
      " \n",
      "Тема 34 :\n",
      "управление, развитие, искать, уровень, уверенный, желание, база, разработчик, понимание, также, проект, требование, система, данных, команда, позиция, разработка, работа, знание, опыт\n",
      "***************************\n",
      "Текст на тему 34 :\n",
      "#Нанимаем инженеров по тестированию со специализацией mobile в Тинькофф Мобильный банк - наш флагманский продукт и основное мобильное приложение наших клиентов для взаимодействия со всей экосистемой. Локация: готовы обсуждать удаленную работу по России, Казахстану, Армении и Беларуси.Откликайтесь и присоединяйтесь к команде! Будем вам рады! 😎 #tinkoff #qa #mobile\n",
      "\n",
      " \n",
      "Тема 94 :\n",
      "второй, бесплатный, руководитель, консультация, мероприятие, данных, кандидат, пакет, анализ, ссылка, кейс, программа, развитие, результат, клиент, данные, встреча, рынок, онлайн, бизнес\n",
      "***************************\n",
      "Текст на тему 94 :\n",
      "Программисты, ждем вас 22 октября на Global Day of Coderetreat!Неважно на каком языке вы пишите, суть Coderetreat – это отработка навыков эффективного кодирования в парах. Мероприятие полностью бесплатное (кофе-брейки и обед за счет EPAM). Регистрация обязательна. С собой нужно иметь ноутбук.Узнать больше подробностей и зарегистрироваться можно здесь: https://lnkd.in/em4E42VПриходи, забудь о дедлайнах, просто пиши код!\n",
      "\n",
      " \n",
      "Тема 4 :\n",
      "электронный, пользовательский, апрель, март, веб, февраль, управление, консалтинг, сообщать, страница, приложение, услуги, просмотреть, радость, оказывать, бизнес, услуга, находка, сеть, разработка\n",
      "***************************\n",
      "Текст на тему 4 :\n",
      "С радостью сообщаю, что я оказываю бизнес-услуги в LinkedIn (#OpenForBusiness). Просмотрите мою страницу услуг «ИТ-консалтинг, Управление проектами, Веб-разработка, Разработка Android-приложений, Разработка iOS-приложений, Разработка приложений, Тестирование ПО, Разработка баз данных, Управление облачными решениями» и «Разработка пользовательского ПО». #java #C# #softwaredevelopment #Импортозамещение #1C #ERP\n",
      "\n",
      " \n",
      "Тема 17 :\n",
      "карта, лично, публичный, банковский, машинный, будущий, описание, функциональный, тестировщик, счастливый, небольшой, хватить, тестировщика, хотеть, следующий, пройти, проверка, значок, тест, навык\n",
      "***************************\n",
      "Текст на тему 17 :\n",
      "Я только что получил(а) значок за навык «PowerPoint». Кто хочет быть следующим? Пройдите тест на проверку навыков #LinkedInSkillAssessment.\n",
      "\n",
      " \n",
      "Тема 1 :\n",
      "удобный, машина, читать, дизайн, ситуация, минута, хотя, подбор, возможный, рассказать, маленький, также, услуга, доступ, открыть, добавить, тестовый, страна, месяц, общий\n",
      "***************************\n",
      "Текст на тему 1 :\n",
      "Очень прошу репост!!!Дано: тестировщица с редким заболеванием, прессинг аутсорс-компании при попытке ее покинуть, невозможность найти замену в течение 2 месяцев, отрицание факта обострения заболеванияРезультат: смерть девушкиПодробнее в этом посте https://lnkd.in/dHnSUmqjЕсли ссылка не работает, то попробуйте найти и открыть ее в комментариях (также добавил скрины поста) или перейдите на страницу автора https://lnkd.in/dEZ6_-MD (mipymyp в Instagram)И все об этом молчат с марта месяца? HQSoftware есть что рассказать по этому поводу?dev.by Onliner хотелось бы, чтобы вы помогли с расследованием.Я не делаю какие-то выводы, просто делюсь информацией. Надеюсь, что ее осветят и мы узнаем больше деталей.\n",
      "\n",
      " \n",
      "Тема 24 :\n",
      "трек, рассказать, разбор, куча, портфолио, розыгрыш, просмотр, скоро, материал, опубликовать, статья, наш, телеграмм, обновление, файл, эфир, дизайн, прямой, принять, канал\n",
      "***************************\n",
      "Текст на тему 24 :\n",
      "✅ Новая подборка сайтиков на неделю !Пора вдохновляются на предстоящую неделю чтобы создавать новое и прекрасноеЯ собрал для вас 9 сайтов которые меня вдохновили и помогли в проектах!Особенно мне понравилосья reflect.app!Люблю такие проработанные сайты с интересным визуалом web-3.0 и веяньем новых технологий А вот и сам спиоск:1 Props https://lnkd.in/dzpJSYtH2 Design is Funny https://lnkd.in/dBAZseE53 Dior by Starck https://diorbystarck.art/4 TMV STUDIO DESIGN® https://lnkd.in/dER4TnS55 Joga o QUIZ https://lnkd.in/d2AB8zvK6 Absolute Green https://lnkd.in/dCM-RThg7 Reailise http://reailise.com/8 Reflect https://reflect.app/home9 SNOW FOX https://www.snowfox.art/❓ Пишите какой сайт вам понравился больше всего !Совсем скоро будет крутая активность на канале, очень интерсеный проект !👾 Мой телеграмм канал - https://lnkd.in/dF6vEVJXТам куча полезногоВ канале: - Design Help, файл 40+ материалов для повышения ваших скиллов- Розыгрыш консультаций по карьерному треку и разбору портфолио - Прямые эфиры с дизайном - Полезные статьи #design #linkedin #instagram #help #design #webdesign #webdevelopment #graphicdesign #UIUX #digitaldesign #responsivewebdesign #HTML #CSS #JavaScript #webdesigner #webdesignagency #webdesigncompany #webdesignerlife #webdesigncommunity #webdesigninspiration\n",
      "\n",
      " \n"
     ]
    }
   ],
   "source": [
    "topic_text(id2word_ru, lda_ru, topics_ru, df_posts_ru)"
   ]
  },
  {
   "cell_type": "markdown",
   "id": "ab2e7782-8cca-411f-ba2a-7c6aa53fec2d",
   "metadata": {},
   "source": [
    "По одному тексту и ключевым словам довольно непросто сформулировать общую тему конкретной категории постов, поэтому по каждой теме лучше прочитать несколько текстов и выбрать превалирующий контекст.\n",
    "\n",
    "Для того, чтобы не загромождать ноутбук множеством текстов приведу пример кода, который использовался для \"углубленного чтения\" (таким образом обрабатывались тексты на обоих языках)"
   ]
  },
  {
   "cell_type": "code",
   "execution_count": 124,
   "id": "d0856a21-6f9c-4888-808b-286620a1aee4",
   "metadata": {
    "tags": []
   },
   "outputs": [
    {
     "data": {
      "text/plain": [
       "['✅ Новая подборка сайтиков на неделю !Пора вдохновляются на предстоящую неделю чтобы создавать новое и прекрасноеЯ собрал для вас 9 сайтов которые меня вдохновили и помогли в проектах!Особенно мне понравилосья reflect.app!Люблю такие проработанные сайты с интересным визуалом web-3.0 и веяньем новых технологий А вот и сам спиоск:1 Props https://lnkd.in/dzpJSYtH2 Design is Funny https://lnkd.in/dBAZseE53 Dior by Starck https://diorbystarck.art/4 TMV STUDIO DESIGN® https://lnkd.in/dER4TnS55 Joga o QUIZ https://lnkd.in/d2AB8zvK6 Absolute Green https://lnkd.in/dCM-RThg7 Reailise http://reailise.com/8 Reflect https://reflect.app/home9 SNOW FOX\\xa0https://www.snowfox.art/❓ Пишите какой сайт вам понравился больше всего !Совсем скоро будет крутая активность на канале, очень интерсеный проект !👾 Мой телеграмм канал -\\xa0https://lnkd.in/dF6vEVJXТам куча полезногоВ канале:\\xa0- Design Help, файл 40+ материалов для повышения ваших скиллов- Розыгрыш консультаций по карьерному треку и разбору портфолио\\xa0- Прямые эфиры с дизайном\\xa0- Полезные статьи #design\\xa0#linkedin\\xa0#instagram\\xa0#help\\xa0#design\\xa0#webdesign\\xa0#webdevelopment\\xa0#graphicdesign\\xa0#UIUX #digitaldesign\\xa0#responsivewebdesign\\xa0#HTML\\xa0#CSS\\xa0#JavaScript #webdesigner\\xa0#webdesignagency\\xa0#webdesigncompany\\xa0#webdesignerlife #webdesigncommunity\\xa0#webdesigninspiration',\n",
       " 'Хотите оставаться в курсе происходящего? Отслеживайте нашу страницу для просмотра последних обновлений.',\n",
       " 'Всем привет!Мы в поисках крутого Chief Data Officer в нашу большую команду BCC.😍Тебе предстоит управлять потребительской ценностью, клиентскими данными и заниматься развитием коммуникаций, data driven.Мы ждем, что ты знаешь data платформы: корпоративное хранилище данных (DWH), озеро данных (Data Lake), BI,Data Governance & Data Quality.Это про тебя или твоего знакомого? Жду CV в ЛС или в telegram @ainuraa_a',\n",
       " 'Наша команда опубликовала информативную статью про каналы продвижения.\\r\\nЕсли вы еще не определились, какой канал выбрать, чтобы привлечь больше клиентов и увеличить свою прибыль - статья ниже:\\r\\n\\r\\nhttps://lnkd.in/d6jSwrcN',\n",
       " 'Я приму участие в мероприятии «Выход на рынки СНГ в 2023 году». Хотите присоединиться?',\n",
       " 'Наноприсадка для индустриальных масел IC-3110 от ведущих мировых ученых, на основе технологии, удостоенной Нобелевской премии.#технологии #нанотехнологии#эффективность#экономия#прибыль',\n",
       " '🔥🔥🔥\\xa0Каково быть дизайнером в бизнесе и что вообще нужно уметь!Скажу честно еще когда я заходил в дизайн и был совсем зеленым, то и думать не мог что мне нужно знать основы бизнеса, проводить исследования и строить бизнес модель.Но сейчас дизайнером который просто рисует интерфейсы никого не удивит, поэтому стоит прокачивать свои навыки в различных направления и в том числе бизнес мышление.Вы должны понимать как работает бизнес, что ему нужно сейчас, а что нужно будет потом чтобы помочь ему и решить боли и проблемы бизнеса.Сейчас я уже с головой окунулся в бизнес и строю свой, но начальном этапе было очень сложно понять как это работает, особенно для дизайнера новичка, поэтому я принес вам статью как раз про бизнес мышление и почему это важно ➡️ вот сама статья - https://lnkd.in/diUTVuriВнутри:\\xa0- Анализ индустрии- Анализ конкурентов\\xa0- Бизнес-стратегии- Бизнес-модельи много чего еще Не поленитесь и почитайте вечерком, уверен вы сможите узнать для себя много новгого👾 Мой телеграмм канал про дизайн -\\xa0https://lnkd.in/dF6vEVJXТам куча полезногоВ канале:\\xa0- Design Help, файл 40+ материалов для повышения ваших скиллов- Розыгрыш консультаций по карьерному треку и разбору портфолио\\xa0- Прямые эфиры с дизайном\\xa0- Полезные статьи #design\\xa0#linkedin\\xa0#instagram\\xa0#help\\xa0#design\\xa0#webdesign\\xa0#webdevelopment\\xa0#graphicdesign\\xa0#UIUX #digitaldesign\\xa0#responsivewebdesign\\xa0#HTML\\xa0#CSS\\xa0#JavaScript #webdesigner\\xa0#webdesignagency\\xa0#webdesigncompany\\xa0#webdesignerlife #webdesigncommunity\\xa0#webdesigninspiration',\n",
       " \"Успей принять участие и отправляй друзьям айтишникам!😎\\xa0\\xa0«Тинькофф» запустил чемпионат IT's Tinkoff Solution Cup для middle и senior-специалистов аналитики и программирования. Общий призовой фонд составит 3,3 млн рублей, победители и призёры получат до 300 тысяч рублей.\\xa0\\xa0Отборочный раунд пройдёт 15 апреля с 11:00 до 23:59, а финал и церемония награждения – 22 апреля в Москве. Также можно участвовать и в онлайн формате, но в случае прохождения на финал, организаторы не смогут помочь с оплатой билетов.\\xa0\\xa0Подробную информацию о чемпионате со ссылкой на подачу заявки вы можете получить по ссылке ниже:\\xa0\\xa0https://lnkd.in/dHREyjhg\",\n",
       " '📣 Подборка сайтиков номер 7!Новая неделя начинается с новго списка сайтов для вдохновения. На этой неделе не так много сайтиков, но все они очень интересные!Мне очень понравился сайт akutostudio.Отличное сочетание типографики, цвета и информацииСкорее смотрите и вдохновляйтесь!🔥Поборка:1https://lnkd.in/dK5yP2ZF2https://lnkd.in/d6fGrMzi3\\xa0https://tate-lab.com/4https://selfaware.studio/5https://2022.check-dc.com/6https://mixpanel.com/home7https://www.fairetype.com/8https://www.anywhere.re/9https://akutostudio.com/А вообще если все получится, то скоро будет интересный проект в котором сможет поучаствовать каждый из вас !Следите за новостями в телеграмм канале - https://lnkd.in/dF6vEVJXВ канале:\\xa0- Design Help, файл 40+ материалов для повышения ваших скиллов- Розыгрыш консультаций по карьерному треку и разбору портфолио\\xa0- Прямые эфиры с дизайном\\xa0- Полезные статьи #design\\xa0#linkedin\\xa0#instagram\\xa0#help\\xa0#design\\xa0#webdesign\\xa0#webdevelopment\\xa0#graphicdesign\\xa0#UIUX #digitaldesign\\xa0#responsivewebdesign\\xa0#HTML\\xa0#CSS\\xa0#JavaScript #webdesigner\\xa0#webdesignagency\\xa0#webdesigncompany\\xa0#webdesignerlife #webdesigncommunity\\xa0#webdesigninspiration',\n",
       " 'Всем привет!\\xa0Обновила проект на Behance! 🤘🏻\\xa0https://lnkd.in/eZN2C9RQЛайк и подписка - это огромная поддержка для меня ❤️Буду рада вашей поддержке ❤️#design\\xa0#smarthome\\xa0#uxui\\xa0#ux\\xa0#ui\\xa0#web\\xa0#app\\xa0#designapp\\xa0#behance\\xa0#mobileapp\\xa0#research',\n",
       " 'Побывал на конференции VK Cloud Conf 2023 8 июня, интересное и необычное мероприятие с масштабной рекламой сервиса VK Cloud.\\r\\nПознакомился с несколькими людьми, но все таки тематика была немного не моя, поэтому ничего не могу сказать про нетворкинг (он там был, просто не для digital-агентства)\\r\\nОрганизация крутая: красивые стенды, хорошие спикеры и вкусная еда. Если вы связаны с темой продуктового подхода ПО и DevSecOps - обязательно посетите в следующем году.',\n",
       " 'Хотите оставаться в курсе происходящего? Отслеживайте нашу страницу для просмотра последних обновлений.',\n",
       " 'Всем привет!\\r\\nКоманда Webtronics опубликовала статью про лучшие SEO сервисы, которыми сама пользуется:\\r\\n\\r\\nhttps://lnkd.in/dDaKRs4z',\n",
       " 'Всем привет!Неделька была тяжелая и не совсем удачная, завтра расскажу что я сделал когда потерял клиента и как получить опыт со своих ошибок!⚡️А на вечер воскресенья принес вам неплохой сайт для вдохновения - https://lnkd.in/dbzN2a7VТам есть интересные и уникальные проекты, которые не встретишь на Behance!Скорее ищите вдохновляться и собирать референсы себе в коллекцию!А еще загляните в раздел Resources (https://lnkd.in/d9r3Kbbt) там есть интересные и бесплатные штуки для работы🔥🔥🔥 Кстати, если кто-то собирает референсы, то расскажите каким способом пользуетесь и скидывайте ссылки на подборки, будем вдохновляться вместе !👾 Мой телеграмм канал про дизайн -\\xa0https://lnkd.in/dF6vEVJXТам куча полезногоВ канале:\\xa0- Design Help, файл 40+ материалов для повышения ваших скиллов- Розыгрыш консультаций по карьерному треку и разбору портфолио\\xa0- Прямые эфиры с дизайном\\xa0- Полезные статьи #design\\xa0#linkedin\\xa0#instagram\\xa0#help\\xa0#design\\xa0#webdesign\\xa0#webdevelopment\\xa0#graphicdesign\\xa0#UIUX #digitaldesign\\xa0#responsivewebdesign\\xa0#HTML\\xa0#CSS\\xa0#JavaScript #webdesigner\\xa0#webdesignagency\\xa0#webdesigncompany\\xa0#webdesignerlife #webdesigncommunity\\xa0#webdesigninspiration',\n",
       " '📣📣📣\\xa0Проект нашей с @christinasuslik команды тем временем попал в подборку лучших сайтов на Tilda!Интересный и очень атмосферный сайт который мы делали вместе с нашей командой уже в топе!Буду рад если поддержите нашу студию и лайкните сайт тут - https://lnkd.in/dQgj_Mcf ❤️А в своем телеграмм канале поделился Figma файлом этого проекта, можно посмотреть и потыкать тут - https://lnkd.in/dAZhhcP9Скоро больше новых проектов !В канале:\\xa0- Design Help, файл 40+ материалов для повышения ваших скиллов- Розыгрыш консультаций по карьерному треку и разбору портфолио\\xa0- Прямые эфиры с дизайном\\xa0- Полезные статьи #design\\xa0#linkedin\\xa0#instagram\\xa0#help\\xa0#design\\xa0#webdesign\\xa0#webdevelopment\\xa0#graphicdesign\\xa0#UIUX #digitaldesign\\xa0#responsivewebdesign\\xa0#HTML\\xa0#CSS\\xa0#JavaScript #webdesigner\\xa0#webdesignagency\\xa0#webdesigncompany\\xa0#webdesignerlife #webdesigncommunity\\xa0#webdesigninspiration',\n",
       " 'В телеграм канала теперь можно делится папками и тут ребята из разных телеграм каналов про UX и UI дизайн собрались в одной такой папке (я удивился, когда оказалось, что я подписан почти на все каналы из папки) !Очень полезные и интересные каналы где можно найти море информации. Если вы начинающий дизайнер и вам все интерсено, то вам точно нужна эта папка ☄️ Вот ссылочка на папку - https://lnkd.in/dXbVi_qUСкорее забираем себе и прокачиваем навыки!👾 Скорее переходи в мой телеграмм канал -\\xa0https://lnkd.in/dF6vEVJXТам куча полезногоВ канале:\\xa0- Design Help, файл 40+ материалов для повышения ваших скиллов- Розыгрыш консультаций по карьерному треку и разбору портфолио\\xa0- Прямые эфиры с дизайном\\xa0- Полезные статьи #design\\xa0#linkedin\\xa0#instagram\\xa0#help\\xa0#design\\xa0#webdesign\\xa0#webdevelopment\\xa0#graphicdesign\\xa0#UIUX #digitaldesign\\xa0#responsivewebdesign\\xa0#HTML\\xa0#CSS\\xa0#JavaScript #webdesigner\\xa0#webdesignagency\\xa0#webdesigncompany\\xa0#webdesignerlife #webdesigncommunity\\xa0#webdesigninspiration',\n",
       " 'Всем привет.Пропал не надолго так как покоряю новые высоты, как в прямом, так и в переносном смысле ) 😎 В прямом смысле - прыгнул с парашюта, фоточки присутствуют. Спасибо всем причастным за подарок :) 😀 В переносном - подготовил серию семинаров \"Осознанное и проактивное управление карьерой\" которые проведу на базе Академия Краткосрочной Стратегической Психотерапии (https://psi-ddt.ru/), очно, в Москве, анонс будет уже очень скоро. 👍 Следите за обновлениями в моем ТГ канале 👉  https://lnkd.in/eagZzVbV 👈 Всем спасибо.',\n",
       " 'Шаблоны шапки профиля от сервиса Эйч !Очень крутые шаблоны, которые помогут грамотно оформит папку профиля Вот ссылка на шаблоны - https://lnkd.in/gfWgJMqP👾 Скорее переходи в мой телеграмм канал -\\xa0https://lnkd.in/dF6vEVJXТам куча полезногоВ канале:\\xa0- Design Help, файл 40+ материалов для повышения ваших скиллов- Розыгрыш консультаций по карьерному треку и разбору портфолио\\xa0- Прямые эфиры с дизайном\\xa0- Полезные статьи 📣 А вот тут мой инстаграм (https://lnkd.in/d6UTFJhG) там я собираюсь рассказывать про дизайн и про свою жизнь#design\\xa0#linkedin\\xa0#instagram\\xa0#help\\xa0#design\\xa0#webdesign\\xa0#webdevelopment\\xa0#graphicdesign\\xa0#UIUX #digitaldesign\\xa0#responsivewebdesign\\xa0#HTML\\xa0#CSS\\xa0#JavaScript #webdesigner\\xa0#webdesignagency\\xa0#webdesigncompany\\xa0#webdesignerlife #webdesigncommunity\\xa0#webdesigninspiration',\n",
       " 'Мы перезапускаемся🥳Вас ждут еще более интересные вакансии,стажировки,ивенты и многое другое(по сути только  сменилось лого и название🙃 канал не продан🙂)Подписывайтесь на наши соц сетиТелеграмhttps://t.me/oppo4youИнстаграмhttps://lnkd.in/ddbBwYZW',\n",
       " 'Новая порция сайтов для вдохновения!Принес вам список из 10 сайтов для вдохновения на предстоящую неделю!Мой топ на этой неделе - steasy (https://steasy.ch/)🌿Аккуратный, локаничные и визуально приятный сайтА ваот и сама подборка:1 - https://lnkd.in/dswFm6sk2\\xa0- https://www.darc-room.com/3 - https://lnkd.in/dwViDQXE4\\xa0- https://tdi.photos5 - https://terrazabalear.com/6\\xa0- https://lnkd.in/ddPSNjpE7 - https://steasy.ch/8 - https://www.giveahand.ai/9 - https://pedromc.design/10 - https://www.ki-health.com/👽  А вот тут мой телеграмм канал - https://lnkd.in/dF6vEVJXСкорее переходите, там куча полезногоВ канале:\\xa0- Design Help, файл 40+ материалов для повышения ваших скиллов- Розыгрыш консультаций по карьерному треку и разбору портфолио\\xa0- Прямые эфиры с дизайном\\xa0- Полезные статьи 📣 А вот тут мой инстаграм (https://lnkd.in/d6UTFJhG) там я собираюсь рассказывать про дизайн и про свою жизнь#design\\xa0#linkedin\\xa0#instagram\\xa0#help\\xa0#design\\xa0#webdesign\\xa0#webdevelopment\\xa0#graphicdesign\\xa0#UIUX #digitaldesign\\xa0#responsivewebdesign\\xa0#HTML\\xa0#CSS\\xa0#JavaScript #webdesigner\\xa0#webdesignagency\\xa0#webdesigncompany\\xa0#webdesignerlife #webdesigncommunity\\xa0#webdesigninspiration']"
      ]
     },
     "execution_count": 124,
     "metadata": {},
     "output_type": "execute_result"
    }
   ],
   "source": [
    "list(df_posts_ru.query('topic == 24')['post'].sample(20))"
   ]
  },
  {
   "cell_type": "markdown",
   "id": "556cf570-2567-4fe4-9a1f-588ef104ad7c",
   "metadata": {},
   "source": [
    "По итогам анализа ключевых слов и текстов ясформулировал следующие темы постов на русском языке:\n",
    "- развитие/тренды (инструменты, обучение)\n",
    "- поддержка/коллаборация (различные мысли)\n",
    "- выход на работу\n",
    "- поиск работы\n",
    "- поиск сотрудников\n",
    "- события (саммиты, конференции, вебинары)\n",
    "- предложения услуг бизнесу\n",
    "- новый навык (получен значок на Linkedin)\n",
    "- анонсы/стартапы\n",
    "- сайты/статьи/чаты\n",
    "\n",
    "Сохраним их в словарь:"
   ]
  },
  {
   "cell_type": "code",
   "execution_count": 127,
   "id": "46d43d57-4721-4721-bbaf-63f0223b34d6",
   "metadata": {
    "tags": []
   },
   "outputs": [
    {
     "data": {
      "text/plain": [
       "{56: 'развитие/тренды',\n",
       " 39: 'поддержка/коллаборация',\n",
       " 25: 'выход на работу',\n",
       " 49: 'поиск работы',\n",
       " 34: 'поиск сотрудников',\n",
       " 94: 'события',\n",
       " 4: 'предложения бизнес-услуг',\n",
       " 17: 'новый навык',\n",
       " 1: 'анонсы/стартапы',\n",
       " 24: 'сайты/статьи/чаты'}"
      ]
     },
     "execution_count": 127,
     "metadata": {},
     "output_type": "execute_result"
    }
   ],
   "source": [
    "top10_ru = ['развитие/тренды',\n",
    "            'поддержка/коллаборация',\n",
    "            'выход на работу',\n",
    "            'поиск работы',\n",
    "            'поиск сотрудников',\n",
    "            'события',\n",
    "            'предложения бизнес-услуг',\n",
    "            'новый навык',\n",
    "            'анонсы/стартапы',\n",
    "            'сайты/статьи/чаты']\n",
    "\n",
    "topics_ru_dict = dict(zip(top10list_ru, top10_ru))\n",
    "\n",
    "topics_ru_dict"
   ]
  },
  {
   "cell_type": "markdown",
   "id": "f36a46c9-0345-42a7-ad1c-60c9aad6b943",
   "metadata": {},
   "source": [
    "### Английский язык"
   ]
  },
  {
   "cell_type": "code",
   "execution_count": 68,
   "id": "8875c8c2-ee62-4115-a684-39c5362107f5",
   "metadata": {
    "tags": []
   },
   "outputs": [
    {
     "name": "stdout",
     "output_type": "stream",
     "text": [
      "Тема 7 :\n",
      "ai, make, use, get, like, experience, need, new, company, one, data, product, help, time, project, work, team, business, software, development\n",
      "***************************\n",
      "Текст на тему 7 :\n",
      "Hi there 👋 How is Bitrix24 better than 99% of other solutions on the market?✔ replaces all your current SaaS solutions;✔ free forever for unlimited users;✔ easy to migrate data from other systems;✔ integrated with all your favorite services and applications;✔ used, liked and trusted by 12,000,000+ users worldwide;✔ 100% fixed fee: predictable costs, no pricing per user.Instead of dozens of services and apps, start using a single platform to organise your entire company.#itachsoft #bitrix24 #automatization #business #crm #it #sales #software\n",
      "\n",
      " \n",
      "Тема 56 :\n",
      "commerce, people, possible, bring, part, technologies, digital, professionals, ideas, new, insights, goals, potential, community, skills, us, world, future, together, also\n",
      "***************************\n",
      "Текст на тему 56 :\n",
      "Strolling down Wall Street, my eyes fixate on the iconic Stock Exchange, and my mind races with excitement for what's to come in the fintech industry. Are you ready to join me at the forefront of the financial revolution at the Fintech Nexus USA 2023 conference on May 10-11?This conference is a unique opportunity to engage with industry leaders, share insights, and collaborate on ideas that will shape the future of finance. I look forward to connecting with like-minded professionals and contributing to the ongoing evolution of finance. Let's share our experiences and knowledge to drive innovation and growth in fintech.#fintechnexus #fintech #finance\n",
      "\n",
      " \n",
      "Тема 98 :\n",
      "opportunity, amazing, team, generative, great, meeting, join, attending, co, let, london, networking, looking, us, tech, conference, forward, meet, summit, event\n",
      "***************************\n",
      "Текст на тему 98 :\n",
      "I am pleased to announce the launch of our new project in Dubai, Zurich, Monaco, I will be glad to be useful to innovators, visionaries and investors. Together we will change the world – Founder Global Vision Summit в компании Global Vision Summit!\n",
      "\n",
      " \n",
      "Тема 65 :\n",
      "difficult, test, took, thing, completely, electric, stop, risk, account, put, something, things, decided, never, space, also, got, reality, ev, charging\n",
      "***************************\n",
      "Текст на тему 65 :\n",
      "Wonders of animation! If you lean against the screen and move your face along the picture quickly back and forth, the Shoe will spin! (joke, don't do that ) Stretch shoes that I made for our factory last year. I came up with the idea to make panoramas like this with my models/#boots #saintpetersburg #madeinrussia #spbboots\n",
      "\n",
      " \n",
      "Тема 9 :\n",
      "remote, like, dear, notifications, recommendations, new, role, offer, support, everyone, advice, would, looking, advance, opportunities, hi, connections, appreciate, opentowork, thank\n",
      "***************************\n",
      "Текст на тему 9 :\n",
      "Hi everyone - I am looking for a new remote job and would appreciate your support. Thank you in advance for any connections, advice, or opportunities you can offer.Skills: .NET, C#, Asp.Net Core, ReactJS, Typescript, Azure, Software architectures #OpenToWork\n",
      "\n",
      " \n",
      "Тема 28 :\n",
      "team, mobiledevelopment, lead, app, office, flutter, awesome, apps, android, native, stack, new, react, engineer, share, ios, developer, starting, happy, position\n",
      "***************************\n",
      "Текст на тему 28 :\n",
      "Web development is only 5-10% of the work you'll do as a freelance web developer. The rest is actually everything else.\n",
      "\n",
      " \n",
      "Тема 16 :\n",
      "softwareengineer, beyond, stay, future, things, recommendation, world, effort, food, ever, wanted, throughout, ukrainian, incredible, moment, eye, non, journey, innovation, colleagues\n",
      "***************************\n",
      "Текст на тему 16 :\n",
      "Hard to think about tech and software development, when the whole country suffers.A war crime with no military sense. Blowing up the Kakhovka dam affects infrastructure, ecology, water, and food supply.It's a catastrophe. Not only Ukrainian. The food crisis (flooded fields) The nuclear plant losing electricity. The humanitarian disaster.Support the evacuation. Link in the comments.#russiaisaterrorisstate #russianukrainianwar #russiainvadedukraine #stoprussianaggression #stoprussia\n",
      "\n",
      " \n",
      "Тема 47 :\n",
      "google, tag, insights, likes, friend, subscribe, certificate, portfolio, comments, visualization, happy, obtained, design, guys, articles, like, projects, new, certification, share\n",
      "***************************\n",
      "Текст на тему 47 :\n",
      "Hi guys 👋🏼We would like to share with you one of our projects -👉 https://lnkd.in/dCdDrEbmWhat do you think about this design? Let me know your thoughts in comments 💬✉️ Have a project idea? I'm available for new projects yehor.haiduk@gmail.com or telegram chat🔥 Tag your friend who likes it 😉👉 Visit our page & don't forget to follow for more design content like this one!Check more work here https://lnkd.in/g-2DSu5\n",
      "\n",
      " \n",
      "Тема 33 :\n",
      "innovation, designing, innovative, wrote, machine, closer, fintech, language, technologies, banks, processing, article, google, artificialintelligence, startups, field, technology, artificial, intelligence, ai\n",
      "***************************\n",
      "Текст на тему 33 :\n",
      "Photoshop will be forever changed after this. Stability AI is developing a  plugin to bring Stable Diffusion right into Photoshop.↓Check out https://AlphaSignal.ai to get a weekly summary of the top breakthroughs in Machine Learning.\n",
      "\n",
      " \n",
      "Тема 11 :\n",
      "engagement, advanced, organizations, eventually, fall, contracts, salesforce, secure, outcomes, providers, care, patients, health, patient, know, healthcare, interested, might, anyone, hiring\n",
      "***************************\n",
      "Текст на тему 11 :\n",
      "I’m #hiring. Know anyone who might be interested?\n",
      "\n",
      " \n"
     ]
    }
   ],
   "source": [
    "topic_text(id2word_en, lda_en, topics_en, df_posts_en, top10list_en)"
   ]
  },
  {
   "cell_type": "markdown",
   "id": "7b187a4b-e5a1-45c5-ad71-5a4056e0ff42",
   "metadata": {},
   "source": [
    "Аналогично работе с русским языком, просмотрел больше текстов по каждой популярной теме и сформулировал их так:\n",
    "- развитие/тренды\n",
    "- поддержка/коллаборация\n",
    "- события\n",
    "- сайты/статьи/чаты\n",
    "- поиск работы\n",
    "- выход на работу\n",
    "- анонсы/стартапы\n",
    "- новый навык\n",
    "- AI/ML\n",
    "- поиск сотрудников\n",
    "\n",
    "Практически все темы присутствуют и в русскоязычном сегменте, однако популярность их отличается. Сформируем словарь:"
   ]
  },
  {
   "cell_type": "code",
   "execution_count": 131,
   "id": "26d74aa8-ece5-4f88-8244-ec0c24b3eb9f",
   "metadata": {
    "tags": []
   },
   "outputs": [
    {
     "data": {
      "text/plain": [
       "{7: 'развитие/тренды',\n",
       " 56: 'поддержка/коллаборация',\n",
       " 98: 'события',\n",
       " 65: 'сайты/статьи/чаты',\n",
       " 9: 'поиск работы',\n",
       " 28: 'выход на работу',\n",
       " 16: 'анонсы/стартапы',\n",
       " 47: 'новый навык',\n",
       " 33: 'AI/ML',\n",
       " 11: 'поиск сотрудников'}"
      ]
     },
     "execution_count": 131,
     "metadata": {},
     "output_type": "execute_result"
    }
   ],
   "source": [
    "top10_en = ['развитие/тренды',\n",
    "            'поддержка/коллаборация',\n",
    "            'события',\n",
    "            'сайты/статьи/чаты',\n",
    "            'поиск работы',\n",
    "            'выход на работу',\n",
    "            'анонсы/стартапы',\n",
    "            'новый навык',\n",
    "            'AI/ML',\n",
    "            'поиск сотрудников']\n",
    "\n",
    "topics_en_dict = dict(zip(top10list_en, top10_en))\n",
    "topics_en_dict"
   ]
  },
  {
   "cell_type": "markdown",
   "id": "a410401e-897d-4a00-91b1-d56f23a2816c",
   "metadata": {},
   "source": [
    "Выполним более интерпретируемый анализ по популярным темам"
   ]
  },
  {
   "cell_type": "markdown",
   "id": "a9a8fbc1-159b-4608-ae4d-f797442d84da",
   "metadata": {},
   "source": [
    "# Анализ по темам"
   ]
  },
  {
   "cell_type": "markdown",
   "id": "31cffb12-b85a-4915-ba45-5d8b08881bc0",
   "metadata": {
    "tags": []
   },
   "source": [
    "Сформируем датафреймы, которые содержат посты популярных тем"
   ]
  },
  {
   "cell_type": "code",
   "execution_count": 150,
   "id": "066aaa01-4ca5-4f6a-ad49-749a68ebe797",
   "metadata": {
    "tags": []
   },
   "outputs": [
    {
     "data": {
      "text/html": [
       "<div>\n",
       "<style scoped>\n",
       "    .dataframe tbody tr th:only-of-type {\n",
       "        vertical-align: middle;\n",
       "    }\n",
       "\n",
       "    .dataframe tbody tr th {\n",
       "        vertical-align: top;\n",
       "    }\n",
       "\n",
       "    .dataframe thead th {\n",
       "        text-align: right;\n",
       "    }\n",
       "</style>\n",
       "<table border=\"1\" class=\"dataframe\">\n",
       "  <thead>\n",
       "    <tr style=\"text-align: right;\">\n",
       "      <th></th>\n",
       "      <th>profile_url</th>\n",
       "      <th>post_url</th>\n",
       "      <th>post</th>\n",
       "      <th>reactions_cnt</th>\n",
       "      <th>comments_cnt</th>\n",
       "      <th>reposts_cnt</th>\n",
       "      <th>language</th>\n",
       "      <th>post_len</th>\n",
       "      <th>topic</th>\n",
       "    </tr>\n",
       "  </thead>\n",
       "  <tbody>\n",
       "    <tr>\n",
       "      <th>806</th>\n",
       "      <td>https://www.linkedin.com/in/%D0%B0%D0%BD%D0%B3...</td>\n",
       "      <td>0</td>\n",
       "      <td>Сегодня впервые написали мне предложение о раб...</td>\n",
       "      <td>12</td>\n",
       "      <td>6.0</td>\n",
       "      <td>0.0</td>\n",
       "      <td>ru</td>\n",
       "      <td>245</td>\n",
       "      <td>39</td>\n",
       "    </tr>\n",
       "    <tr>\n",
       "      <th>377</th>\n",
       "      <td>https://www.linkedin.com/in/%D0%B4%D0%B0%D1%80...</td>\n",
       "      <td>0</td>\n",
       "      <td>DreamDocs примет участие в «CNews FORUM Кейсы:...</td>\n",
       "      <td>0</td>\n",
       "      <td>0.0</td>\n",
       "      <td>0.0</td>\n",
       "      <td>ru</td>\n",
       "      <td>422</td>\n",
       "      <td>39</td>\n",
       "    </tr>\n",
       "    <tr>\n",
       "      <th>1722</th>\n",
       "      <td>https://www.linkedin.com/in/tataslovak/recent-...</td>\n",
       "      <td>0</td>\n",
       "      <td>Делюсь подробностями воркшопа \"Figma Component...</td>\n",
       "      <td>4</td>\n",
       "      <td>1.0</td>\n",
       "      <td>0.0</td>\n",
       "      <td>ru</td>\n",
       "      <td>815</td>\n",
       "      <td>56</td>\n",
       "    </tr>\n",
       "    <tr>\n",
       "      <th>1404</th>\n",
       "      <td>https://www.linkedin.com/in/yuliii/recent-acti...</td>\n",
       "      <td>0</td>\n",
       "      <td>Сегодня наступает день очередной раз избить мо...</td>\n",
       "      <td>15</td>\n",
       "      <td>0.0</td>\n",
       "      <td>0.0</td>\n",
       "      <td>ru</td>\n",
       "      <td>810</td>\n",
       "      <td>56</td>\n",
       "    </tr>\n",
       "    <tr>\n",
       "      <th>221</th>\n",
       "      <td>https://www.linkedin.com/in/%D0%B0%D0%BB%D0%B5...</td>\n",
       "      <td>0</td>\n",
       "      <td>Приглашаем на вебинар от образовательного прое...</td>\n",
       "      <td>2</td>\n",
       "      <td>0.0</td>\n",
       "      <td>1.0</td>\n",
       "      <td>ru</td>\n",
       "      <td>773</td>\n",
       "      <td>94</td>\n",
       "    </tr>\n",
       "  </tbody>\n",
       "</table>\n",
       "</div>"
      ],
      "text/plain": [
       "                                            profile_url post_url  \\\n",
       "806   https://www.linkedin.com/in/%D0%B0%D0%BD%D0%B3...        0   \n",
       "377   https://www.linkedin.com/in/%D0%B4%D0%B0%D1%80...        0   \n",
       "1722  https://www.linkedin.com/in/tataslovak/recent-...        0   \n",
       "1404  https://www.linkedin.com/in/yuliii/recent-acti...        0   \n",
       "221   https://www.linkedin.com/in/%D0%B0%D0%BB%D0%B5...        0   \n",
       "\n",
       "                                                   post reactions_cnt  \\\n",
       "806   Сегодня впервые написали мне предложение о раб...            12   \n",
       "377   DreamDocs примет участие в «CNews FORUM Кейсы:...             0   \n",
       "1722  Делюсь подробностями воркшопа \"Figma Component...             4   \n",
       "1404  Сегодня наступает день очередной раз избить мо...            15   \n",
       "221   Приглашаем на вебинар от образовательного прое...             2   \n",
       "\n",
       "      comments_cnt  reposts_cnt language  post_len  topic  \n",
       "806            6.0          0.0       ru       245     39  \n",
       "377            0.0          0.0       ru       422     39  \n",
       "1722           1.0          0.0       ru       815     56  \n",
       "1404           0.0          0.0       ru       810     56  \n",
       "221            0.0          1.0       ru       773     94  "
      ]
     },
     "metadata": {},
     "output_type": "display_data"
    },
    {
     "data": {
      "text/html": [
       "<div>\n",
       "<style scoped>\n",
       "    .dataframe tbody tr th:only-of-type {\n",
       "        vertical-align: middle;\n",
       "    }\n",
       "\n",
       "    .dataframe tbody tr th {\n",
       "        vertical-align: top;\n",
       "    }\n",
       "\n",
       "    .dataframe thead th {\n",
       "        text-align: right;\n",
       "    }\n",
       "</style>\n",
       "<table border=\"1\" class=\"dataframe\">\n",
       "  <thead>\n",
       "    <tr style=\"text-align: right;\">\n",
       "      <th></th>\n",
       "      <th>profile_url</th>\n",
       "      <th>post_url</th>\n",
       "      <th>post</th>\n",
       "      <th>reactions_cnt</th>\n",
       "      <th>comments_cnt</th>\n",
       "      <th>reposts_cnt</th>\n",
       "      <th>language</th>\n",
       "      <th>post_len</th>\n",
       "      <th>topic</th>\n",
       "    </tr>\n",
       "  </thead>\n",
       "  <tbody>\n",
       "    <tr>\n",
       "      <th>3689</th>\n",
       "      <td>https://www.linkedin.com/in/katerynaovchar/rec...</td>\n",
       "      <td>0</td>\n",
       "      <td>🔋Charge &amp; Go — is wireless charging as promisi...</td>\n",
       "      <td>6</td>\n",
       "      <td>4.0</td>\n",
       "      <td>0.0</td>\n",
       "      <td>en</td>\n",
       "      <td>1333</td>\n",
       "      <td>65</td>\n",
       "    </tr>\n",
       "    <tr>\n",
       "      <th>3062</th>\n",
       "      <td>https://www.linkedin.com/in/alina-klimakhovich...</td>\n",
       "      <td>0</td>\n",
       "      <td>🔥 Great news! You can find us in Sofia, Bulgar...</td>\n",
       "      <td>0</td>\n",
       "      <td>0.0</td>\n",
       "      <td>0.0</td>\n",
       "      <td>en</td>\n",
       "      <td>402</td>\n",
       "      <td>98</td>\n",
       "    </tr>\n",
       "    <tr>\n",
       "      <th>5536</th>\n",
       "      <td>https://www.linkedin.com/in/jasurkurbanov/rece...</td>\n",
       "      <td>0</td>\n",
       "      <td>I am  excited to announce the launch of our my...</td>\n",
       "      <td>7</td>\n",
       "      <td>0.0</td>\n",
       "      <td>0.0</td>\n",
       "      <td>en</td>\n",
       "      <td>289</td>\n",
       "      <td>28</td>\n",
       "    </tr>\n",
       "    <tr>\n",
       "      <th>5321</th>\n",
       "      <td>https://www.linkedin.com/in/andrrey/recent-act...</td>\n",
       "      <td>0</td>\n",
       "      <td>This Friday 13th marks new page in my professi...</td>\n",
       "      <td>40</td>\n",
       "      <td>0.0</td>\n",
       "      <td>0.0</td>\n",
       "      <td>en</td>\n",
       "      <td>246</td>\n",
       "      <td>7</td>\n",
       "    </tr>\n",
       "    <tr>\n",
       "      <th>5770</th>\n",
       "      <td>https://www.linkedin.com/in/polina-kharina-qua...</td>\n",
       "      <td>0</td>\n",
       "      <td>Hi everyone - I am looking for a new role and ...</td>\n",
       "      <td>17</td>\n",
       "      <td>1.0</td>\n",
       "      <td>4.0</td>\n",
       "      <td>en</td>\n",
       "      <td>170</td>\n",
       "      <td>9</td>\n",
       "    </tr>\n",
       "  </tbody>\n",
       "</table>\n",
       "</div>"
      ],
      "text/plain": [
       "                                            profile_url post_url  \\\n",
       "3689  https://www.linkedin.com/in/katerynaovchar/rec...        0   \n",
       "3062  https://www.linkedin.com/in/alina-klimakhovich...        0   \n",
       "5536  https://www.linkedin.com/in/jasurkurbanov/rece...        0   \n",
       "5321  https://www.linkedin.com/in/andrrey/recent-act...        0   \n",
       "5770  https://www.linkedin.com/in/polina-kharina-qua...        0   \n",
       "\n",
       "                                                   post reactions_cnt  \\\n",
       "3689  🔋Charge & Go — is wireless charging as promisi...             6   \n",
       "3062  🔥 Great news! You can find us in Sofia, Bulgar...             0   \n",
       "5536  I am  excited to announce the launch of our my...             7   \n",
       "5321  This Friday 13th marks new page in my professi...            40   \n",
       "5770  Hi everyone - I am looking for a new role and ...            17   \n",
       "\n",
       "      comments_cnt  reposts_cnt language  post_len  topic  \n",
       "3689           4.0          0.0       en      1333     65  \n",
       "3062           0.0          0.0       en       402     98  \n",
       "5536           0.0          0.0       en       289     28  \n",
       "5321           0.0          0.0       en       246      7  \n",
       "5770           1.0          4.0       en       170      9  "
      ]
     },
     "execution_count": 150,
     "metadata": {},
     "output_type": "execute_result"
    }
   ],
   "source": [
    "df_top10_ru = df_posts_ru.copy()\n",
    "df_top10_ru = df_top10_ru.query('topic in @top10list_ru')\n",
    "\n",
    "df_top10_en = df_posts_en.copy()\n",
    "df_top10_en = df_top10_en.query('topic in @top10list_en')\n",
    "\n",
    "display(df_top10_ru.sample(5))\n",
    "df_top10_en.sample(5)"
   ]
  },
  {
   "cell_type": "markdown",
   "id": "72e50cb3-6641-46af-a76a-d4e798ab4ffa",
   "metadata": {},
   "source": [
    "Заменим номера тем их сформулированными ранее текстами"
   ]
  },
  {
   "cell_type": "code",
   "execution_count": 151,
   "id": "63a5fdb1-a601-4bf8-9847-4194b0a1f045",
   "metadata": {
    "tags": []
   },
   "outputs": [
    {
     "data": {
      "text/html": [
       "<div>\n",
       "<style scoped>\n",
       "    .dataframe tbody tr th:only-of-type {\n",
       "        vertical-align: middle;\n",
       "    }\n",
       "\n",
       "    .dataframe tbody tr th {\n",
       "        vertical-align: top;\n",
       "    }\n",
       "\n",
       "    .dataframe thead th {\n",
       "        text-align: right;\n",
       "    }\n",
       "</style>\n",
       "<table border=\"1\" class=\"dataframe\">\n",
       "  <thead>\n",
       "    <tr style=\"text-align: right;\">\n",
       "      <th></th>\n",
       "      <th>profile_url</th>\n",
       "      <th>post_url</th>\n",
       "      <th>post</th>\n",
       "      <th>reactions_cnt</th>\n",
       "      <th>comments_cnt</th>\n",
       "      <th>reposts_cnt</th>\n",
       "      <th>language</th>\n",
       "      <th>post_len</th>\n",
       "      <th>topic</th>\n",
       "      <th>topic_text</th>\n",
       "    </tr>\n",
       "  </thead>\n",
       "  <tbody>\n",
       "    <tr>\n",
       "      <th>37</th>\n",
       "      <td>https://www.linkedin.com/in/%D0%B0%D0%BD%D0%B4...</td>\n",
       "      <td>0</td>\n",
       "      <td>Всем привет, сегодня мы всей семьёй улетаем в ...</td>\n",
       "      <td>0</td>\n",
       "      <td>0.0</td>\n",
       "      <td>0.0</td>\n",
       "      <td>ru</td>\n",
       "      <td>771</td>\n",
       "      <td>39</td>\n",
       "      <td>поддержка/коллаборация</td>\n",
       "    </tr>\n",
       "    <tr>\n",
       "      <th>1988</th>\n",
       "      <td>https://www.linkedin.com/in/raushan-akayeva/re...</td>\n",
       "      <td>0</td>\n",
       "      <td>100500 различий жизни в Америке и КазахстанеМе...</td>\n",
       "      <td>17</td>\n",
       "      <td>0.0</td>\n",
       "      <td>0.0</td>\n",
       "      <td>ru</td>\n",
       "      <td>1806</td>\n",
       "      <td>56</td>\n",
       "      <td>развитие/тренды</td>\n",
       "    </tr>\n",
       "    <tr>\n",
       "      <th>708</th>\n",
       "      <td>https://www.linkedin.com/in/shoshiev/recent-ac...</td>\n",
       "      <td>0</td>\n",
       "      <td>Дизайн интернет каталога электронных компонент...</td>\n",
       "      <td>4</td>\n",
       "      <td>0.0</td>\n",
       "      <td>0.0</td>\n",
       "      <td>ru</td>\n",
       "      <td>84</td>\n",
       "      <td>4</td>\n",
       "      <td>предложения бизнес-услуг</td>\n",
       "    </tr>\n",
       "    <tr>\n",
       "      <th>1690</th>\n",
       "      <td>https://www.linkedin.com/in/ruslan-kochubarov/...</td>\n",
       "      <td>0</td>\n",
       "      <td>⚠️⚠️⚠️ 52 дизайн системы для вашей работы!Прод...</td>\n",
       "      <td>293</td>\n",
       "      <td>1.0</td>\n",
       "      <td>46.0</td>\n",
       "      <td>ru</td>\n",
       "      <td>931</td>\n",
       "      <td>24</td>\n",
       "      <td>сайты/статьи/чаты</td>\n",
       "    </tr>\n",
       "    <tr>\n",
       "      <th>1281</th>\n",
       "      <td>https://www.linkedin.com/in/abdelhai95/recent-...</td>\n",
       "      <td>0</td>\n",
       "      <td>Друзья привет. Уже несколько месяцев думаю о с...</td>\n",
       "      <td>907</td>\n",
       "      <td>119.0</td>\n",
       "      <td>124.0</td>\n",
       "      <td>ru</td>\n",
       "      <td>601</td>\n",
       "      <td>56</td>\n",
       "      <td>развитие/тренды</td>\n",
       "    </tr>\n",
       "  </tbody>\n",
       "</table>\n",
       "</div>"
      ],
      "text/plain": [
       "                                            profile_url post_url  \\\n",
       "37    https://www.linkedin.com/in/%D0%B0%D0%BD%D0%B4...        0   \n",
       "1988  https://www.linkedin.com/in/raushan-akayeva/re...        0   \n",
       "708   https://www.linkedin.com/in/shoshiev/recent-ac...        0   \n",
       "1690  https://www.linkedin.com/in/ruslan-kochubarov/...        0   \n",
       "1281  https://www.linkedin.com/in/abdelhai95/recent-...        0   \n",
       "\n",
       "                                                   post reactions_cnt  \\\n",
       "37    Всем привет, сегодня мы всей семьёй улетаем в ...             0   \n",
       "1988  100500 различий жизни в Америке и КазахстанеМе...            17   \n",
       "708   Дизайн интернет каталога электронных компонент...             4   \n",
       "1690  ⚠️⚠️⚠️ 52 дизайн системы для вашей работы!Прод...           293   \n",
       "1281  Друзья привет. Уже несколько месяцев думаю о с...           907   \n",
       "\n",
       "      comments_cnt  reposts_cnt language  post_len  topic  \\\n",
       "37             0.0          0.0       ru       771     39   \n",
       "1988           0.0          0.0       ru      1806     56   \n",
       "708            0.0          0.0       ru        84      4   \n",
       "1690           1.0         46.0       ru       931     24   \n",
       "1281         119.0        124.0       ru       601     56   \n",
       "\n",
       "                    topic_text  \n",
       "37      поддержка/коллаборация  \n",
       "1988           развитие/тренды  \n",
       "708   предложения бизнес-услуг  \n",
       "1690         сайты/статьи/чаты  \n",
       "1281           развитие/тренды  "
      ]
     },
     "execution_count": 151,
     "metadata": {},
     "output_type": "execute_result"
    }
   ],
   "source": [
    "def rutopic_num_to_text(num):\n",
    "    return topics_ru_dict[num]\n",
    "\n",
    "df_top10_ru['topic_text'] = df_top10_ru['topic'].apply(rutopic_num_to_text)\n",
    "df_top10_ru.sample(5)"
   ]
  },
  {
   "cell_type": "code",
   "execution_count": 152,
   "id": "63ec109c-c222-4ed7-bb97-d44f8f77a72c",
   "metadata": {
    "tags": []
   },
   "outputs": [
    {
     "data": {
      "text/html": [
       "<div>\n",
       "<style scoped>\n",
       "    .dataframe tbody tr th:only-of-type {\n",
       "        vertical-align: middle;\n",
       "    }\n",
       "\n",
       "    .dataframe tbody tr th {\n",
       "        vertical-align: top;\n",
       "    }\n",
       "\n",
       "    .dataframe thead th {\n",
       "        text-align: right;\n",
       "    }\n",
       "</style>\n",
       "<table border=\"1\" class=\"dataframe\">\n",
       "  <thead>\n",
       "    <tr style=\"text-align: right;\">\n",
       "      <th></th>\n",
       "      <th>profile_url</th>\n",
       "      <th>post_url</th>\n",
       "      <th>post</th>\n",
       "      <th>reactions_cnt</th>\n",
       "      <th>comments_cnt</th>\n",
       "      <th>reposts_cnt</th>\n",
       "      <th>language</th>\n",
       "      <th>post_len</th>\n",
       "      <th>topic</th>\n",
       "      <th>topic_text</th>\n",
       "    </tr>\n",
       "  </thead>\n",
       "  <tbody>\n",
       "    <tr>\n",
       "      <th>5042</th>\n",
       "      <td>https://www.linkedin.com/in/justjeb/recent-act...</td>\n",
       "      <td>0</td>\n",
       "      <td>Yesterday Kobi Kadosh raised some concerns in ...</td>\n",
       "      <td>2</td>\n",
       "      <td>1.0</td>\n",
       "      <td>0.0</td>\n",
       "      <td>en</td>\n",
       "      <td>2501</td>\n",
       "      <td>7</td>\n",
       "      <td>развитие/тренды</td>\n",
       "    </tr>\n",
       "    <tr>\n",
       "      <th>3238</th>\n",
       "      <td>https://www.linkedin.com/in/romanhutnyk/recent...</td>\n",
       "      <td>0</td>\n",
       "      <td>“Customers are coming to expect an easier time...</td>\n",
       "      <td>19</td>\n",
       "      <td>0.0</td>\n",
       "      <td>2.0</td>\n",
       "      <td>en</td>\n",
       "      <td>974</td>\n",
       "      <td>7</td>\n",
       "      <td>развитие/тренды</td>\n",
       "    </tr>\n",
       "    <tr>\n",
       "      <th>5932</th>\n",
       "      <td>https://www.linkedin.com/in/matohin</td>\n",
       "      <td>0</td>\n",
       "      <td>I like Dalio's principles a lot, so decided to...</td>\n",
       "      <td>1.0</td>\n",
       "      <td>0.0</td>\n",
       "      <td>0.0</td>\n",
       "      <td>en</td>\n",
       "      <td>126</td>\n",
       "      <td>98</td>\n",
       "      <td>события</td>\n",
       "    </tr>\n",
       "    <tr>\n",
       "      <th>4250</th>\n",
       "      <td>https://www.linkedin.com/in/nikita-skorobogach...</td>\n",
       "      <td>0</td>\n",
       "      <td>Discover a thriving community of over 100 deve...</td>\n",
       "      <td>9</td>\n",
       "      <td>0.0</td>\n",
       "      <td>0.0</td>\n",
       "      <td>en</td>\n",
       "      <td>393</td>\n",
       "      <td>7</td>\n",
       "      <td>развитие/тренды</td>\n",
       "    </tr>\n",
       "    <tr>\n",
       "      <th>4916</th>\n",
       "      <td>https://www.linkedin.com/in/raiars/recent-acti...</td>\n",
       "      <td>0</td>\n",
       "      <td>I became an NPC and why I'm glad I did.An NPC ...</td>\n",
       "      <td>0</td>\n",
       "      <td>0.0</td>\n",
       "      <td>0.0</td>\n",
       "      <td>en</td>\n",
       "      <td>680</td>\n",
       "      <td>7</td>\n",
       "      <td>развитие/тренды</td>\n",
       "    </tr>\n",
       "  </tbody>\n",
       "</table>\n",
       "</div>"
      ],
      "text/plain": [
       "                                            profile_url post_url  \\\n",
       "5042  https://www.linkedin.com/in/justjeb/recent-act...        0   \n",
       "3238  https://www.linkedin.com/in/romanhutnyk/recent...        0   \n",
       "5932                https://www.linkedin.com/in/matohin        0   \n",
       "4250  https://www.linkedin.com/in/nikita-skorobogach...        0   \n",
       "4916  https://www.linkedin.com/in/raiars/recent-acti...        0   \n",
       "\n",
       "                                                   post reactions_cnt  \\\n",
       "5042  Yesterday Kobi Kadosh raised some concerns in ...             2   \n",
       "3238  “Customers are coming to expect an easier time...            19   \n",
       "5932  I like Dalio's principles a lot, so decided to...           1.0   \n",
       "4250  Discover a thriving community of over 100 deve...             9   \n",
       "4916  I became an NPC and why I'm glad I did.An NPC ...             0   \n",
       "\n",
       "      comments_cnt  reposts_cnt language  post_len  topic       topic_text  \n",
       "5042           1.0          0.0       en      2501      7  развитие/тренды  \n",
       "3238           0.0          2.0       en       974      7  развитие/тренды  \n",
       "5932           0.0          0.0       en       126     98          события  \n",
       "4250           0.0          0.0       en       393      7  развитие/тренды  \n",
       "4916           0.0          0.0       en       680      7  развитие/тренды  "
      ]
     },
     "execution_count": 152,
     "metadata": {},
     "output_type": "execute_result"
    }
   ],
   "source": [
    "def entopic_num_to_text(num):\n",
    "    return topics_en_dict[num]\n",
    "\n",
    "df_top10_en['topic_text'] = df_top10_en['topic'].apply(entopic_num_to_text)\n",
    "df_top10_en.sample(5)"
   ]
  },
  {
   "cell_type": "markdown",
   "id": "8da53901-9d89-484f-b32b-32bb72f12163",
   "metadata": {},
   "source": [
    "Готово. Сформируем общий датасет по двум языкам и решим вопрос со столбцом `comments_cnt`, в котором присутствуют разнородные данные. Придётся заменить запятые и пробелы на точки, чтобы в итоге привести столбец к типу `float`"
   ]
  },
  {
   "cell_type": "code",
   "execution_count": 185,
   "id": "c11aeb6a-e692-44ae-bb25-a65e8b8a3c62",
   "metadata": {
    "tags": []
   },
   "outputs": [],
   "source": [
    "df_top10 = pd.concat([df_top10_en, df_top10_ru])"
   ]
  },
  {
   "cell_type": "code",
   "execution_count": 204,
   "id": "5bc0c9ef-6ddd-46b3-bf50-5893b9fdaaa4",
   "metadata": {
    "tags": []
   },
   "outputs": [],
   "source": [
    "def reactions_type(x):\n",
    "    x = str(x)\n",
    "    if x.__contains__(',') == True:\n",
    "        x = x.replace(',', '.')\n",
    "        return x\n",
    "    elif x.__contains__(' ') == True:\n",
    "        x = x.replace(' ', '.')\n",
    "        return x\n",
    "    return x\n",
    "\n",
    "df_top10['reactions_cnt'] = df_top10['reactions_cnt'].apply(reactions_type).astype('float')"
   ]
  },
  {
   "cell_type": "markdown",
   "id": "605ab309-c5b8-424c-ae32-108b5a8b75dc",
   "metadata": {},
   "source": [
    "## Сводные таблицы"
   ]
  },
  {
   "cell_type": "markdown",
   "id": "44d7515d-05be-4811-97ad-161017aa96e2",
   "metadata": {},
   "source": [
    "Построим сводную таблицу, показывающую информацию по каждой теме в разрезе по языкам: средние и медианные значения количества реакций, комментариев, репостов, а также среднее и медианное значение длины поста.\n",
    "\n",
    "Также будут и максимальные значения"
   ]
  },
  {
   "cell_type": "code",
   "execution_count": 207,
   "id": "e80d88b3-4ff9-40f8-820d-a7f39249ff50",
   "metadata": {
    "tags": []
   },
   "outputs": [
    {
     "data": {
      "text/html": [
       "<div>\n",
       "<style scoped>\n",
       "    .dataframe tbody tr th:only-of-type {\n",
       "        vertical-align: middle;\n",
       "    }\n",
       "\n",
       "    .dataframe tbody tr th {\n",
       "        vertical-align: top;\n",
       "    }\n",
       "\n",
       "    .dataframe thead tr th {\n",
       "        text-align: left;\n",
       "    }\n",
       "\n",
       "    .dataframe thead tr:last-of-type th {\n",
       "        text-align: right;\n",
       "    }\n",
       "</style>\n",
       "<table border=\"1\" class=\"dataframe\">\n",
       "  <thead>\n",
       "    <tr>\n",
       "      <th></th>\n",
       "      <th></th>\n",
       "      <th colspan=\"4\" halign=\"left\">mean</th>\n",
       "      <th colspan=\"4\" halign=\"left\">median</th>\n",
       "      <th colspan=\"4\" halign=\"left\">max</th>\n",
       "    </tr>\n",
       "    <tr>\n",
       "      <th></th>\n",
       "      <th></th>\n",
       "      <th>comments_cnt</th>\n",
       "      <th>post_len</th>\n",
       "      <th>reactions_cnt</th>\n",
       "      <th>reposts_cnt</th>\n",
       "      <th>comments_cnt</th>\n",
       "      <th>post_len</th>\n",
       "      <th>reactions_cnt</th>\n",
       "      <th>reposts_cnt</th>\n",
       "      <th>comments_cnt</th>\n",
       "      <th>post_len</th>\n",
       "      <th>reactions_cnt</th>\n",
       "      <th>reposts_cnt</th>\n",
       "    </tr>\n",
       "    <tr>\n",
       "      <th>topic_text</th>\n",
       "      <th>language</th>\n",
       "      <th></th>\n",
       "      <th></th>\n",
       "      <th></th>\n",
       "      <th></th>\n",
       "      <th></th>\n",
       "      <th></th>\n",
       "      <th></th>\n",
       "      <th></th>\n",
       "      <th></th>\n",
       "      <th></th>\n",
       "      <th></th>\n",
       "      <th></th>\n",
       "    </tr>\n",
       "  </thead>\n",
       "  <tbody>\n",
       "    <tr>\n",
       "      <th>AI/ML</th>\n",
       "      <th>en</th>\n",
       "      <td>18.361111</td>\n",
       "      <td>325.111111</td>\n",
       "      <td>30.686514</td>\n",
       "      <td>23.944444</td>\n",
       "      <td>0.0</td>\n",
       "      <td>229.5</td>\n",
       "      <td>5.0</td>\n",
       "      <td>0.0</td>\n",
       "      <td>635.0</td>\n",
       "      <td>1729</td>\n",
       "      <td>626.0</td>\n",
       "      <td>637.0</td>\n",
       "    </tr>\n",
       "    <tr>\n",
       "      <th rowspan=\"2\" valign=\"top\">анонсы/стартапы</th>\n",
       "      <th>en</th>\n",
       "      <td>10.867470</td>\n",
       "      <td>372.060241</td>\n",
       "      <td>24.575422</td>\n",
       "      <td>1.144578</td>\n",
       "      <td>0.0</td>\n",
       "      <td>288.0</td>\n",
       "      <td>6.0</td>\n",
       "      <td>0.0</td>\n",
       "      <td>764.0</td>\n",
       "      <td>1231</td>\n",
       "      <td>905.0</td>\n",
       "      <td>27.0</td>\n",
       "    </tr>\n",
       "    <tr>\n",
       "      <th>ru</th>\n",
       "      <td>13.151515</td>\n",
       "      <td>607.454545</td>\n",
       "      <td>53.842152</td>\n",
       "      <td>20.939394</td>\n",
       "      <td>0.0</td>\n",
       "      <td>416.0</td>\n",
       "      <td>3.0</td>\n",
       "      <td>0.0</td>\n",
       "      <td>143.0</td>\n",
       "      <td>2600</td>\n",
       "      <td>592.0</td>\n",
       "      <td>279.0</td>\n",
       "    </tr>\n",
       "    <tr>\n",
       "      <th rowspan=\"2\" valign=\"top\">выход на работу</th>\n",
       "      <th>en</th>\n",
       "      <td>11.552941</td>\n",
       "      <td>168.705882</td>\n",
       "      <td>21.074553</td>\n",
       "      <td>0.376471</td>\n",
       "      <td>0.0</td>\n",
       "      <td>89.0</td>\n",
       "      <td>8.0</td>\n",
       "      <td>0.0</td>\n",
       "      <td>705.0</td>\n",
       "      <td>1088</td>\n",
       "      <td>250.0</td>\n",
       "      <td>7.0</td>\n",
       "    </tr>\n",
       "    <tr>\n",
       "      <th>ru</th>\n",
       "      <td>8.485714</td>\n",
       "      <td>140.414286</td>\n",
       "      <td>24.719400</td>\n",
       "      <td>0.142857</td>\n",
       "      <td>1.0</td>\n",
       "      <td>109.5</td>\n",
       "      <td>10.5</td>\n",
       "      <td>0.0</td>\n",
       "      <td>427.0</td>\n",
       "      <td>1108</td>\n",
       "      <td>134.0</td>\n",
       "      <td>9.0</td>\n",
       "    </tr>\n",
       "    <tr>\n",
       "      <th rowspan=\"2\" valign=\"top\">новый навык</th>\n",
       "      <th>en</th>\n",
       "      <td>1.933333</td>\n",
       "      <td>204.466667</td>\n",
       "      <td>24.866667</td>\n",
       "      <td>1.186667</td>\n",
       "      <td>0.0</td>\n",
       "      <td>159.0</td>\n",
       "      <td>9.0</td>\n",
       "      <td>0.0</td>\n",
       "      <td>58.0</td>\n",
       "      <td>685</td>\n",
       "      <td>861.0</td>\n",
       "      <td>32.0</td>\n",
       "    </tr>\n",
       "    <tr>\n",
       "      <th>ru</th>\n",
       "      <td>0.484848</td>\n",
       "      <td>143.727273</td>\n",
       "      <td>20.666667</td>\n",
       "      <td>0.727273</td>\n",
       "      <td>0.0</td>\n",
       "      <td>140.0</td>\n",
       "      <td>1.0</td>\n",
       "      <td>0.0</td>\n",
       "      <td>12.0</td>\n",
       "      <td>310</td>\n",
       "      <td>639.0</td>\n",
       "      <td>21.0</td>\n",
       "    </tr>\n",
       "    <tr>\n",
       "      <th rowspan=\"2\" valign=\"top\">поддержка/коллаборация</th>\n",
       "      <th>en</th>\n",
       "      <td>8.514881</td>\n",
       "      <td>576.288690</td>\n",
       "      <td>24.987949</td>\n",
       "      <td>12.395833</td>\n",
       "      <td>0.0</td>\n",
       "      <td>443.5</td>\n",
       "      <td>6.0</td>\n",
       "      <td>0.0</td>\n",
       "      <td>521.0</td>\n",
       "      <td>2958</td>\n",
       "      <td>894.0</td>\n",
       "      <td>702.0</td>\n",
       "    </tr>\n",
       "    <tr>\n",
       "      <th>ru</th>\n",
       "      <td>4.844488</td>\n",
       "      <td>886.620079</td>\n",
       "      <td>18.984252</td>\n",
       "      <td>1.381890</td>\n",
       "      <td>0.0</td>\n",
       "      <td>663.0</td>\n",
       "      <td>6.0</td>\n",
       "      <td>0.0</td>\n",
       "      <td>170.0</td>\n",
       "      <td>2994</td>\n",
       "      <td>640.0</td>\n",
       "      <td>110.0</td>\n",
       "    </tr>\n",
       "    <tr>\n",
       "      <th rowspan=\"2\" valign=\"top\">поиск работы</th>\n",
       "      <th>en</th>\n",
       "      <td>1.617978</td>\n",
       "      <td>202.741573</td>\n",
       "      <td>20.134831</td>\n",
       "      <td>2.898876</td>\n",
       "      <td>1.0</td>\n",
       "      <td>170.0</td>\n",
       "      <td>8.0</td>\n",
       "      <td>1.0</td>\n",
       "      <td>10.0</td>\n",
       "      <td>970</td>\n",
       "      <td>121.0</td>\n",
       "      <td>20.0</td>\n",
       "    </tr>\n",
       "    <tr>\n",
       "      <th>ru</th>\n",
       "      <td>0.833333</td>\n",
       "      <td>243.030303</td>\n",
       "      <td>12.742424</td>\n",
       "      <td>2.121212</td>\n",
       "      <td>0.0</td>\n",
       "      <td>208.0</td>\n",
       "      <td>5.0</td>\n",
       "      <td>1.0</td>\n",
       "      <td>7.0</td>\n",
       "      <td>692</td>\n",
       "      <td>171.0</td>\n",
       "      <td>24.0</td>\n",
       "    </tr>\n",
       "    <tr>\n",
       "      <th rowspan=\"2\" valign=\"top\">поиск сотрудников</th>\n",
       "      <th>en</th>\n",
       "      <td>0.147059</td>\n",
       "      <td>457.235294</td>\n",
       "      <td>3.323529</td>\n",
       "      <td>0.411765</td>\n",
       "      <td>0.0</td>\n",
       "      <td>71.0</td>\n",
       "      <td>2.0</td>\n",
       "      <td>0.0</td>\n",
       "      <td>2.0</td>\n",
       "      <td>2948</td>\n",
       "      <td>26.0</td>\n",
       "      <td>5.0</td>\n",
       "    </tr>\n",
       "    <tr>\n",
       "      <th>ru</th>\n",
       "      <td>1.369231</td>\n",
       "      <td>838.046154</td>\n",
       "      <td>16.815385</td>\n",
       "      <td>1.507692</td>\n",
       "      <td>0.0</td>\n",
       "      <td>675.0</td>\n",
       "      <td>6.0</td>\n",
       "      <td>0.0</td>\n",
       "      <td>57.0</td>\n",
       "      <td>2613</td>\n",
       "      <td>400.0</td>\n",
       "      <td>41.0</td>\n",
       "    </tr>\n",
       "    <tr>\n",
       "      <th>предложения бизнес-услуг</th>\n",
       "      <th>ru</th>\n",
       "      <td>0.166667</td>\n",
       "      <td>207.638889</td>\n",
       "      <td>3.861111</td>\n",
       "      <td>0.111111</td>\n",
       "      <td>0.0</td>\n",
       "      <td>148.5</td>\n",
       "      <td>1.5</td>\n",
       "      <td>0.0</td>\n",
       "      <td>4.0</td>\n",
       "      <td>739</td>\n",
       "      <td>44.0</td>\n",
       "      <td>2.0</td>\n",
       "    </tr>\n",
       "    <tr>\n",
       "      <th rowspan=\"2\" valign=\"top\">развитие/тренды</th>\n",
       "      <th>en</th>\n",
       "      <td>11.938542</td>\n",
       "      <td>843.444097</td>\n",
       "      <td>20.900023</td>\n",
       "      <td>12.031944</td>\n",
       "      <td>0.0</td>\n",
       "      <td>677.0</td>\n",
       "      <td>6.0</td>\n",
       "      <td>0.0</td>\n",
       "      <td>967.0</td>\n",
       "      <td>2983</td>\n",
       "      <td>995.0</td>\n",
       "      <td>979.0</td>\n",
       "    </tr>\n",
       "    <tr>\n",
       "      <th>ru</th>\n",
       "      <td>5.601361</td>\n",
       "      <td>1169.337415</td>\n",
       "      <td>27.057824</td>\n",
       "      <td>6.238095</td>\n",
       "      <td>0.0</td>\n",
       "      <td>987.0</td>\n",
       "      <td>6.0</td>\n",
       "      <td>0.0</td>\n",
       "      <td>449.0</td>\n",
       "      <td>2987</td>\n",
       "      <td>921.0</td>\n",
       "      <td>562.0</td>\n",
       "    </tr>\n",
       "    <tr>\n",
       "      <th rowspan=\"2\" valign=\"top\">сайты/статьи/чаты</th>\n",
       "      <th>en</th>\n",
       "      <td>17.065934</td>\n",
       "      <td>484.637363</td>\n",
       "      <td>20.033132</td>\n",
       "      <td>9.659341</td>\n",
       "      <td>0.0</td>\n",
       "      <td>311.0</td>\n",
       "      <td>4.0</td>\n",
       "      <td>0.0</td>\n",
       "      <td>502.0</td>\n",
       "      <td>1931</td>\n",
       "      <td>669.0</td>\n",
       "      <td>410.0</td>\n",
       "    </tr>\n",
       "    <tr>\n",
       "      <th>ru</th>\n",
       "      <td>0.571429</td>\n",
       "      <td>624.357143</td>\n",
       "      <td>20.928571</td>\n",
       "      <td>1.928571</td>\n",
       "      <td>0.0</td>\n",
       "      <td>537.0</td>\n",
       "      <td>9.5</td>\n",
       "      <td>0.0</td>\n",
       "      <td>7.0</td>\n",
       "      <td>1490</td>\n",
       "      <td>293.0</td>\n",
       "      <td>46.0</td>\n",
       "    </tr>\n",
       "    <tr>\n",
       "      <th rowspan=\"2\" valign=\"top\">события</th>\n",
       "      <th>en</th>\n",
       "      <td>1.106557</td>\n",
       "      <td>236.647541</td>\n",
       "      <td>9.472008</td>\n",
       "      <td>1.631148</td>\n",
       "      <td>0.0</td>\n",
       "      <td>176.5</td>\n",
       "      <td>6.0</td>\n",
       "      <td>0.0</td>\n",
       "      <td>87.0</td>\n",
       "      <td>1513</td>\n",
       "      <td>61.0</td>\n",
       "      <td>121.0</td>\n",
       "    </tr>\n",
       "    <tr>\n",
       "      <th>ru</th>\n",
       "      <td>1.377049</td>\n",
       "      <td>604.983607</td>\n",
       "      <td>10.475410</td>\n",
       "      <td>0.590164</td>\n",
       "      <td>0.0</td>\n",
       "      <td>520.0</td>\n",
       "      <td>3.0</td>\n",
       "      <td>0.0</td>\n",
       "      <td>29.0</td>\n",
       "      <td>1693</td>\n",
       "      <td>150.0</td>\n",
       "      <td>9.0</td>\n",
       "    </tr>\n",
       "  </tbody>\n",
       "</table>\n",
       "</div>"
      ],
      "text/plain": [
       "                                          mean                             \\\n",
       "                                  comments_cnt     post_len reactions_cnt   \n",
       "topic_text               language                                           \n",
       "AI/ML                    en          18.361111   325.111111     30.686514   \n",
       "анонсы/стартапы          en          10.867470   372.060241     24.575422   \n",
       "                         ru          13.151515   607.454545     53.842152   \n",
       "выход на работу          en          11.552941   168.705882     21.074553   \n",
       "                         ru           8.485714   140.414286     24.719400   \n",
       "новый навык              en           1.933333   204.466667     24.866667   \n",
       "                         ru           0.484848   143.727273     20.666667   \n",
       "поддержка/коллаборация   en           8.514881   576.288690     24.987949   \n",
       "                         ru           4.844488   886.620079     18.984252   \n",
       "поиск работы             en           1.617978   202.741573     20.134831   \n",
       "                         ru           0.833333   243.030303     12.742424   \n",
       "поиск сотрудников        en           0.147059   457.235294      3.323529   \n",
       "                         ru           1.369231   838.046154     16.815385   \n",
       "предложения бизнес-услуг ru           0.166667   207.638889      3.861111   \n",
       "развитие/тренды          en          11.938542   843.444097     20.900023   \n",
       "                         ru           5.601361  1169.337415     27.057824   \n",
       "сайты/статьи/чаты        en          17.065934   484.637363     20.033132   \n",
       "                         ru           0.571429   624.357143     20.928571   \n",
       "события                  en           1.106557   236.647541      9.472008   \n",
       "                         ru           1.377049   604.983607     10.475410   \n",
       "\n",
       "                                                    median           \\\n",
       "                                  reposts_cnt comments_cnt post_len   \n",
       "topic_text               language                                     \n",
       "AI/ML                    en         23.944444          0.0    229.5   \n",
       "анонсы/стартапы          en          1.144578          0.0    288.0   \n",
       "                         ru         20.939394          0.0    416.0   \n",
       "выход на работу          en          0.376471          0.0     89.0   \n",
       "                         ru          0.142857          1.0    109.5   \n",
       "новый навык              en          1.186667          0.0    159.0   \n",
       "                         ru          0.727273          0.0    140.0   \n",
       "поддержка/коллаборация   en         12.395833          0.0    443.5   \n",
       "                         ru          1.381890          0.0    663.0   \n",
       "поиск работы             en          2.898876          1.0    170.0   \n",
       "                         ru          2.121212          0.0    208.0   \n",
       "поиск сотрудников        en          0.411765          0.0     71.0   \n",
       "                         ru          1.507692          0.0    675.0   \n",
       "предложения бизнес-услуг ru          0.111111          0.0    148.5   \n",
       "развитие/тренды          en         12.031944          0.0    677.0   \n",
       "                         ru          6.238095          0.0    987.0   \n",
       "сайты/статьи/чаты        en          9.659341          0.0    311.0   \n",
       "                         ru          1.928571          0.0    537.0   \n",
       "события                  en          1.631148          0.0    176.5   \n",
       "                         ru          0.590164          0.0    520.0   \n",
       "\n",
       "                                                                     max  \\\n",
       "                                  reactions_cnt reposts_cnt comments_cnt   \n",
       "topic_text               language                                          \n",
       "AI/ML                    en                 5.0         0.0        635.0   \n",
       "анонсы/стартапы          en                 6.0         0.0        764.0   \n",
       "                         ru                 3.0         0.0        143.0   \n",
       "выход на работу          en                 8.0         0.0        705.0   \n",
       "                         ru                10.5         0.0        427.0   \n",
       "новый навык              en                 9.0         0.0         58.0   \n",
       "                         ru                 1.0         0.0         12.0   \n",
       "поддержка/коллаборация   en                 6.0         0.0        521.0   \n",
       "                         ru                 6.0         0.0        170.0   \n",
       "поиск работы             en                 8.0         1.0         10.0   \n",
       "                         ru                 5.0         1.0          7.0   \n",
       "поиск сотрудников        en                 2.0         0.0          2.0   \n",
       "                         ru                 6.0         0.0         57.0   \n",
       "предложения бизнес-услуг ru                 1.5         0.0          4.0   \n",
       "развитие/тренды          en                 6.0         0.0        967.0   \n",
       "                         ru                 6.0         0.0        449.0   \n",
       "сайты/статьи/чаты        en                 4.0         0.0        502.0   \n",
       "                         ru                 9.5         0.0          7.0   \n",
       "события                  en                 6.0         0.0         87.0   \n",
       "                         ru                 3.0         0.0         29.0   \n",
       "\n",
       "                                                                      \n",
       "                                  post_len reactions_cnt reposts_cnt  \n",
       "topic_text               language                                     \n",
       "AI/ML                    en           1729         626.0       637.0  \n",
       "анонсы/стартапы          en           1231         905.0        27.0  \n",
       "                         ru           2600         592.0       279.0  \n",
       "выход на работу          en           1088         250.0         7.0  \n",
       "                         ru           1108         134.0         9.0  \n",
       "новый навык              en            685         861.0        32.0  \n",
       "                         ru            310         639.0        21.0  \n",
       "поддержка/коллаборация   en           2958         894.0       702.0  \n",
       "                         ru           2994         640.0       110.0  \n",
       "поиск работы             en            970         121.0        20.0  \n",
       "                         ru            692         171.0        24.0  \n",
       "поиск сотрудников        en           2948          26.0         5.0  \n",
       "                         ru           2613         400.0        41.0  \n",
       "предложения бизнес-услуг ru            739          44.0         2.0  \n",
       "развитие/тренды          en           2983         995.0       979.0  \n",
       "                         ru           2987         921.0       562.0  \n",
       "сайты/статьи/чаты        en           1931         669.0       410.0  \n",
       "                         ru           1490         293.0        46.0  \n",
       "события                  en           1513          61.0       121.0  \n",
       "                         ru           1693         150.0         9.0  "
      ]
     },
     "execution_count": 207,
     "metadata": {},
     "output_type": "execute_result"
    }
   ],
   "source": [
    "pd.pivot_table(df_top10, index=['topic_text', 'language'], values=['reactions_cnt', 'comments_cnt', 'reposts_cnt', 'post_len'], aggfunc=['mean', 'median', 'max'])"
   ]
  },
  {
   "cell_type": "markdown",
   "id": "e55feb55-a279-4e8c-a508-942392f760ca",
   "metadata": {},
   "source": [
    "**Выводы**: ???"
   ]
  },
  {
   "cell_type": "markdown",
   "id": "9c1b109b-a5eb-4919-8a70-1dbe27ac5da1",
   "metadata": {},
   "source": [
    "Выведем ту же информацию, но без раскладки по текстам"
   ]
  },
  {
   "cell_type": "code",
   "execution_count": 211,
   "id": "1184c1f7-9874-414c-8fca-aa788bb1cb13",
   "metadata": {
    "tags": []
   },
   "outputs": [
    {
     "data": {
      "text/html": [
       "<div>\n",
       "<style scoped>\n",
       "    .dataframe tbody tr th:only-of-type {\n",
       "        vertical-align: middle;\n",
       "    }\n",
       "\n",
       "    .dataframe tbody tr th {\n",
       "        vertical-align: top;\n",
       "    }\n",
       "\n",
       "    .dataframe thead tr th {\n",
       "        text-align: left;\n",
       "    }\n",
       "\n",
       "    .dataframe thead tr:last-of-type th {\n",
       "        text-align: right;\n",
       "    }\n",
       "</style>\n",
       "<table border=\"1\" class=\"dataframe\">\n",
       "  <thead>\n",
       "    <tr>\n",
       "      <th></th>\n",
       "      <th colspan=\"4\" halign=\"left\">mean</th>\n",
       "      <th colspan=\"4\" halign=\"left\">median</th>\n",
       "      <th colspan=\"4\" halign=\"left\">max</th>\n",
       "    </tr>\n",
       "    <tr>\n",
       "      <th></th>\n",
       "      <th>comments_cnt</th>\n",
       "      <th>post_len</th>\n",
       "      <th>reactions_cnt</th>\n",
       "      <th>reposts_cnt</th>\n",
       "      <th>comments_cnt</th>\n",
       "      <th>post_len</th>\n",
       "      <th>reactions_cnt</th>\n",
       "      <th>reposts_cnt</th>\n",
       "      <th>comments_cnt</th>\n",
       "      <th>post_len</th>\n",
       "      <th>reactions_cnt</th>\n",
       "      <th>reposts_cnt</th>\n",
       "    </tr>\n",
       "    <tr>\n",
       "      <th>language</th>\n",
       "      <th></th>\n",
       "      <th></th>\n",
       "      <th></th>\n",
       "      <th></th>\n",
       "      <th></th>\n",
       "      <th></th>\n",
       "      <th></th>\n",
       "      <th></th>\n",
       "      <th></th>\n",
       "      <th></th>\n",
       "      <th></th>\n",
       "      <th></th>\n",
       "    </tr>\n",
       "  </thead>\n",
       "  <tbody>\n",
       "    <tr>\n",
       "      <th>en</th>\n",
       "      <td>10.878493</td>\n",
       "      <td>725.153807</td>\n",
       "      <td>20.889552</td>\n",
       "      <td>10.797488</td>\n",
       "      <td>0.0</td>\n",
       "      <td>532</td>\n",
       "      <td>6.0</td>\n",
       "      <td>0.0</td>\n",
       "      <td>967.0</td>\n",
       "      <td>2983</td>\n",
       "      <td>995.0</td>\n",
       "      <td>979.0</td>\n",
       "    </tr>\n",
       "    <tr>\n",
       "      <th>ru</th>\n",
       "      <td>4.814679</td>\n",
       "      <td>903.277064</td>\n",
       "      <td>22.641376</td>\n",
       "      <td>3.880122</td>\n",
       "      <td>0.0</td>\n",
       "      <td>684</td>\n",
       "      <td>5.0</td>\n",
       "      <td>0.0</td>\n",
       "      <td>449.0</td>\n",
       "      <td>2994</td>\n",
       "      <td>921.0</td>\n",
       "      <td>562.0</td>\n",
       "    </tr>\n",
       "  </tbody>\n",
       "</table>\n",
       "</div>"
      ],
      "text/plain": [
       "                 mean                                             median  \\\n",
       "         comments_cnt    post_len reactions_cnt reposts_cnt comments_cnt   \n",
       "language                                                                   \n",
       "en          10.878493  725.153807     20.889552   10.797488          0.0   \n",
       "ru           4.814679  903.277064     22.641376    3.880122          0.0   \n",
       "\n",
       "                                                     max           \\\n",
       "         post_len reactions_cnt reposts_cnt comments_cnt post_len   \n",
       "language                                                            \n",
       "en            532           6.0         0.0        967.0     2983   \n",
       "ru            684           5.0         0.0        449.0     2994   \n",
       "\n",
       "                                    \n",
       "         reactions_cnt reposts_cnt  \n",
       "language                            \n",
       "en               995.0       979.0  \n",
       "ru               921.0       562.0  "
      ]
     },
     "execution_count": 211,
     "metadata": {},
     "output_type": "execute_result"
    }
   ],
   "source": [
    "pd.pivot_table(df_top10, index=['language'], values=['reactions_cnt', 'comments_cnt', 'reposts_cnt', 'post_len'], aggfunc=['mean', 'median', 'max'])"
   ]
  },
  {
   "cell_type": "markdown",
   "id": "087b09aa-1761-4bd8-9a01-b41464b0c98a",
   "metadata": {},
   "source": [
    "**Выводы**: ???"
   ]
  },
  {
   "cell_type": "markdown",
   "id": "54d05659-392d-4da9-8cb0-8b511a94d2e1",
   "metadata": {},
   "source": [
    "Посчитаем количество текстов по темам и языкам"
   ]
  },
  {
   "cell_type": "code",
   "execution_count": 218,
   "id": "cdb0ac33-7d10-466a-9411-231703732321",
   "metadata": {
    "tags": []
   },
   "outputs": [
    {
     "data": {
      "text/html": [
       "<div>\n",
       "<style scoped>\n",
       "    .dataframe tbody tr th:only-of-type {\n",
       "        vertical-align: middle;\n",
       "    }\n",
       "\n",
       "    .dataframe tbody tr th {\n",
       "        vertical-align: top;\n",
       "    }\n",
       "\n",
       "    .dataframe thead tr th {\n",
       "        text-align: left;\n",
       "    }\n",
       "</style>\n",
       "<table border=\"1\" class=\"dataframe\">\n",
       "  <thead>\n",
       "    <tr>\n",
       "      <th></th>\n",
       "      <th>topic_text</th>\n",
       "      <th>AI/ML</th>\n",
       "      <th colspan=\"2\" halign=\"left\">анонсы/стартапы</th>\n",
       "      <th colspan=\"2\" halign=\"left\">выход на работу</th>\n",
       "      <th colspan=\"2\" halign=\"left\">новый навык</th>\n",
       "      <th colspan=\"2\" halign=\"left\">поддержка/коллаборация</th>\n",
       "      <th colspan=\"2\" halign=\"left\">поиск работы</th>\n",
       "      <th colspan=\"2\" halign=\"left\">поиск сотрудников</th>\n",
       "      <th>предложения бизнес-услуг</th>\n",
       "      <th colspan=\"2\" halign=\"left\">развитие/тренды</th>\n",
       "      <th colspan=\"2\" halign=\"left\">сайты/статьи/чаты</th>\n",
       "      <th colspan=\"2\" halign=\"left\">события</th>\n",
       "    </tr>\n",
       "    <tr>\n",
       "      <th></th>\n",
       "      <th>language</th>\n",
       "      <th>en</th>\n",
       "      <th>en</th>\n",
       "      <th>ru</th>\n",
       "      <th>en</th>\n",
       "      <th>ru</th>\n",
       "      <th>en</th>\n",
       "      <th>ru</th>\n",
       "      <th>en</th>\n",
       "      <th>ru</th>\n",
       "      <th>en</th>\n",
       "      <th>ru</th>\n",
       "      <th>en</th>\n",
       "      <th>ru</th>\n",
       "      <th>ru</th>\n",
       "      <th>en</th>\n",
       "      <th>ru</th>\n",
       "      <th>en</th>\n",
       "      <th>ru</th>\n",
       "      <th>en</th>\n",
       "      <th>ru</th>\n",
       "    </tr>\n",
       "  </thead>\n",
       "  <tbody>\n",
       "    <tr>\n",
       "      <th>count</th>\n",
       "      <th>topic</th>\n",
       "      <td>72</td>\n",
       "      <td>83</td>\n",
       "      <td>33</td>\n",
       "      <td>85</td>\n",
       "      <td>70</td>\n",
       "      <td>75</td>\n",
       "      <td>33</td>\n",
       "      <td>336</td>\n",
       "      <td>508</td>\n",
       "      <td>89</td>\n",
       "      <td>66</td>\n",
       "      <td>68</td>\n",
       "      <td>65</td>\n",
       "      <td>36</td>\n",
       "      <td>2880</td>\n",
       "      <td>735</td>\n",
       "      <td>91</td>\n",
       "      <td>28</td>\n",
       "      <td>122</td>\n",
       "      <td>61</td>\n",
       "    </tr>\n",
       "  </tbody>\n",
       "</table>\n",
       "</div>"
      ],
      "text/plain": [
       "topic_text  AI/ML анонсы/стартапы     выход на работу     новый навык      \\\n",
       "language       en              en  ru              en  ru          en  ru   \n",
       "count topic    72              83  33              85  70          75  33   \n",
       "\n",
       "topic_text  поддержка/коллаборация      поиск работы     поиск сотрудников  \\\n",
       "language                        en   ru           en  ru                en   \n",
       "count topic                    336  508           89  66                68   \n",
       "\n",
       "topic_text      предложения бизнес-услуг развитие/тренды       \\\n",
       "language     ru                       ru              en   ru   \n",
       "count topic  65                       36            2880  735   \n",
       "\n",
       "topic_text  сайты/статьи/чаты     события      \n",
       "language                   en  ru      en  ru  \n",
       "count topic                91  28     122  61  "
      ]
     },
     "execution_count": 218,
     "metadata": {},
     "output_type": "execute_result"
    }
   ],
   "source": [
    "pd.pivot_table(df_top10, index=['topic_text', 'language'], values='topic', aggfunc=['count']).transpose()"
   ]
  },
  {
   "cell_type": "markdown",
   "id": "7901a361-10be-4ccf-b17f-8759ab7eeea0",
   "metadata": {},
   "source": [
    "Для большей наглядности представим в виде графика"
   ]
  },
  {
   "cell_type": "code",
   "execution_count": 214,
   "id": "2a103753-f253-4c8e-81b0-33c951dad75b",
   "metadata": {
    "tags": []
   },
   "outputs": [
    {
     "data": {
      "image/png": "[encoded data removed]",
      "text/plain": [
       "<Figure size 1200x600 with 1 Axes>"
      ]
     },
     "metadata": {},
     "output_type": "display_data"
    }
   ],
   "source": [
    "plt.figure(figsize=(12, 6))\n",
    "sns.countplot(df_top10, x=df_top10['topic_text'], hue='language').set_title('Популярные темы по языкам')\n",
    "plt.xticks(rotation=90)\n",
    "plt.show()"
   ]
  },
  {
   "cell_type": "markdown",
   "id": "013a6bd2-cae5-43a2-b6a4-98fe1531bbfd",
   "metadata": {},
   "source": [
    "**Выводы**: ???"
   ]
  }
 ],
 "metadata": {
  "kernelspec": {
   "display_name": "Python 3 (ipykernel)",
   "language": "python",
   "name": "python3"
  },
  "language_info": {
   "codemirror_mode": {
    "name": "ipython",
    "version": 3
   },
   "file_extension": ".py",
   "mimetype": "text/x-python",
   "name": "python",
   "nbconvert_exporter": "python",
   "pygments_lexer": "ipython3",
   "version": "3.11.3"
  }
 },
 "nbformat": 4,
 "nbformat_minor": 5
}
