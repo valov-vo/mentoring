{
 "cells": [
  {
   "cell_type": "markdown",
   "id": "09c1fb0b",
   "metadata": {},
   "source": [
    "<div style=\"border:solid green 2px; padding: 20px\">\n",
    "    \n",
    "<b>Привет, команда!</b>\n",
    "\n",
    "Меня зовут Алан, я буду проводить ревью твоего проекта. \n",
    "\n",
    "\n",
    "Работа над проектом этой Мастерской завершена. Моя основная цель — не указать на совершенные вами ошибки, а поделиться своим опытом и помочь вам стать хорошими специалистоми по Data Science, помочь вам подготовить исследование максимально качествено, чтобы было не стыдно ссылаться на данную работу в своем резюме!\n",
    "\n",
    "Ниже вы найдете мои комментарии - **пожалуйста, не перемещайте, не изменяйте и не удаляйте их**. Увидев у вас ошибку, я лишь укажу на ее наличие. Это позволит вам исправить ее в финальной версии проекта. Я буду использовать цветовую разметку:\n",
    "\n",
    "<div class=\"alert alert-danger\">\n",
    "<b>Комментарий ревьюера ❌:</b> Так выделены самые важные замечания. Эти замечания очень важные! Их нужно обязательно отработать, перед тем как показывать работу другим специалистам по Data Science </div>\n",
    "\n",
    "<div class=\"alert alert-warning\">\n",
    "<b>Комментарий ревьюера ⚠️:</b> Так выделены небольшие замечания. Я надеюсь, что их вы тоже учтете - ваш проект от этого станет только лучше.\n",
    "\n",
    "</div>\n",
    "\n",
    "<div class=\"alert alert-success\">\n",
    "<b>Комментарий ревьюера ✔️:</b> Так я выделяю правильные и верные действия, а так же все остальные комментарии.</div>\n",
    "\n",
    "После получения ревью работы постарайтесь внести изменения в исследование в соответствии с моими комментариями. Это позволит сделать твою работу еще лучше! "
   ]
  },
  {
   "cell_type": "markdown",
   "id": "ba21d108",
   "metadata": {},
   "source": [
    "# Предобработка постов"
   ]
  },
  {
   "cell_type": "code",
   "execution_count": 1,
   "id": "53d45bc9",
   "metadata": {},
   "outputs": [],
   "source": [
    "# импорт библиотек\n",
    "import ast\n",
    "import numpy as np\n",
    "import pandas as pd"
   ]
  },
  {
   "cell_type": "markdown",
   "id": "5c76143e",
   "metadata": {},
   "source": [
    "<div class=\"alert alert-success\">\n",
    "<b>Комментарий ревьюера ✔️:</b> Импорты структурированы и выведены в начало документа - 👍</div>"
   ]
  },
  {
   "cell_type": "markdown",
   "id": "bd101cd9",
   "metadata": {},
   "source": [
    "##  Предобработка постов, собранных своей командой (на примере файла с информацией о разработчиках)"
   ]
  },
  {
   "cell_type": "code",
   "execution_count": 2,
   "id": "2f5ced57",
   "metadata": {},
   "outputs": [],
   "source": [
    "# указание пути к данным для предобработки\n",
    "DATA_PATH = 'developers.csv'"
   ]
  },
  {
   "cell_type": "markdown",
   "id": "f0835f79",
   "metadata": {},
   "source": [
    "В части собранных постов комментарии представляют собой текст формата \"3 комментария\". Создадим функцию `get_comment_cnt` для сохранения количества комментариев в формате числа:"
   ]
  },
  {
   "cell_type": "code",
   "execution_count": 3,
   "id": "02ba04bd",
   "metadata": {},
   "outputs": [],
   "source": [
    "# создание функции get_comment_cnt\n",
    "def get_comment_cnt(comment_cnt) -> int:\n",
    "    '''\n",
    "    Функция вычленяет количество комментариев и возвращает его в формате int.\n",
    "    \n",
    "    Аргументы:\n",
    "    - comment_cnt - значение количества комментариев.\n",
    "    '''\n",
    "    \n",
    "    if type(comment_cnt) == str:\n",
    "        toy = comment_cnt.split()\n",
    "        return int(comment_cnt[0])\n",
    "    else:\n",
    "        return comment_cnt"
   ]
  },
  {
   "cell_type": "code",
   "execution_count": 4,
   "id": "b86fc72f",
   "metadata": {},
   "outputs": [
    {
     "data": {
      "text/html": [
       "<div>\n",
       "<style scoped>\n",
       "    .dataframe tbody tr th:only-of-type {\n",
       "        vertical-align: middle;\n",
       "    }\n",
       "\n",
       "    .dataframe tbody tr th {\n",
       "        vertical-align: top;\n",
       "    }\n",
       "\n",
       "    .dataframe thead th {\n",
       "        text-align: right;\n",
       "    }\n",
       "</style>\n",
       "<table border=\"1\" class=\"dataframe\">\n",
       "  <thead>\n",
       "    <tr style=\"text-align: right;\">\n",
       "      <th></th>\n",
       "      <th>profile_url</th>\n",
       "      <th>name</th>\n",
       "      <th>works_at</th>\n",
       "      <th>exp_list</th>\n",
       "      <th>posts</th>\n",
       "      <th>reactions</th>\n",
       "      <th>comments</th>\n",
       "      <th>post_url</th>\n",
       "    </tr>\n",
       "  </thead>\n",
       "  <tbody>\n",
       "    <tr>\n",
       "      <th>0</th>\n",
       "      <td>https://www.linkedin.com/in/ruslandubrovin/</td>\n",
       "      <td>Руслан Дубровин</td>\n",
       "      <td>Software Developer – Yandex</td>\n",
       "      <td>['Software Developer', 'Yandex', 'март 2019 г....</td>\n",
       "      <td>[]</td>\n",
       "      <td>[]</td>\n",
       "      <td>[]</td>\n",
       "      <td>[]</td>\n",
       "    </tr>\n",
       "    <tr>\n",
       "      <th>1</th>\n",
       "      <td>https://www.linkedin.com/in/grigory-kostin-aaa...</td>\n",
       "      <td>Grigory Kostin</td>\n",
       "      <td>Developer at Yandex</td>\n",
       "      <td>['Developer', 'Yandex', 'янв. 2015 г. – настоя...</td>\n",
       "      <td>[]</td>\n",
       "      <td>[]</td>\n",
       "      <td>[]</td>\n",
       "      <td>[]</td>\n",
       "    </tr>\n",
       "    <tr>\n",
       "      <th>2</th>\n",
       "      <td>https://www.linkedin.com/in/bard-10x/</td>\n",
       "      <td>Денис Ковалев</td>\n",
       "      <td>iOS App Developer – Tinkoff</td>\n",
       "      <td>['iOS Developer', 'Tinkoff  · Полный рабочий д...</td>\n",
       "      <td>[]</td>\n",
       "      <td>[]</td>\n",
       "      <td>[]</td>\n",
       "      <td>[]</td>\n",
       "    </tr>\n",
       "    <tr>\n",
       "      <th>3</th>\n",
       "      <td>https://www.linkedin.com/in/kirill-khrustitski...</td>\n",
       "      <td>Kirill Khrustitskii</td>\n",
       "      <td>Developer</td>\n",
       "      <td>['Разработчик', 'МТС · Полный рабочий день', '...</td>\n",
       "      <td>['Здравствуйте, я в поиске новой карьерной воз...</td>\n",
       "      <td>['1', None, None, None, '1', None, None, None,...</td>\n",
       "      <td>[0, 0, 0, 0, 0, 0, 0, 0, 0, 0, 0]</td>\n",
       "      <td>['https://www.linkedin.com/feed/update/urn:li:...</td>\n",
       "    </tr>\n",
       "    <tr>\n",
       "      <th>4</th>\n",
       "      <td>https://www.linkedin.com/in/artem-lesnoy/</td>\n",
       "      <td>Artem Lesnoy</td>\n",
       "      <td>Senior Frontend Developer – Yandex</td>\n",
       "      <td>['Frontend Developer', 'Yandex · Полный рабочи...</td>\n",
       "      <td>[]</td>\n",
       "      <td>[]</td>\n",
       "      <td>[]</td>\n",
       "      <td>[]</td>\n",
       "    </tr>\n",
       "  </tbody>\n",
       "</table>\n",
       "</div>"
      ],
      "text/plain": [
       "                                         profile_url                 name  \\\n",
       "0        https://www.linkedin.com/in/ruslandubrovin/      Руслан Дубровин   \n",
       "1  https://www.linkedin.com/in/grigory-kostin-aaa...       Grigory Kostin   \n",
       "2              https://www.linkedin.com/in/bard-10x/        Денис Ковалев   \n",
       "3  https://www.linkedin.com/in/kirill-khrustitski...  Kirill Khrustitskii   \n",
       "4          https://www.linkedin.com/in/artem-lesnoy/         Artem Lesnoy   \n",
       "\n",
       "                             works_at  \\\n",
       "0         Software Developer – Yandex   \n",
       "1                 Developer at Yandex   \n",
       "2         iOS App Developer – Tinkoff   \n",
       "3                           Developer   \n",
       "4  Senior Frontend Developer – Yandex   \n",
       "\n",
       "                                            exp_list  \\\n",
       "0  ['Software Developer', 'Yandex', 'март 2019 г....   \n",
       "1  ['Developer', 'Yandex', 'янв. 2015 г. – настоя...   \n",
       "2  ['iOS Developer', 'Tinkoff  · Полный рабочий д...   \n",
       "3  ['Разработчик', 'МТС · Полный рабочий день', '...   \n",
       "4  ['Frontend Developer', 'Yandex · Полный рабочи...   \n",
       "\n",
       "                                               posts  \\\n",
       "0                                                 []   \n",
       "1                                                 []   \n",
       "2                                                 []   \n",
       "3  ['Здравствуйте, я в поиске новой карьерной воз...   \n",
       "4                                                 []   \n",
       "\n",
       "                                           reactions  \\\n",
       "0                                                 []   \n",
       "1                                                 []   \n",
       "2                                                 []   \n",
       "3  ['1', None, None, None, '1', None, None, None,...   \n",
       "4                                                 []   \n",
       "\n",
       "                            comments  \\\n",
       "0                                 []   \n",
       "1                                 []   \n",
       "2                                 []   \n",
       "3  [0, 0, 0, 0, 0, 0, 0, 0, 0, 0, 0]   \n",
       "4                                 []   \n",
       "\n",
       "                                            post_url  \n",
       "0                                                 []  \n",
       "1                                                 []  \n",
       "2                                                 []  \n",
       "3  ['https://www.linkedin.com/feed/update/urn:li:...  \n",
       "4                                                 []  "
      ]
     },
     "execution_count": 4,
     "metadata": {},
     "output_type": "execute_result"
    }
   ],
   "source": [
    "data = pd.read_csv(DATA_PATH, index_col = 0) # загрузка данных\n",
    "data = data[data.works_at.str.contains('dev', case = False)] # уберем нерелевантные профили (профили по другим профессиям)\n",
    "data.head() # вывод на экран первых пяти строк датасета"
   ]
  },
  {
   "cell_type": "markdown",
   "id": "7f728265",
   "metadata": {},
   "source": [
    "<div class=\"alert alert-success\">\n",
    "<b>Комментарий ревьюера ✔️:</b> Мне нравится как вы комментируете функции - это хорошая практика 👌🏼 </div>"
   ]
  },
  {
   "cell_type": "markdown",
   "id": "a6333d62",
   "metadata": {},
   "source": [
    "Для Topic modeling'a мы хотим, чтобы один объект датасета содержал информацию об одном посте. Реализуем это:"
   ]
  },
  {
   "cell_type": "code",
   "execution_count": 5,
   "id": "c08ba9d8",
   "metadata": {},
   "outputs": [
    {
     "data": {
      "text/html": [
       "<div>\n",
       "<style scoped>\n",
       "    .dataframe tbody tr th:only-of-type {\n",
       "        vertical-align: middle;\n",
       "    }\n",
       "\n",
       "    .dataframe tbody tr th {\n",
       "        vertical-align: top;\n",
       "    }\n",
       "\n",
       "    .dataframe thead th {\n",
       "        text-align: right;\n",
       "    }\n",
       "</style>\n",
       "<table border=\"1\" class=\"dataframe\">\n",
       "  <thead>\n",
       "    <tr style=\"text-align: right;\">\n",
       "      <th></th>\n",
       "      <th>profile_url</th>\n",
       "      <th>name</th>\n",
       "      <th>works_at</th>\n",
       "      <th>exp_list</th>\n",
       "      <th>posts</th>\n",
       "      <th>reactions</th>\n",
       "      <th>comments</th>\n",
       "      <th>post_url</th>\n",
       "      <th>posts_cnt</th>\n",
       "    </tr>\n",
       "  </thead>\n",
       "  <tbody>\n",
       "    <tr>\n",
       "      <th>0</th>\n",
       "      <td>https://www.linkedin.com/in/ruslandubrovin/</td>\n",
       "      <td>Руслан Дубровин</td>\n",
       "      <td>Software Developer – Yandex</td>\n",
       "      <td>['Software Developer', 'Yandex', 'март 2019 г....</td>\n",
       "      <td>NaN</td>\n",
       "      <td>NaN</td>\n",
       "      <td>NaN</td>\n",
       "      <td>NaN</td>\n",
       "      <td>0</td>\n",
       "    </tr>\n",
       "    <tr>\n",
       "      <th>1</th>\n",
       "      <td>https://www.linkedin.com/in/grigory-kostin-aaa...</td>\n",
       "      <td>Grigory Kostin</td>\n",
       "      <td>Developer at Yandex</td>\n",
       "      <td>['Developer', 'Yandex', 'янв. 2015 г. – настоя...</td>\n",
       "      <td>NaN</td>\n",
       "      <td>NaN</td>\n",
       "      <td>NaN</td>\n",
       "      <td>NaN</td>\n",
       "      <td>0</td>\n",
       "    </tr>\n",
       "    <tr>\n",
       "      <th>2</th>\n",
       "      <td>https://www.linkedin.com/in/bard-10x/</td>\n",
       "      <td>Денис Ковалев</td>\n",
       "      <td>iOS App Developer – Tinkoff</td>\n",
       "      <td>['iOS Developer', 'Tinkoff  · Полный рабочий д...</td>\n",
       "      <td>NaN</td>\n",
       "      <td>NaN</td>\n",
       "      <td>NaN</td>\n",
       "      <td>NaN</td>\n",
       "      <td>0</td>\n",
       "    </tr>\n",
       "    <tr>\n",
       "      <th>3</th>\n",
       "      <td>https://www.linkedin.com/in/kirill-khrustitski...</td>\n",
       "      <td>Kirill Khrustitskii</td>\n",
       "      <td>Developer</td>\n",
       "      <td>['Разработчик', 'МТС · Полный рабочий день', '...</td>\n",
       "      <td>Здравствуйте, я в поиске новой карьерной возмо...</td>\n",
       "      <td>1</td>\n",
       "      <td>0</td>\n",
       "      <td>https://www.linkedin.com/feed/update/urn:li:ac...</td>\n",
       "      <td>11</td>\n",
       "    </tr>\n",
       "    <tr>\n",
       "      <th>3</th>\n",
       "      <td>https://www.linkedin.com/in/kirill-khrustitski...</td>\n",
       "      <td>Kirill Khrustitskii</td>\n",
       "      <td>Developer</td>\n",
       "      <td>['Разработчик', 'МТС · Полный рабочий день', '...</td>\n",
       "      <td>Unity Game Development Mini-Degree</td>\n",
       "      <td>None</td>\n",
       "      <td>0</td>\n",
       "      <td>https://www.linkedin.com/feed/update/urn:li:ac...</td>\n",
       "      <td>11</td>\n",
       "    </tr>\n",
       "  </tbody>\n",
       "</table>\n",
       "</div>"
      ],
      "text/plain": [
       "                                         profile_url                 name  \\\n",
       "0        https://www.linkedin.com/in/ruslandubrovin/      Руслан Дубровин   \n",
       "1  https://www.linkedin.com/in/grigory-kostin-aaa...       Grigory Kostin   \n",
       "2              https://www.linkedin.com/in/bard-10x/        Денис Ковалев   \n",
       "3  https://www.linkedin.com/in/kirill-khrustitski...  Kirill Khrustitskii   \n",
       "3  https://www.linkedin.com/in/kirill-khrustitski...  Kirill Khrustitskii   \n",
       "\n",
       "                      works_at  \\\n",
       "0  Software Developer – Yandex   \n",
       "1          Developer at Yandex   \n",
       "2  iOS App Developer – Tinkoff   \n",
       "3                    Developer   \n",
       "3                    Developer   \n",
       "\n",
       "                                            exp_list  \\\n",
       "0  ['Software Developer', 'Yandex', 'март 2019 г....   \n",
       "1  ['Developer', 'Yandex', 'янв. 2015 г. – настоя...   \n",
       "2  ['iOS Developer', 'Tinkoff  · Полный рабочий д...   \n",
       "3  ['Разработчик', 'МТС · Полный рабочий день', '...   \n",
       "3  ['Разработчик', 'МТС · Полный рабочий день', '...   \n",
       "\n",
       "                                               posts reactions comments  \\\n",
       "0                                                NaN       NaN      NaN   \n",
       "1                                                NaN       NaN      NaN   \n",
       "2                                                NaN       NaN      NaN   \n",
       "3  Здравствуйте, я в поиске новой карьерной возмо...         1        0   \n",
       "3                 Unity Game Development Mini-Degree      None        0   \n",
       "\n",
       "                                            post_url  posts_cnt  \n",
       "0                                                NaN          0  \n",
       "1                                                NaN          0  \n",
       "2                                                NaN          0  \n",
       "3  https://www.linkedin.com/feed/update/urn:li:ac...         11  \n",
       "3  https://www.linkedin.com/feed/update/urn:li:ac...         11  "
      ]
     },
     "execution_count": 5,
     "metadata": {},
     "output_type": "execute_result"
    }
   ],
   "source": [
    "exp_col = ['posts', 'reactions', 'comments', 'post_url'] # создание списка с названиями колонок, которые нужно \"развернуть\" в отдельные строки\n",
    "data[exp_col] = data[exp_col].applymap(ast.literal_eval) # обновление информации о типе данных\n",
    "data['posts_cnt'] = data['posts'].apply(len) # сохранение количества постов по каждому пользователю в отдельную переменную\n",
    "data_exp = data.apply(pd.Series.explode) # разворачивание постов в отдельные строки\n",
    "data_exp.head() # вывод на экран первых пяти строк \"развернутого\" датасета"
   ]
  },
  {
   "cell_type": "markdown",
   "id": "68e4c14d",
   "metadata": {},
   "source": [
    "В результате разворачивания постов в отдельные строки образовались пропуски в значениях столбцов `posts`, `post_url`, `reactions` и `comments` для случаев, когда у пользователя не было постов. Заполним их:"
   ]
  },
  {
   "cell_type": "code",
   "execution_count": 6,
   "id": "d1b22378",
   "metadata": {},
   "outputs": [
    {
     "data": {
      "text/plain": [
       "profile_url    0\n",
       "name           0\n",
       "works_at       0\n",
       "exp_list       0\n",
       "posts          0\n",
       "reactions      0\n",
       "comments       0\n",
       "post_url       0\n",
       "posts_cnt      0\n",
       "dtype: int64"
      ]
     },
     "execution_count": 6,
     "metadata": {},
     "output_type": "execute_result"
    }
   ],
   "source": [
    "# заполнение пропусков\n",
    "data_exp.fillna(value = {'posts'    : 'нет постов',\n",
    "                         'post_url' : 'нет постов',\n",
    "                         'reactions': 0,\n",
    "                         'comments' : 0\n",
    "                        },\n",
    "                inplace = True)\n",
    "\n",
    "# проверка заполения пропусков\n",
    "data_exp.isna().sum()"
   ]
  },
  {
   "cell_type": "code",
   "execution_count": 7,
   "id": "26acea7d",
   "metadata": {},
   "outputs": [],
   "source": [
    "# удаление профилей без постов\n",
    "data_exp = data_exp[data_exp.posts != 'нет постов']"
   ]
  },
  {
   "cell_type": "code",
   "execution_count": 8,
   "id": "ed6cc81a",
   "metadata": {},
   "outputs": [],
   "source": [
    "# применение функции \n",
    "data_exp['comments'] = data_exp['comments'].apply(get_comment_cnt)"
   ]
  },
  {
   "cell_type": "code",
   "execution_count": 9,
   "id": "5a4b8002",
   "metadata": {},
   "outputs": [],
   "source": [
    "# переименование столбцов\n",
    "data_exp.rename(columns = {\n",
    "    'posts'    : 'post',\n",
    "    'reactions': 'reactions_cnt',\n",
    "    'comments' : 'comments_cnt'},\n",
    "                inplace = True)"
   ]
  },
  {
   "cell_type": "markdown",
   "id": "09908cdc",
   "metadata": {},
   "source": [
    "<div class=\"alert alert-success\">\n",
    "<b>Комментарий ревьюера ✔️:</b> Отлично, развернули посты и предобработали посты 👌🏼 Идем дальше:)</div>\n"
   ]
  },
  {
   "cell_type": "markdown",
   "id": "b15e8242",
   "metadata": {},
   "source": [
    "В отличие от других команд мы не собирали количество репостов, но для целей объединения датасетов создадим соответствующий столбец и заполним его пропусками:"
   ]
  },
  {
   "cell_type": "code",
   "execution_count": 10,
   "id": "39d3c87d",
   "metadata": {},
   "outputs": [],
   "source": [
    "# создание столбца reposts_cnt\n",
    "data_exp['reposts_cnt'] = np.nan"
   ]
  },
  {
   "cell_type": "markdown",
   "id": "280ee45a",
   "metadata": {},
   "source": [
    "Оставим в датасете только информацию, связанную с постами, и url профилей:"
   ]
  },
  {
   "cell_type": "code",
   "execution_count": 11,
   "id": "bdb6abc4",
   "metadata": {},
   "outputs": [
    {
     "name": "stdout",
     "output_type": "stream",
     "text": [
      "Index(['profile_url', 'post_url', 'post', 'reactions_cnt', 'comments_cnt',\n",
      "       'reposts_cnt'],\n",
      "      dtype='object')\n"
     ]
    }
   ],
   "source": [
    "# создадние списка с названиями столбцов, которые необходимо оставить\n",
    "post_cols = ['profile_url', 'post_url', 'post', 'reactions_cnt', 'comments_cnt', 'reposts_cnt']\n",
    "\n",
    "# сокращение количества столбцов\n",
    "data_exp = data_exp[post_cols]\n",
    "\n",
    "# проверка сокращения количества столбцов\n",
    "print(data_exp.columns)"
   ]
  },
  {
   "cell_type": "code",
   "execution_count": 12,
   "id": "4804db6c",
   "metadata": {},
   "outputs": [],
   "source": [
    "# сохранение обработанного датасета\n",
    "data_exp.to_csv('developers_prep.csv', sep=';')"
   ]
  },
  {
   "cell_type": "code",
   "execution_count": 13,
   "id": "c89aa23a",
   "metadata": {},
   "outputs": [],
   "source": [
    "# загрузка всех предобработанных файлов команды\n",
    "developers = pd.read_csv('developers_prep.csv', index_col=0, sep=';')\n",
    "ios_developers = pd.read_csv('ios_developers_prep.csv', index_col=0, sep=';')"
   ]
  },
  {
   "cell_type": "code",
   "execution_count": 14,
   "id": "85b398f0",
   "metadata": {},
   "outputs": [
    {
     "name": "stdout",
     "output_type": "stream",
     "text": [
      "<class 'pandas.core.frame.DataFrame'>\n",
      "Int64Index: 117 entries, 3 to 145\n",
      "Data columns (total 6 columns):\n",
      " #   Column         Non-Null Count  Dtype  \n",
      "---  ------         --------------  -----  \n",
      " 0   profile_url    117 non-null    object \n",
      " 1   post_url       117 non-null    object \n",
      " 2   post           117 non-null    object \n",
      " 3   reactions_cnt  117 non-null    int64  \n",
      " 4   comments_cnt   117 non-null    int64  \n",
      " 5   reposts_cnt    0 non-null      float64\n",
      "dtypes: float64(1), int64(2), object(3)\n",
      "memory usage: 6.4+ KB\n"
     ]
    }
   ],
   "source": [
    "# объединение датасетов, собранных разными членами команды\n",
    "team_data = pd.concat([developers, ios_developers])\n",
    "\n",
    "team_data.info()"
   ]
  },
  {
   "cell_type": "code",
   "execution_count": 15,
   "id": "296eff31",
   "metadata": {},
   "outputs": [],
   "source": [
    "# сохранение объединенного датасета\n",
    "team_data.to_csv('team_8_posts.csv', sep=';')"
   ]
  },
  {
   "cell_type": "markdown",
   "id": "1bea0b46",
   "metadata": {},
   "source": [
    "<div class=\"alert alert-success\">\n",
    "<b>Комментарий ревьюера ✔️:</b> 👍🏼</div>\n"
   ]
  },
  {
   "cell_type": "markdown",
   "id": "c614545e",
   "metadata": {},
   "source": [
    "#  Предобработка постов, собранных другими командами (на примере постов команды 10)"
   ]
  },
  {
   "cell_type": "code",
   "execution_count": 16,
   "id": "0a87cd14",
   "metadata": {},
   "outputs": [],
   "source": [
    "# указание пути к данным\n",
    "PATH = 'Команда №10.csv'"
   ]
  },
  {
   "cell_type": "code",
   "execution_count": 17,
   "id": "04a1070a",
   "metadata": {},
   "outputs": [
    {
     "data": {
      "text/html": [
       "<div>\n",
       "<style scoped>\n",
       "    .dataframe tbody tr th:only-of-type {\n",
       "        vertical-align: middle;\n",
       "    }\n",
       "\n",
       "    .dataframe tbody tr th {\n",
       "        vertical-align: top;\n",
       "    }\n",
       "\n",
       "    .dataframe thead th {\n",
       "        text-align: right;\n",
       "    }\n",
       "</style>\n",
       "<table border=\"1\" class=\"dataframe\">\n",
       "  <thead>\n",
       "    <tr style=\"text-align: right;\">\n",
       "      <th></th>\n",
       "      <th>account_link</th>\n",
       "      <th>search_keywords</th>\n",
       "      <th>name</th>\n",
       "      <th>title</th>\n",
       "      <th>works_at</th>\n",
       "      <th>intro</th>\n",
       "      <th>experience</th>\n",
       "      <th>place</th>\n",
       "      <th>posts_cnt</th>\n",
       "      <th>post_text</th>\n",
       "      <th>reaction_cnt</th>\n",
       "      <th>comments_cnt</th>\n",
       "      <th>repost_cnt</th>\n",
       "    </tr>\n",
       "  </thead>\n",
       "  <tbody>\n",
       "    <tr>\n",
       "      <th>0</th>\n",
       "      <td>https://www.linkedin.com/in/nikita-balykin-b01...</td>\n",
       "      <td>frontend</td>\n",
       "      <td>Nikita Balykin</td>\n",
       "      <td>Frontend Web Developer</td>\n",
       "      <td>ФКУ Соцтех</td>\n",
       "      <td>Development of internal company products.stack...</td>\n",
       "      <td>3.0</td>\n",
       "      <td>Бали, Индонезия</td>\n",
       "      <td>2</td>\n",
       "      <td>Здравствуйте, я в поиске новой карьерной возмо...</td>\n",
       "      <td>2.0</td>\n",
       "      <td>NaN</td>\n",
       "      <td>1.0</td>\n",
       "    </tr>\n",
       "    <tr>\n",
       "      <th>1</th>\n",
       "      <td>https://www.linkedin.com/in/anton-zaglumonin</td>\n",
       "      <td>lead web developer</td>\n",
       "      <td>Anton Zaglumonin</td>\n",
       "      <td>Lead Frontend Developer – Web Enthusiast</td>\n",
       "      <td>ПАО \"Ростелеком\"​</td>\n",
       "      <td>Привет!Я инженер-разработчик с более чем 10-ле...</td>\n",
       "      <td>12.0</td>\n",
       "      <td>Республика Мордовия, Россия</td>\n",
       "      <td>22</td>\n",
       "      <td>Vitali Kashko #Отзывы с благодарностью Вы вдох...</td>\n",
       "      <td>NaN</td>\n",
       "      <td>NaN</td>\n",
       "      <td>NaN</td>\n",
       "    </tr>\n",
       "    <tr>\n",
       "      <th>2</th>\n",
       "      <td>https://www.linkedin.com/in/anastasiya-saydazi...</td>\n",
       "      <td>frontend</td>\n",
       "      <td>Анастасия Сайдазимова</td>\n",
       "      <td>Frontend Developer | React, Redux, JavaScript,...</td>\n",
       "      <td>NaN</td>\n",
       "      <td>3 года назад начала изучать Frontend-разработк...</td>\n",
       "      <td>1.0</td>\n",
       "      <td>Санкт-Петербург, Санкт-Петербург, Россия</td>\n",
       "      <td>158</td>\n",
       "      <td>UPD: Всем огромное спасибо! Работа найдена 😎 П...</td>\n",
       "      <td>1.0</td>\n",
       "      <td>8.0</td>\n",
       "      <td>4.0</td>\n",
       "    </tr>\n",
       "    <tr>\n",
       "      <th>3</th>\n",
       "      <td>https://www.linkedin.com/in/ankhanhi</td>\n",
       "      <td>ML engineer</td>\n",
       "      <td>Анна Хан</td>\n",
       "      <td>Data scientist | Analyst | ML-engineer</td>\n",
       "      <td>Московский Государственный Институт Электронно...</td>\n",
       "      <td>👋 Привет! Я студентка 3 курса программной инже...</td>\n",
       "      <td>2.0</td>\n",
       "      <td>Москва, Москва, Россия</td>\n",
       "      <td>9</td>\n",
       "      <td>Никогда не догадалась, что задача о многоруких...</td>\n",
       "      <td>2.0</td>\n",
       "      <td>NaN</td>\n",
       "      <td>NaN</td>\n",
       "    </tr>\n",
       "    <tr>\n",
       "      <th>4</th>\n",
       "      <td>https://www.linkedin.com/in/oleh-yudin-a8643bb2</td>\n",
       "      <td>senior ML engineer</td>\n",
       "      <td>Oleh Yudin</td>\n",
       "      <td>Senior ML Research Engineer</td>\n",
       "      <td>Moscow Institute of Physics and Technology (St...</td>\n",
       "      <td>Knowledge of one principle frees thousands of ...</td>\n",
       "      <td>4.0</td>\n",
       "      <td>Агломерация Днепра</td>\n",
       "      <td>6</td>\n",
       "      <td>Real time bidding. New loss function.Online ad...</td>\n",
       "      <td>1.0</td>\n",
       "      <td>NaN</td>\n",
       "      <td>NaN</td>\n",
       "    </tr>\n",
       "  </tbody>\n",
       "</table>\n",
       "</div>"
      ],
      "text/plain": [
       "                                        account_link     search_keywords  \\\n",
       "0  https://www.linkedin.com/in/nikita-balykin-b01...            frontend   \n",
       "1       https://www.linkedin.com/in/anton-zaglumonin  lead web developer   \n",
       "2  https://www.linkedin.com/in/anastasiya-saydazi...            frontend   \n",
       "3               https://www.linkedin.com/in/ankhanhi         ML engineer   \n",
       "4    https://www.linkedin.com/in/oleh-yudin-a8643bb2  senior ML engineer   \n",
       "\n",
       "                    name                                              title  \\\n",
       "0         Nikita Balykin                             Frontend Web Developer   \n",
       "1       Anton Zaglumonin           Lead Frontend Developer – Web Enthusiast   \n",
       "2  Анастасия Сайдазимова  Frontend Developer | React, Redux, JavaScript,...   \n",
       "3               Анна Хан             Data scientist | Analyst | ML-engineer   \n",
       "4             Oleh Yudin                        Senior ML Research Engineer   \n",
       "\n",
       "                                            works_at  \\\n",
       "0                                         ФКУ Соцтех   \n",
       "1                                  ПАО \"Ростелеком\"​   \n",
       "2                                                NaN   \n",
       "3  Московский Государственный Институт Электронно...   \n",
       "4  Moscow Institute of Physics and Technology (St...   \n",
       "\n",
       "                                               intro  experience  \\\n",
       "0  Development of internal company products.stack...         3.0   \n",
       "1  Привет!Я инженер-разработчик с более чем 10-ле...        12.0   \n",
       "2  3 года назад начала изучать Frontend-разработк...         1.0   \n",
       "3  👋 Привет! Я студентка 3 курса программной инже...         2.0   \n",
       "4  Knowledge of one principle frees thousands of ...         4.0   \n",
       "\n",
       "                                      place  posts_cnt  \\\n",
       "0                           Бали, Индонезия          2   \n",
       "1               Республика Мордовия, Россия         22   \n",
       "2  Санкт-Петербург, Санкт-Петербург, Россия        158   \n",
       "3                    Москва, Москва, Россия          9   \n",
       "4                        Агломерация Днепра          6   \n",
       "\n",
       "                                           post_text  reaction_cnt  \\\n",
       "0  Здравствуйте, я в поиске новой карьерной возмо...           2.0   \n",
       "1  Vitali Kashko #Отзывы с благодарностью Вы вдох...           NaN   \n",
       "2  UPD: Всем огромное спасибо! Работа найдена 😎 П...           1.0   \n",
       "3  Никогда не догадалась, что задача о многоруких...           2.0   \n",
       "4  Real time bidding. New loss function.Online ad...           1.0   \n",
       "\n",
       "   comments_cnt  repost_cnt  \n",
       "0           NaN         1.0  \n",
       "1           NaN         NaN  \n",
       "2           8.0         4.0  \n",
       "3           NaN         NaN  \n",
       "4           NaN         NaN  "
      ]
     },
     "execution_count": 17,
     "metadata": {},
     "output_type": "execute_result"
    }
   ],
   "source": [
    "data = pd.read_csv(PATH, sep=';') # загрузка данных\n",
    "data.reset_index(drop=True, inplace = True) # сброс индексов\n",
    "data.head() # вывод на экран первых пяти строк"
   ]
  },
  {
   "cell_type": "markdown",
   "id": "6a96f6e1",
   "metadata": {},
   "source": [
    "Команда 10 не собирала ссылки постов, поэтому для объединения датасетом создадим соответствующий столбец и заполним пропусками:"
   ]
  },
  {
   "cell_type": "code",
   "execution_count": 18,
   "id": "b4da4ef3",
   "metadata": {},
   "outputs": [],
   "source": [
    "# создание столбца post_url\n",
    "data['post_url'] = np.nan"
   ]
  },
  {
   "cell_type": "code",
   "execution_count": 19,
   "id": "5dd41bfd",
   "metadata": {},
   "outputs": [
    {
     "data": {
      "text/plain": [
       "Index(['profile_url', 'search_keywords', 'name', 'title', 'works_at', 'intro',\n",
       "       'experience', 'place', 'posts_cnt', 'post', 'reactions_cnt',\n",
       "       'comments_cnt', 'reposts_cnt', 'post_url'],\n",
       "      dtype='object')"
      ]
     },
     "execution_count": 19,
     "metadata": {},
     "output_type": "execute_result"
    }
   ],
   "source": [
    "# переименование столбцов\n",
    "data.rename(columns = {\n",
    "    'account_link' : 'profile_url',\n",
    "    'post_text' : 'post',\n",
    "    'reaction_cnt' : 'reactions_cnt',\n",
    "    'repost_cnt' : 'reposts_cnt'\n",
    "    \n",
    "},\n",
    "            inplace = True)\n",
    "\n",
    "# проверка переименования столбцов\n",
    "data.columns"
   ]
  },
  {
   "cell_type": "code",
   "execution_count": 20,
   "id": "ee9d9d46",
   "metadata": {},
   "outputs": [
    {
     "data": {
      "text/plain": [
       "Index(['profile_url', 'post_url', 'post', 'reactions_cnt', 'comments_cnt',\n",
       "       'reposts_cnt'],\n",
       "      dtype='object')"
      ]
     },
     "execution_count": 20,
     "metadata": {},
     "output_type": "execute_result"
    }
   ],
   "source": [
    "# создание списка с названиями столбцов, которые нужно оставить\n",
    "cols = ['profile_url', 'post_url', 'post', 'reactions_cnt', 'comments_cnt', 'reposts_cnt']\n",
    "\n",
    "# сокращение количества столбцов\n",
    "data = data[cols]\n",
    "\n",
    "# проверка сокращения количества столбцов\n",
    "data.columns"
   ]
  },
  {
   "cell_type": "code",
   "execution_count": 21,
   "id": "8d436096",
   "metadata": {},
   "outputs": [],
   "source": [
    "# сохранение предобработанного датасета\n",
    "data.to_csv('team_10_posts.csv', sep=';')"
   ]
  },
  {
   "cell_type": "code",
   "execution_count": 22,
   "id": "94954c19",
   "metadata": {},
   "outputs": [],
   "source": [
    "# загрузка предобработанных датасетов всех команд, которые участовали в обмене анкетами\n",
    "data_2  = pd.read_csv('team_2_posts.csv', sep=';', index_col = 0)\n",
    "data_3  = pd.read_csv('team_3_posts.csv', sep=';', index_col = 0)\n",
    "data_8  = pd.read_csv('team_8_posts.csv', sep=';', index_col = 0)\n",
    "data_10 = pd.read_csv('team_10_posts.csv', sep=';', index_col = 0)"
   ]
  },
  {
   "cell_type": "code",
   "execution_count": 23,
   "id": "c1df16fc",
   "metadata": {},
   "outputs": [
    {
     "data": {
      "text/html": [
       "<div>\n",
       "<style scoped>\n",
       "    .dataframe tbody tr th:only-of-type {\n",
       "        vertical-align: middle;\n",
       "    }\n",
       "\n",
       "    .dataframe tbody tr th {\n",
       "        vertical-align: top;\n",
       "    }\n",
       "\n",
       "    .dataframe thead th {\n",
       "        text-align: right;\n",
       "    }\n",
       "</style>\n",
       "<table border=\"1\" class=\"dataframe\">\n",
       "  <thead>\n",
       "    <tr style=\"text-align: right;\">\n",
       "      <th></th>\n",
       "      <th>profile_url</th>\n",
       "      <th>post_url</th>\n",
       "      <th>post</th>\n",
       "      <th>reactions_cnt</th>\n",
       "      <th>comments_cnt</th>\n",
       "      <th>reposts_cnt</th>\n",
       "    </tr>\n",
       "  </thead>\n",
       "  <tbody>\n",
       "    <tr>\n",
       "      <th>0</th>\n",
       "      <td>https://www.linkedin.com/in/ali-wodan/recent-a...</td>\n",
       "      <td>NaN</td>\n",
       "      <td>Кстати говоря. Теперь подкаст Миражи доступен ...</td>\n",
       "      <td>1</td>\n",
       "      <td>0.0</td>\n",
       "      <td>0.0</td>\n",
       "    </tr>\n",
       "    <tr>\n",
       "      <th>1</th>\n",
       "      <td>https://www.linkedin.com/in/ali-wodan/recent-a...</td>\n",
       "      <td>NaN</td>\n",
       "      <td>I’m #hiring. Know anyone who might be interested?</td>\n",
       "      <td>1</td>\n",
       "      <td>0.0</td>\n",
       "      <td>0.0</td>\n",
       "    </tr>\n",
       "    <tr>\n",
       "      <th>2</th>\n",
       "      <td>https://www.linkedin.com/in/ali-wodan/recent-a...</td>\n",
       "      <td>NaN</td>\n",
       "      <td>Хэй честной народ! Ищу векторного иллюстратора...</td>\n",
       "      <td>6</td>\n",
       "      <td>0.0</td>\n",
       "      <td>0.0</td>\n",
       "    </tr>\n",
       "    <tr>\n",
       "      <th>3</th>\n",
       "      <td>https://www.linkedin.com/in/ali-wodan/recent-a...</td>\n",
       "      <td>NaN</td>\n",
       "      <td>Новый пост подкаста \"Миражи\" на всех платформа...</td>\n",
       "      <td>1</td>\n",
       "      <td>0.0</td>\n",
       "      <td>0.0</td>\n",
       "    </tr>\n",
       "    <tr>\n",
       "      <th>4</th>\n",
       "      <td>https://www.linkedin.com/in/ali-wodan/recent-a...</td>\n",
       "      <td>NaN</td>\n",
       "      <td>Подкаст Миражи, Эпизод 13Ошибка невозвратных з...</td>\n",
       "      <td>2</td>\n",
       "      <td>0.0</td>\n",
       "      <td>0.0</td>\n",
       "    </tr>\n",
       "  </tbody>\n",
       "</table>\n",
       "</div>"
      ],
      "text/plain": [
       "                                         profile_url post_url  \\\n",
       "0  https://www.linkedin.com/in/ali-wodan/recent-a...      NaN   \n",
       "1  https://www.linkedin.com/in/ali-wodan/recent-a...      NaN   \n",
       "2  https://www.linkedin.com/in/ali-wodan/recent-a...      NaN   \n",
       "3  https://www.linkedin.com/in/ali-wodan/recent-a...      NaN   \n",
       "4  https://www.linkedin.com/in/ali-wodan/recent-a...      NaN   \n",
       "\n",
       "                                                post reactions_cnt  \\\n",
       "0  Кстати говоря. Теперь подкаст Миражи доступен ...             1   \n",
       "1  I’m #hiring. Know anyone who might be interested?             1   \n",
       "2  Хэй честной народ! Ищу векторного иллюстратора...             6   \n",
       "3  Новый пост подкаста \"Миражи\" на всех платформа...             1   \n",
       "4  Подкаст Миражи, Эпизод 13Ошибка невозвратных з...             2   \n",
       "\n",
       "   comments_cnt  reposts_cnt  \n",
       "0           0.0          0.0  \n",
       "1           0.0          0.0  \n",
       "2           0.0          0.0  \n",
       "3           0.0          0.0  \n",
       "4           0.0          0.0  "
      ]
     },
     "execution_count": 23,
     "metadata": {},
     "output_type": "execute_result"
    }
   ],
   "source": [
    "# объединение датасетов\n",
    "data_to_con = [data_2, data_3, data_8, data_10]\n",
    "data_total = pd.concat(data_to_con)\n",
    "data_total.head()"
   ]
  },
  {
   "cell_type": "code",
   "execution_count": 24,
   "id": "18e896a2",
   "metadata": {},
   "outputs": [
    {
     "data": {
      "text/plain": [
       "123"
      ]
     },
     "execution_count": 24,
     "metadata": {},
     "output_type": "execute_result"
    }
   ],
   "source": [
    "# проверка на дубликаты\n",
    "data_total.duplicated().sum()"
   ]
  },
  {
   "cell_type": "code",
   "execution_count": 25,
   "id": "85671f42",
   "metadata": {},
   "outputs": [
    {
     "data": {
      "text/html": [
       "<div>\n",
       "<style scoped>\n",
       "    .dataframe tbody tr th:only-of-type {\n",
       "        vertical-align: middle;\n",
       "    }\n",
       "\n",
       "    .dataframe tbody tr th {\n",
       "        vertical-align: top;\n",
       "    }\n",
       "\n",
       "    .dataframe thead th {\n",
       "        text-align: right;\n",
       "    }\n",
       "</style>\n",
       "<table border=\"1\" class=\"dataframe\">\n",
       "  <thead>\n",
       "    <tr style=\"text-align: right;\">\n",
       "      <th></th>\n",
       "      <th>profile_url</th>\n",
       "      <th>post_url</th>\n",
       "      <th>post</th>\n",
       "      <th>reactions_cnt</th>\n",
       "      <th>comments_cnt</th>\n",
       "      <th>reposts_cnt</th>\n",
       "    </tr>\n",
       "  </thead>\n",
       "  <tbody>\n",
       "    <tr>\n",
       "      <th>232</th>\n",
       "      <td>https://www.linkedin.com/in/alexander-lobtsov</td>\n",
       "      <td>NaN</td>\n",
       "      <td>#OpenToWork Identifying potential Developer Ad...</td>\n",
       "      <td>27</td>\n",
       "      <td>0.0</td>\n",
       "      <td>10.0</td>\n",
       "    </tr>\n",
       "    <tr>\n",
       "      <th>221</th>\n",
       "      <td>https://www.linkedin.com/in/alexander-lobtsov</td>\n",
       "      <td>NaN</td>\n",
       "      <td>#OpenToWork Identifying potential Developer Ad...</td>\n",
       "      <td>27</td>\n",
       "      <td>0.0</td>\n",
       "      <td>10.0</td>\n",
       "    </tr>\n",
       "    <tr>\n",
       "      <th>233</th>\n",
       "      <td>https://www.linkedin.com/in/alexander-lobtsov</td>\n",
       "      <td>NaN</td>\n",
       "      <td>#OpenToWork Identifying potential Developer Ad...</td>\n",
       "      <td>27</td>\n",
       "      <td>0.0</td>\n",
       "      <td>10.0</td>\n",
       "    </tr>\n",
       "    <tr>\n",
       "      <th>412</th>\n",
       "      <td>https://www.linkedin.com/in/ildar-abdullin/rec...</td>\n",
       "      <td>NaN</td>\n",
       "      <td>#hr #glossary</td>\n",
       "      <td>0</td>\n",
       "      <td>0.0</td>\n",
       "      <td>0.0</td>\n",
       "    </tr>\n",
       "    <tr>\n",
       "      <th>413</th>\n",
       "      <td>https://www.linkedin.com/in/ildar-abdullin/rec...</td>\n",
       "      <td>NaN</td>\n",
       "      <td>#hr #glossary</td>\n",
       "      <td>0</td>\n",
       "      <td>0.0</td>\n",
       "      <td>0.0</td>\n",
       "    </tr>\n",
       "    <tr>\n",
       "      <th>418</th>\n",
       "      <td>https://www.linkedin.com/in/ildar-abdullin/rec...</td>\n",
       "      <td>NaN</td>\n",
       "      <td>#hr #glossary</td>\n",
       "      <td>0</td>\n",
       "      <td>0.0</td>\n",
       "      <td>0.0</td>\n",
       "    </tr>\n",
       "    <tr>\n",
       "      <th>409</th>\n",
       "      <td>https://www.linkedin.com/in/ildar-abdullin/rec...</td>\n",
       "      <td>NaN</td>\n",
       "      <td>#lean #glossary</td>\n",
       "      <td>1</td>\n",
       "      <td>0.0</td>\n",
       "      <td>0.0</td>\n",
       "    </tr>\n",
       "    <tr>\n",
       "      <th>586</th>\n",
       "      <td>https://www.linkedin.com/in/vladimir-yelizarof...</td>\n",
       "      <td>NaN</td>\n",
       "      <td>#mvp</td>\n",
       "      <td>0</td>\n",
       "      <td>0.0</td>\n",
       "      <td>0.0</td>\n",
       "    </tr>\n",
       "    <tr>\n",
       "      <th>582</th>\n",
       "      <td>https://www.linkedin.com/in/vladimir-yelizarof...</td>\n",
       "      <td>NaN</td>\n",
       "      <td>#автоматизация</td>\n",
       "      <td>1</td>\n",
       "      <td>0.0</td>\n",
       "      <td>0.0</td>\n",
       "    </tr>\n",
       "    <tr>\n",
       "      <th>584</th>\n",
       "      <td>https://www.linkedin.com/in/vladimir-yelizarof...</td>\n",
       "      <td>NaN</td>\n",
       "      <td>#автоматизация</td>\n",
       "      <td>2</td>\n",
       "      <td>0.0</td>\n",
       "      <td>0.0</td>\n",
       "    </tr>\n",
       "  </tbody>\n",
       "</table>\n",
       "</div>"
      ],
      "text/plain": [
       "                                           profile_url post_url  \\\n",
       "232      https://www.linkedin.com/in/alexander-lobtsov      NaN   \n",
       "221      https://www.linkedin.com/in/alexander-lobtsov      NaN   \n",
       "233      https://www.linkedin.com/in/alexander-lobtsov      NaN   \n",
       "412  https://www.linkedin.com/in/ildar-abdullin/rec...      NaN   \n",
       "413  https://www.linkedin.com/in/ildar-abdullin/rec...      NaN   \n",
       "418  https://www.linkedin.com/in/ildar-abdullin/rec...      NaN   \n",
       "409  https://www.linkedin.com/in/ildar-abdullin/rec...      NaN   \n",
       "586  https://www.linkedin.com/in/vladimir-yelizarof...      NaN   \n",
       "582  https://www.linkedin.com/in/vladimir-yelizarof...      NaN   \n",
       "584  https://www.linkedin.com/in/vladimir-yelizarof...      NaN   \n",
       "\n",
       "                                                  post reactions_cnt  \\\n",
       "232  #OpenToWork Identifying potential Developer Ad...            27   \n",
       "221  #OpenToWork Identifying potential Developer Ad...            27   \n",
       "233  #OpenToWork Identifying potential Developer Ad...            27   \n",
       "412                                      #hr #glossary             0   \n",
       "413                                      #hr #glossary             0   \n",
       "418                                      #hr #glossary             0   \n",
       "409                                    #lean #glossary             1   \n",
       "586                                               #mvp             0   \n",
       "582                                     #автоматизация             1   \n",
       "584                                     #автоматизация             2   \n",
       "\n",
       "     comments_cnt  reposts_cnt  \n",
       "232           0.0         10.0  \n",
       "221           0.0         10.0  \n",
       "233           0.0         10.0  \n",
       "412           0.0          0.0  \n",
       "413           0.0          0.0  \n",
       "418           0.0          0.0  \n",
       "409           0.0          0.0  \n",
       "586           0.0          0.0  \n",
       "582           0.0          0.0  \n",
       "584           0.0          0.0  "
      ]
     },
     "execution_count": 25,
     "metadata": {},
     "output_type": "execute_result"
    }
   ],
   "source": [
    "# вывод на экран первых 10 дубликатов\n",
    "data_total[data_total.duplicated()].sort_values('post').head(10)"
   ]
  },
  {
   "cell_type": "code",
   "execution_count": 26,
   "id": "3ecae966",
   "metadata": {},
   "outputs": [],
   "source": [
    "# удаление дубликатов\n",
    "data_total.drop_duplicates(inplace = True, ignore_index = True)"
   ]
  },
  {
   "cell_type": "code",
   "execution_count": 27,
   "id": "c250aaf3",
   "metadata": {},
   "outputs": [],
   "source": [
    "# сохранение объединенного датасета\n",
    "data_total.to_csv('teams_2_3_8_10_posts.csv', sep=';')"
   ]
  },
  {
   "cell_type": "markdown",
   "id": "1f74c903",
   "metadata": {},
   "source": [
    "<div class=\"alert alert-success\">\n",
    "<b>Комментарий ревьюера ✔️:</b> Собрали данные, теперь можно приступать к исследованию🧙🏻 Пишите аккуратный и чистый код, используете комментарии👌🏼</div>\n"
   ]
  }
 ],
 "metadata": {
  "kernelspec": {
   "display_name": "Python 3 (ipykernel)",
   "language": "python",
   "name": "python3"
  },
  "language_info": {
   "codemirror_mode": {
    "name": "ipython",
    "version": 3
   },
   "file_extension": ".py",
   "mimetype": "text/x-python",
   "name": "python",
   "nbconvert_exporter": "python",
   "pygments_lexer": "ipython3",
   "version": "3.11.3"
  }
 },
 "nbformat": 4,
 "nbformat_minor": 5
}
