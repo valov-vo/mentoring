{
 "cells": [
  {
   "cell_type": "code",
   "execution_count": 1,
   "id": "ccca366a-3733-4e9c-83aa-628537d4e186",
   "metadata": {
    "tags": []
   },
   "outputs": [],
   "source": [
    "import pandas as pd\n",
    "import numpy as np\n",
    "import spacy\n",
    "import json\n",
    "import re\n",
    "\n",
    "import seaborn as sns\n",
    "import matplotlib.pyplot as plt\n",
    "\n",
    "from guess_language import guess_language\n",
    "from sklearn.decomposition import LatentDirichletAllocation\n",
    "from sklearn.feature_extraction.text import TfidfVectorizer\n",
    "from nltk.corpus import stopwords"
   ]
  },
  {
   "cell_type": "code",
   "execution_count": 2,
   "id": "7c0003d3-6a8d-4509-a906-6c322696a409",
   "metadata": {
    "tags": []
   },
   "outputs": [],
   "source": [
    "DATA_PATH = '/preprocessed-data/'"
   ]
  },
  {
   "cell_type": "code",
   "execution_count": 3,
   "id": "db1eaa77-b1cc-433b-8faa-cb24a2ffca4d",
   "metadata": {
    "tags": []
   },
   "outputs": [
    {
     "name": "stdout",
     "output_type": "stream",
     "text": [
      "<class 'pandas.core.frame.DataFrame'>\n",
      "Int64Index: 9802 entries, 0 to 9801\n",
      "Data columns (total 6 columns):\n",
      " #   Column         Non-Null Count  Dtype  \n",
      "---  ------         --------------  -----  \n",
      " 0   profile_url    9802 non-null   object \n",
      " 1   post_url       117 non-null    object \n",
      " 2   post           9802 non-null   object \n",
      " 3   reactions_cnt  9653 non-null   object \n",
      " 4   comments_cnt   9467 non-null   float64\n",
      " 5   reposts_cnt    9356 non-null   float64\n",
      "dtypes: float64(2), object(4)\n",
      "memory usage: 536.0+ KB\n",
      "None\n"
     ]
    },
    {
     "data": {
      "text/html": [
       "<div>\n",
       "<style scoped>\n",
       "    .dataframe tbody tr th:only-of-type {\n",
       "        vertical-align: middle;\n",
       "    }\n",
       "\n",
       "    .dataframe tbody tr th {\n",
       "        vertical-align: top;\n",
       "    }\n",
       "\n",
       "    .dataframe thead th {\n",
       "        text-align: right;\n",
       "    }\n",
       "</style>\n",
       "<table border=\"1\" class=\"dataframe\">\n",
       "  <thead>\n",
       "    <tr style=\"text-align: right;\">\n",
       "      <th></th>\n",
       "      <th>profile_url</th>\n",
       "      <th>post_url</th>\n",
       "      <th>post</th>\n",
       "      <th>reactions_cnt</th>\n",
       "      <th>comments_cnt</th>\n",
       "      <th>reposts_cnt</th>\n",
       "    </tr>\n",
       "  </thead>\n",
       "  <tbody>\n",
       "    <tr>\n",
       "      <th>0</th>\n",
       "      <td>https://www.linkedin.com/in/ali-wodan/recent-a...</td>\n",
       "      <td>NaN</td>\n",
       "      <td>Кстати говоря. Теперь подкаст Миражи доступен ...</td>\n",
       "      <td>1</td>\n",
       "      <td>0.0</td>\n",
       "      <td>0.0</td>\n",
       "    </tr>\n",
       "    <tr>\n",
       "      <th>1</th>\n",
       "      <td>https://www.linkedin.com/in/ali-wodan/recent-a...</td>\n",
       "      <td>NaN</td>\n",
       "      <td>I’m #hiring. Know anyone who might be interested?</td>\n",
       "      <td>1</td>\n",
       "      <td>0.0</td>\n",
       "      <td>0.0</td>\n",
       "    </tr>\n",
       "    <tr>\n",
       "      <th>2</th>\n",
       "      <td>https://www.linkedin.com/in/ali-wodan/recent-a...</td>\n",
       "      <td>NaN</td>\n",
       "      <td>Хэй честной народ! Ищу векторного иллюстратора...</td>\n",
       "      <td>6</td>\n",
       "      <td>0.0</td>\n",
       "      <td>0.0</td>\n",
       "    </tr>\n",
       "    <tr>\n",
       "      <th>3</th>\n",
       "      <td>https://www.linkedin.com/in/ali-wodan/recent-a...</td>\n",
       "      <td>NaN</td>\n",
       "      <td>Новый пост подкаста \"Миражи\" на всех платформа...</td>\n",
       "      <td>1</td>\n",
       "      <td>0.0</td>\n",
       "      <td>0.0</td>\n",
       "    </tr>\n",
       "    <tr>\n",
       "      <th>4</th>\n",
       "      <td>https://www.linkedin.com/in/ali-wodan/recent-a...</td>\n",
       "      <td>NaN</td>\n",
       "      <td>Подкаст Миражи, Эпизод 13Ошибка невозвратных з...</td>\n",
       "      <td>2</td>\n",
       "      <td>0.0</td>\n",
       "      <td>0.0</td>\n",
       "    </tr>\n",
       "  </tbody>\n",
       "</table>\n",
       "</div>"
      ],
      "text/plain": [
       "                                         profile_url post_url  \\\n",
       "0  https://www.linkedin.com/in/ali-wodan/recent-a...      NaN   \n",
       "1  https://www.linkedin.com/in/ali-wodan/recent-a...      NaN   \n",
       "2  https://www.linkedin.com/in/ali-wodan/recent-a...      NaN   \n",
       "3  https://www.linkedin.com/in/ali-wodan/recent-a...      NaN   \n",
       "4  https://www.linkedin.com/in/ali-wodan/recent-a...      NaN   \n",
       "\n",
       "                                                post reactions_cnt  \\\n",
       "0  Кстати говоря. Теперь подкаст Миражи доступен ...             1   \n",
       "1  I’m #hiring. Know anyone who might be interested?             1   \n",
       "2  Хэй честной народ! Ищу векторного иллюстратора...             6   \n",
       "3  Новый пост подкаста \"Миражи\" на всех платформа...             1   \n",
       "4  Подкаст Миражи, Эпизод 13Ошибка невозвратных з...             2   \n",
       "\n",
       "   comments_cnt  reposts_cnt  \n",
       "0           0.0          0.0  \n",
       "1           0.0          0.0  \n",
       "2           0.0          0.0  \n",
       "3           0.0          0.0  \n",
       "4           0.0          0.0  "
      ]
     },
     "execution_count": 3,
     "metadata": {},
     "output_type": "execute_result"
    }
   ],
   "source": [
    "posts = pd.read_csv(f'{DATA_PATH}teams_2_3_8_10_posts.csv', sep=';', index_col=0)\n",
    "print(posts.info())\n",
    "posts.head()"
   ]
  },
  {
   "cell_type": "markdown",
   "id": "4853b829-68d7-43c3-8279-60d4c376fc51",
   "metadata": {},
   "source": [
    "# Категоризация текстов по языку"
   ]
  },
  {
   "cell_type": "markdown",
   "id": "46c3288b-b79c-4d03-8910-5499f1a9fc14",
   "metadata": {
    "tags": []
   },
   "source": [
    "Так как при парсинге в выборку попадали тексты на разных языках, произведем категоризацию по ним, используя библиотеку `guess_language`"
   ]
  },
  {
   "cell_type": "code",
   "execution_count": 4,
   "id": "36a9bf12-9363-4b63-a7af-30beb3703aa9",
   "metadata": {
    "tags": []
   },
   "outputs": [
    {
     "data": {
      "text/html": [
       "<div>\n",
       "<style scoped>\n",
       "    .dataframe tbody tr th:only-of-type {\n",
       "        vertical-align: middle;\n",
       "    }\n",
       "\n",
       "    .dataframe tbody tr th {\n",
       "        vertical-align: top;\n",
       "    }\n",
       "\n",
       "    .dataframe thead th {\n",
       "        text-align: right;\n",
       "    }\n",
       "</style>\n",
       "<table border=\"1\" class=\"dataframe\">\n",
       "  <thead>\n",
       "    <tr style=\"text-align: right;\">\n",
       "      <th></th>\n",
       "      <th>profile_url</th>\n",
       "      <th>post_url</th>\n",
       "      <th>post</th>\n",
       "      <th>reactions_cnt</th>\n",
       "      <th>comments_cnt</th>\n",
       "      <th>reposts_cnt</th>\n",
       "      <th>language</th>\n",
       "    </tr>\n",
       "  </thead>\n",
       "  <tbody>\n",
       "    <tr>\n",
       "      <th>9648</th>\n",
       "      <td>https://www.linkedin.com/in/sshkarin</td>\n",
       "      <td>NaN</td>\n",
       "      <td>DataCamp Ensemble Methods in Python</td>\n",
       "      <td>NaN</td>\n",
       "      <td>NaN</td>\n",
       "      <td>NaN</td>\n",
       "      <td>nl</td>\n",
       "    </tr>\n",
       "    <tr>\n",
       "      <th>4340</th>\n",
       "      <td>https://www.linkedin.com/in/nikita-titov-523a2...</td>\n",
       "      <td>NaN</td>\n",
       "      <td>Recorded an interesting podcast with Nathan Sh...</td>\n",
       "      <td>22</td>\n",
       "      <td>0.0</td>\n",
       "      <td>0.0</td>\n",
       "      <td>en</td>\n",
       "    </tr>\n",
       "    <tr>\n",
       "      <th>7681</th>\n",
       "      <td>https://www.linkedin.com/in/albert-oganesyan/r...</td>\n",
       "      <td>NaN</td>\n",
       "      <td>I just earned a skill badge for Agile Methodol...</td>\n",
       "      <td>2</td>\n",
       "      <td>0.0</td>\n",
       "      <td>0.0</td>\n",
       "      <td>en</td>\n",
       "    </tr>\n",
       "    <tr>\n",
       "      <th>6248</th>\n",
       "      <td>https://www.linkedin.com/in/antonlenskiy/recen...</td>\n",
       "      <td>NaN</td>\n",
       "      <td>Интервью с Sergey Voldokhin (#Антифишинг) про ...</td>\n",
       "      <td>2</td>\n",
       "      <td>0.0</td>\n",
       "      <td>0.0</td>\n",
       "      <td>ru</td>\n",
       "    </tr>\n",
       "    <tr>\n",
       "      <th>1591</th>\n",
       "      <td>https://www.linkedin.com/in/argunov/recent-act...</td>\n",
       "      <td>NaN</td>\n",
       "      <td>Hi! My name is Alex.I'm now open for a job as ...</td>\n",
       "      <td>10</td>\n",
       "      <td>0.0</td>\n",
       "      <td>1.0</td>\n",
       "      <td>en</td>\n",
       "    </tr>\n",
       "    <tr>\n",
       "      <th>4045</th>\n",
       "      <td>https://www.linkedin.com/in/marina-a-577a64232...</td>\n",
       "      <td>NaN</td>\n",
       "      <td>Реклама в порно, или «betting against IT-schoo...</td>\n",
       "      <td>1</td>\n",
       "      <td>0.0</td>\n",
       "      <td>0.0</td>\n",
       "      <td>ru</td>\n",
       "    </tr>\n",
       "    <tr>\n",
       "      <th>8475</th>\n",
       "      <td>https://www.linkedin.com/in/metheoryt/recent-a...</td>\n",
       "      <td>NaN</td>\n",
       "      <td>Cyber Security Lifetime Membership Pass - http...</td>\n",
       "      <td>12,783</td>\n",
       "      <td>521.0</td>\n",
       "      <td>1.0</td>\n",
       "      <td>en</td>\n",
       "    </tr>\n",
       "    <tr>\n",
       "      <th>8134</th>\n",
       "      <td>https://www.linkedin.com/in/andranikmirzoyan/r...</td>\n",
       "      <td>NaN</td>\n",
       "      <td>VOLO team at MWC Barcelona ⬇️</td>\n",
       "      <td>10</td>\n",
       "      <td>0.0</td>\n",
       "      <td>0.0</td>\n",
       "      <td>nso</td>\n",
       "    </tr>\n",
       "    <tr>\n",
       "      <th>2327</th>\n",
       "      <td>https://www.linkedin.com/in/dmitriiagaev/recen...</td>\n",
       "      <td>NaN</td>\n",
       "      <td>There are many different types of neural netwo...</td>\n",
       "      <td>3</td>\n",
       "      <td>0.0</td>\n",
       "      <td>0.0</td>\n",
       "      <td>en</td>\n",
       "    </tr>\n",
       "    <tr>\n",
       "      <th>7623</th>\n",
       "      <td>https://www.linkedin.com/in/sadfuzzy/recent-ac...</td>\n",
       "      <td>NaN</td>\n",
       "      <td>If you are looking for a job, pay attention to...</td>\n",
       "      <td>27</td>\n",
       "      <td>2.0</td>\n",
       "      <td>7.0</td>\n",
       "      <td>en</td>\n",
       "    </tr>\n",
       "  </tbody>\n",
       "</table>\n",
       "</div>"
      ],
      "text/plain": [
       "                                            profile_url post_url  \\\n",
       "9648               https://www.linkedin.com/in/sshkarin      NaN   \n",
       "4340  https://www.linkedin.com/in/nikita-titov-523a2...      NaN   \n",
       "7681  https://www.linkedin.com/in/albert-oganesyan/r...      NaN   \n",
       "6248  https://www.linkedin.com/in/antonlenskiy/recen...      NaN   \n",
       "1591  https://www.linkedin.com/in/argunov/recent-act...      NaN   \n",
       "4045  https://www.linkedin.com/in/marina-a-577a64232...      NaN   \n",
       "8475  https://www.linkedin.com/in/metheoryt/recent-a...      NaN   \n",
       "8134  https://www.linkedin.com/in/andranikmirzoyan/r...      NaN   \n",
       "2327  https://www.linkedin.com/in/dmitriiagaev/recen...      NaN   \n",
       "7623  https://www.linkedin.com/in/sadfuzzy/recent-ac...      NaN   \n",
       "\n",
       "                                                   post reactions_cnt  \\\n",
       "9648                DataCamp Ensemble Methods in Python           NaN   \n",
       "4340  Recorded an interesting podcast with Nathan Sh...            22   \n",
       "7681  I just earned a skill badge for Agile Methodol...             2   \n",
       "6248  Интервью с Sergey Voldokhin (#Антифишинг) про ...             2   \n",
       "1591  Hi! My name is Alex.I'm now open for a job as ...            10   \n",
       "4045  Реклама в порно, или «betting against IT-schoo...             1   \n",
       "8475  Cyber Security Lifetime Membership Pass - http...        12,783   \n",
       "8134                      VOLO team at MWC Barcelona ⬇️            10   \n",
       "2327  There are many different types of neural netwo...             3   \n",
       "7623  If you are looking for a job, pay attention to...            27   \n",
       "\n",
       "      comments_cnt  reposts_cnt language  \n",
       "9648           NaN          NaN       nl  \n",
       "4340           0.0          0.0       en  \n",
       "7681           0.0          0.0       en  \n",
       "6248           0.0          0.0       ru  \n",
       "1591           0.0          1.0       en  \n",
       "4045           0.0          0.0       ru  \n",
       "8475         521.0          1.0       en  \n",
       "8134           0.0          0.0      nso  \n",
       "2327           0.0          0.0       en  \n",
       "7623           2.0          7.0       en  "
      ]
     },
     "execution_count": 4,
     "metadata": {},
     "output_type": "execute_result"
    }
   ],
   "source": [
    "posts['language'] = posts['post'].apply(guess_language)\n",
    "posts.sample(10)"
   ]
  },
  {
   "cell_type": "markdown",
   "id": "cb0be2a4-8f38-4155-9437-25f8868c6b24",
   "metadata": {},
   "source": [
    "По десяти случайным строкам видно, что есть категория UNKNOWN и какие-то языки кроме английского и русского. Посмотрим внимательнее"
   ]
  },
  {
   "cell_type": "code",
   "execution_count": 5,
   "id": "1e3b9981-9297-4848-b42c-1e59e07ec030",
   "metadata": {
    "tags": []
   },
   "outputs": [
    {
     "data": {
      "text/plain": [
       "en         6056\n",
       "ru         2287\n",
       "UNKNOWN     386\n",
       "uk          226\n",
       "bg          181\n",
       "fr           77\n",
       "de           47\n",
       "ca           42\n",
       "af           38\n",
       "az           36\n",
       "mk           35\n",
       "it           35\n",
       "nl           33\n",
       "da           32\n",
       "ro           30\n",
       "hy           29\n",
       "la           29\n",
       "es           21\n",
       "tl           17\n",
       "nb           17\n",
       "eo           15\n",
       "sr           13\n",
       "sv           13\n",
       "ar           11\n",
       "pt           11\n",
       "id           10\n",
       "fi            7\n",
       "ha            7\n",
       "nso           6\n",
       "haw           4\n",
       "he            4\n",
       "sl            4\n",
       "kk            4\n",
       "sq            3\n",
       "tr            3\n",
       "ss            3\n",
       "cy            3\n",
       "uz            3\n",
       "is            3\n",
       "hr            3\n",
       "et            2\n",
       "ceb           2\n",
       "hu            2\n",
       "tn            2\n",
       "sk            2\n",
       "vi            1\n",
       "so            1\n",
       "ka            1\n",
       "ve            1\n",
       "tlh           1\n",
       "st            1\n",
       "ky            1\n",
       "lt            1\n",
       "Name: language, dtype: int64"
      ]
     },
     "execution_count": 5,
     "metadata": {},
     "output_type": "execute_result"
    }
   ],
   "source": [
    "posts['language'].value_counts()"
   ]
  },
  {
   "cell_type": "markdown",
   "id": "371a3a30-abb8-4b90-9dea-4b47bfe41d08",
   "metadata": {},
   "source": [
    "Большинство текстов написаны на  русском и английском языках. Визуально посмотрим, на тексты иных языков 'uk', 'bg', 'fr' и категорию `unknown`. Эти категории мамые популярные:"
   ]
  },
  {
   "cell_type": "code",
   "execution_count": 6,
   "id": "6160ec0e-9372-4c44-994f-a124c377f337",
   "metadata": {
    "tags": []
   },
   "outputs": [
    {
     "data": {
      "text/html": [
       "<div>\n",
       "<style scoped>\n",
       "    .dataframe tbody tr th:only-of-type {\n",
       "        vertical-align: middle;\n",
       "    }\n",
       "\n",
       "    .dataframe tbody tr th {\n",
       "        vertical-align: top;\n",
       "    }\n",
       "\n",
       "    .dataframe thead th {\n",
       "        text-align: right;\n",
       "    }\n",
       "</style>\n",
       "<table border=\"1\" class=\"dataframe\">\n",
       "  <thead>\n",
       "    <tr style=\"text-align: right;\">\n",
       "      <th></th>\n",
       "      <th>post</th>\n",
       "      <th>language</th>\n",
       "    </tr>\n",
       "  </thead>\n",
       "  <tbody>\n",
       "    <tr>\n",
       "      <th>1837</th>\n",
       "      <td>Exactly!</td>\n",
       "      <td>UNKNOWN</td>\n",
       "    </tr>\n",
       "    <tr>\n",
       "      <th>7958</th>\n",
       "      <td>🦄</td>\n",
       "      <td>UNKNOWN</td>\n",
       "    </tr>\n",
       "    <tr>\n",
       "      <th>9584</th>\n",
       "      <td>👏</td>\n",
       "      <td>UNKNOWN</td>\n",
       "    </tr>\n",
       "    <tr>\n",
       "      <th>9135</th>\n",
       "      <td>Today’s the big day! :)</td>\n",
       "      <td>UNKNOWN</td>\n",
       "    </tr>\n",
       "    <tr>\n",
       "      <th>581</th>\n",
       "      <td>#импортозамещение</td>\n",
       "      <td>UNKNOWN</td>\n",
       "    </tr>\n",
       "    <tr>\n",
       "      <th>8090</th>\n",
       "      <td>Redux toolkit</td>\n",
       "      <td>UNKNOWN</td>\n",
       "    </tr>\n",
       "    <tr>\n",
       "      <th>9652</th>\n",
       "      <td>Done</td>\n",
       "      <td>UNKNOWN</td>\n",
       "    </tr>\n",
       "    <tr>\n",
       "      <th>7666</th>\n",
       "      <td>🙌Done!</td>\n",
       "      <td>UNKNOWN</td>\n",
       "    </tr>\n",
       "    <tr>\n",
       "      <th>401</th>\n",
       "      <td>#hr #lean #pullsystem</td>\n",
       "      <td>UNKNOWN</td>\n",
       "    </tr>\n",
       "    <tr>\n",
       "      <th>2094</th>\n",
       "      <td>Dev vs QA 🦖 #Dev #qa</td>\n",
       "      <td>UNKNOWN</td>\n",
       "    </tr>\n",
       "  </tbody>\n",
       "</table>\n",
       "</div>"
      ],
      "text/plain": [
       "                         post language\n",
       "1837                 Exactly!  UNKNOWN\n",
       "7958                        🦄  UNKNOWN\n",
       "9584                        👏  UNKNOWN\n",
       "9135  Today’s the big day! :)  UNKNOWN\n",
       "581         #импортозамещение  UNKNOWN\n",
       "8090            Redux toolkit  UNKNOWN\n",
       "9652                     Done  UNKNOWN\n",
       "7666                   🙌Done!  UNKNOWN\n",
       "401     #hr #lean #pullsystem  UNKNOWN\n",
       "2094     Dev vs QA 🦖 #Dev #qa  UNKNOWN"
      ]
     },
     "execution_count": 6,
     "metadata": {},
     "output_type": "execute_result"
    }
   ],
   "source": [
    "posts.query('language == \"UNKNOWN\"')[['post', 'language']].sample(10)"
   ]
  },
  {
   "cell_type": "markdown",
   "id": "52af76f0-ef6c-4c7f-a414-bbc3d752dcb4",
   "metadata": {},
   "source": [
    "Похоже, это очень короткие тексты, которые нам особо не пригодятся. Исключим из выборки"
   ]
  },
  {
   "cell_type": "code",
   "execution_count": 7,
   "id": "a1736cf0-96df-4218-b945-267a3a3580fe",
   "metadata": {
    "tags": []
   },
   "outputs": [
    {
     "data": {
      "text/html": [
       "<div>\n",
       "<style scoped>\n",
       "    .dataframe tbody tr th:only-of-type {\n",
       "        vertical-align: middle;\n",
       "    }\n",
       "\n",
       "    .dataframe tbody tr th {\n",
       "        vertical-align: top;\n",
       "    }\n",
       "\n",
       "    .dataframe thead th {\n",
       "        text-align: right;\n",
       "    }\n",
       "</style>\n",
       "<table border=\"1\" class=\"dataframe\">\n",
       "  <thead>\n",
       "    <tr style=\"text-align: right;\">\n",
       "      <th></th>\n",
       "      <th>post</th>\n",
       "      <th>language</th>\n",
       "    </tr>\n",
       "  </thead>\n",
       "  <tbody>\n",
       "    <tr>\n",
       "      <th>9383</th>\n",
       "      <td>Усім привіт!Розпочинаємо збір, є запит на квад...</td>\n",
       "      <td>uk</td>\n",
       "    </tr>\n",
       "    <tr>\n",
       "      <th>5595</th>\n",
       "      <td>🔲 Книги, які варто прочитати для саморозвитку#...</td>\n",
       "      <td>uk</td>\n",
       "    </tr>\n",
       "    <tr>\n",
       "      <th>6779</th>\n",
       "      <td>Valeriia Olenych #наймає. Знаєте когось, кому ...</td>\n",
       "      <td>uk</td>\n",
       "    </tr>\n",
       "    <tr>\n",
       "      <th>9306</th>\n",
       "      <td>Vitali Kashko #Отзывы с благодарностью Вы вдох...</td>\n",
       "      <td>uk</td>\n",
       "    </tr>\n",
       "    <tr>\n",
       "      <th>2274</th>\n",
       "      <td>Отображение ландшафта генеративного  искусстве...</td>\n",
       "      <td>uk</td>\n",
       "    </tr>\n",
       "    <tr>\n",
       "      <th>8319</th>\n",
       "      <td>Це Джон Конор дивиться, як штучний інтелект до...</td>\n",
       "      <td>uk</td>\n",
       "    </tr>\n",
       "    <tr>\n",
       "      <th>5055</th>\n",
       "      <td>Тримаємо кіберфронт  🤝Український розробник IT...</td>\n",
       "      <td>uk</td>\n",
       "    </tr>\n",
       "    <tr>\n",
       "      <th>2117</th>\n",
       "      <td>Що для вас важливіше матеріальна чи нематеріал...</td>\n",
       "      <td>uk</td>\n",
       "    </tr>\n",
       "    <tr>\n",
       "      <th>5584</th>\n",
       "      <td>📚основи тестування . «Святослав Куліков. Тесту...</td>\n",
       "      <td>uk</td>\n",
       "    </tr>\n",
       "    <tr>\n",
       "      <th>3557</th>\n",
       "      <td>🤝 Допомагаємо один одному розширити мережу кон...</td>\n",
       "      <td>uk</td>\n",
       "    </tr>\n",
       "  </tbody>\n",
       "</table>\n",
       "</div>"
      ],
      "text/plain": [
       "                                                   post language\n",
       "9383  Усім привіт!Розпочинаємо збір, є запит на квад...       uk\n",
       "5595  🔲 Книги, які варто прочитати для саморозвитку#...       uk\n",
       "6779  Valeriia Olenych #наймає. Знаєте когось, кому ...       uk\n",
       "9306  Vitali Kashko #Отзывы с благодарностью Вы вдох...       uk\n",
       "2274  Отображение ландшафта генеративного  искусстве...       uk\n",
       "8319  Це Джон Конор дивиться, як штучний інтелект до...       uk\n",
       "5055  Тримаємо кіберфронт  🤝Український розробник IT...       uk\n",
       "2117  Що для вас важливіше матеріальна чи нематеріал...       uk\n",
       "5584  📚основи тестування . «Святослав Куліков. Тесту...       uk\n",
       "3557  🤝 Допомагаємо один одному розширити мережу кон...       uk"
      ]
     },
     "execution_count": 7,
     "metadata": {},
     "output_type": "execute_result"
    }
   ],
   "source": [
    "posts.query('language == \"uk\"')[['post', 'language']].sample(10)"
   ]
  },
  {
   "cell_type": "markdown",
   "id": "6a04fa4e-f7da-4bcb-be38-eac558e96d40",
   "metadata": {},
   "source": [
    "Украинский язык (логично :-)). Для того, чтобы не подгружать множество языковых моделей, думаю, что целесообразно исключить его из общей выборки. Сосредоточимся на наиболее популярных языках 'ru' и 'en'. Посмотрим 'bg':"
   ]
  },
  {
   "cell_type": "code",
   "execution_count": 8,
   "id": "fadb83eb-3faf-4b8b-afbd-2482602bf753",
   "metadata": {
    "tags": []
   },
   "outputs": [
    {
     "data": {
      "text/html": [
       "<div>\n",
       "<style scoped>\n",
       "    .dataframe tbody tr th:only-of-type {\n",
       "        vertical-align: middle;\n",
       "    }\n",
       "\n",
       "    .dataframe tbody tr th {\n",
       "        vertical-align: top;\n",
       "    }\n",
       "\n",
       "    .dataframe thead th {\n",
       "        text-align: right;\n",
       "    }\n",
       "</style>\n",
       "<table border=\"1\" class=\"dataframe\">\n",
       "  <thead>\n",
       "    <tr style=\"text-align: right;\">\n",
       "      <th></th>\n",
       "      <th>post</th>\n",
       "      <th>language</th>\n",
       "    </tr>\n",
       "  </thead>\n",
       "  <tbody>\n",
       "    <tr>\n",
       "      <th>9752</th>\n",
       "      <td>Внезапно обнаружил у себя английский на уровне...</td>\n",
       "      <td>bg</td>\n",
       "    </tr>\n",
       "    <tr>\n",
       "      <th>828</th>\n",
       "      <td>С удовольствием сообщаю, что я завершил(а) обу...</td>\n",
       "      <td>bg</td>\n",
       "    </tr>\n",
       "    <tr>\n",
       "      <th>2939</th>\n",
       "      <td>Поздравить меня очень просто - поставьте и исп...</td>\n",
       "      <td>bg</td>\n",
       "    </tr>\n",
       "    <tr>\n",
       "      <th>9100</th>\n",
       "      <td>Ребята из #SberIDP опубликовали отличную стать...</td>\n",
       "      <td>bg</td>\n",
       "    </tr>\n",
       "    <tr>\n",
       "      <th>1702</th>\n",
       "      <td>Если вы хотите оставаться в курсе изобретений,...</td>\n",
       "      <td>bg</td>\n",
       "    </tr>\n",
       "    <tr>\n",
       "      <th>9142</th>\n",
       "      <td>Всем привет!У нас в команде Авито Недвижимость...</td>\n",
       "      <td>bg</td>\n",
       "    </tr>\n",
       "    <tr>\n",
       "      <th>2612</th>\n",
       "      <td>Наш полностью готовый кейс! Очень интересная р...</td>\n",
       "      <td>bg</td>\n",
       "    </tr>\n",
       "    <tr>\n",
       "      <th>1359</th>\n",
       "      <td>Недавно на просторах интернета нашла один бот ...</td>\n",
       "      <td>bg</td>\n",
       "    </tr>\n",
       "    <tr>\n",
       "      <th>1149</th>\n",
       "      <td>Разработка лендинг пейдж для Сервис развития к...</td>\n",
       "      <td>bg</td>\n",
       "    </tr>\n",
       "    <tr>\n",
       "      <th>1040</th>\n",
       "      <td>Краткое содержание резюме любого программиста</td>\n",
       "      <td>bg</td>\n",
       "    </tr>\n",
       "  </tbody>\n",
       "</table>\n",
       "</div>"
      ],
      "text/plain": [
       "                                                   post language\n",
       "9752  Внезапно обнаружил у себя английский на уровне...       bg\n",
       "828   С удовольствием сообщаю, что я завершил(а) обу...       bg\n",
       "2939  Поздравить меня очень просто - поставьте и исп...       bg\n",
       "9100  Ребята из #SberIDP опубликовали отличную стать...       bg\n",
       "1702  Если вы хотите оставаться в курсе изобретений,...       bg\n",
       "9142  Всем привет!У нас в команде Авито Недвижимость...       bg\n",
       "2612  Наш полностью готовый кейс! Очень интересная р...       bg\n",
       "1359  Недавно на просторах интернета нашла один бот ...       bg\n",
       "1149  Разработка лендинг пейдж для Сервис развития к...       bg\n",
       "1040      Краткое содержание резюме любого программиста       bg"
      ]
     },
     "execution_count": 8,
     "metadata": {},
     "output_type": "execute_result"
    }
   ],
   "source": [
    "posts.query('language == \"bg\"')[['post', 'language']].sample(10)"
   ]
  },
  {
   "cell_type": "markdown",
   "id": "9d8151d3-9b16-4fb2-adc9-03a8c6d3a342",
   "metadata": {},
   "source": [
    "Большинство текстов с такой меткой написаны на русском. Думаю, что стоит поменять метку языка 'bg' на 'ru'"
   ]
  },
  {
   "cell_type": "code",
   "execution_count": 9,
   "id": "269da72d-5ef1-4112-a147-b61a7016a004",
   "metadata": {
    "tags": []
   },
   "outputs": [
    {
     "data": {
      "text/html": [
       "<div>\n",
       "<style scoped>\n",
       "    .dataframe tbody tr th:only-of-type {\n",
       "        vertical-align: middle;\n",
       "    }\n",
       "\n",
       "    .dataframe tbody tr th {\n",
       "        vertical-align: top;\n",
       "    }\n",
       "\n",
       "    .dataframe thead th {\n",
       "        text-align: right;\n",
       "    }\n",
       "</style>\n",
       "<table border=\"1\" class=\"dataframe\">\n",
       "  <thead>\n",
       "    <tr style=\"text-align: right;\">\n",
       "      <th></th>\n",
       "      <th>post</th>\n",
       "      <th>language</th>\n",
       "    </tr>\n",
       "  </thead>\n",
       "  <tbody>\n",
       "    <tr>\n",
       "      <th>9449</th>\n",
       "      <td>Make your code readable #javascript #webdev</td>\n",
       "      <td>fr</td>\n",
       "    </tr>\n",
       "    <tr>\n",
       "      <th>6721</th>\n",
       "      <td>#ArmeniaAgainstTerrorismDo your part, DONATE!w...</td>\n",
       "      <td>fr</td>\n",
       "    </tr>\n",
       "    <tr>\n",
       "      <th>13</th>\n",
       "      <td>Yeah! #gopractice #productmanagement #datadriven</td>\n",
       "      <td>fr</td>\n",
       "    </tr>\n",
       "    <tr>\n",
       "      <th>7785</th>\n",
       "      <td>Presentation about graphene⭐️#portfolio</td>\n",
       "      <td>fr</td>\n",
       "    </tr>\n",
       "    <tr>\n",
       "      <th>9739</th>\n",
       "      <td>DataCamp Regular Expressions in Python</td>\n",
       "      <td>fr</td>\n",
       "    </tr>\n",
       "    <tr>\n",
       "      <th>6734</th>\n",
       "      <td>#javascript #levelhunt</td>\n",
       "      <td>fr</td>\n",
       "    </tr>\n",
       "    <tr>\n",
       "      <th>7069</th>\n",
       "      <td>mi-guide-to-alternatives.pdf - Google Drive ht...</td>\n",
       "      <td>fr</td>\n",
       "    </tr>\n",
       "    <tr>\n",
       "      <th>3947</th>\n",
       "      <td>Use ChatGPT in Figmahttps://lnkd.in/dPVgSmMN#p...</td>\n",
       "      <td>fr</td>\n",
       "    </tr>\n",
       "    <tr>\n",
       "      <th>4874</th>\n",
       "      <td>https://lnkd.in/eiNAaBt#iphoneapps #privacy #g...</td>\n",
       "      <td>fr</td>\n",
       "    </tr>\n",
       "    <tr>\n",
       "      <th>8124</th>\n",
       "      <td>Check out our latest Newsletter post ⤵</td>\n",
       "      <td>fr</td>\n",
       "    </tr>\n",
       "  </tbody>\n",
       "</table>\n",
       "</div>"
      ],
      "text/plain": [
       "                                                   post language\n",
       "9449        Make your code readable #javascript #webdev       fr\n",
       "6721  #ArmeniaAgainstTerrorismDo your part, DONATE!w...       fr\n",
       "13     Yeah! #gopractice #productmanagement #datadriven       fr\n",
       "7785            Presentation about graphene⭐️#portfolio       fr\n",
       "9739             DataCamp Regular Expressions in Python       fr\n",
       "6734                             #javascript #levelhunt       fr\n",
       "7069  mi-guide-to-alternatives.pdf - Google Drive ht...       fr\n",
       "3947  Use ChatGPT in Figmahttps://lnkd.in/dPVgSmMN#p...       fr\n",
       "4874  https://lnkd.in/eiNAaBt#iphoneapps #privacy #g...       fr\n",
       "8124             Check out our latest Newsletter post ⤵       fr"
      ]
     },
     "execution_count": 9,
     "metadata": {},
     "output_type": "execute_result"
    }
   ],
   "source": [
    "posts.query('language == \"fr\"')[['post', 'language']].sample(10)"
   ]
  },
  {
   "cell_type": "markdown",
   "id": "4e6358b7-3df1-4dc7-9fd8-5bf13a9f1c8c",
   "metadata": {},
   "source": [
    "Большой разброс по фактическим языкам. Думаю, что эту категорию не стоит включать в выборку. Подкорректируем метки функцией и посмотрим, что получилось:"
   ]
  },
  {
   "cell_type": "code",
   "execution_count": 10,
   "id": "4abeeaa9-33f7-4903-84a3-5d05804dbe1a",
   "metadata": {
    "tags": []
   },
   "outputs": [],
   "source": [
    "def lang_correction(text):\n",
    "    if text == 'bg':\n",
    "        return 'ru'\n",
    "    elif text == 'UNKNOWN' or text == 'ru' or text == 'en':\n",
    "        return text\n",
    "    else:\n",
    "        return 'UNKNOWN'"
   ]
  },
  {
   "cell_type": "code",
   "execution_count": 11,
   "id": "c5ccaef6-c571-4a8a-ab65-c3a28ae3bd3a",
   "metadata": {
    "tags": []
   },
   "outputs": [
    {
     "data": {
      "text/plain": [
       "en         6056\n",
       "ru         2468\n",
       "UNKNOWN    1278\n",
       "Name: language, dtype: int64"
      ]
     },
     "execution_count": 11,
     "metadata": {},
     "output_type": "execute_result"
    }
   ],
   "source": [
    "posts['language'] = posts['language'].apply(lang_correction)\n",
    "posts['language'].value_counts()"
   ]
  },
  {
   "cell_type": "markdown",
   "id": "8c308269-a732-49a2-9ccf-bea5e3e536e1",
   "metadata": {
    "tags": []
   },
   "source": [
    "Метка UNKNOWN позволит нам легко исключить ненужные нам для анализа тексты. А что с длиной текстов. Построим распределение:"
   ]
  },
  {
   "cell_type": "code",
   "execution_count": 12,
   "id": "d9c04254-5f45-4fe7-8238-378fd0327e59",
   "metadata": {
    "tags": []
   },
   "outputs": [],
   "source": [
    "def post_len(text):\n",
    "    return len(text)\n",
    "\n",
    "posts['post_len'] = posts['post'].apply(post_len)"
   ]
  },
  {
   "cell_type": "code",
   "execution_count": 13,
   "id": "95bd0169-e666-4cbe-8067-5ec10adc62cb",
   "metadata": {
    "tags": []
   },
   "outputs": [
    {
     "data": {
      "image/png": "[encoded data removed]",
      "text/plain": [
       "<Figure size 640x480 with 1 Axes>"
      ]
     },
     "metadata": {},
     "output_type": "display_data"
    }
   ],
   "source": [
    "sns.histplot(posts, x='post_len',\n",
    "                    hue=\"language\").set_title('Распределение текстов на разных языках по длине')\n",
    "plt.show()"
   ]
  },
  {
   "cell_type": "markdown",
   "id": "19992f08-fe72-4737-9ad3-5c4849812661",
   "metadata": {},
   "source": [
    "Большинство текстов на русском и английском языках длиной меньше 500 символов. Также подтверждается гипотеза, что метка UNKNOWN в значимой степени связана с длиной текста (гистограмма резче остальных показывает спад количества с увеличением длины)."
   ]
  },
  {
   "cell_type": "code",
   "execution_count": 14,
   "id": "faeeef17-e21d-4113-8353-9f77e30bcd6a",
   "metadata": {
    "tags": []
   },
   "outputs": [
    {
     "data": {
      "text/html": [
       "<div>\n",
       "<style scoped>\n",
       "    .dataframe tbody tr th:only-of-type {\n",
       "        vertical-align: middle;\n",
       "    }\n",
       "\n",
       "    .dataframe tbody tr th {\n",
       "        vertical-align: top;\n",
       "    }\n",
       "\n",
       "    .dataframe thead th {\n",
       "        text-align: right;\n",
       "    }\n",
       "</style>\n",
       "<table border=\"1\" class=\"dataframe\">\n",
       "  <thead>\n",
       "    <tr style=\"text-align: right;\">\n",
       "      <th></th>\n",
       "      <th>profile_url</th>\n",
       "      <th>post_url</th>\n",
       "      <th>post</th>\n",
       "      <th>reactions_cnt</th>\n",
       "      <th>comments_cnt</th>\n",
       "      <th>reposts_cnt</th>\n",
       "      <th>language</th>\n",
       "      <th>post_len</th>\n",
       "    </tr>\n",
       "  </thead>\n",
       "  <tbody>\n",
       "    <tr>\n",
       "      <th>669</th>\n",
       "      <td>https://www.linkedin.com/in/sashachern/recent-...</td>\n",
       "      <td>NaN</td>\n",
       "      <td>There are a lot of gray crows here - soon they...</td>\n",
       "      <td>0</td>\n",
       "      <td>0.0</td>\n",
       "      <td>0.0</td>\n",
       "      <td>en</td>\n",
       "      <td>266</td>\n",
       "    </tr>\n",
       "    <tr>\n",
       "      <th>8006</th>\n",
       "      <td>https://www.linkedin.com/in/nikolasapulido/rec...</td>\n",
       "      <td>NaN</td>\n",
       "      <td>The hard work has paid off, check out the new ...</td>\n",
       "      <td>3</td>\n",
       "      <td>1.0</td>\n",
       "      <td>0.0</td>\n",
       "      <td>en</td>\n",
       "      <td>278</td>\n",
       "    </tr>\n",
       "    <tr>\n",
       "      <th>7636</th>\n",
       "      <td>https://www.linkedin.com/in/sadfuzzy/recent-ac...</td>\n",
       "      <td>NaN</td>\n",
       "      <td>My team is hiring!If you wanted to join Avito ...</td>\n",
       "      <td>0</td>\n",
       "      <td>0.0</td>\n",
       "      <td>0.0</td>\n",
       "      <td>en</td>\n",
       "      <td>139</td>\n",
       "    </tr>\n",
       "    <tr>\n",
       "      <th>4811</th>\n",
       "      <td>https://www.linkedin.com/in/vadim-dyvlyash/rec...</td>\n",
       "      <td>NaN</td>\n",
       "      <td>Great report from UNESCO on ChatGPT and Artifi...</td>\n",
       "      <td>16</td>\n",
       "      <td>0.0</td>\n",
       "      <td>0.0</td>\n",
       "      <td>en</td>\n",
       "      <td>517</td>\n",
       "    </tr>\n",
       "    <tr>\n",
       "      <th>3526</th>\n",
       "      <td>https://www.linkedin.com/in/anastasiia-boiarch...</td>\n",
       "      <td>NaN</td>\n",
       "      <td>We are working even harder now. For our famili...</td>\n",
       "      <td>1</td>\n",
       "      <td>0.0</td>\n",
       "      <td>0.0</td>\n",
       "      <td>en</td>\n",
       "      <td>118</td>\n",
       "    </tr>\n",
       "  </tbody>\n",
       "</table>\n",
       "</div>"
      ],
      "text/plain": [
       "                                            profile_url post_url  \\\n",
       "669   https://www.linkedin.com/in/sashachern/recent-...      NaN   \n",
       "8006  https://www.linkedin.com/in/nikolasapulido/rec...      NaN   \n",
       "7636  https://www.linkedin.com/in/sadfuzzy/recent-ac...      NaN   \n",
       "4811  https://www.linkedin.com/in/vadim-dyvlyash/rec...      NaN   \n",
       "3526  https://www.linkedin.com/in/anastasiia-boiarch...      NaN   \n",
       "\n",
       "                                                   post reactions_cnt  \\\n",
       "669   There are a lot of gray crows here - soon they...             0   \n",
       "8006  The hard work has paid off, check out the new ...             3   \n",
       "7636  My team is hiring!If you wanted to join Avito ...             0   \n",
       "4811  Great report from UNESCO on ChatGPT and Artifi...            16   \n",
       "3526  We are working even harder now. For our famili...             1   \n",
       "\n",
       "      comments_cnt  reposts_cnt language  post_len  \n",
       "669            0.0          0.0       en       266  \n",
       "8006           1.0          0.0       en       278  \n",
       "7636           0.0          0.0       en       139  \n",
       "4811           0.0          0.0       en       517  \n",
       "3526           0.0          0.0       en       118  "
      ]
     },
     "execution_count": 14,
     "metadata": {},
     "output_type": "execute_result"
    }
   ],
   "source": [
    "posts_en = posts.query('language == \"en\"')\n",
    "posts_en.sample(5)"
   ]
  },
  {
   "cell_type": "code",
   "execution_count": 15,
   "id": "4e468e3e-6bbf-43da-82d0-2410f2bf0406",
   "metadata": {
    "tags": []
   },
   "outputs": [
    {
     "data": {
      "text/html": [
       "<div>\n",
       "<style scoped>\n",
       "    .dataframe tbody tr th:only-of-type {\n",
       "        vertical-align: middle;\n",
       "    }\n",
       "\n",
       "    .dataframe tbody tr th {\n",
       "        vertical-align: top;\n",
       "    }\n",
       "\n",
       "    .dataframe thead th {\n",
       "        text-align: right;\n",
       "    }\n",
       "</style>\n",
       "<table border=\"1\" class=\"dataframe\">\n",
       "  <thead>\n",
       "    <tr style=\"text-align: right;\">\n",
       "      <th></th>\n",
       "      <th>profile_url</th>\n",
       "      <th>post_url</th>\n",
       "      <th>post</th>\n",
       "      <th>reactions_cnt</th>\n",
       "      <th>comments_cnt</th>\n",
       "      <th>reposts_cnt</th>\n",
       "      <th>language</th>\n",
       "      <th>post_len</th>\n",
       "    </tr>\n",
       "  </thead>\n",
       "  <tbody>\n",
       "    <tr>\n",
       "      <th>1893</th>\n",
       "      <td>https://www.linkedin.com/in/anton-cucer/recent...</td>\n",
       "      <td>NaN</td>\n",
       "      <td>В статье на VC.ru по ссылке я раскрыл тему \"Ка...</td>\n",
       "      <td>7</td>\n",
       "      <td>0.0</td>\n",
       "      <td>0.0</td>\n",
       "      <td>ru</td>\n",
       "      <td>362</td>\n",
       "    </tr>\n",
       "    <tr>\n",
       "      <th>9214</th>\n",
       "      <td>https://www.linkedin.com/in/potehin/</td>\n",
       "      <td>https://www.linkedin.com/feed/update/urn:li:ac...</td>\n",
       "      <td>Вот и у меня образовался перерыв в карьере. Ес...</td>\n",
       "      <td>7</td>\n",
       "      <td>0.0</td>\n",
       "      <td>NaN</td>\n",
       "      <td>ru</td>\n",
       "      <td>132</td>\n",
       "    </tr>\n",
       "    <tr>\n",
       "      <th>2325</th>\n",
       "      <td>https://www.linkedin.com/in/itrecruiterzeon/re...</td>\n",
       "      <td>NaN</td>\n",
       "      <td>Немного советов по подготовке к собеседованиям...</td>\n",
       "      <td>16</td>\n",
       "      <td>0.0</td>\n",
       "      <td>0.0</td>\n",
       "      <td>ru</td>\n",
       "      <td>1238</td>\n",
       "    </tr>\n",
       "    <tr>\n",
       "      <th>4038</th>\n",
       "      <td>https://www.linkedin.com/in/marina-a-577a64232...</td>\n",
       "      <td>NaN</td>\n",
       "      <td>Часть 1 психические расстройства#it #work #psy...</td>\n",
       "      <td>1</td>\n",
       "      <td>0.0</td>\n",
       "      <td>0.0</td>\n",
       "      <td>ru</td>\n",
       "      <td>2278</td>\n",
       "    </tr>\n",
       "    <tr>\n",
       "      <th>2290</th>\n",
       "      <td>https://www.linkedin.com/in/damiruali/recent-a...</td>\n",
       "      <td>NaN</td>\n",
       "      <td>О быстром и устойчивом развитии компании.Огляд...</td>\n",
       "      <td>3</td>\n",
       "      <td>3.0</td>\n",
       "      <td>0.0</td>\n",
       "      <td>ru</td>\n",
       "      <td>1026</td>\n",
       "    </tr>\n",
       "  </tbody>\n",
       "</table>\n",
       "</div>"
      ],
      "text/plain": [
       "                                            profile_url  \\\n",
       "1893  https://www.linkedin.com/in/anton-cucer/recent...   \n",
       "9214               https://www.linkedin.com/in/potehin/   \n",
       "2325  https://www.linkedin.com/in/itrecruiterzeon/re...   \n",
       "4038  https://www.linkedin.com/in/marina-a-577a64232...   \n",
       "2290  https://www.linkedin.com/in/damiruali/recent-a...   \n",
       "\n",
       "                                               post_url  \\\n",
       "1893                                                NaN   \n",
       "9214  https://www.linkedin.com/feed/update/urn:li:ac...   \n",
       "2325                                                NaN   \n",
       "4038                                                NaN   \n",
       "2290                                                NaN   \n",
       "\n",
       "                                                   post reactions_cnt  \\\n",
       "1893  В статье на VC.ru по ссылке я раскрыл тему \"Ка...             7   \n",
       "9214  Вот и у меня образовался перерыв в карьере. Ес...             7   \n",
       "2325  Немного советов по подготовке к собеседованиям...            16   \n",
       "4038  Часть 1 психические расстройства#it #work #psy...             1   \n",
       "2290  О быстром и устойчивом развитии компании.Огляд...             3   \n",
       "\n",
       "      comments_cnt  reposts_cnt language  post_len  \n",
       "1893           0.0          0.0       ru       362  \n",
       "9214           0.0          NaN       ru       132  \n",
       "2325           0.0          0.0       ru      1238  \n",
       "4038           0.0          0.0       ru      2278  \n",
       "2290           3.0          0.0       ru      1026  "
      ]
     },
     "execution_count": 15,
     "metadata": {},
     "output_type": "execute_result"
    }
   ],
   "source": [
    "posts_ru = posts.query('language == \"ru\"')\n",
    "posts_ru.sample(5)"
   ]
  },
  {
   "cell_type": "markdown",
   "id": "3d0aad53-dfb6-4444-95d8-788ca0340241",
   "metadata": {},
   "source": [
    "# Подготовка текстов"
   ]
  },
  {
   "cell_type": "markdown",
   "id": "b694dfb0-14b2-402f-bb26-61250534130f",
   "metadata": {},
   "source": [
    "Скачаем и загрузим модели (библиотеку spacy предварительно установили)"
   ]
  },
  {
   "cell_type": "code",
   "execution_count": 16,
   "id": "7ca55e07-1499-4381-95bb-12b899c2de0b",
   "metadata": {
    "tags": []
   },
   "outputs": [],
   "source": [
    "! python -m spacy download ru_core_news_sm >> None\n",
    "! python -m spacy download en_core_web_sm >> None"
   ]
  },
  {
   "cell_type": "code",
   "execution_count": 17,
   "id": "df6b953a-cf55-49c6-aa0d-310bc9386d16",
   "metadata": {
    "tags": []
   },
   "outputs": [],
   "source": [
    "model_en = spacy.load('en_core_web_sm', disable=['ner', 'parser'])\n",
    "model_ru = spacy.load('ru_core_news_sm', disable=['ner', 'parser'])"
   ]
  },
  {
   "cell_type": "markdown",
   "id": "bf3e07b9-a102-4afd-bc7f-c6151404f9e9",
   "metadata": {},
   "source": [
    "Сохраним посты на английском и русском языках, как списки"
   ]
  },
  {
   "cell_type": "code",
   "execution_count": 18,
   "id": "bc7a6c5e-48eb-4db9-a74d-d953771556e6",
   "metadata": {
    "tags": []
   },
   "outputs": [],
   "source": [
    "posts_ru_list = list(posts_ru['post'])\n",
    "posts_en_list = list(posts_en['post'])"
   ]
  },
  {
   "cell_type": "markdown",
   "id": "33a42c87-5dea-4289-a3ab-a18a84e70ef5",
   "metadata": {},
   "source": [
    "Лемматизируем посты и сохраним результат в файлы"
   ]
  },
  {
   "cell_type": "code",
   "execution_count": 19,
   "id": "8c3b71f7-d614-43a9-ac70-c77b7d792eac",
   "metadata": {
    "tags": []
   },
   "outputs": [],
   "source": [
    "res_ru = []\n",
    "for doc in model_ru.pipe(posts_ru_list, disable=[\"tagger\", \"parser\"]):\n",
    "    res_ru.append([token.lemma_ for token in doc])\n",
    "    \n",
    "with open(\"lemmas_ru.json\", \"w\") as fid:\n",
    "    json.dump({\"lemmas_ru\": res_ru}, fid)"
   ]
  },
  {
   "cell_type": "code",
   "execution_count": 20,
   "id": "66f62272-23ca-4d74-92d8-a95a603ac899",
   "metadata": {
    "tags": []
   },
   "outputs": [
    {
     "name": "stderr",
     "output_type": "stream",
     "text": [
      "C:\\Dev\\Jupyter\\dist\\pyenv3.10-win64\\Lib\\site-packages\\spacy\\pipeline\\lemmatizer.py:211: UserWarning: [W108] The rule-based lemmatizer did not find POS annotation for one or more tokens. Check that your pipeline includes components that assign token.pos, typically 'tagger'+'attribute_ruler' or 'morphologizer'.\n",
      "  warnings.warn(Warnings.W108)\n"
     ]
    }
   ],
   "source": [
    "res_en = []\n",
    "for doc in model_en.pipe(posts_en_list, disable=[\"tagger\", \"parser\"]):\n",
    "    res_en.append([token.lemma_ for token in doc])\n",
    "    \n",
    "with open(\"lemmas_en.json\", \"w\") as fid:\n",
    "    json.dump({\"lemmas_en\": res_en}, fid)"
   ]
  },
  {
   "cell_type": "markdown",
   "id": "83658d6d-e2d0-419a-96c1-f31e848a2f92",
   "metadata": {},
   "source": [
    "Проконтролируем, что получилось."
   ]
  },
  {
   "cell_type": "code",
   "execution_count": 21,
   "id": "493a9575-5f83-4a89-b347-7479fc1f2a21",
   "metadata": {
    "tags": []
   },
   "outputs": [
    {
     "data": {
      "text/plain": [
       "'проект, 2020, год, ., одностраничный, сайт, для, студия, лазерный, эпиляция, ., #, webdesign, #, webdeveloper, #, web, #, websites, #, websitedesign, #, webdesigner, #, landingpage, #, сайтыподключ, #, сайтнатильде, #, лендингподключ, #, вебдизайн, #, контекстнаяреклама, #, вебмастер, #, заказатьсайт, #, яндексдирект, #, лендинг, #, лендингпейдж, #, googleadwords, #, shoshiev, #, webmaster'"
      ]
     },
     "execution_count": 21,
     "metadata": {},
     "output_type": "execute_result"
    }
   ],
   "source": [
    "\", \".join(res_ru[np.random.randint(len(res_ru))])"
   ]
  },
  {
   "cell_type": "code",
   "execution_count": 22,
   "id": "aac2f969-9eaf-4d9d-8059-4c3a8f111f25",
   "metadata": {
    "tags": []
   },
   "outputs": [
    {
     "data": {
      "text/plain": [
       "'how, top, b2b, saas, companies, present, features, on, their, websites, 👇, feature, (, what, ), ., value, (, why, ), ., explainer, (, how, ), ., +, product, mockup.#productmarketing, #, saas, #, startup'"
      ]
     },
     "execution_count": 22,
     "metadata": {},
     "output_type": "execute_result"
    }
   ],
   "source": [
    "\", \".join(res_en[np.random.randint(len(res_en))])"
   ]
  },
  {
   "cell_type": "markdown",
   "id": "95e1301e-4bf7-4933-aa6a-022aec1d0a76",
   "metadata": {},
   "source": [
    "Остаётся констатировать, что лемматизация прошла успешно. Почистим тексты:"
   ]
  },
  {
   "cell_type": "code",
   "execution_count": 23,
   "id": "55290b96-a443-469d-880d-3ba9ecfdc171",
   "metadata": {
    "tags": []
   },
   "outputs": [],
   "source": [
    "word_pattern_ru = re.compile(\"^[а-я]*$\")\n",
    "word_pattern_en = re.compile(\"^[a-z]*$\")"
   ]
  },
  {
   "cell_type": "code",
   "execution_count": 24,
   "id": "91a74df7-7542-4a84-97ba-d82ad358e55b",
   "metadata": {
    "tags": []
   },
   "outputs": [],
   "source": [
    "def remove_symbols_ru(doc):\n",
    "    return [token for token in doc if word_pattern_ru.match(token)]\n",
    "\n",
    "def remove_symbols_en(doc):\n",
    "    return [token for token in doc if word_pattern_en.match(token)]"
   ]
  },
  {
   "cell_type": "code",
   "execution_count": 25,
   "id": "52fb9b51-7419-46d6-896f-78a8a55b3a7b",
   "metadata": {
    "tags": []
   },
   "outputs": [],
   "source": [
    "corpus_ru = list(map(remove_symbols_ru, res_ru))\n",
    "corpus_en = list(map(remove_symbols_en, res_en))"
   ]
  },
  {
   "cell_type": "code",
   "execution_count": 26,
   "id": "af5499d6-ce8a-4934-a967-9e254517d71b",
   "metadata": {
    "tags": []
   },
   "outputs": [
    {
     "data": {
      "text/plain": [
       "'большой, действительно, хайлоад, проект, в, сегмент, который, уже, давно, в, стадия, продакшен, ищем, специалист, в, стека, уровень, знание, веб, технология, и, опыт, коммерческий, разработка, знание, и, опыт, работа, с, знание, а, также, современный, фреймворк, для, разработка, или, проектирование, бд, и, написание, быть, ваш, образование, в, или, смежный, как, работа, так, и, работа, в, офис, питер, зарплата, обсуждаться, премия, за, рекомендация, тоже, команда, в, рамка, большой, отдел, человек'"
      ]
     },
     "execution_count": 26,
     "metadata": {},
     "output_type": "execute_result"
    }
   ],
   "source": [
    "\", \".join(corpus_ru[np.random.randint(len(corpus_ru))])"
   ]
  },
  {
   "cell_type": "code",
   "execution_count": 27,
   "id": "d793693b-cf4a-4a9c-860e-dd4b30a07d58",
   "metadata": {
    "tags": []
   },
   "outputs": [
    {
     "data": {
      "text/plain": [
       "'week, ago, i, wrote, about, professor, fortran, comics, book, this, week, i, was, thinked, about, translation, of, this, book, for, my, foreign, friends, so, i, tested, myself, on, this, two, stripes, where, cat, x, is, dreaming, about, robots, and, trying, to, make, robot, fortran, work, what, do, you, think, about, this, will, it, be, interested, for, english, speaking, kids, i, hope, that, i, will, not, have, any, copyright, issues, or, i, will, solve, it, very, easy, kids, kidseducation, programming, professorfortran, comicstrips'"
      ]
     },
     "execution_count": 27,
     "metadata": {},
     "output_type": "execute_result"
    }
   ],
   "source": [
    "\", \".join(corpus_en[np.random.randint(len(corpus_en))])"
   ]
  },
  {
   "cell_type": "markdown",
   "id": "b0df9716-4537-4159-b4fe-756b3e3d696d",
   "metadata": {},
   "source": [
    "Отличный результат. Удалим стоп-слова и будет идеально."
   ]
  },
  {
   "cell_type": "markdown",
   "id": "43403787-4601-4c4c-80f7-601a94b7a142",
   "metadata": {},
   "source": [
    "# Векторизация текстов"
   ]
  },
  {
   "cell_type": "markdown",
   "id": "e339bbd0-0479-4e78-b7c1-b6739f6831c8",
   "metadata": {},
   "source": [
    " Подгружаем и формируем список стоп-слов"
   ]
  },
  {
   "cell_type": "code",
   "execution_count": 28,
   "id": "de60acd3-ffea-4d8e-a0ef-684fe1c2742a",
   "metadata": {
    "tags": []
   },
   "outputs": [],
   "source": [
    "stop_words_ru = stopwords.words('russian')\n",
    "stop_words_en = stopwords.words('english')\n",
    "\n",
    "# сформируем единый список для обоих языков - это не помешает работе векторайзера\n",
    "stop_words = stop_words_ru + stop_words_en"
   ]
  },
  {
   "cell_type": "markdown",
   "id": "478f5b05-712f-44f6-b699-cf80dba09b84",
   "metadata": {
    "tags": []
   },
   "source": [
    "Объединим отдельные слова обратно в тексты и проконтролируем результат"
   ]
  },
  {
   "cell_type": "code",
   "execution_count": 29,
   "id": "a7f6dad6-40f6-416c-aa18-f94a2df5d6ab",
   "metadata": {
    "tags": []
   },
   "outputs": [
    {
     "data": {
      "text/plain": [
       "['i hiring know anyone who might be interested',\n",
       " 'hello everyone i ecstatic to announce my new role as ceo of metakratos studio a seasoned it firm known for delivering advanced software solutions across various industries such as finance it blockchain industrial automatization security edtech and advertising with years of experience in empowering businesses of all sizes to achieve rapid growth and effortless scaling metakratos studio has built a reputation for excellence and innovation i honored to be leading this incredible team and eager to continue the company legacy of pushing the boundaries of technology as we embark on this journey together i look forward to tackling new challenges seizing opportunities and fostering a culture of collaboration and creativity within our team i committed to ensuring that metakratos studio remains at the forefront of innovation and continues to make a lasting impact on the industries we serve i invite you to follow the metakratos studio community on linkedin to stay updated on our latest news insights and accomplishments thank you for your support as i step into this new role let us connect and collaborate to drive innovation growth and success for businesses worldwide newbeginnings ceo metakratosstudio technology innovation softwaredevelopment businessgrowth software success community',\n",
       " 'elon musk sending this tweet through space via starlink satellite']"
      ]
     },
     "execution_count": 29,
     "metadata": {},
     "output_type": "execute_result"
    }
   ],
   "source": [
    "docs_en = [\" \".join(tokens) for tokens in corpus_en]\n",
    "docs_en[:3]"
   ]
  },
  {
   "cell_type": "code",
   "execution_count": 30,
   "id": "b0e60ebd-cc39-4c01-811f-e194c7a9bac0",
   "metadata": {
    "tags": []
   },
   "outputs": [
    {
     "data": {
      "text/plain": [
       "['кстати говорить теперь подкаст миражи доступный в соцсеть вконтакте наконец разобраться как туда прикрутить мираж',\n",
       " 'хэй честной народ искать векторный иллюстратор на проект с возможный длительный сотрудничество по итог можно уровень иллюстрация не плохой чем в пример ты уметь так рисовать напиши мне в личка иллюстрация проект',\n",
       " 'новый пост подкаст мираж на весь платформа в аудио инстаграм а патреоне психология психологиячеловека психологияжизни психологияличности личностныйрост подкаст подкастмиражи маркетинг осознанность мысль мысливслух установка влияние подсознаниеиспользованные звук музыка и картинка аудиоцитата из фильм формула любовь марка']"
      ]
     },
     "execution_count": 30,
     "metadata": {},
     "output_type": "execute_result"
    }
   ],
   "source": [
    "docs_ru = [\" \".join(tokens) for tokens in corpus_ru]\n",
    "docs_ru[:3]"
   ]
  },
  {
   "cell_type": "markdown",
   "id": "c86549e5-5b81-4ec4-947a-f56e2ef2e4e1",
   "metadata": {},
   "source": [
    "Успешно. Векторизируем тексты"
   ]
  },
  {
   "cell_type": "code",
   "execution_count": 31,
   "id": "dff4a986-5f92-4b25-8ad8-5fcd66aa84d0",
   "metadata": {
    "tags": []
   },
   "outputs": [],
   "source": [
    "# создаём \"векторизатор\" :-)\n",
    "tfidf = TfidfVectorizer(stop_words=stop_words, min_df=10, max_df=0.9)"
   ]
  },
  {
   "cell_type": "markdown",
   "id": "061285d5-0aef-4c02-95a3-17600f1394fd",
   "metadata": {},
   "source": [
    "Векторизируем тексты на двух языках, создадим список векторизированных слов и проконтролируем результат"
   ]
  },
  {
   "cell_type": "code",
   "execution_count": 32,
   "id": "9655d949-7b88-450a-a2fb-ea7e9e15db53",
   "metadata": {
    "tags": []
   },
   "outputs": [
    {
     "data": {
      "text/plain": [
       "(2468, 1929)"
      ]
     },
     "execution_count": 32,
     "metadata": {},
     "output_type": "execute_result"
    }
   ],
   "source": [
    "x_ru = tfidf.fit_transform(docs_ru)\n",
    "id2word_ru = {i: token for i, token in enumerate(tfidf.get_feature_names_out())}\n",
    "\n",
    "x_ru.shape"
   ]
  },
  {
   "cell_type": "code",
   "execution_count": 33,
   "id": "72cdaca6-9922-4fbe-9679-c30718cfa749",
   "metadata": {
    "tags": []
   },
   "outputs": [
    {
     "data": {
      "text/plain": [
       "(6056, 3648)"
      ]
     },
     "execution_count": 33,
     "metadata": {},
     "output_type": "execute_result"
    }
   ],
   "source": [
    "x_en = tfidf.fit_transform(docs_en)\n",
    "id2word_en = {i: token for i, token in enumerate(tfidf.get_feature_names_out())}\n",
    "\n",
    "x_en.shape"
   ]
  },
  {
   "cell_type": "markdown",
   "id": "1a8ad8f8-0e6a-4cda-86ef-8e23eede68a3",
   "metadata": {},
   "source": [
    "# LDA"
   ]
  },
  {
   "cell_type": "markdown",
   "id": "0be8186e-8143-408a-a74f-d5aff3a8f1f1",
   "metadata": {},
   "source": [
    "Сформируем топ-100 тем"
   ]
  },
  {
   "cell_type": "code",
   "execution_count": 34,
   "id": "58f079e0-0845-4b3e-8e47-d4791c4224ee",
   "metadata": {
    "tags": []
   },
   "outputs": [],
   "source": [
    "n_topics = 100"
   ]
  },
  {
   "cell_type": "code",
   "execution_count": 35,
   "id": "58166cc8-29dc-45d8-8689-c6308846529e",
   "metadata": {
    "tags": []
   },
   "outputs": [
    {
     "data": {
      "text/plain": [
       "(2468, 100)"
      ]
     },
     "execution_count": 35,
     "metadata": {},
     "output_type": "execute_result"
    }
   ],
   "source": [
    "lda_ru = LatentDirichletAllocation(n_components=n_topics, random_state=10723)\n",
    "topics_ru = lda_ru.fit_transform(x_ru)\n",
    "topics_ru.shape"
   ]
  },
  {
   "cell_type": "code",
   "execution_count": 36,
   "id": "1b4dcdc8-0d55-417e-80a3-ccaa9aee31a7",
   "metadata": {
    "tags": []
   },
   "outputs": [
    {
     "data": {
      "text/plain": [
       "(6056, 100)"
      ]
     },
     "execution_count": 36,
     "metadata": {},
     "output_type": "execute_result"
    }
   ],
   "source": [
    "lda_en = LatentDirichletAllocation(n_components=n_topics, random_state=10723)\n",
    "topics_en = lda_en.fit_transform(x_en)\n",
    "topics_en.shape"
   ]
  },
  {
   "cell_type": "markdown",
   "id": "8eb74fea-3e60-48b8-9e13-6a365a3a9deb",
   "metadata": {},
   "source": [
    "# Формирование датафреймов"
   ]
  },
  {
   "cell_type": "markdown",
   "id": "698ed2b0-149d-4040-8a6e-980f1b76c078",
   "metadata": {
    "tags": []
   },
   "source": [
    "Сформируем общие датафреймы для последующего анализа."
   ]
  },
  {
   "cell_type": "code",
   "execution_count": 37,
   "id": "b76eeb40-b135-4a0c-802a-6830caea939c",
   "metadata": {
    "tags": []
   },
   "outputs": [
    {
     "data": {
      "text/html": [
       "<div>\n",
       "<style scoped>\n",
       "    .dataframe tbody tr th:only-of-type {\n",
       "        vertical-align: middle;\n",
       "    }\n",
       "\n",
       "    .dataframe tbody tr th {\n",
       "        vertical-align: top;\n",
       "    }\n",
       "\n",
       "    .dataframe thead th {\n",
       "        text-align: right;\n",
       "    }\n",
       "</style>\n",
       "<table border=\"1\" class=\"dataframe\">\n",
       "  <thead>\n",
       "    <tr style=\"text-align: right;\">\n",
       "      <th></th>\n",
       "      <th>profile_url</th>\n",
       "      <th>post_url</th>\n",
       "      <th>post</th>\n",
       "      <th>reactions_cnt</th>\n",
       "      <th>comments_cnt</th>\n",
       "      <th>reposts_cnt</th>\n",
       "      <th>language</th>\n",
       "      <th>post_len</th>\n",
       "      <th>topic</th>\n",
       "    </tr>\n",
       "  </thead>\n",
       "  <tbody>\n",
       "    <tr>\n",
       "      <th>0</th>\n",
       "      <td>https://www.linkedin.com/in/ali-wodan/recent-a...</td>\n",
       "      <td>NaN</td>\n",
       "      <td>Кстати говоря. Теперь подкаст Миражи доступен ...</td>\n",
       "      <td>1</td>\n",
       "      <td>0.0</td>\n",
       "      <td>0.0</td>\n",
       "      <td>ru</td>\n",
       "      <td>155</td>\n",
       "      <td>39</td>\n",
       "    </tr>\n",
       "    <tr>\n",
       "      <th>1</th>\n",
       "      <td>https://www.linkedin.com/in/ali-wodan/recent-a...</td>\n",
       "      <td>NaN</td>\n",
       "      <td>Хэй честной народ! Ищу векторного иллюстратора...</td>\n",
       "      <td>6</td>\n",
       "      <td>0.0</td>\n",
       "      <td>0.0</td>\n",
       "      <td>ru</td>\n",
       "      <td>486</td>\n",
       "      <td>39</td>\n",
       "    </tr>\n",
       "    <tr>\n",
       "      <th>2</th>\n",
       "      <td>https://www.linkedin.com/in/ali-wodan/recent-a...</td>\n",
       "      <td>NaN</td>\n",
       "      <td>Новый пост подкаста \"Миражи\" на всех платформа...</td>\n",
       "      <td>1</td>\n",
       "      <td>0.0</td>\n",
       "      <td>0.0</td>\n",
       "      <td>ru</td>\n",
       "      <td>614</td>\n",
       "      <td>38</td>\n",
       "    </tr>\n",
       "    <tr>\n",
       "      <th>3</th>\n",
       "      <td>https://www.linkedin.com/in/ali-wodan/recent-a...</td>\n",
       "      <td>NaN</td>\n",
       "      <td>Подкаст Миражи, Эпизод 13Ошибка невозвратных з...</td>\n",
       "      <td>2</td>\n",
       "      <td>0.0</td>\n",
       "      <td>0.0</td>\n",
       "      <td>ru</td>\n",
       "      <td>143</td>\n",
       "      <td>37</td>\n",
       "    </tr>\n",
       "    <tr>\n",
       "      <th>4</th>\n",
       "      <td>https://www.linkedin.com/in/ali-wodan/recent-a...</td>\n",
       "      <td>NaN</td>\n",
       "      <td>Редкий случай, когда считаю правильным распрос...</td>\n",
       "      <td>0</td>\n",
       "      <td>0.0</td>\n",
       "      <td>0.0</td>\n",
       "      <td>ru</td>\n",
       "      <td>326</td>\n",
       "      <td>39</td>\n",
       "    </tr>\n",
       "  </tbody>\n",
       "</table>\n",
       "</div>"
      ],
      "text/plain": [
       "                                         profile_url post_url  \\\n",
       "0  https://www.linkedin.com/in/ali-wodan/recent-a...      NaN   \n",
       "1  https://www.linkedin.com/in/ali-wodan/recent-a...      NaN   \n",
       "2  https://www.linkedin.com/in/ali-wodan/recent-a...      NaN   \n",
       "3  https://www.linkedin.com/in/ali-wodan/recent-a...      NaN   \n",
       "4  https://www.linkedin.com/in/ali-wodan/recent-a...      NaN   \n",
       "\n",
       "                                                post reactions_cnt  \\\n",
       "0  Кстати говоря. Теперь подкаст Миражи доступен ...             1   \n",
       "1  Хэй честной народ! Ищу векторного иллюстратора...             6   \n",
       "2  Новый пост подкаста \"Миражи\" на всех платформа...             1   \n",
       "3  Подкаст Миражи, Эпизод 13Ошибка невозвратных з...             2   \n",
       "4  Редкий случай, когда считаю правильным распрос...             0   \n",
       "\n",
       "   comments_cnt  reposts_cnt language  post_len  topic  \n",
       "0           0.0          0.0       ru       155     39  \n",
       "1           0.0          0.0       ru       486     39  \n",
       "2           0.0          0.0       ru       614     38  \n",
       "3           0.0          0.0       ru       143     37  \n",
       "4           0.0          0.0       ru       326     39  "
      ]
     },
     "execution_count": 37,
     "metadata": {},
     "output_type": "execute_result"
    }
   ],
   "source": [
    "# выбираем наиболее вероятную тему для каждого поста\n",
    "df_topics_ru = pd.DataFrame(topics_ru, index=posts_ru.index).transpose().idxmax()\n",
    "\n",
    "# мерджим с общей таблицей\n",
    "df_posts_ru = posts_ru.merge(pd.Series(df_topics_ru, name='topic'),\n",
    "               left_index=True,\n",
    "               right_index=True).reset_index(drop=True)\n",
    "\n",
    "df_posts_ru.head()"
   ]
  },
  {
   "cell_type": "markdown",
   "id": "3b7d88aa-016c-4cbf-84c8-c6370c83aa3e",
   "metadata": {},
   "source": [
    "С русским языком порядок, теперь английский"
   ]
  },
  {
   "cell_type": "code",
   "execution_count": 38,
   "id": "47cf70bb-974a-473e-9fa8-2ee4bd531f67",
   "metadata": {
    "tags": []
   },
   "outputs": [
    {
     "data": {
      "text/html": [
       "<div>\n",
       "<style scoped>\n",
       "    .dataframe tbody tr th:only-of-type {\n",
       "        vertical-align: middle;\n",
       "    }\n",
       "\n",
       "    .dataframe tbody tr th {\n",
       "        vertical-align: top;\n",
       "    }\n",
       "\n",
       "    .dataframe thead th {\n",
       "        text-align: right;\n",
       "    }\n",
       "</style>\n",
       "<table border=\"1\" class=\"dataframe\">\n",
       "  <thead>\n",
       "    <tr style=\"text-align: right;\">\n",
       "      <th></th>\n",
       "      <th>profile_url</th>\n",
       "      <th>post_url</th>\n",
       "      <th>post</th>\n",
       "      <th>reactions_cnt</th>\n",
       "      <th>comments_cnt</th>\n",
       "      <th>reposts_cnt</th>\n",
       "      <th>language</th>\n",
       "      <th>post_len</th>\n",
       "      <th>topic</th>\n",
       "    </tr>\n",
       "  </thead>\n",
       "  <tbody>\n",
       "    <tr>\n",
       "      <th>0</th>\n",
       "      <td>https://www.linkedin.com/in/ali-wodan/recent-a...</td>\n",
       "      <td>NaN</td>\n",
       "      <td>I’m #hiring. Know anyone who might be interested?</td>\n",
       "      <td>1</td>\n",
       "      <td>0.0</td>\n",
       "      <td>0.0</td>\n",
       "      <td>en</td>\n",
       "      <td>49</td>\n",
       "      <td>11</td>\n",
       "    </tr>\n",
       "    <tr>\n",
       "      <th>1</th>\n",
       "      <td>https://www.linkedin.com/in/ikotow/recent-acti...</td>\n",
       "      <td>NaN</td>\n",
       "      <td>Hello Everyone! I'm ecstatic to announce my ne...</td>\n",
       "      <td>21</td>\n",
       "      <td>1.0</td>\n",
       "      <td>1.0</td>\n",
       "      <td>en</td>\n",
       "      <td>1356</td>\n",
       "      <td>56</td>\n",
       "    </tr>\n",
       "    <tr>\n",
       "      <th>2</th>\n",
       "      <td>https://www.linkedin.com/in/groshev-andrew/rec...</td>\n",
       "      <td>NaN</td>\n",
       "      <td>Elon Musk (@elonmusk) твитнул(а): Sending this...</td>\n",
       "      <td>0</td>\n",
       "      <td>0.0</td>\n",
       "      <td>0.0</td>\n",
       "      <td>en</td>\n",
       "      <td>91</td>\n",
       "      <td>65</td>\n",
       "    </tr>\n",
       "    <tr>\n",
       "      <th>3</th>\n",
       "      <td>https://www.linkedin.com/in/groshev-andrew/rec...</td>\n",
       "      <td>NaN</td>\n",
       "      <td>Wow ! I loved this videohttps://zuzus.tech</td>\n",
       "      <td>0</td>\n",
       "      <td>0.0</td>\n",
       "      <td>0.0</td>\n",
       "      <td>en</td>\n",
       "      <td>42</td>\n",
       "      <td>6</td>\n",
       "    </tr>\n",
       "    <tr>\n",
       "      <th>4</th>\n",
       "      <td>https://www.linkedin.com/in/spasatos/recent-ac...</td>\n",
       "      <td>NaN</td>\n",
       "      <td>I teach \"Data Visualization\" at the Higher Sch...</td>\n",
       "      <td>0</td>\n",
       "      <td>0.0</td>\n",
       "      <td>0.0</td>\n",
       "      <td>en</td>\n",
       "      <td>210</td>\n",
       "      <td>47</td>\n",
       "    </tr>\n",
       "  </tbody>\n",
       "</table>\n",
       "</div>"
      ],
      "text/plain": [
       "                                         profile_url post_url  \\\n",
       "0  https://www.linkedin.com/in/ali-wodan/recent-a...      NaN   \n",
       "1  https://www.linkedin.com/in/ikotow/recent-acti...      NaN   \n",
       "2  https://www.linkedin.com/in/groshev-andrew/rec...      NaN   \n",
       "3  https://www.linkedin.com/in/groshev-andrew/rec...      NaN   \n",
       "4  https://www.linkedin.com/in/spasatos/recent-ac...      NaN   \n",
       "\n",
       "                                                post reactions_cnt  \\\n",
       "0  I’m #hiring. Know anyone who might be interested?             1   \n",
       "1  Hello Everyone! I'm ecstatic to announce my ne...            21   \n",
       "2  Elon Musk (@elonmusk) твитнул(а): Sending this...             0   \n",
       "3         Wow ! I loved this videohttps://zuzus.tech             0   \n",
       "4  I teach \"Data Visualization\" at the Higher Sch...             0   \n",
       "\n",
       "   comments_cnt  reposts_cnt language  post_len  topic  \n",
       "0           0.0          0.0       en        49     11  \n",
       "1           1.0          1.0       en      1356     56  \n",
       "2           0.0          0.0       en        91     65  \n",
       "3           0.0          0.0       en        42      6  \n",
       "4           0.0          0.0       en       210     47  "
      ]
     },
     "execution_count": 38,
     "metadata": {},
     "output_type": "execute_result"
    }
   ],
   "source": [
    "# выбираем наиболее вероятную тему для каждого поста\n",
    "df_topics_en = pd.DataFrame(topics_en, index=posts_en.index).transpose().idxmax()\n",
    "\n",
    "# мерджим с общей таблицей\n",
    "df_posts_en = posts_en.merge(pd.Series(df_topics_en, name='topic'),\n",
    "               left_index=True,\n",
    "               right_index=True).reset_index(drop=True)\n",
    "\n",
    "df_posts_en.head()"
   ]
  },
  {
   "cell_type": "markdown",
   "id": "3f82db1f-43b6-4be4-ba62-188fb260f4f7",
   "metadata": {},
   "source": [
    "Успешно. Поработаем немного с пропусками в данных"
   ]
  },
  {
   "cell_type": "code",
   "execution_count": 39,
   "id": "2f1fba33-cfc6-4793-af19-2335fdfa16a7",
   "metadata": {
    "tags": []
   },
   "outputs": [
    {
     "name": "stdout",
     "output_type": "stream",
     "text": [
      "<class 'pandas.core.frame.DataFrame'>\n",
      "RangeIndex: 6056 entries, 0 to 6055\n",
      "Data columns (total 9 columns):\n",
      " #   Column         Non-Null Count  Dtype  \n",
      "---  ------         --------------  -----  \n",
      " 0   profile_url    6056 non-null   object \n",
      " 1   post_url       49 non-null     object \n",
      " 2   post           6056 non-null   object \n",
      " 3   reactions_cnt  5989 non-null   object \n",
      " 4   comments_cnt   5909 non-null   float64\n",
      " 5   reposts_cnt    5872 non-null   float64\n",
      " 6   language       6056 non-null   object \n",
      " 7   post_len       6056 non-null   int64  \n",
      " 8   topic          6056 non-null   int64  \n",
      "dtypes: float64(2), int64(2), object(5)\n",
      "memory usage: 425.9+ KB\n",
      "None\n",
      "\n",
      "\n",
      "<class 'pandas.core.frame.DataFrame'>\n",
      "RangeIndex: 2468 entries, 0 to 2467\n",
      "Data columns (total 9 columns):\n",
      " #   Column         Non-Null Count  Dtype  \n",
      "---  ------         --------------  -----  \n",
      " 0   profile_url    2468 non-null   object \n",
      " 1   post_url       42 non-null     object \n",
      " 2   post           2468 non-null   object \n",
      " 3   reactions_cnt  2449 non-null   object \n",
      " 4   comments_cnt   2373 non-null   float64\n",
      " 5   reposts_cnt    2325 non-null   float64\n",
      " 6   language       2468 non-null   object \n",
      " 7   post_len       2468 non-null   int64  \n",
      " 8   topic          2468 non-null   int64  \n",
      "dtypes: float64(2), int64(2), object(5)\n",
      "memory usage: 173.7+ KB\n"
     ]
    }
   ],
   "source": [
    "print(df_posts_en.info())\n",
    "print('\\n')\n",
    "df_posts_ru.info()"
   ]
  },
  {
   "cell_type": "markdown",
   "id": "37bcd737-992d-4540-ad31-d118b039f519",
   "metadata": {},
   "source": [
    "видно, что есть пропуски. Заполним их учитывая логику парсинга. Пропуски в количестве реакций и комментариев означают их отсутствие - заполним нулями. Ссылки на посты тоже не всем удалось собрать. Тоже можно заполнить нулём со смыслом - \"отсутствует\""
   ]
  },
  {
   "cell_type": "code",
   "execution_count": 40,
   "id": "7d4b89e9-a4a2-4416-82e4-fc6dc8aa9ea4",
   "metadata": {
    "tags": []
   },
   "outputs": [],
   "source": [
    "df_posts_ru = df_posts_ru.fillna(0)\n",
    "df_posts_en = df_posts_en.fillna(0)"
   ]
  },
  {
   "cell_type": "code",
   "execution_count": 41,
   "id": "825a4da5-a9a1-44f1-8c24-2632761b16d9",
   "metadata": {
    "tags": []
   },
   "outputs": [
    {
     "name": "stdout",
     "output_type": "stream",
     "text": [
      "<class 'pandas.core.frame.DataFrame'>\n",
      "RangeIndex: 6056 entries, 0 to 6055\n",
      "Data columns (total 9 columns):\n",
      " #   Column         Non-Null Count  Dtype  \n",
      "---  ------         --------------  -----  \n",
      " 0   profile_url    6056 non-null   object \n",
      " 1   post_url       6056 non-null   object \n",
      " 2   post           6056 non-null   object \n",
      " 3   reactions_cnt  6056 non-null   object \n",
      " 4   comments_cnt   6056 non-null   float64\n",
      " 5   reposts_cnt    6056 non-null   float64\n",
      " 6   language       6056 non-null   object \n",
      " 7   post_len       6056 non-null   int64  \n",
      " 8   topic          6056 non-null   int64  \n",
      "dtypes: float64(2), int64(2), object(5)\n",
      "memory usage: 425.9+ KB\n",
      "None\n",
      "\n",
      "\n",
      "<class 'pandas.core.frame.DataFrame'>\n",
      "RangeIndex: 2468 entries, 0 to 2467\n",
      "Data columns (total 9 columns):\n",
      " #   Column         Non-Null Count  Dtype  \n",
      "---  ------         --------------  -----  \n",
      " 0   profile_url    2468 non-null   object \n",
      " 1   post_url       2468 non-null   object \n",
      " 2   post           2468 non-null   object \n",
      " 3   reactions_cnt  2468 non-null   object \n",
      " 4   comments_cnt   2468 non-null   float64\n",
      " 5   reposts_cnt    2468 non-null   float64\n",
      " 6   language       2468 non-null   object \n",
      " 7   post_len       2468 non-null   int64  \n",
      " 8   topic          2468 non-null   int64  \n",
      "dtypes: float64(2), int64(2), object(5)\n",
      "memory usage: 173.7+ KB\n"
     ]
    }
   ],
   "source": [
    "print(df_posts_en.info())\n",
    "print('\\n')\n",
    "df_posts_ru.info()"
   ]
  },
  {
   "cell_type": "markdown",
   "id": "115fdc94-864f-4e2a-b2b7-c399efad55bf",
   "metadata": {},
   "source": [
    "Замена прошла успешно. Посмотрим на результат визуально."
   ]
  },
  {
   "cell_type": "code",
   "execution_count": 42,
   "id": "a2d325c6-6769-4bd4-b821-a3998aaa2709",
   "metadata": {
    "tags": []
   },
   "outputs": [
    {
     "data": {
      "text/html": [
       "<div>\n",
       "<style scoped>\n",
       "    .dataframe tbody tr th:only-of-type {\n",
       "        vertical-align: middle;\n",
       "    }\n",
       "\n",
       "    .dataframe tbody tr th {\n",
       "        vertical-align: top;\n",
       "    }\n",
       "\n",
       "    .dataframe thead th {\n",
       "        text-align: right;\n",
       "    }\n",
       "</style>\n",
       "<table border=\"1\" class=\"dataframe\">\n",
       "  <thead>\n",
       "    <tr style=\"text-align: right;\">\n",
       "      <th></th>\n",
       "      <th>profile_url</th>\n",
       "      <th>post_url</th>\n",
       "      <th>post</th>\n",
       "      <th>reactions_cnt</th>\n",
       "      <th>comments_cnt</th>\n",
       "      <th>reposts_cnt</th>\n",
       "      <th>language</th>\n",
       "      <th>post_len</th>\n",
       "      <th>topic</th>\n",
       "    </tr>\n",
       "  </thead>\n",
       "  <tbody>\n",
       "    <tr>\n",
       "      <th>2535</th>\n",
       "      <td>https://www.linkedin.com/in/oleh-frolov-webnau...</td>\n",
       "      <td>0</td>\n",
       "      <td>Дякую команді Yep! за інтерес до нашого старта...</td>\n",
       "      <td>14</td>\n",
       "      <td>1.0</td>\n",
       "      <td>1.0</td>\n",
       "      <td>en</td>\n",
       "      <td>446</td>\n",
       "      <td>25</td>\n",
       "    </tr>\n",
       "    <tr>\n",
       "      <th>5394</th>\n",
       "      <td>https://www.linkedin.com/in/anastasiya-burdeyn...</td>\n",
       "      <td>0</td>\n",
       "      <td>This report is packed with valuable insights a...</td>\n",
       "      <td>10</td>\n",
       "      <td>0.0</td>\n",
       "      <td>0.0</td>\n",
       "      <td>en</td>\n",
       "      <td>552</td>\n",
       "      <td>56</td>\n",
       "    </tr>\n",
       "    <tr>\n",
       "      <th>1863</th>\n",
       "      <td>https://www.linkedin.com/in/-daria-/recent-act...</td>\n",
       "      <td>0</td>\n",
       "      <td>Will alternative seafood help solve the climat...</td>\n",
       "      <td>6</td>\n",
       "      <td>5.0</td>\n",
       "      <td>0.0</td>\n",
       "      <td>en</td>\n",
       "      <td>727</td>\n",
       "      <td>7</td>\n",
       "    </tr>\n",
       "    <tr>\n",
       "      <th>4556</th>\n",
       "      <td>https://www.linkedin.com/in/maria-punda/recent...</td>\n",
       "      <td>0</td>\n",
       "      <td>Earlier, we discussed the Stages of a Digital ...</td>\n",
       "      <td>21</td>\n",
       "      <td>3.0</td>\n",
       "      <td>2.0</td>\n",
       "      <td>en</td>\n",
       "      <td>1353</td>\n",
       "      <td>7</td>\n",
       "    </tr>\n",
       "    <tr>\n",
       "      <th>1643</th>\n",
       "      <td>https://www.linkedin.com/in/yuliya-vasilko-5b4...</td>\n",
       "      <td>0</td>\n",
       "      <td>😉 Hi guys, today, I would like to highlight th...</td>\n",
       "      <td>4</td>\n",
       "      <td>0.0</td>\n",
       "      <td>0.0</td>\n",
       "      <td>en</td>\n",
       "      <td>2366</td>\n",
       "      <td>7</td>\n",
       "    </tr>\n",
       "  </tbody>\n",
       "</table>\n",
       "</div>"
      ],
      "text/plain": [
       "                                            profile_url post_url  \\\n",
       "2535  https://www.linkedin.com/in/oleh-frolov-webnau...        0   \n",
       "5394  https://www.linkedin.com/in/anastasiya-burdeyn...        0   \n",
       "1863  https://www.linkedin.com/in/-daria-/recent-act...        0   \n",
       "4556  https://www.linkedin.com/in/maria-punda/recent...        0   \n",
       "1643  https://www.linkedin.com/in/yuliya-vasilko-5b4...        0   \n",
       "\n",
       "                                                   post reactions_cnt  \\\n",
       "2535  Дякую команді Yep! за інтерес до нашого старта...            14   \n",
       "5394  This report is packed with valuable insights a...            10   \n",
       "1863  Will alternative seafood help solve the climat...             6   \n",
       "4556  Earlier, we discussed the Stages of a Digital ...            21   \n",
       "1643  😉 Hi guys, today, I would like to highlight th...             4   \n",
       "\n",
       "      comments_cnt  reposts_cnt language  post_len  topic  \n",
       "2535           1.0          1.0       en       446     25  \n",
       "5394           0.0          0.0       en       552     56  \n",
       "1863           5.0          0.0       en       727      7  \n",
       "4556           3.0          2.0       en      1353      7  \n",
       "1643           0.0          0.0       en      2366      7  "
      ]
     },
     "metadata": {},
     "output_type": "display_data"
    },
    {
     "name": "stdout",
     "output_type": "stream",
     "text": [
      "\n",
      "\n"
     ]
    },
    {
     "data": {
      "text/html": [
       "<div>\n",
       "<style scoped>\n",
       "    .dataframe tbody tr th:only-of-type {\n",
       "        vertical-align: middle;\n",
       "    }\n",
       "\n",
       "    .dataframe tbody tr th {\n",
       "        vertical-align: top;\n",
       "    }\n",
       "\n",
       "    .dataframe thead th {\n",
       "        text-align: right;\n",
       "    }\n",
       "</style>\n",
       "<table border=\"1\" class=\"dataframe\">\n",
       "  <thead>\n",
       "    <tr style=\"text-align: right;\">\n",
       "      <th></th>\n",
       "      <th>profile_url</th>\n",
       "      <th>post_url</th>\n",
       "      <th>post</th>\n",
       "      <th>reactions_cnt</th>\n",
       "      <th>comments_cnt</th>\n",
       "      <th>reposts_cnt</th>\n",
       "      <th>language</th>\n",
       "      <th>post_len</th>\n",
       "      <th>topic</th>\n",
       "    </tr>\n",
       "  </thead>\n",
       "  <tbody>\n",
       "    <tr>\n",
       "      <th>2355</th>\n",
       "      <td>https://www.linkedin.com/in/yaroslav-baklanov-...</td>\n",
       "      <td>0</td>\n",
       "      <td>Всем привет, ищу новую работу на должность Flu...</td>\n",
       "      <td>3.0</td>\n",
       "      <td>1.0</td>\n",
       "      <td>1.0</td>\n",
       "      <td>ru</td>\n",
       "      <td>149</td>\n",
       "      <td>26</td>\n",
       "    </tr>\n",
       "    <tr>\n",
       "      <th>406</th>\n",
       "      <td>https://www.linkedin.com/in/martamoshkin/recen...</td>\n",
       "      <td>0</td>\n",
       "      <td>5 типов контрактов на заказную разработку ПОМо...</td>\n",
       "      <td>4</td>\n",
       "      <td>0.0</td>\n",
       "      <td>0.0</td>\n",
       "      <td>ru</td>\n",
       "      <td>856</td>\n",
       "      <td>56</td>\n",
       "    </tr>\n",
       "    <tr>\n",
       "      <th>906</th>\n",
       "      <td>https://www.linkedin.com/in/kris-kostina/recen...</td>\n",
       "      <td>0</td>\n",
       "      <td>Как я чувствовала себя в первый год на позиции...</td>\n",
       "      <td>62</td>\n",
       "      <td>11.0</td>\n",
       "      <td>1.0</td>\n",
       "      <td>ru</td>\n",
       "      <td>868</td>\n",
       "      <td>56</td>\n",
       "    </tr>\n",
       "    <tr>\n",
       "      <th>367</th>\n",
       "      <td>https://www.linkedin.com/in/%D0%B2%D1%8F%D1%87...</td>\n",
       "      <td>0</td>\n",
       "      <td>Не люблю я тестовые задания. И вот почему.Вчер...</td>\n",
       "      <td>16</td>\n",
       "      <td>1.0</td>\n",
       "      <td>0.0</td>\n",
       "      <td>ru</td>\n",
       "      <td>1587</td>\n",
       "      <td>39</td>\n",
       "    </tr>\n",
       "    <tr>\n",
       "      <th>1202</th>\n",
       "      <td>https://www.linkedin.com/in/nikolay-schwartz/r...</td>\n",
       "      <td>0</td>\n",
       "      <td>Немножко пошумели в Екатеринбурге, Новосибирск...</td>\n",
       "      <td>2</td>\n",
       "      <td>2.0</td>\n",
       "      <td>0.0</td>\n",
       "      <td>ru</td>\n",
       "      <td>146</td>\n",
       "      <td>50</td>\n",
       "    </tr>\n",
       "  </tbody>\n",
       "</table>\n",
       "</div>"
      ],
      "text/plain": [
       "                                            profile_url post_url  \\\n",
       "2355  https://www.linkedin.com/in/yaroslav-baklanov-...        0   \n",
       "406   https://www.linkedin.com/in/martamoshkin/recen...        0   \n",
       "906   https://www.linkedin.com/in/kris-kostina/recen...        0   \n",
       "367   https://www.linkedin.com/in/%D0%B2%D1%8F%D1%87...        0   \n",
       "1202  https://www.linkedin.com/in/nikolay-schwartz/r...        0   \n",
       "\n",
       "                                                   post reactions_cnt  \\\n",
       "2355  Всем привет, ищу новую работу на должность Flu...           3.0   \n",
       "406   5 типов контрактов на заказную разработку ПОМо...             4   \n",
       "906   Как я чувствовала себя в первый год на позиции...            62   \n",
       "367   Не люблю я тестовые задания. И вот почему.Вчер...            16   \n",
       "1202  Немножко пошумели в Екатеринбурге, Новосибирск...             2   \n",
       "\n",
       "      comments_cnt  reposts_cnt language  post_len  topic  \n",
       "2355           1.0          1.0       ru       149     26  \n",
       "406            0.0          0.0       ru       856     56  \n",
       "906           11.0          1.0       ru       868     56  \n",
       "367            1.0          0.0       ru      1587     39  \n",
       "1202           2.0          0.0       ru       146     50  "
      ]
     },
     "execution_count": 42,
     "metadata": {},
     "output_type": "execute_result"
    }
   ],
   "source": [
    "display(df_posts_en.sample(5))\n",
    "print('\\n')\n",
    "df_posts_ru.sample(5)"
   ]
  },
  {
   "cell_type": "markdown",
   "id": "14c977d3-7650-43ce-93d2-a18b35b4de2b",
   "metadata": {},
   "source": [
    "Визуально всё в порядке."
   ]
  },
  {
   "cell_type": "markdown",
   "id": "5c9fb4ac-e7b5-4988-a11f-ab1448373cc7",
   "metadata": {},
   "source": [
    "Выделим топ-10 популярных тем для русскоязычных и англоязычных постов и построим иллюстрирующие популярность графики"
   ]
  },
  {
   "cell_type": "code",
   "execution_count": 43,
   "id": "006a8fb3-45dc-408c-82e9-39784b8b0151",
   "metadata": {
    "tags": []
   },
   "outputs": [
    {
     "data": {
      "image/png": "[encoded data removed]",
      "text/plain": [
       "<Figure size 640x480 with 1 Axes>"
      ]
     },
     "metadata": {},
     "output_type": "display_data"
    }
   ],
   "source": [
    "top10topic_ru = df_posts_ru['topic'].value_counts().head(10)\n",
    "sns.barplot(x=top10topic_ru.index, y=top10topic_ru.values, order=top10topic_ru.index).set_title('ТОП-10 тем на русском языке')\n",
    "plt.xticks(rotation=90)\n",
    "plt.show()"
   ]
  },
  {
   "cell_type": "code",
   "execution_count": 44,
   "id": "428d28ea-0a88-455a-b874-455ab834446c",
   "metadata": {
    "tags": []
   },
   "outputs": [
    {
     "data": {
      "image/png": "[encoded data removed]",
      "text/plain": [
       "<Figure size 640x480 with 1 Axes>"
      ]
     },
     "metadata": {},
     "output_type": "display_data"
    }
   ],
   "source": [
    "top10topic_en = df_posts_en['topic'].value_counts().head(10)\n",
    "sns.barplot(x=top10topic_en.index, y=top10topic_en.values, order=top10topic_en.index).set_title('ТОП-10 тем на английском языке')\n",
    "plt.xticks(rotation=90)\n",
    "plt.show()"
   ]
  },
  {
   "cell_type": "markdown",
   "id": "ea031784-9acf-4a05-8159-738e6bdea2c8",
   "metadata": {},
   "source": [
    "# Формулирование топ-10 тем постов"
   ]
  },
  {
   "cell_type": "markdown",
   "id": "5698734d-484d-4545-b9d5-3c88446be6c3",
   "metadata": {},
   "source": [
    "Номера тем не дают нам никакой информации. Сформулируем их по-человечески. А для этого посмотрим ключевые слова и типичные тексты"
   ]
  },
  {
   "cell_type": "markdown",
   "id": "eb65008e-361c-496a-ad6d-b24d18bd990b",
   "metadata": {},
   "source": [
    "## Ключевые слова и типичные статьи для топ-10 тем"
   ]
  },
  {
   "cell_type": "markdown",
   "id": "6a5eedcd-df4c-49df-95aa-03f777d7bf4d",
   "metadata": {},
   "source": [
    "Предварительно создадим списки с номерами тем для последующего создания словарей"
   ]
  },
  {
   "cell_type": "code",
   "execution_count": 45,
   "id": "f2fffbb2-3040-4cce-96ee-ef600e35d3bf",
   "metadata": {
    "tags": []
   },
   "outputs": [],
   "source": [
    "top10list_ru = top10topic_ru.index\n",
    "top10list_en = top10topic_en.index"
   ]
  },
  {
   "cell_type": "markdown",
   "id": "9cca60a7-b1b6-4315-afb7-2ea213dc8bb5",
   "metadata": {
    "tags": []
   },
   "source": [
    "Взглянем на ключевые слова по каждой теме. Для этого напишем функцию"
   ]
  },
  {
   "cell_type": "code",
   "execution_count": 46,
   "id": "d0513aa4-c544-4657-9f1a-9c686ea2146d",
   "metadata": {
    "tags": []
   },
   "outputs": [],
   "source": [
    "def topic_text(id2word, lda, topics, posts, top10list=top10list_ru):\n",
    "    for topic in top10list:\n",
    "        c = lda.components_[topic, :]\n",
    "        topic_tokens = [id2word.get(token_id) for token_id in np.argsort(c)[-20:]]\n",
    "        doc_id = np.argmax(topics[:, topic])\n",
    "        print(\"Тема\",topic, \":\")\n",
    "        print(\", \".join(topic_tokens))\n",
    "        print(\"***************************\")\n",
    "        print(\"Текст на тему\",topic, \":\")\n",
    "        print(posts.loc[doc_id]['post'])\n",
    "        print(\"\\n \")"
   ]
  },
  {
   "cell_type": "markdown",
   "id": "95e8d73d-3ef2-4e8d-8fa1-cac92333bae2",
   "metadata": {},
   "source": [
    "### Русский язык"
   ]
  },
  {
   "cell_type": "code",
   "execution_count": 47,
   "id": "88d8f794-d1de-421f-b63e-961df0320f66",
   "metadata": {
    "tags": []
   },
   "outputs": [
    {
     "name": "stdout",
     "output_type": "stream",
     "text": [
      "Тема 56 :\n",
      "возможность, работать, команда, которые, новый, ваш, жизнь, первый, проект, время, год, весь, хороший, компания, человек, мочь, работа, наш, свой, это\n",
      "***************************\n",
      "Текст на тему 56 :\n",
      "Новые инструменты на базе AI1. Courseau — делайте курсы из чего угодно. Возьмите что-нибудь сложное: видео на YouTube, научную статью или подкаст и превратите это в увлекательный мини-курс. (https://courseau.co/)2. Playtext — превратите любой текст в аудиокнигу и читай в 2 раза быстрее (https://playtext.app/)3. 60sec — сайт с помощью AI за 60 секунд. (https://60sec.site/)4. Simulai — сгенерируйте свой блог с готовыми статьями. (https://www.simulai.co/)5. Ecoute — транскрипция видео (вебинаров) и подсказки. (https://lnkd.in/edzAKaSp)6. TLDV — расширение для Zoom для выделения важных моментов на созвонах. (https://tldv.io/)7. ChatNode — обучайте ChatGPT на ваших собственных данных. (https://https://www.linkedin.com/redir/general-malware-page?url=www%2echatnode%2eai%2F%298. Hushl —улучшайте свой LinkedIn с помощью AI. (https://www.hushl.ai/)9. Firefly — Photoshop внедряет генеративный искусственный интеллект с добавлением ряда функций на базе Firefly, которые позволят пользователям расширять изображения. (https://lnkd.in/essP5fsc)10. Caspa — бесплатные фотографии реалистичных людей с вашим продуктом. (https://www.caspa.ai/)#ai #aiassistant\n",
      "\n",
      " \n",
      "Тема 39 :\n",
      "разработка, сегодня, приложение, новый, проблема, нам, год, разработчик, вопрос, проект, компания, команда, интересный, весь, свой, очень, работа, это, опыт, нужный\n",
      "***************************\n",
      "Текст на тему 39 :\n",
      "I see, that it is a permanently growing demand for mentoring nowadays. After 10 years working experience I believe that I have enough to share from my expertise. And I'm ready to take 1-2 persons for mentoring for free - just as small New Year Present :)How can I help:- for people who don't find their path yet - I can take an advice and route you to the right direction;- for people who already works in Product/Project management and would like to grow - we will find your points of growth;- for people who is already grown but met some challenging issues  - we can discuss and have a brainstorm together.Format: 3-4 one-hour sessions + support in chat.You are welcome!Вижу, что сильно возрос запрос на менторинг, и я подумала - а почему нет? Спустя 10 лет опыта мне есть, чем поделиться. Готова взять 1-2 человек на менторинг в качестве новогодней акции бесплатно!Чем я могу помочь:- для тех, кто ещё не нашёл своё призвание - подскажу и направлю, где вы сможете применить свои способности и навыки;- для тех, кто уже работает в продуктовом или проджектовом менеджменте и хочет расти - вместе найдём ваши точки роста;- для тех, кто уже вырос, но столкнулся со сложными задачами - я могу обсудить и побрейнштормить вместе с вами.Формат: 3-4 часовых сессии + поддержка в чате.Желающих велкам в личку :)\n",
      "\n",
      " \n",
      "Тема 25 :\n",
      "специалист, жить, машина, пол, александр, муж, оставить, случиться, улица, ценный, направление, линкедин, разработчик, работа, новый, компания, начинать, должность, удовольствие, сообщать\n",
      "***************************\n",
      "Текст на тему 25 :\n",
      "С удовольствием сообщаю, что я начинаю работу в новой должности – iOS-разработчик в компании VK!\n",
      "\n",
      " \n",
      "Тема 49 :\n",
      "страна, отправить, проведение, экспертный, мочь, которые, новый, ваш, весь, поиск, рекомендация, карьерный, предложить, совет, поддержка, контакт, здравствовать, заранее, благодарить, возможность\n",
      "***************************\n",
      "Текст на тему 49 :\n",
      "Здравствуйте, я в поиске новой карьерной возможности и буду признателен(а) за вашу поддержку. Заранее благодарю за все рекомендации контактов, советы или возможности, которые вы можете предложить. #OpenToWork\n",
      "\n",
      " \n",
      "Тема 34 :\n",
      "управление, развитие, искать, уровень, уверенный, желание, база, разработчик, понимание, также, проект, требование, система, данных, команда, позиция, разработка, работа, знание, опыт\n",
      "***************************\n",
      "Текст на тему 34 :\n",
      "#Нанимаем инженеров по тестированию со специализацией mobile в Тинькофф Мобильный банк - наш флагманский продукт и основное мобильное приложение наших клиентов для взаимодействия со всей экосистемой. Локация: готовы обсуждать удаленную работу по России, Казахстану, Армении и Беларуси.Откликайтесь и присоединяйтесь к команде! Будем вам рады! 😎 #tinkoff #qa #mobile\n",
      "\n",
      " \n",
      "Тема 94 :\n",
      "второй, бесплатный, руководитель, консультация, мероприятие, данных, кандидат, пакет, анализ, ссылка, кейс, программа, развитие, результат, клиент, данные, встреча, рынок, онлайн, бизнес\n",
      "***************************\n",
      "Текст на тему 94 :\n",
      "Программисты, ждем вас 22 октября на Global Day of Coderetreat!Неважно на каком языке вы пишите, суть Coderetreat – это отработка навыков эффективного кодирования в парах. Мероприятие полностью бесплатное (кофе-брейки и обед за счет EPAM). Регистрация обязательна. С собой нужно иметь ноутбук.Узнать больше подробностей и зарегистрироваться можно здесь: https://lnkd.in/em4E42VПриходи, забудь о дедлайнах, просто пиши код!\n",
      "\n",
      " \n",
      "Тема 4 :\n",
      "электронный, пользовательский, апрель, март, веб, февраль, управление, консалтинг, сообщать, страница, приложение, услуги, просмотреть, радость, оказывать, бизнес, услуга, находка, сеть, разработка\n",
      "***************************\n",
      "Текст на тему 4 :\n",
      "С радостью сообщаю, что я оказываю бизнес-услуги в LinkedIn (#OpenForBusiness). Просмотрите мою страницу услуг «ИТ-консалтинг, Управление проектами, Веб-разработка, Разработка Android-приложений, Разработка iOS-приложений, Разработка приложений, Тестирование ПО, Разработка баз данных, Управление облачными решениями» и «Разработка пользовательского ПО». #java #C# #softwaredevelopment #Импортозамещение #1C #ERP\n",
      "\n",
      " \n",
      "Тема 17 :\n",
      "карта, лично, публичный, банковский, машинный, будущий, описание, функциональный, тестировщик, счастливый, небольшой, хватить, тестировщика, хотеть, следующий, пройти, проверка, значок, тест, навык\n",
      "***************************\n",
      "Текст на тему 17 :\n",
      "Я только что получил(а) значок за навык «PowerPoint». Кто хочет быть следующим? Пройдите тест на проверку навыков #LinkedInSkillAssessment.\n",
      "\n",
      " \n",
      "Тема 1 :\n",
      "удобный, машина, читать, дизайн, ситуация, минута, хотя, подбор, возможный, рассказать, маленький, также, услуга, доступ, открыть, добавить, тестовый, страна, месяц, общий\n",
      "***************************\n",
      "Текст на тему 1 :\n",
      "Очень прошу репост!!!Дано: тестировщица с редким заболеванием, прессинг аутсорс-компании при попытке ее покинуть, невозможность найти замену в течение 2 месяцев, отрицание факта обострения заболеванияРезультат: смерть девушкиПодробнее в этом посте https://lnkd.in/dHnSUmqjЕсли ссылка не работает, то попробуйте найти и открыть ее в комментариях (также добавил скрины поста) или перейдите на страницу автора https://lnkd.in/dEZ6_-MD (mipymyp в Instagram)И все об этом молчат с марта месяца? HQSoftware есть что рассказать по этому поводу?dev.by Onliner хотелось бы, чтобы вы помогли с расследованием.Я не делаю какие-то выводы, просто делюсь информацией. Надеюсь, что ее осветят и мы узнаем больше деталей.\n",
      "\n",
      " \n",
      "Тема 24 :\n",
      "трек, рассказать, разбор, куча, портфолио, розыгрыш, просмотр, скоро, материал, опубликовать, статья, наш, телеграмм, обновление, файл, эфир, дизайн, прямой, принять, канал\n",
      "***************************\n",
      "Текст на тему 24 :\n",
      "✅ Новая подборка сайтиков на неделю !Пора вдохновляются на предстоящую неделю чтобы создавать новое и прекрасноеЯ собрал для вас 9 сайтов которые меня вдохновили и помогли в проектах!Особенно мне понравилосья reflect.app!Люблю такие проработанные сайты с интересным визуалом web-3.0 и веяньем новых технологий А вот и сам спиоск:1 Props https://lnkd.in/dzpJSYtH2 Design is Funny https://lnkd.in/dBAZseE53 Dior by Starck https://diorbystarck.art/4 TMV STUDIO DESIGN® https://lnkd.in/dER4TnS55 Joga o QUIZ https://lnkd.in/d2AB8zvK6 Absolute Green https://lnkd.in/dCM-RThg7 Reailise http://reailise.com/8 Reflect https://reflect.app/home9 SNOW FOX https://www.snowfox.art/❓ Пишите какой сайт вам понравился больше всего !Совсем скоро будет крутая активность на канале, очень интерсеный проект !👾 Мой телеграмм канал - https://lnkd.in/dF6vEVJXТам куча полезногоВ канале: - Design Help, файл 40+ материалов для повышения ваших скиллов- Розыгрыш консультаций по карьерному треку и разбору портфолио - Прямые эфиры с дизайном - Полезные статьи #design #linkedin #instagram #help #design #webdesign #webdevelopment #graphicdesign #UIUX #digitaldesign #responsivewebdesign #HTML #CSS #JavaScript #webdesigner #webdesignagency #webdesigncompany #webdesignerlife #webdesigncommunity #webdesigninspiration\n",
      "\n",
      " \n"
     ]
    }
   ],
   "source": [
    "topic_text(id2word_ru, lda_ru, topics_ru, df_posts_ru)"
   ]
  },
  {
   "cell_type": "markdown",
   "id": "ab2e7782-8cca-411f-ba2a-7c6aa53fec2d",
   "metadata": {},
   "source": [
    "По одному тексту и ключевым словам довольно непросто сформулировать общую тему конкретной категории постов, поэтому по каждой теме лучше прочитать несколько текстов и выбрать превалирующий контекст.\n",
    "\n",
    "Для того, чтобы не загромождать ноутбук множеством текстов приведу пример кода, который использовался для \"углубленного чтения\" (таким образом обрабатывались тексты на обоих языках)"
   ]
  },
  {
   "cell_type": "code",
   "execution_count": 48,
   "id": "d0856a21-6f9c-4888-808b-286620a1aee4",
   "metadata": {
    "tags": []
   },
   "outputs": [
    {
     "data": {
      "text/plain": [
       "['🔥🔥🔥\\xa0Каково быть дизайнером в бизнесе и что вообще нужно уметь!Скажу честно еще когда я заходил в дизайн и был совсем зеленым, то и думать не мог что мне нужно знать основы бизнеса, проводить исследования и строить бизнес модель.Но сейчас дизайнером который просто рисует интерфейсы никого не удивит, поэтому стоит прокачивать свои навыки в различных направления и в том числе бизнес мышление.Вы должны понимать как работает бизнес, что ему нужно сейчас, а что нужно будет потом чтобы помочь ему и решить боли и проблемы бизнеса.Сейчас я уже с головой окунулся в бизнес и строю свой, но начальном этапе было очень сложно понять как это работает, особенно для дизайнера новичка, поэтому я принес вам статью как раз про бизнес мышление и почему это важно ➡️ вот сама статья - https://lnkd.in/diUTVuriВнутри:\\xa0- Анализ индустрии- Анализ конкурентов\\xa0- Бизнес-стратегии- Бизнес-модельи много чего еще Не поленитесь и почитайте вечерком, уверен вы сможите узнать для себя много новгого👾 Мой телеграмм канал про дизайн -\\xa0https://lnkd.in/dF6vEVJXТам куча полезногоВ канале:\\xa0- Design Help, файл 40+ материалов для повышения ваших скиллов- Розыгрыш консультаций по карьерному треку и разбору портфолио\\xa0- Прямые эфиры с дизайном\\xa0- Полезные статьи #design\\xa0#linkedin\\xa0#instagram\\xa0#help\\xa0#design\\xa0#webdesign\\xa0#webdevelopment\\xa0#graphicdesign\\xa0#UIUX #digitaldesign\\xa0#responsivewebdesign\\xa0#HTML\\xa0#CSS\\xa0#JavaScript #webdesigner\\xa0#webdesignagency\\xa0#webdesigncompany\\xa0#webdesignerlife #webdesigncommunity\\xa0#webdesigninspiration',\n",
       " '☄️☄️☄️Новые статьи в Design Help!Собрал для вас новые интересные и очень полезные материалы!Новинки:\\xa0- Чек-лист: заполняем Linkedin. ЭЙЧ составили крутой чек лист, который поможе заполнить линк - Требования к графическим интерфейсам. Одна памятка ответит на все ваши вопросы- 7 000 иконок бесплатно. Сервис с 7к иконок для ваших проетков. Скорее забирай ⚠️ А тем временем в Design Help 45 материалов, которые помогут тебе прокачать навыки в UX/UI, ответить на вопросы по поиску работы и помогут создать твой проект!🔥 Скорее переходи и прокачивайся - https://lnkd.in/eZP44eyW👾 Мой телеграмм канал -\\xa0https://lnkd.in/dF6vEVJXТам куча полезногоВ канале:\\xa0- Design Help, файл 40+ материалов для повышения ваших скиллов- Розыгрыш консультаций по карьерному треку и разбору портфолио\\xa0- Прямые эфиры с дизайном\\xa0- Полезные статьи #design\\xa0#linkedin\\xa0#instagram\\xa0#help\\xa0#design\\xa0#webdesign\\xa0#webdevelopment\\xa0#graphicdesign\\xa0#UIUX #digitaldesign\\xa0#responsivewebdesign\\xa0#HTML\\xa0#CSS\\xa0#JavaScript #webdesigner\\xa0#webdesignagency\\xa0#webdesigncompany\\xa0#webdesignerlife #webdesigncommunity\\xa0#webdesigninspiration',\n",
       " 'Всем привет.Пропал не надолго так как покоряю новые высоты, как в прямом, так и в переносном смысле ) 😎 В прямом смысле - прыгнул с парашюта, фоточки присутствуют. Спасибо всем причастным за подарок :) 😀 В переносном - подготовил серию семинаров \"Осознанное и проактивное управление карьерой\" которые проведу на базе Академия Краткосрочной Стратегической Психотерапии (https://psi-ddt.ru/), очно, в Москве, анонс будет уже очень скоро. 👍 Следите за обновлениями в моем ТГ канале 👉  https://lnkd.in/eagZzVbV 👈 Всем спасибо.',\n",
       " 'Подборка сайтиков номер 6!Принес вам новую подборку вдохновения на предстоящую неделю.\\xa013 интересных и завораживающих сайтов помогут вам найти решения для ваших проектов.⚡️ Мой топ на этой неделе\\xa0Playgoals (https://playgoals.com/) , сайт отлично создает вау эффект с помощью визуала и интерактива, но при этом все уместно и аккуратно.\\xa0Плюс идеи из этого референса у меня получилось интегрировать в проект совсем не связанный с играми)🔥 Поюорка:✶ https://missjourney.ai/✶ https://marsbranding.com/✶ https://lnkd.in/dFX8Wtgs✶ https://lnkd.in/dAh7jYcv✶ https://playgoals.com/✶ https://lnkd.in/dbVZmvvK✶ https://lnkd.in/dEqrm9gp✶ https://room8group.com/✶ https://lnkd.in/dAacb996✶ https://lnkd.in/dgr9RY2K✶ https://lnkd.in/dxG2CanS✶ https://teslanikola.info/✶ https://yurong.co/👾 Скорее переходи в мой телеграмм канал -\\xa0https://lnkd.in/dF6vEVJXТам куча полезногоВ канале:\\xa0- Design Help, файл 40+ материалов для повышения ваших скиллов- Розыгрыш консультаций по карьерному треку и разбору портфолио\\xa0- Прямые эфиры с дизайном\\xa0- Полезные статьи 📣 А вот тут мой инстаграм (https://lnkd.in/d6UTFJhG) там я собираюсь рассказывать про дизайн и про свою жизнь#design\\xa0#linkedin\\xa0#instagram\\xa0#help\\xa0#design\\xa0#webdesign\\xa0#webdevelopment\\xa0#graphicdesign\\xa0#UIUX #digitaldesign\\xa0#responsivewebdesign\\xa0#HTML\\xa0#CSS\\xa0#JavaScript #webdesigner\\xa0#webdesignagency\\xa0#webdesigncompany\\xa0#webdesignerlife #webdesigncommunity\\xa0#webdesigninspiration',\n",
       " '✅ Новая подборка сайтиков на неделю !Пора вдохновляются на предстоящую неделю чтобы создавать новое и прекрасноеЯ собрал для вас 9 сайтов которые меня вдохновили и помогли в проектах!Особенно мне понравилосья reflect.app!Люблю такие проработанные сайты с интересным визуалом web-3.0 и веяньем новых технологий А вот и сам спиоск:1 Props https://lnkd.in/dzpJSYtH2 Design is Funny https://lnkd.in/dBAZseE53 Dior by Starck https://diorbystarck.art/4 TMV STUDIO DESIGN® https://lnkd.in/dER4TnS55 Joga o QUIZ https://lnkd.in/d2AB8zvK6 Absolute Green https://lnkd.in/dCM-RThg7 Reailise http://reailise.com/8 Reflect https://reflect.app/home9 SNOW FOX\\xa0https://www.snowfox.art/❓ Пишите какой сайт вам понравился больше всего !Совсем скоро будет крутая активность на канале, очень интерсеный проект !👾 Мой телеграмм канал -\\xa0https://lnkd.in/dF6vEVJXТам куча полезногоВ канале:\\xa0- Design Help, файл 40+ материалов для повышения ваших скиллов- Розыгрыш консультаций по карьерному треку и разбору портфолио\\xa0- Прямые эфиры с дизайном\\xa0- Полезные статьи #design\\xa0#linkedin\\xa0#instagram\\xa0#help\\xa0#design\\xa0#webdesign\\xa0#webdevelopment\\xa0#graphicdesign\\xa0#UIUX #digitaldesign\\xa0#responsivewebdesign\\xa0#HTML\\xa0#CSS\\xa0#JavaScript #webdesigner\\xa0#webdesignagency\\xa0#webdesigncompany\\xa0#webdesignerlife #webdesigncommunity\\xa0#webdesigninspiration',\n",
       " 'В этом видео https://lnkd.in/dpBD6tt мы поговорим о том, как грамотно оформлять резюме и откликаться на вакансии. Мы рассмотрим те нюансы, которые нужно учесть при составлении резюме, чтобы получить хорошие предложения уже в первые 3 дня поисков и продать себя дороже. Кстати, на следующей неделе мы будем разбирать, как подготовиться к собеседованиям разного типа и успешно пройти все этапы отбора. Там будет куча хитростей, о которых тебе мало кто расскажет. Так что подпишись, чтобы не пропустить.#карьера\\u200b #поискработы\\u200b #резюме\\u200b #ityoutubersru\\u200b #it',\n",
       " 'Мы перезапускаемся🥳Вас ждут еще более интересные вакансии,стажировки,ивенты и многое другое(по сути только  сменилось лого и название🙃 канал не продан🙂)Подписывайтесь на наши соц сетиТелеграмhttps://t.me/oppo4youИнстаграмhttps://lnkd.in/ddbBwYZW',\n",
       " 'Всем привет!\\r\\nКоманда Webtronics опубликовала статью про лучшие SEO сервисы, которыми сама пользуется:\\r\\n\\r\\nhttps://lnkd.in/dDaKRs4z',\n",
       " '📣📣📣\\xa0Проект нашей с @christinasuslik команды тем временем попал в подборку лучших сайтов на Tilda!Интересный и очень атмосферный сайт который мы делали вместе с нашей командой уже в топе!Буду рад если поддержите нашу студию и лайкните сайт тут - https://lnkd.in/dQgj_Mcf ❤️А в своем телеграмм канале поделился Figma файлом этого проекта, можно посмотреть и потыкать тут - https://lnkd.in/dAZhhcP9Скоро больше новых проектов !В канале:\\xa0- Design Help, файл 40+ материалов для повышения ваших скиллов- Розыгрыш консультаций по карьерному треку и разбору портфолио\\xa0- Прямые эфиры с дизайном\\xa0- Полезные статьи #design\\xa0#linkedin\\xa0#instagram\\xa0#help\\xa0#design\\xa0#webdesign\\xa0#webdevelopment\\xa0#graphicdesign\\xa0#UIUX #digitaldesign\\xa0#responsivewebdesign\\xa0#HTML\\xa0#CSS\\xa0#JavaScript #webdesigner\\xa0#webdesignagency\\xa0#webdesigncompany\\xa0#webdesignerlife #webdesigncommunity\\xa0#webdesigninspiration',\n",
       " 'Побывал на конференции VK Cloud Conf 2023 8 июня, интересное и необычное мероприятие с масштабной рекламой сервиса VK Cloud.\\r\\nПознакомился с несколькими людьми, но все таки тематика была немного не моя, поэтому ничего не могу сказать про нетворкинг (он там был, просто не для digital-агентства)\\r\\nОрганизация крутая: красивые стенды, хорошие спикеры и вкусная еда. Если вы связаны с темой продуктового подхода ПО и DevSecOps - обязательно посетите в следующем году.',\n",
       " '👀 Последний проект нашей студии получил награду от Tilda!Ура!!Я очень рад, для меня это был удивительный проект!Ссылка, чтобы поддержать последний проект - https://lnkd.in/dQgj_McfА тут можно посмотреть на сам сайт - https://lnkd.in/d4eg4eAzВ своем телеграмм канале выложил Figma файл со всеми материалами к этому проекту, скорее переходи - https://lnkd.in/dF6vEVJX',\n",
       " 'В телеграм канала теперь можно делится папками и тут ребята из разных телеграм каналов про UX и UI дизайн собрались в одной такой папке (я удивился, когда оказалось, что я подписан почти на все каналы из папки) !Очень полезные и интересные каналы где можно найти море информации. Если вы начинающий дизайнер и вам все интерсено, то вам точно нужна эта папка ☄️ Вот ссылочка на папку - https://lnkd.in/dXbVi_qUСкорее забираем себе и прокачиваем навыки!👾 Скорее переходи в мой телеграмм канал -\\xa0https://lnkd.in/dF6vEVJXТам куча полезногоВ канале:\\xa0- Design Help, файл 40+ материалов для повышения ваших скиллов- Розыгрыш консультаций по карьерному треку и разбору портфолио\\xa0- Прямые эфиры с дизайном\\xa0- Полезные статьи #design\\xa0#linkedin\\xa0#instagram\\xa0#help\\xa0#design\\xa0#webdesign\\xa0#webdevelopment\\xa0#graphicdesign\\xa0#UIUX #digitaldesign\\xa0#responsivewebdesign\\xa0#HTML\\xa0#CSS\\xa0#JavaScript #webdesigner\\xa0#webdesignagency\\xa0#webdesigncompany\\xa0#webdesignerlife #webdesigncommunity\\xa0#webdesigninspiration',\n",
       " 'Шаблоны шапки профиля от сервиса Эйч !Очень крутые шаблоны, которые помогут грамотно оформит папку профиля Вот ссылка на шаблоны - https://lnkd.in/gfWgJMqP👾 Скорее переходи в мой телеграмм канал -\\xa0https://lnkd.in/dF6vEVJXТам куча полезногоВ канале:\\xa0- Design Help, файл 40+ материалов для повышения ваших скиллов- Розыгрыш консультаций по карьерному треку и разбору портфолио\\xa0- Прямые эфиры с дизайном\\xa0- Полезные статьи 📣 А вот тут мой инстаграм (https://lnkd.in/d6UTFJhG) там я собираюсь рассказывать про дизайн и про свою жизнь#design\\xa0#linkedin\\xa0#instagram\\xa0#help\\xa0#design\\xa0#webdesign\\xa0#webdevelopment\\xa0#graphicdesign\\xa0#UIUX #digitaldesign\\xa0#responsivewebdesign\\xa0#HTML\\xa0#CSS\\xa0#JavaScript #webdesigner\\xa0#webdesignagency\\xa0#webdesigncompany\\xa0#webdesignerlife #webdesigncommunity\\xa0#webdesigninspiration',\n",
       " 'Всем привет!\\xa0Обновила проект на Behance! 🤘🏻\\xa0https://lnkd.in/eZN2C9RQЛайк и подписка - это огромная поддержка для меня ❤️Буду рада вашей поддержке ❤️#design\\xa0#smarthome\\xa0#uxui\\xa0#ux\\xa0#ui\\xa0#web\\xa0#app\\xa0#designapp\\xa0#behance\\xa0#mobileapp\\xa0#research',\n",
       " '📣 Подборка сайтиков номер 7!Новая неделя начинается с новго списка сайтов для вдохновения. На этой неделе не так много сайтиков, но все они очень интересные!Мне очень понравился сайт akutostudio.Отличное сочетание типографики, цвета и информацииСкорее смотрите и вдохновляйтесь!🔥Поборка:1https://lnkd.in/dK5yP2ZF2https://lnkd.in/d6fGrMzi3\\xa0https://tate-lab.com/4https://selfaware.studio/5https://2022.check-dc.com/6https://mixpanel.com/home7https://www.fairetype.com/8https://www.anywhere.re/9https://akutostudio.com/А вообще если все получится, то скоро будет интересный проект в котором сможет поучаствовать каждый из вас !Следите за новостями в телеграмм канале - https://lnkd.in/dF6vEVJXВ канале:\\xa0- Design Help, файл 40+ материалов для повышения ваших скиллов- Розыгрыш консультаций по карьерному треку и разбору портфолио\\xa0- Прямые эфиры с дизайном\\xa0- Полезные статьи #design\\xa0#linkedin\\xa0#instagram\\xa0#help\\xa0#design\\xa0#webdesign\\xa0#webdevelopment\\xa0#graphicdesign\\xa0#UIUX #digitaldesign\\xa0#responsivewebdesign\\xa0#HTML\\xa0#CSS\\xa0#JavaScript #webdesigner\\xa0#webdesignagency\\xa0#webdesigncompany\\xa0#webdesignerlife #webdesigncommunity\\xa0#webdesigninspiration',\n",
       " 'Всем начинающим специалистам по информационной безопасности рекомендую к просмотру. Еще больше профессий у нас на канале. Видео выходят каждую неделю по вторникам.#interview #cybersecurity #informationsecurity #career',\n",
       " 'Наша команда опубликовала информативную статью про каналы продвижения.\\r\\nЕсли вы еще не определились, какой канал выбрать, чтобы привлечь больше клиентов и увеличить свою прибыль - статья ниже:\\r\\n\\r\\nhttps://lnkd.in/d6jSwrcN',\n",
       " \"Успей принять участие и отправляй друзьям айтишникам!😎\\xa0\\xa0«Тинькофф» запустил чемпионат IT's Tinkoff Solution Cup для middle и senior-специалистов аналитики и программирования. Общий призовой фонд составит 3,3 млн рублей, победители и призёры получат до 300 тысяч рублей.\\xa0\\xa0Отборочный раунд пройдёт 15 апреля с 11:00 до 23:59, а финал и церемония награждения – 22 апреля в Москве. Также можно участвовать и в онлайн формате, но в случае прохождения на финал, организаторы не смогут помочь с оплатой билетов.\\xa0\\xa0Подробную информацию о чемпионате со ссылкой на подачу заявки вы можете получить по ссылке ниже:\\xa0\\xa0https://lnkd.in/dHREyjhg\",\n",
       " 'Хотите оставаться в курсе происходящего? Отслеживайте нашу страницу для просмотра последних обновлений.',\n",
       " 'Рассказали про наши успехи и новые разработки, которые совсем скоро выйдут на конференции «Гиперавтоматизация-2023». Конференцию проводили «Открытые системы», которые на сегодняшний день проводят мероприятия с самым сочным контентом из мира RPA, который мало где еще услышишь и увидишь. Отдельно важно то, что все вендоры, несмотря на довольно сильную конкуренцию, остаются людьми с большой душой и всегда готовы к дружескому диалогу за чашечкой кофе. Это дает уверенность в будущем нашего сегмента на IT-рынке, так как только в такой позитивной обстановке можно принести действительно нужные бизнесу технологии в массы. #rpa #pix #pixrobotics #osp #гиперавтоматизация #открытыесистемы']"
      ]
     },
     "execution_count": 48,
     "metadata": {},
     "output_type": "execute_result"
    }
   ],
   "source": [
    "list(df_posts_ru.query('topic == 24')['post'].sample(20))"
   ]
  },
  {
   "cell_type": "markdown",
   "id": "556cf570-2567-4fe4-9a1f-588ef104ad7c",
   "metadata": {},
   "source": [
    "По итогам анализа ключевых слов и текстов ясформулировал следующие темы постов на русском языке:\n",
    "- развитие/тренды (инструменты, обучение)\n",
    "- поддержка/коллаборация (различные мысли)\n",
    "- выход на работу\n",
    "- поиск работы\n",
    "- поиск сотрудников\n",
    "- события (саммиты, конференции, вебинары)\n",
    "- предложения услуг бизнесу\n",
    "- новый навык (получен значок на Linkedin)\n",
    "- анонсы/стартапы\n",
    "- сайты/статьи/чаты\n",
    "\n",
    "Сохраним их в словарь:"
   ]
  },
  {
   "cell_type": "code",
   "execution_count": 49,
   "id": "46d43d57-4721-4721-bbaf-63f0223b34d6",
   "metadata": {
    "tags": []
   },
   "outputs": [
    {
     "data": {
      "text/plain": [
       "{56: 'развитие/тренды',\n",
       " 39: 'поддержка/коллаборация',\n",
       " 25: 'выход на работу',\n",
       " 49: 'поиск работы',\n",
       " 34: 'поиск сотрудников',\n",
       " 94: 'события',\n",
       " 4: 'предложения бизнес-услуг',\n",
       " 17: 'новый навык',\n",
       " 1: 'анонсы/стартапы',\n",
       " 24: 'сайты/статьи/чаты'}"
      ]
     },
     "execution_count": 49,
     "metadata": {},
     "output_type": "execute_result"
    }
   ],
   "source": [
    "top10_ru = ['развитие/тренды',\n",
    "            'поддержка/коллаборация',\n",
    "            'выход на работу',\n",
    "            'поиск работы',\n",
    "            'поиск сотрудников',\n",
    "            'события',\n",
    "            'предложения бизнес-услуг',\n",
    "            'новый навык',\n",
    "            'анонсы/стартапы',\n",
    "            'сайты/статьи/чаты']\n",
    "\n",
    "topics_ru_dict = dict(zip(top10list_ru, top10_ru))\n",
    "\n",
    "topics_ru_dict"
   ]
  },
  {
   "cell_type": "markdown",
   "id": "f36a46c9-0345-42a7-ad1c-60c9aad6b943",
   "metadata": {},
   "source": [
    "### Английский язык"
   ]
  },
  {
   "cell_type": "code",
   "execution_count": 50,
   "id": "8875c8c2-ee62-4115-a684-39c5362107f5",
   "metadata": {
    "tags": []
   },
   "outputs": [
    {
     "name": "stdout",
     "output_type": "stream",
     "text": [
      "Тема 7 :\n",
      "ai, make, use, get, like, experience, need, new, company, one, data, product, help, time, project, work, team, business, software, development\n",
      "***************************\n",
      "Текст на тему 7 :\n",
      "Hi there 👋 How is Bitrix24 better than 99% of other solutions on the market?✔ replaces all your current SaaS solutions;✔ free forever for unlimited users;✔ easy to migrate data from other systems;✔ integrated with all your favorite services and applications;✔ used, liked and trusted by 12,000,000+ users worldwide;✔ 100% fixed fee: predictable costs, no pricing per user.Instead of dozens of services and apps, start using a single platform to organise your entire company.#itachsoft #bitrix24 #automatization #business #crm #it #sales #software\n",
      "\n",
      " \n",
      "Тема 56 :\n",
      "commerce, people, possible, bring, part, technologies, digital, professionals, ideas, new, insights, goals, potential, community, skills, us, world, future, together, also\n",
      "***************************\n",
      "Текст на тему 56 :\n",
      "Strolling down Wall Street, my eyes fixate on the iconic Stock Exchange, and my mind races with excitement for what's to come in the fintech industry. Are you ready to join me at the forefront of the financial revolution at the Fintech Nexus USA 2023 conference on May 10-11?This conference is a unique opportunity to engage with industry leaders, share insights, and collaborate on ideas that will shape the future of finance. I look forward to connecting with like-minded professionals and contributing to the ongoing evolution of finance. Let's share our experiences and knowledge to drive innovation and growth in fintech.#fintechnexus #fintech #finance\n",
      "\n",
      " \n",
      "Тема 98 :\n",
      "opportunity, amazing, team, generative, great, meeting, join, attending, co, let, london, networking, looking, us, tech, conference, forward, meet, summit, event\n",
      "***************************\n",
      "Текст на тему 98 :\n",
      "I am pleased to announce the launch of our new project in Dubai, Zurich, Monaco, I will be glad to be useful to innovators, visionaries and investors. Together we will change the world – Founder Global Vision Summit в компании Global Vision Summit!\n",
      "\n",
      " \n",
      "Тема 65 :\n",
      "difficult, test, took, thing, completely, electric, stop, risk, account, put, something, things, decided, never, space, also, got, reality, ev, charging\n",
      "***************************\n",
      "Текст на тему 65 :\n",
      "Wonders of animation! If you lean against the screen and move your face along the picture quickly back and forth, the Shoe will spin! (joke, don't do that ) Stretch shoes that I made for our factory last year. I came up with the idea to make panoramas like this with my models/#boots #saintpetersburg #madeinrussia #spbboots\n",
      "\n",
      " \n",
      "Тема 9 :\n",
      "remote, like, dear, notifications, recommendations, new, role, offer, support, everyone, advice, would, looking, advance, opportunities, hi, connections, appreciate, opentowork, thank\n",
      "***************************\n",
      "Текст на тему 9 :\n",
      "Hi everyone - I am looking for a new remote job and would appreciate your support. Thank you in advance for any connections, advice, or opportunities you can offer.Skills: .NET, C#, Asp.Net Core, ReactJS, Typescript, Azure, Software architectures #OpenToWork\n",
      "\n",
      " \n",
      "Тема 28 :\n",
      "team, mobiledevelopment, lead, app, office, flutter, awesome, apps, android, native, stack, new, react, engineer, share, ios, developer, starting, happy, position\n",
      "***************************\n",
      "Текст на тему 28 :\n",
      "Web development is only 5-10% of the work you'll do as a freelance web developer. The rest is actually everything else.\n",
      "\n",
      " \n",
      "Тема 16 :\n",
      "softwareengineer, beyond, stay, future, things, recommendation, world, effort, food, ever, wanted, throughout, ukrainian, incredible, moment, eye, non, journey, innovation, colleagues\n",
      "***************************\n",
      "Текст на тему 16 :\n",
      "Hard to think about tech and software development, when the whole country suffers.A war crime with no military sense. Blowing up the Kakhovka dam affects infrastructure, ecology, water, and food supply.It's a catastrophe. Not only Ukrainian. The food crisis (flooded fields) The nuclear plant losing electricity. The humanitarian disaster.Support the evacuation. Link in the comments.#russiaisaterrorisstate #russianukrainianwar #russiainvadedukraine #stoprussianaggression #stoprussia\n",
      "\n",
      " \n",
      "Тема 47 :\n",
      "google, tag, insights, likes, friend, subscribe, certificate, portfolio, comments, visualization, happy, obtained, design, guys, articles, like, projects, new, certification, share\n",
      "***************************\n",
      "Текст на тему 47 :\n",
      "Hi guys 👋🏼We would like to share with you one of our projects -👉 https://lnkd.in/dCdDrEbmWhat do you think about this design? Let me know your thoughts in comments 💬✉️ Have a project idea? I'm available for new projects yehor.haiduk@gmail.com or telegram chat🔥 Tag your friend who likes it 😉👉 Visit our page & don't forget to follow for more design content like this one!Check more work here https://lnkd.in/g-2DSu5\n",
      "\n",
      " \n",
      "Тема 33 :\n",
      "innovation, designing, innovative, wrote, machine, closer, fintech, language, technologies, banks, processing, article, google, artificialintelligence, startups, field, technology, artificial, intelligence, ai\n",
      "***************************\n",
      "Текст на тему 33 :\n",
      "Photoshop will be forever changed after this. Stability AI is developing a  plugin to bring Stable Diffusion right into Photoshop.↓Check out https://AlphaSignal.ai to get a weekly summary of the top breakthroughs in Machine Learning.\n",
      "\n",
      " \n",
      "Тема 11 :\n",
      "engagement, advanced, organizations, eventually, fall, contracts, salesforce, secure, outcomes, providers, care, patients, health, patient, know, healthcare, interested, might, anyone, hiring\n",
      "***************************\n",
      "Текст на тему 11 :\n",
      "I’m #hiring. Know anyone who might be interested?\n",
      "\n",
      " \n"
     ]
    }
   ],
   "source": [
    "topic_text(id2word_en, lda_en, topics_en, df_posts_en, top10list_en)"
   ]
  },
  {
   "cell_type": "markdown",
   "id": "7b187a4b-e5a1-45c5-ad71-5a4056e0ff42",
   "metadata": {},
   "source": [
    "Аналогично работе с русским языком, просмотрел больше текстов по каждой популярной теме и сформулировал их так:\n",
    "- развитие/тренды\n",
    "- поддержка/коллаборация\n",
    "- события\n",
    "- сайты/статьи/чаты\n",
    "- поиск работы\n",
    "- выход на работу\n",
    "- анонсы/стартапы\n",
    "- новый навык\n",
    "- AI/ML\n",
    "- поиск сотрудников\n",
    "\n",
    "Практически все темы присутствуют и в русскоязычном сегменте, однако популярность их отличается. Сформируем словарь:"
   ]
  },
  {
   "cell_type": "code",
   "execution_count": 51,
   "id": "26d74aa8-ece5-4f88-8244-ec0c24b3eb9f",
   "metadata": {
    "tags": []
   },
   "outputs": [
    {
     "data": {
      "text/plain": [
       "{7: 'развитие/тренды',\n",
       " 56: 'поддержка/коллаборация',\n",
       " 98: 'события',\n",
       " 65: 'сайты/статьи/чаты',\n",
       " 9: 'поиск работы',\n",
       " 28: 'выход на работу',\n",
       " 16: 'анонсы/стартапы',\n",
       " 47: 'новый навык',\n",
       " 33: 'AI/ML',\n",
       " 11: 'поиск сотрудников'}"
      ]
     },
     "execution_count": 51,
     "metadata": {},
     "output_type": "execute_result"
    }
   ],
   "source": [
    "top10_en = ['развитие/тренды',\n",
    "            'поддержка/коллаборация',\n",
    "            'события',\n",
    "            'сайты/статьи/чаты',\n",
    "            'поиск работы',\n",
    "            'выход на работу',\n",
    "            'анонсы/стартапы',\n",
    "            'новый навык',\n",
    "            'AI/ML',\n",
    "            'поиск сотрудников']\n",
    "\n",
    "topics_en_dict = dict(zip(top10list_en, top10_en))\n",
    "topics_en_dict"
   ]
  },
  {
   "cell_type": "markdown",
   "id": "a410401e-897d-4a00-91b1-d56f23a2816c",
   "metadata": {},
   "source": [
    "Выполним более интерпретируемый анализ по популярным темам"
   ]
  },
  {
   "cell_type": "markdown",
   "id": "a9a8fbc1-159b-4608-ae4d-f797442d84da",
   "metadata": {},
   "source": [
    "# Анализ по темам"
   ]
  },
  {
   "cell_type": "markdown",
   "id": "31cffb12-b85a-4915-ba45-5d8b08881bc0",
   "metadata": {
    "tags": []
   },
   "source": [
    "Сформируем датафреймы, которые содержат посты популярных тем"
   ]
  },
  {
   "cell_type": "code",
   "execution_count": 52,
   "id": "066aaa01-4ca5-4f6a-ad49-749a68ebe797",
   "metadata": {
    "tags": []
   },
   "outputs": [
    {
     "data": {
      "text/html": [
       "<div>\n",
       "<style scoped>\n",
       "    .dataframe tbody tr th:only-of-type {\n",
       "        vertical-align: middle;\n",
       "    }\n",
       "\n",
       "    .dataframe tbody tr th {\n",
       "        vertical-align: top;\n",
       "    }\n",
       "\n",
       "    .dataframe thead th {\n",
       "        text-align: right;\n",
       "    }\n",
       "</style>\n",
       "<table border=\"1\" class=\"dataframe\">\n",
       "  <thead>\n",
       "    <tr style=\"text-align: right;\">\n",
       "      <th></th>\n",
       "      <th>profile_url</th>\n",
       "      <th>post_url</th>\n",
       "      <th>post</th>\n",
       "      <th>reactions_cnt</th>\n",
       "      <th>comments_cnt</th>\n",
       "      <th>reposts_cnt</th>\n",
       "      <th>language</th>\n",
       "      <th>post_len</th>\n",
       "      <th>topic</th>\n",
       "    </tr>\n",
       "  </thead>\n",
       "  <tbody>\n",
       "    <tr>\n",
       "      <th>2274</th>\n",
       "      <td>https://www.linkedin.com/in/alexkash/</td>\n",
       "      <td>https://www.linkedin.com/feed/update/urn:li:ac...</td>\n",
       "      <td>Я только что получил(а) значок за навык «Swift...</td>\n",
       "      <td>2</td>\n",
       "      <td>0.0</td>\n",
       "      <td>0.0</td>\n",
       "      <td>ru</td>\n",
       "      <td>157</td>\n",
       "      <td>17</td>\n",
       "    </tr>\n",
       "    <tr>\n",
       "      <th>2009</th>\n",
       "      <td>https://www.linkedin.com/in/dinislamoraz/recen...</td>\n",
       "      <td>0</td>\n",
       "      <td>Как Data Science на 20% снилиз расходы для кру...</td>\n",
       "      <td>45</td>\n",
       "      <td>0.0</td>\n",
       "      <td>1.0</td>\n",
       "      <td>ru</td>\n",
       "      <td>2963</td>\n",
       "      <td>56</td>\n",
       "    </tr>\n",
       "    <tr>\n",
       "      <th>850</th>\n",
       "      <td>https://www.linkedin.com/in/anna-zaytseva-hrst...</td>\n",
       "      <td>0</td>\n",
       "      <td>AI мне статью написала)) #ai #itПростенько, ко...</td>\n",
       "      <td>5</td>\n",
       "      <td>4.0</td>\n",
       "      <td>0.0</td>\n",
       "      <td>ru</td>\n",
       "      <td>1590</td>\n",
       "      <td>56</td>\n",
       "    </tr>\n",
       "    <tr>\n",
       "      <th>2075</th>\n",
       "      <td>https://www.linkedin.com/in/fedor-malyshko/rec...</td>\n",
       "      <td>0</td>\n",
       "      <td>Всем привет.У себя в ленте LinkedIn замечаю мн...</td>\n",
       "      <td>11</td>\n",
       "      <td>6.0</td>\n",
       "      <td>0.0</td>\n",
       "      <td>ru</td>\n",
       "      <td>2633</td>\n",
       "      <td>56</td>\n",
       "    </tr>\n",
       "    <tr>\n",
       "      <th>956</th>\n",
       "      <td>https://www.linkedin.com/in/oleksii-udovenko/r...</td>\n",
       "      <td>0</td>\n",
       "      <td>Безусловно, нашей стране сейчас непросто.В0йна...</td>\n",
       "      <td>6</td>\n",
       "      <td>0.0</td>\n",
       "      <td>0.0</td>\n",
       "      <td>ru</td>\n",
       "      <td>1350</td>\n",
       "      <td>56</td>\n",
       "    </tr>\n",
       "  </tbody>\n",
       "</table>\n",
       "</div>"
      ],
      "text/plain": [
       "                                            profile_url  \\\n",
       "2274              https://www.linkedin.com/in/alexkash/   \n",
       "2009  https://www.linkedin.com/in/dinislamoraz/recen...   \n",
       "850   https://www.linkedin.com/in/anna-zaytseva-hrst...   \n",
       "2075  https://www.linkedin.com/in/fedor-malyshko/rec...   \n",
       "956   https://www.linkedin.com/in/oleksii-udovenko/r...   \n",
       "\n",
       "                                               post_url  \\\n",
       "2274  https://www.linkedin.com/feed/update/urn:li:ac...   \n",
       "2009                                                  0   \n",
       "850                                                   0   \n",
       "2075                                                  0   \n",
       "956                                                   0   \n",
       "\n",
       "                                                   post reactions_cnt  \\\n",
       "2274  Я только что получил(а) значок за навык «Swift...             2   \n",
       "2009  Как Data Science на 20% снилиз расходы для кру...            45   \n",
       "850   AI мне статью написала)) #ai #itПростенько, ко...             5   \n",
       "2075  Всем привет.У себя в ленте LinkedIn замечаю мн...            11   \n",
       "956   Безусловно, нашей стране сейчас непросто.В0йна...             6   \n",
       "\n",
       "      comments_cnt  reposts_cnt language  post_len  topic  \n",
       "2274           0.0          0.0       ru       157     17  \n",
       "2009           0.0          1.0       ru      2963     56  \n",
       "850            4.0          0.0       ru      1590     56  \n",
       "2075           6.0          0.0       ru      2633     56  \n",
       "956            0.0          0.0       ru      1350     56  "
      ]
     },
     "metadata": {},
     "output_type": "display_data"
    },
    {
     "data": {
      "text/html": [
       "<div>\n",
       "<style scoped>\n",
       "    .dataframe tbody tr th:only-of-type {\n",
       "        vertical-align: middle;\n",
       "    }\n",
       "\n",
       "    .dataframe tbody tr th {\n",
       "        vertical-align: top;\n",
       "    }\n",
       "\n",
       "    .dataframe thead th {\n",
       "        text-align: right;\n",
       "    }\n",
       "</style>\n",
       "<table border=\"1\" class=\"dataframe\">\n",
       "  <thead>\n",
       "    <tr style=\"text-align: right;\">\n",
       "      <th></th>\n",
       "      <th>profile_url</th>\n",
       "      <th>post_url</th>\n",
       "      <th>post</th>\n",
       "      <th>reactions_cnt</th>\n",
       "      <th>comments_cnt</th>\n",
       "      <th>reposts_cnt</th>\n",
       "      <th>language</th>\n",
       "      <th>post_len</th>\n",
       "      <th>topic</th>\n",
       "    </tr>\n",
       "  </thead>\n",
       "  <tbody>\n",
       "    <tr>\n",
       "      <th>1179</th>\n",
       "      <td>https://www.linkedin.com/in/alefair/recent-act...</td>\n",
       "      <td>0</td>\n",
       "      <td>As always, I'm sitting in a cave and suddenly ...</td>\n",
       "      <td>4</td>\n",
       "      <td>0.0</td>\n",
       "      <td>0.0</td>\n",
       "      <td>en</td>\n",
       "      <td>2120</td>\n",
       "      <td>7</td>\n",
       "    </tr>\n",
       "    <tr>\n",
       "      <th>2615</th>\n",
       "      <td>https://www.linkedin.com/in/dyakov-ivan/recent...</td>\n",
       "      <td>0</td>\n",
       "      <td>Revolutionizing Healthcare with Cutting-Edge T...</td>\n",
       "      <td>3</td>\n",
       "      <td>0.0</td>\n",
       "      <td>0.0</td>\n",
       "      <td>en</td>\n",
       "      <td>1993</td>\n",
       "      <td>11</td>\n",
       "    </tr>\n",
       "    <tr>\n",
       "      <th>1009</th>\n",
       "      <td>https://www.linkedin.com/in/antonabyzov/recent...</td>\n",
       "      <td>0</td>\n",
       "      <td>🔐 I am thrilled to share that Forbes has publi...</td>\n",
       "      <td>4</td>\n",
       "      <td>1.0</td>\n",
       "      <td>0.0</td>\n",
       "      <td>en</td>\n",
       "      <td>595</td>\n",
       "      <td>7</td>\n",
       "    </tr>\n",
       "    <tr>\n",
       "      <th>4298</th>\n",
       "      <td>https://www.linkedin.com/in/tentser/recent-act...</td>\n",
       "      <td>0</td>\n",
       "      <td>Generative AI copilots for doctors have raised...</td>\n",
       "      <td>0</td>\n",
       "      <td>0.0</td>\n",
       "      <td>0.0</td>\n",
       "      <td>en</td>\n",
       "      <td>87</td>\n",
       "      <td>98</td>\n",
       "    </tr>\n",
       "    <tr>\n",
       "      <th>949</th>\n",
       "      <td>https://www.linkedin.com/in/moeidsaleem/recent...</td>\n",
       "      <td>0</td>\n",
       "      <td>Apple vision Pro tells us how big immersive te...</td>\n",
       "      <td>0</td>\n",
       "      <td>0.0</td>\n",
       "      <td>0.0</td>\n",
       "      <td>en</td>\n",
       "      <td>195</td>\n",
       "      <td>33</td>\n",
       "    </tr>\n",
       "  </tbody>\n",
       "</table>\n",
       "</div>"
      ],
      "text/plain": [
       "                                            profile_url post_url  \\\n",
       "1179  https://www.linkedin.com/in/alefair/recent-act...        0   \n",
       "2615  https://www.linkedin.com/in/dyakov-ivan/recent...        0   \n",
       "1009  https://www.linkedin.com/in/antonabyzov/recent...        0   \n",
       "4298  https://www.linkedin.com/in/tentser/recent-act...        0   \n",
       "949   https://www.linkedin.com/in/moeidsaleem/recent...        0   \n",
       "\n",
       "                                                   post reactions_cnt  \\\n",
       "1179  As always, I'm sitting in a cave and suddenly ...             4   \n",
       "2615  Revolutionizing Healthcare with Cutting-Edge T...             3   \n",
       "1009  🔐 I am thrilled to share that Forbes has publi...             4   \n",
       "4298  Generative AI copilots for doctors have raised...             0   \n",
       "949   Apple vision Pro tells us how big immersive te...             0   \n",
       "\n",
       "      comments_cnt  reposts_cnt language  post_len  topic  \n",
       "1179           0.0          0.0       en      2120      7  \n",
       "2615           0.0          0.0       en      1993     11  \n",
       "1009           1.0          0.0       en       595      7  \n",
       "4298           0.0          0.0       en        87     98  \n",
       "949            0.0          0.0       en       195     33  "
      ]
     },
     "execution_count": 52,
     "metadata": {},
     "output_type": "execute_result"
    }
   ],
   "source": [
    "df_top10_ru = df_posts_ru.copy()\n",
    "df_top10_ru = df_top10_ru.query('topic in @top10list_ru')\n",
    "\n",
    "df_top10_en = df_posts_en.copy()\n",
    "df_top10_en = df_top10_en.query('topic in @top10list_en')\n",
    "\n",
    "display(df_top10_ru.sample(5))\n",
    "df_top10_en.sample(5)"
   ]
  },
  {
   "cell_type": "markdown",
   "id": "72e50cb3-6641-46af-a76a-d4e798ab4ffa",
   "metadata": {},
   "source": [
    "Заменим номера тем их сформулированными ранее текстами"
   ]
  },
  {
   "cell_type": "code",
   "execution_count": 53,
   "id": "63a5fdb1-a601-4bf8-9847-4194b0a1f045",
   "metadata": {
    "tags": []
   },
   "outputs": [
    {
     "data": {
      "text/html": [
       "<div>\n",
       "<style scoped>\n",
       "    .dataframe tbody tr th:only-of-type {\n",
       "        vertical-align: middle;\n",
       "    }\n",
       "\n",
       "    .dataframe tbody tr th {\n",
       "        vertical-align: top;\n",
       "    }\n",
       "\n",
       "    .dataframe thead th {\n",
       "        text-align: right;\n",
       "    }\n",
       "</style>\n",
       "<table border=\"1\" class=\"dataframe\">\n",
       "  <thead>\n",
       "    <tr style=\"text-align: right;\">\n",
       "      <th></th>\n",
       "      <th>profile_url</th>\n",
       "      <th>post_url</th>\n",
       "      <th>post</th>\n",
       "      <th>reactions_cnt</th>\n",
       "      <th>comments_cnt</th>\n",
       "      <th>reposts_cnt</th>\n",
       "      <th>language</th>\n",
       "      <th>post_len</th>\n",
       "      <th>topic</th>\n",
       "      <th>topic_text</th>\n",
       "    </tr>\n",
       "  </thead>\n",
       "  <tbody>\n",
       "    <tr>\n",
       "      <th>1678</th>\n",
       "      <td>https://www.linkedin.com/in/ruslan-kochubarov/...</td>\n",
       "      <td>0</td>\n",
       "      <td>📣📣📣 Проект нашей с @christinasuslik команды те...</td>\n",
       "      <td>16</td>\n",
       "      <td>0.0</td>\n",
       "      <td>1.0</td>\n",
       "      <td>ru</td>\n",
       "      <td>860</td>\n",
       "      <td>24</td>\n",
       "      <td>сайты/статьи/чаты</td>\n",
       "    </tr>\n",
       "    <tr>\n",
       "      <th>2032</th>\n",
       "      <td>https://www.linkedin.com/in/wildchlamydia/rece...</td>\n",
       "      <td>0</td>\n",
       "      <td>Снова ищу CV инженера! Но в этот раз плюсовика...</td>\n",
       "      <td>4</td>\n",
       "      <td>0.0</td>\n",
       "      <td>0.0</td>\n",
       "      <td>ru</td>\n",
       "      <td>488</td>\n",
       "      <td>34</td>\n",
       "      <td>поиск сотрудников</td>\n",
       "    </tr>\n",
       "    <tr>\n",
       "      <th>594</th>\n",
       "      <td>https://www.linkedin.com/in/aleksandr-potapov/...</td>\n",
       "      <td>0</td>\n",
       "      <td>Всем привет!Хочу поделиться нашим крутым проек...</td>\n",
       "      <td>17</td>\n",
       "      <td>2.0</td>\n",
       "      <td>0.0</td>\n",
       "      <td>ru</td>\n",
       "      <td>931</td>\n",
       "      <td>56</td>\n",
       "      <td>развитие/тренды</td>\n",
       "    </tr>\n",
       "    <tr>\n",
       "      <th>1664</th>\n",
       "      <td>https://www.linkedin.com/in/andreykhalov/recen...</td>\n",
       "      <td>0</td>\n",
       "      <td>Всем привет, два года Рояль Кусто в тесном сот...</td>\n",
       "      <td>6</td>\n",
       "      <td>0.0</td>\n",
       "      <td>2.0</td>\n",
       "      <td>ru</td>\n",
       "      <td>1523</td>\n",
       "      <td>56</td>\n",
       "      <td>развитие/тренды</td>\n",
       "    </tr>\n",
       "    <tr>\n",
       "      <th>851</th>\n",
       "      <td>https://www.linkedin.com/in/anna-zaytseva-hrst...</td>\n",
       "      <td>0</td>\n",
       "      <td>Разбирали сегодня на карьерной консультации с ...</td>\n",
       "      <td>11</td>\n",
       "      <td>4.0</td>\n",
       "      <td>0.0</td>\n",
       "      <td>ru</td>\n",
       "      <td>1166</td>\n",
       "      <td>39</td>\n",
       "      <td>поддержка/коллаборация</td>\n",
       "    </tr>\n",
       "  </tbody>\n",
       "</table>\n",
       "</div>"
      ],
      "text/plain": [
       "                                            profile_url post_url  \\\n",
       "1678  https://www.linkedin.com/in/ruslan-kochubarov/...        0   \n",
       "2032  https://www.linkedin.com/in/wildchlamydia/rece...        0   \n",
       "594   https://www.linkedin.com/in/aleksandr-potapov/...        0   \n",
       "1664  https://www.linkedin.com/in/andreykhalov/recen...        0   \n",
       "851   https://www.linkedin.com/in/anna-zaytseva-hrst...        0   \n",
       "\n",
       "                                                   post reactions_cnt  \\\n",
       "1678  📣📣📣 Проект нашей с @christinasuslik команды те...            16   \n",
       "2032  Снова ищу CV инженера! Но в этот раз плюсовика...             4   \n",
       "594   Всем привет!Хочу поделиться нашим крутым проек...            17   \n",
       "1664  Всем привет, два года Рояль Кусто в тесном сот...             6   \n",
       "851   Разбирали сегодня на карьерной консультации с ...            11   \n",
       "\n",
       "      comments_cnt  reposts_cnt language  post_len  topic  \\\n",
       "1678           0.0          1.0       ru       860     24   \n",
       "2032           0.0          0.0       ru       488     34   \n",
       "594            2.0          0.0       ru       931     56   \n",
       "1664           0.0          2.0       ru      1523     56   \n",
       "851            4.0          0.0       ru      1166     39   \n",
       "\n",
       "                  topic_text  \n",
       "1678       сайты/статьи/чаты  \n",
       "2032       поиск сотрудников  \n",
       "594          развитие/тренды  \n",
       "1664         развитие/тренды  \n",
       "851   поддержка/коллаборация  "
      ]
     },
     "execution_count": 53,
     "metadata": {},
     "output_type": "execute_result"
    }
   ],
   "source": [
    "def rutopic_num_to_text(num):\n",
    "    try:\n",
    "        return topics_ru_dict[num]\n",
    "    except:\n",
    "        return num\n",
    "\n",
    "df_top10_ru['topic_text'] = df_top10_ru['topic'].apply(rutopic_num_to_text)\n",
    "df_top10_ru.sample(5)"
   ]
  },
  {
   "cell_type": "code",
   "execution_count": 54,
   "id": "63ec109c-c222-4ed7-bb97-d44f8f77a72c",
   "metadata": {
    "tags": []
   },
   "outputs": [
    {
     "data": {
      "text/html": [
       "<div>\n",
       "<style scoped>\n",
       "    .dataframe tbody tr th:only-of-type {\n",
       "        vertical-align: middle;\n",
       "    }\n",
       "\n",
       "    .dataframe tbody tr th {\n",
       "        vertical-align: top;\n",
       "    }\n",
       "\n",
       "    .dataframe thead th {\n",
       "        text-align: right;\n",
       "    }\n",
       "</style>\n",
       "<table border=\"1\" class=\"dataframe\">\n",
       "  <thead>\n",
       "    <tr style=\"text-align: right;\">\n",
       "      <th></th>\n",
       "      <th>profile_url</th>\n",
       "      <th>post_url</th>\n",
       "      <th>post</th>\n",
       "      <th>reactions_cnt</th>\n",
       "      <th>comments_cnt</th>\n",
       "      <th>reposts_cnt</th>\n",
       "      <th>language</th>\n",
       "      <th>post_len</th>\n",
       "      <th>topic</th>\n",
       "      <th>topic_text</th>\n",
       "    </tr>\n",
       "  </thead>\n",
       "  <tbody>\n",
       "    <tr>\n",
       "      <th>1001</th>\n",
       "      <td>https://www.linkedin.com/in/vitalii-s-37611325...</td>\n",
       "      <td>0</td>\n",
       "      <td>UI / UX is the most important part of any appl...</td>\n",
       "      <td>0</td>\n",
       "      <td>0.0</td>\n",
       "      <td>58.0</td>\n",
       "      <td>en</td>\n",
       "      <td>322</td>\n",
       "      <td>7</td>\n",
       "      <td>развитие/тренды</td>\n",
       "    </tr>\n",
       "    <tr>\n",
       "      <th>328</th>\n",
       "      <td>https://www.linkedin.com/in/andrey-mashukov/re...</td>\n",
       "      <td>0</td>\n",
       "      <td>Hello everyone! The Open Soft Company located ...</td>\n",
       "      <td>0</td>\n",
       "      <td>0.0</td>\n",
       "      <td>0.0</td>\n",
       "      <td>en</td>\n",
       "      <td>247</td>\n",
       "      <td>7</td>\n",
       "      <td>развитие/тренды</td>\n",
       "    </tr>\n",
       "    <tr>\n",
       "      <th>5253</th>\n",
       "      <td>https://www.linkedin.com/in/auphotoart/recent-...</td>\n",
       "      <td>0</td>\n",
       "      <td>Hello everybody! Like, please, if you like. 🙌 ...</td>\n",
       "      <td>1</td>\n",
       "      <td>0.0</td>\n",
       "      <td>0.0</td>\n",
       "      <td>en</td>\n",
       "      <td>423</td>\n",
       "      <td>65</td>\n",
       "      <td>сайты/статьи/чаты</td>\n",
       "    </tr>\n",
       "    <tr>\n",
       "      <th>2048</th>\n",
       "      <td>https://www.linkedin.com/in/olena-kulbych/rece...</td>\n",
       "      <td>0</td>\n",
       "      <td>Go from low rankings to the top of Google with...</td>\n",
       "      <td>1 237</td>\n",
       "      <td>300.0</td>\n",
       "      <td>132.0</td>\n",
       "      <td>en</td>\n",
       "      <td>235</td>\n",
       "      <td>7</td>\n",
       "      <td>развитие/тренды</td>\n",
       "    </tr>\n",
       "    <tr>\n",
       "      <th>5287</th>\n",
       "      <td>https://www.linkedin.com/in/suxrobgm/recent-ac...</td>\n",
       "      <td>0</td>\n",
       "      <td>Friends, let's support poor family😢😢 Repost Fa...</td>\n",
       "      <td>2</td>\n",
       "      <td>0.0</td>\n",
       "      <td>0.0</td>\n",
       "      <td>en</td>\n",
       "      <td>392</td>\n",
       "      <td>7</td>\n",
       "      <td>развитие/тренды</td>\n",
       "    </tr>\n",
       "  </tbody>\n",
       "</table>\n",
       "</div>"
      ],
      "text/plain": [
       "                                            profile_url post_url  \\\n",
       "1001  https://www.linkedin.com/in/vitalii-s-37611325...        0   \n",
       "328   https://www.linkedin.com/in/andrey-mashukov/re...        0   \n",
       "5253  https://www.linkedin.com/in/auphotoart/recent-...        0   \n",
       "2048  https://www.linkedin.com/in/olena-kulbych/rece...        0   \n",
       "5287  https://www.linkedin.com/in/suxrobgm/recent-ac...        0   \n",
       "\n",
       "                                                   post reactions_cnt  \\\n",
       "1001  UI / UX is the most important part of any appl...             0   \n",
       "328   Hello everyone! The Open Soft Company located ...             0   \n",
       "5253  Hello everybody! Like, please, if you like. 🙌 ...             1   \n",
       "2048  Go from low rankings to the top of Google with...         1 237   \n",
       "5287  Friends, let's support poor family😢😢 Repost Fa...             2   \n",
       "\n",
       "      comments_cnt  reposts_cnt language  post_len  topic         topic_text  \n",
       "1001           0.0         58.0       en       322      7    развитие/тренды  \n",
       "328            0.0          0.0       en       247      7    развитие/тренды  \n",
       "5253           0.0          0.0       en       423     65  сайты/статьи/чаты  \n",
       "2048         300.0        132.0       en       235      7    развитие/тренды  \n",
       "5287           0.0          0.0       en       392      7    развитие/тренды  "
      ]
     },
     "execution_count": 54,
     "metadata": {},
     "output_type": "execute_result"
    }
   ],
   "source": [
    "def entopic_num_to_text(num):\n",
    "    try:\n",
    "        return topics_en_dict[num]\n",
    "    except:\n",
    "        return num\n",
    "\n",
    "df_top10_en['topic_text'] = df_top10_en['topic'].apply(entopic_num_to_text)\n",
    "df_top10_en.sample(5)"
   ]
  },
  {
   "cell_type": "markdown",
   "id": "8da53901-9d89-484f-b32b-32bb72f12163",
   "metadata": {},
   "source": [
    "Готово. Сформируем общий датасет по двум языкам и решим вопрос со столбцом `comments_cnt`, в котором присутствуют разнородные данные. Придётся заменить запятые и пробелы на точки, чтобы в итоге привести столбец к типу `float`"
   ]
  },
  {
   "cell_type": "code",
   "execution_count": 67,
   "id": "c11aeb6a-e692-44ae-bb25-a65e8b8a3c62",
   "metadata": {
    "tags": []
   },
   "outputs": [],
   "source": [
    "df_top10 = pd.concat([df_top10_en, df_top10_ru]).reset_index(drop=True)"
   ]
  },
  {
   "cell_type": "code",
   "execution_count": 70,
   "id": "5bc0c9ef-6ddd-46b3-bf50-5893b9fdaaa4",
   "metadata": {
    "tags": []
   },
   "outputs": [],
   "source": [
    "def reactions_type(x):\n",
    "    x = str(x)\n",
    "    if x.__contains__(',') == True:\n",
    "        x = x.replace(',', '.')\n",
    "        return x\n",
    "    elif x.__contains__(' ') == True:\n",
    "        x = x.replace(' ', '.')\n",
    "        return x\n",
    "    return x\n",
    "\n",
    "df_top10['reactions_cnt'] = df_top10['reactions_cnt'].apply(reactions_type).astype('float')"
   ]
  },
  {
   "cell_type": "markdown",
   "id": "605ab309-c5b8-424c-ae32-108b5a8b75dc",
   "metadata": {},
   "source": [
    "## Сводные таблицы"
   ]
  },
  {
   "cell_type": "markdown",
   "id": "44d7515d-05be-4811-97ad-161017aa96e2",
   "metadata": {},
   "source": [
    "Построим сводную таблицу, показывающую информацию по каждой теме в разрезе по языкам: средние и медианные значения количества реакций, комментариев, репостов, а также среднее и медианное значение длины поста.\n",
    "\n",
    "Также будут и максимальные значения"
   ]
  },
  {
   "cell_type": "code",
   "execution_count": 57,
   "id": "e80d88b3-4ff9-40f8-820d-a7f39249ff50",
   "metadata": {
    "tags": []
   },
   "outputs": [
    {
     "data": {
      "text/html": [
       "<div>\n",
       "<style scoped>\n",
       "    .dataframe tbody tr th:only-of-type {\n",
       "        vertical-align: middle;\n",
       "    }\n",
       "\n",
       "    .dataframe tbody tr th {\n",
       "        vertical-align: top;\n",
       "    }\n",
       "\n",
       "    .dataframe thead tr th {\n",
       "        text-align: left;\n",
       "    }\n",
       "\n",
       "    .dataframe thead tr:last-of-type th {\n",
       "        text-align: right;\n",
       "    }\n",
       "</style>\n",
       "<table border=\"1\" class=\"dataframe\">\n",
       "  <thead>\n",
       "    <tr>\n",
       "      <th></th>\n",
       "      <th></th>\n",
       "      <th colspan=\"4\" halign=\"left\">mean</th>\n",
       "      <th colspan=\"4\" halign=\"left\">median</th>\n",
       "      <th colspan=\"4\" halign=\"left\">max</th>\n",
       "    </tr>\n",
       "    <tr>\n",
       "      <th></th>\n",
       "      <th></th>\n",
       "      <th>comments_cnt</th>\n",
       "      <th>post_len</th>\n",
       "      <th>reactions_cnt</th>\n",
       "      <th>reposts_cnt</th>\n",
       "      <th>comments_cnt</th>\n",
       "      <th>post_len</th>\n",
       "      <th>reactions_cnt</th>\n",
       "      <th>reposts_cnt</th>\n",
       "      <th>comments_cnt</th>\n",
       "      <th>post_len</th>\n",
       "      <th>reactions_cnt</th>\n",
       "      <th>reposts_cnt</th>\n",
       "    </tr>\n",
       "    <tr>\n",
       "      <th>topic_text</th>\n",
       "      <th>language</th>\n",
       "      <th></th>\n",
       "      <th></th>\n",
       "      <th></th>\n",
       "      <th></th>\n",
       "      <th></th>\n",
       "      <th></th>\n",
       "      <th></th>\n",
       "      <th></th>\n",
       "      <th></th>\n",
       "      <th></th>\n",
       "      <th></th>\n",
       "      <th></th>\n",
       "    </tr>\n",
       "  </thead>\n",
       "  <tbody>\n",
       "    <tr>\n",
       "      <th>AI/ML</th>\n",
       "      <th>en</th>\n",
       "      <td>18.361111</td>\n",
       "      <td>325.111111</td>\n",
       "      <td>30.686514</td>\n",
       "      <td>23.944444</td>\n",
       "      <td>0.0</td>\n",
       "      <td>229.5</td>\n",
       "      <td>5.0</td>\n",
       "      <td>0.0</td>\n",
       "      <td>635.0</td>\n",
       "      <td>1729</td>\n",
       "      <td>626.0</td>\n",
       "      <td>637.0</td>\n",
       "    </tr>\n",
       "    <tr>\n",
       "      <th rowspan=\"2\" valign=\"top\">анонсы/стартапы</th>\n",
       "      <th>en</th>\n",
       "      <td>10.867470</td>\n",
       "      <td>372.060241</td>\n",
       "      <td>24.575422</td>\n",
       "      <td>1.144578</td>\n",
       "      <td>0.0</td>\n",
       "      <td>288.0</td>\n",
       "      <td>6.0</td>\n",
       "      <td>0.0</td>\n",
       "      <td>764.0</td>\n",
       "      <td>1231</td>\n",
       "      <td>905.0</td>\n",
       "      <td>27.0</td>\n",
       "    </tr>\n",
       "    <tr>\n",
       "      <th>ru</th>\n",
       "      <td>13.151515</td>\n",
       "      <td>607.454545</td>\n",
       "      <td>53.842152</td>\n",
       "      <td>20.939394</td>\n",
       "      <td>0.0</td>\n",
       "      <td>416.0</td>\n",
       "      <td>3.0</td>\n",
       "      <td>0.0</td>\n",
       "      <td>143.0</td>\n",
       "      <td>2600</td>\n",
       "      <td>592.0</td>\n",
       "      <td>279.0</td>\n",
       "    </tr>\n",
       "    <tr>\n",
       "      <th rowspan=\"2\" valign=\"top\">выход на работу</th>\n",
       "      <th>en</th>\n",
       "      <td>11.552941</td>\n",
       "      <td>168.705882</td>\n",
       "      <td>21.074553</td>\n",
       "      <td>0.376471</td>\n",
       "      <td>0.0</td>\n",
       "      <td>89.0</td>\n",
       "      <td>8.0</td>\n",
       "      <td>0.0</td>\n",
       "      <td>705.0</td>\n",
       "      <td>1088</td>\n",
       "      <td>250.0</td>\n",
       "      <td>7.0</td>\n",
       "    </tr>\n",
       "    <tr>\n",
       "      <th>ru</th>\n",
       "      <td>8.485714</td>\n",
       "      <td>140.414286</td>\n",
       "      <td>24.719400</td>\n",
       "      <td>0.142857</td>\n",
       "      <td>1.0</td>\n",
       "      <td>109.5</td>\n",
       "      <td>10.5</td>\n",
       "      <td>0.0</td>\n",
       "      <td>427.0</td>\n",
       "      <td>1108</td>\n",
       "      <td>134.0</td>\n",
       "      <td>9.0</td>\n",
       "    </tr>\n",
       "    <tr>\n",
       "      <th rowspan=\"2\" valign=\"top\">новый навык</th>\n",
       "      <th>en</th>\n",
       "      <td>1.933333</td>\n",
       "      <td>204.466667</td>\n",
       "      <td>24.866667</td>\n",
       "      <td>1.186667</td>\n",
       "      <td>0.0</td>\n",
       "      <td>159.0</td>\n",
       "      <td>9.0</td>\n",
       "      <td>0.0</td>\n",
       "      <td>58.0</td>\n",
       "      <td>685</td>\n",
       "      <td>861.0</td>\n",
       "      <td>32.0</td>\n",
       "    </tr>\n",
       "    <tr>\n",
       "      <th>ru</th>\n",
       "      <td>0.484848</td>\n",
       "      <td>143.727273</td>\n",
       "      <td>20.666667</td>\n",
       "      <td>0.727273</td>\n",
       "      <td>0.0</td>\n",
       "      <td>140.0</td>\n",
       "      <td>1.0</td>\n",
       "      <td>0.0</td>\n",
       "      <td>12.0</td>\n",
       "      <td>310</td>\n",
       "      <td>639.0</td>\n",
       "      <td>21.0</td>\n",
       "    </tr>\n",
       "    <tr>\n",
       "      <th rowspan=\"2\" valign=\"top\">поддержка/коллаборация</th>\n",
       "      <th>en</th>\n",
       "      <td>8.514881</td>\n",
       "      <td>576.288690</td>\n",
       "      <td>24.987949</td>\n",
       "      <td>12.395833</td>\n",
       "      <td>0.0</td>\n",
       "      <td>443.5</td>\n",
       "      <td>6.0</td>\n",
       "      <td>0.0</td>\n",
       "      <td>521.0</td>\n",
       "      <td>2958</td>\n",
       "      <td>894.0</td>\n",
       "      <td>702.0</td>\n",
       "    </tr>\n",
       "    <tr>\n",
       "      <th>ru</th>\n",
       "      <td>4.844488</td>\n",
       "      <td>886.620079</td>\n",
       "      <td>18.984252</td>\n",
       "      <td>1.381890</td>\n",
       "      <td>0.0</td>\n",
       "      <td>663.0</td>\n",
       "      <td>6.0</td>\n",
       "      <td>0.0</td>\n",
       "      <td>170.0</td>\n",
       "      <td>2994</td>\n",
       "      <td>640.0</td>\n",
       "      <td>110.0</td>\n",
       "    </tr>\n",
       "    <tr>\n",
       "      <th rowspan=\"2\" valign=\"top\">поиск работы</th>\n",
       "      <th>en</th>\n",
       "      <td>1.617978</td>\n",
       "      <td>202.741573</td>\n",
       "      <td>20.134831</td>\n",
       "      <td>2.898876</td>\n",
       "      <td>1.0</td>\n",
       "      <td>170.0</td>\n",
       "      <td>8.0</td>\n",
       "      <td>1.0</td>\n",
       "      <td>10.0</td>\n",
       "      <td>970</td>\n",
       "      <td>121.0</td>\n",
       "      <td>20.0</td>\n",
       "    </tr>\n",
       "    <tr>\n",
       "      <th>ru</th>\n",
       "      <td>0.833333</td>\n",
       "      <td>243.030303</td>\n",
       "      <td>12.742424</td>\n",
       "      <td>2.121212</td>\n",
       "      <td>0.0</td>\n",
       "      <td>208.0</td>\n",
       "      <td>5.0</td>\n",
       "      <td>1.0</td>\n",
       "      <td>7.0</td>\n",
       "      <td>692</td>\n",
       "      <td>171.0</td>\n",
       "      <td>24.0</td>\n",
       "    </tr>\n",
       "    <tr>\n",
       "      <th rowspan=\"2\" valign=\"top\">поиск сотрудников</th>\n",
       "      <th>en</th>\n",
       "      <td>0.147059</td>\n",
       "      <td>457.235294</td>\n",
       "      <td>3.323529</td>\n",
       "      <td>0.411765</td>\n",
       "      <td>0.0</td>\n",
       "      <td>71.0</td>\n",
       "      <td>2.0</td>\n",
       "      <td>0.0</td>\n",
       "      <td>2.0</td>\n",
       "      <td>2948</td>\n",
       "      <td>26.0</td>\n",
       "      <td>5.0</td>\n",
       "    </tr>\n",
       "    <tr>\n",
       "      <th>ru</th>\n",
       "      <td>1.369231</td>\n",
       "      <td>838.046154</td>\n",
       "      <td>16.815385</td>\n",
       "      <td>1.507692</td>\n",
       "      <td>0.0</td>\n",
       "      <td>675.0</td>\n",
       "      <td>6.0</td>\n",
       "      <td>0.0</td>\n",
       "      <td>57.0</td>\n",
       "      <td>2613</td>\n",
       "      <td>400.0</td>\n",
       "      <td>41.0</td>\n",
       "    </tr>\n",
       "    <tr>\n",
       "      <th>предложения бизнес-услуг</th>\n",
       "      <th>ru</th>\n",
       "      <td>0.166667</td>\n",
       "      <td>207.638889</td>\n",
       "      <td>3.861111</td>\n",
       "      <td>0.111111</td>\n",
       "      <td>0.0</td>\n",
       "      <td>148.5</td>\n",
       "      <td>1.5</td>\n",
       "      <td>0.0</td>\n",
       "      <td>4.0</td>\n",
       "      <td>739</td>\n",
       "      <td>44.0</td>\n",
       "      <td>2.0</td>\n",
       "    </tr>\n",
       "    <tr>\n",
       "      <th rowspan=\"2\" valign=\"top\">развитие/тренды</th>\n",
       "      <th>en</th>\n",
       "      <td>11.938542</td>\n",
       "      <td>843.444097</td>\n",
       "      <td>20.900023</td>\n",
       "      <td>12.031944</td>\n",
       "      <td>0.0</td>\n",
       "      <td>677.0</td>\n",
       "      <td>6.0</td>\n",
       "      <td>0.0</td>\n",
       "      <td>967.0</td>\n",
       "      <td>2983</td>\n",
       "      <td>995.0</td>\n",
       "      <td>979.0</td>\n",
       "    </tr>\n",
       "    <tr>\n",
       "      <th>ru</th>\n",
       "      <td>5.601361</td>\n",
       "      <td>1169.337415</td>\n",
       "      <td>27.057824</td>\n",
       "      <td>6.238095</td>\n",
       "      <td>0.0</td>\n",
       "      <td>987.0</td>\n",
       "      <td>6.0</td>\n",
       "      <td>0.0</td>\n",
       "      <td>449.0</td>\n",
       "      <td>2987</td>\n",
       "      <td>921.0</td>\n",
       "      <td>562.0</td>\n",
       "    </tr>\n",
       "    <tr>\n",
       "      <th rowspan=\"2\" valign=\"top\">сайты/статьи/чаты</th>\n",
       "      <th>en</th>\n",
       "      <td>17.065934</td>\n",
       "      <td>484.637363</td>\n",
       "      <td>20.033132</td>\n",
       "      <td>9.659341</td>\n",
       "      <td>0.0</td>\n",
       "      <td>311.0</td>\n",
       "      <td>4.0</td>\n",
       "      <td>0.0</td>\n",
       "      <td>502.0</td>\n",
       "      <td>1931</td>\n",
       "      <td>669.0</td>\n",
       "      <td>410.0</td>\n",
       "    </tr>\n",
       "    <tr>\n",
       "      <th>ru</th>\n",
       "      <td>0.571429</td>\n",
       "      <td>624.357143</td>\n",
       "      <td>20.928571</td>\n",
       "      <td>1.928571</td>\n",
       "      <td>0.0</td>\n",
       "      <td>537.0</td>\n",
       "      <td>9.5</td>\n",
       "      <td>0.0</td>\n",
       "      <td>7.0</td>\n",
       "      <td>1490</td>\n",
       "      <td>293.0</td>\n",
       "      <td>46.0</td>\n",
       "    </tr>\n",
       "    <tr>\n",
       "      <th rowspan=\"2\" valign=\"top\">события</th>\n",
       "      <th>en</th>\n",
       "      <td>1.106557</td>\n",
       "      <td>236.647541</td>\n",
       "      <td>9.472008</td>\n",
       "      <td>1.631148</td>\n",
       "      <td>0.0</td>\n",
       "      <td>176.5</td>\n",
       "      <td>6.0</td>\n",
       "      <td>0.0</td>\n",
       "      <td>87.0</td>\n",
       "      <td>1513</td>\n",
       "      <td>61.0</td>\n",
       "      <td>121.0</td>\n",
       "    </tr>\n",
       "    <tr>\n",
       "      <th>ru</th>\n",
       "      <td>1.377049</td>\n",
       "      <td>604.983607</td>\n",
       "      <td>10.475410</td>\n",
       "      <td>0.590164</td>\n",
       "      <td>0.0</td>\n",
       "      <td>520.0</td>\n",
       "      <td>3.0</td>\n",
       "      <td>0.0</td>\n",
       "      <td>29.0</td>\n",
       "      <td>1693</td>\n",
       "      <td>150.0</td>\n",
       "      <td>9.0</td>\n",
       "    </tr>\n",
       "  </tbody>\n",
       "</table>\n",
       "</div>"
      ],
      "text/plain": [
       "                                          mean                             \\\n",
       "                                  comments_cnt     post_len reactions_cnt   \n",
       "topic_text               language                                           \n",
       "AI/ML                    en          18.361111   325.111111     30.686514   \n",
       "анонсы/стартапы          en          10.867470   372.060241     24.575422   \n",
       "                         ru          13.151515   607.454545     53.842152   \n",
       "выход на работу          en          11.552941   168.705882     21.074553   \n",
       "                         ru           8.485714   140.414286     24.719400   \n",
       "новый навык              en           1.933333   204.466667     24.866667   \n",
       "                         ru           0.484848   143.727273     20.666667   \n",
       "поддержка/коллаборация   en           8.514881   576.288690     24.987949   \n",
       "                         ru           4.844488   886.620079     18.984252   \n",
       "поиск работы             en           1.617978   202.741573     20.134831   \n",
       "                         ru           0.833333   243.030303     12.742424   \n",
       "поиск сотрудников        en           0.147059   457.235294      3.323529   \n",
       "                         ru           1.369231   838.046154     16.815385   \n",
       "предложения бизнес-услуг ru           0.166667   207.638889      3.861111   \n",
       "развитие/тренды          en          11.938542   843.444097     20.900023   \n",
       "                         ru           5.601361  1169.337415     27.057824   \n",
       "сайты/статьи/чаты        en          17.065934   484.637363     20.033132   \n",
       "                         ru           0.571429   624.357143     20.928571   \n",
       "события                  en           1.106557   236.647541      9.472008   \n",
       "                         ru           1.377049   604.983607     10.475410   \n",
       "\n",
       "                                                    median           \\\n",
       "                                  reposts_cnt comments_cnt post_len   \n",
       "topic_text               language                                     \n",
       "AI/ML                    en         23.944444          0.0    229.5   \n",
       "анонсы/стартапы          en          1.144578          0.0    288.0   \n",
       "                         ru         20.939394          0.0    416.0   \n",
       "выход на работу          en          0.376471          0.0     89.0   \n",
       "                         ru          0.142857          1.0    109.5   \n",
       "новый навык              en          1.186667          0.0    159.0   \n",
       "                         ru          0.727273          0.0    140.0   \n",
       "поддержка/коллаборация   en         12.395833          0.0    443.5   \n",
       "                         ru          1.381890          0.0    663.0   \n",
       "поиск работы             en          2.898876          1.0    170.0   \n",
       "                         ru          2.121212          0.0    208.0   \n",
       "поиск сотрудников        en          0.411765          0.0     71.0   \n",
       "                         ru          1.507692          0.0    675.0   \n",
       "предложения бизнес-услуг ru          0.111111          0.0    148.5   \n",
       "развитие/тренды          en         12.031944          0.0    677.0   \n",
       "                         ru          6.238095          0.0    987.0   \n",
       "сайты/статьи/чаты        en          9.659341          0.0    311.0   \n",
       "                         ru          1.928571          0.0    537.0   \n",
       "события                  en          1.631148          0.0    176.5   \n",
       "                         ru          0.590164          0.0    520.0   \n",
       "\n",
       "                                                                     max  \\\n",
       "                                  reactions_cnt reposts_cnt comments_cnt   \n",
       "topic_text               language                                          \n",
       "AI/ML                    en                 5.0         0.0        635.0   \n",
       "анонсы/стартапы          en                 6.0         0.0        764.0   \n",
       "                         ru                 3.0         0.0        143.0   \n",
       "выход на работу          en                 8.0         0.0        705.0   \n",
       "                         ru                10.5         0.0        427.0   \n",
       "новый навык              en                 9.0         0.0         58.0   \n",
       "                         ru                 1.0         0.0         12.0   \n",
       "поддержка/коллаборация   en                 6.0         0.0        521.0   \n",
       "                         ru                 6.0         0.0        170.0   \n",
       "поиск работы             en                 8.0         1.0         10.0   \n",
       "                         ru                 5.0         1.0          7.0   \n",
       "поиск сотрудников        en                 2.0         0.0          2.0   \n",
       "                         ru                 6.0         0.0         57.0   \n",
       "предложения бизнес-услуг ru                 1.5         0.0          4.0   \n",
       "развитие/тренды          en                 6.0         0.0        967.0   \n",
       "                         ru                 6.0         0.0        449.0   \n",
       "сайты/статьи/чаты        en                 4.0         0.0        502.0   \n",
       "                         ru                 9.5         0.0          7.0   \n",
       "события                  en                 6.0         0.0         87.0   \n",
       "                         ru                 3.0         0.0         29.0   \n",
       "\n",
       "                                                                      \n",
       "                                  post_len reactions_cnt reposts_cnt  \n",
       "topic_text               language                                     \n",
       "AI/ML                    en           1729         626.0       637.0  \n",
       "анонсы/стартапы          en           1231         905.0        27.0  \n",
       "                         ru           2600         592.0       279.0  \n",
       "выход на работу          en           1088         250.0         7.0  \n",
       "                         ru           1108         134.0         9.0  \n",
       "новый навык              en            685         861.0        32.0  \n",
       "                         ru            310         639.0        21.0  \n",
       "поддержка/коллаборация   en           2958         894.0       702.0  \n",
       "                         ru           2994         640.0       110.0  \n",
       "поиск работы             en            970         121.0        20.0  \n",
       "                         ru            692         171.0        24.0  \n",
       "поиск сотрудников        en           2948          26.0         5.0  \n",
       "                         ru           2613         400.0        41.0  \n",
       "предложения бизнес-услуг ru            739          44.0         2.0  \n",
       "развитие/тренды          en           2983         995.0       979.0  \n",
       "                         ru           2987         921.0       562.0  \n",
       "сайты/статьи/чаты        en           1931         669.0       410.0  \n",
       "                         ru           1490         293.0        46.0  \n",
       "события                  en           1513          61.0       121.0  \n",
       "                         ru           1693         150.0         9.0  "
      ]
     },
     "execution_count": 57,
     "metadata": {},
     "output_type": "execute_result"
    }
   ],
   "source": [
    "pd.pivot_table(df_top10, index=['topic_text', 'language'], values=['reactions_cnt', 'comments_cnt', 'reposts_cnt', 'post_len'], aggfunc=['mean', 'median', 'max'])"
   ]
  },
  {
   "cell_type": "markdown",
   "id": "e55feb55-a279-4e8c-a508-942392f760ca",
   "metadata": {},
   "source": [
    "**Выводы**: \n",
    "- в глаза бросается, что медианные значения количества реакций сильно отличаются от средних, значит есть редкие посты с аномально большим количеством реакций (что и показывает раздел с максимальными количествами). \n",
    "- Медианные значения репостов и комментариев практически везде нулевые - это не самые популярные действия у нашей аудитории. Больший акцент на реакциях.\n",
    "- Максимум реакций у русскоязычных постов о выходе на работу (медиана 10.5), минимум у русскоязычных постов о новом навыке (медиана 1.0). Эта же тема на английском языке приветствуется очень активно (медиана  9.0).\n",
    "- Самые длинные посты в теме \"развитие/тренды\" на русском языке (медиана 987), самые короткие - \"поиск сотрудников\" на английском (медиана 71)"
   ]
  },
  {
   "cell_type": "markdown",
   "id": "9c1b109b-a5eb-4919-8a70-1dbe27ac5da1",
   "metadata": {},
   "source": [
    "Выведем ту же информацию, но без раскладки по темам"
   ]
  },
  {
   "cell_type": "code",
   "execution_count": 58,
   "id": "1184c1f7-9874-414c-8fca-aa788bb1cb13",
   "metadata": {
    "tags": []
   },
   "outputs": [
    {
     "data": {
      "text/html": [
       "<div>\n",
       "<style scoped>\n",
       "    .dataframe tbody tr th:only-of-type {\n",
       "        vertical-align: middle;\n",
       "    }\n",
       "\n",
       "    .dataframe tbody tr th {\n",
       "        vertical-align: top;\n",
       "    }\n",
       "\n",
       "    .dataframe thead tr th {\n",
       "        text-align: left;\n",
       "    }\n",
       "\n",
       "    .dataframe thead tr:last-of-type th {\n",
       "        text-align: right;\n",
       "    }\n",
       "</style>\n",
       "<table border=\"1\" class=\"dataframe\">\n",
       "  <thead>\n",
       "    <tr>\n",
       "      <th></th>\n",
       "      <th colspan=\"4\" halign=\"left\">mean</th>\n",
       "      <th colspan=\"4\" halign=\"left\">median</th>\n",
       "      <th colspan=\"4\" halign=\"left\">max</th>\n",
       "    </tr>\n",
       "    <tr>\n",
       "      <th></th>\n",
       "      <th>comments_cnt</th>\n",
       "      <th>post_len</th>\n",
       "      <th>reactions_cnt</th>\n",
       "      <th>reposts_cnt</th>\n",
       "      <th>comments_cnt</th>\n",
       "      <th>post_len</th>\n",
       "      <th>reactions_cnt</th>\n",
       "      <th>reposts_cnt</th>\n",
       "      <th>comments_cnt</th>\n",
       "      <th>post_len</th>\n",
       "      <th>reactions_cnt</th>\n",
       "      <th>reposts_cnt</th>\n",
       "    </tr>\n",
       "    <tr>\n",
       "      <th>language</th>\n",
       "      <th></th>\n",
       "      <th></th>\n",
       "      <th></th>\n",
       "      <th></th>\n",
       "      <th></th>\n",
       "      <th></th>\n",
       "      <th></th>\n",
       "      <th></th>\n",
       "      <th></th>\n",
       "      <th></th>\n",
       "      <th></th>\n",
       "      <th></th>\n",
       "    </tr>\n",
       "  </thead>\n",
       "  <tbody>\n",
       "    <tr>\n",
       "      <th>en</th>\n",
       "      <td>10.878493</td>\n",
       "      <td>725.153807</td>\n",
       "      <td>20.889552</td>\n",
       "      <td>10.797488</td>\n",
       "      <td>0.0</td>\n",
       "      <td>532</td>\n",
       "      <td>6.0</td>\n",
       "      <td>0.0</td>\n",
       "      <td>967.0</td>\n",
       "      <td>2983</td>\n",
       "      <td>995.0</td>\n",
       "      <td>979.0</td>\n",
       "    </tr>\n",
       "    <tr>\n",
       "      <th>ru</th>\n",
       "      <td>4.814679</td>\n",
       "      <td>903.277064</td>\n",
       "      <td>22.641376</td>\n",
       "      <td>3.880122</td>\n",
       "      <td>0.0</td>\n",
       "      <td>684</td>\n",
       "      <td>5.0</td>\n",
       "      <td>0.0</td>\n",
       "      <td>449.0</td>\n",
       "      <td>2994</td>\n",
       "      <td>921.0</td>\n",
       "      <td>562.0</td>\n",
       "    </tr>\n",
       "  </tbody>\n",
       "</table>\n",
       "</div>"
      ],
      "text/plain": [
       "                 mean                                             median  \\\n",
       "         comments_cnt    post_len reactions_cnt reposts_cnt comments_cnt   \n",
       "language                                                                   \n",
       "en          10.878493  725.153807     20.889552   10.797488          0.0   \n",
       "ru           4.814679  903.277064     22.641376    3.880122          0.0   \n",
       "\n",
       "                                                     max           \\\n",
       "         post_len reactions_cnt reposts_cnt comments_cnt post_len   \n",
       "language                                                            \n",
       "en            532           6.0         0.0        967.0     2983   \n",
       "ru            684           5.0         0.0        449.0     2994   \n",
       "\n",
       "                                    \n",
       "         reactions_cnt reposts_cnt  \n",
       "language                            \n",
       "en               995.0       979.0  \n",
       "ru               921.0       562.0  "
      ]
     },
     "execution_count": 58,
     "metadata": {},
     "output_type": "execute_result"
    }
   ],
   "source": [
    "pd.pivot_table(df_top10, index=['language'], values=['reactions_cnt', 'comments_cnt', 'reposts_cnt', 'post_len'], aggfunc=['mean', 'median', 'max'])"
   ]
  },
  {
   "cell_type": "markdown",
   "id": "087b09aa-1761-4bd8-9a01-b41464b0c98a",
   "metadata": {},
   "source": [
    "**Выводы**:\n",
    "- в постах топ-10 тем на английском и русском языках примерный паритет по действиям пользователей.\n",
    "- англоязычные посты чуть короче и чуть чаще отмечаются реакциями. Комментировать и репостить особо не желают пользователи обоих языков"
   ]
  },
  {
   "cell_type": "markdown",
   "id": "54d05659-392d-4da9-8cb0-8b511a94d2e1",
   "metadata": {},
   "source": [
    "Посчитаем количество текстов по темам и языкам"
   ]
  },
  {
   "cell_type": "code",
   "execution_count": 59,
   "id": "cdb0ac33-7d10-466a-9411-231703732321",
   "metadata": {
    "tags": []
   },
   "outputs": [
    {
     "data": {
      "text/html": [
       "<div>\n",
       "<style scoped>\n",
       "    .dataframe tbody tr th:only-of-type {\n",
       "        vertical-align: middle;\n",
       "    }\n",
       "\n",
       "    .dataframe tbody tr th {\n",
       "        vertical-align: top;\n",
       "    }\n",
       "\n",
       "    .dataframe thead tr th {\n",
       "        text-align: left;\n",
       "    }\n",
       "</style>\n",
       "<table border=\"1\" class=\"dataframe\">\n",
       "  <thead>\n",
       "    <tr>\n",
       "      <th></th>\n",
       "      <th>topic_text</th>\n",
       "      <th>AI/ML</th>\n",
       "      <th colspan=\"2\" halign=\"left\">анонсы/стартапы</th>\n",
       "      <th colspan=\"2\" halign=\"left\">выход на работу</th>\n",
       "      <th colspan=\"2\" halign=\"left\">новый навык</th>\n",
       "      <th colspan=\"2\" halign=\"left\">поддержка/коллаборация</th>\n",
       "      <th colspan=\"2\" halign=\"left\">поиск работы</th>\n",
       "      <th colspan=\"2\" halign=\"left\">поиск сотрудников</th>\n",
       "      <th>предложения бизнес-услуг</th>\n",
       "      <th colspan=\"2\" halign=\"left\">развитие/тренды</th>\n",
       "      <th colspan=\"2\" halign=\"left\">сайты/статьи/чаты</th>\n",
       "      <th colspan=\"2\" halign=\"left\">события</th>\n",
       "    </tr>\n",
       "    <tr>\n",
       "      <th></th>\n",
       "      <th>language</th>\n",
       "      <th>en</th>\n",
       "      <th>en</th>\n",
       "      <th>ru</th>\n",
       "      <th>en</th>\n",
       "      <th>ru</th>\n",
       "      <th>en</th>\n",
       "      <th>ru</th>\n",
       "      <th>en</th>\n",
       "      <th>ru</th>\n",
       "      <th>en</th>\n",
       "      <th>ru</th>\n",
       "      <th>en</th>\n",
       "      <th>ru</th>\n",
       "      <th>ru</th>\n",
       "      <th>en</th>\n",
       "      <th>ru</th>\n",
       "      <th>en</th>\n",
       "      <th>ru</th>\n",
       "      <th>en</th>\n",
       "      <th>ru</th>\n",
       "    </tr>\n",
       "  </thead>\n",
       "  <tbody>\n",
       "    <tr>\n",
       "      <th>count</th>\n",
       "      <th>topic</th>\n",
       "      <td>72</td>\n",
       "      <td>83</td>\n",
       "      <td>33</td>\n",
       "      <td>85</td>\n",
       "      <td>70</td>\n",
       "      <td>75</td>\n",
       "      <td>33</td>\n",
       "      <td>336</td>\n",
       "      <td>508</td>\n",
       "      <td>89</td>\n",
       "      <td>66</td>\n",
       "      <td>68</td>\n",
       "      <td>65</td>\n",
       "      <td>36</td>\n",
       "      <td>2880</td>\n",
       "      <td>735</td>\n",
       "      <td>91</td>\n",
       "      <td>28</td>\n",
       "      <td>122</td>\n",
       "      <td>61</td>\n",
       "    </tr>\n",
       "  </tbody>\n",
       "</table>\n",
       "</div>"
      ],
      "text/plain": [
       "topic_text  AI/ML анонсы/стартапы     выход на работу     новый навык      \\\n",
       "language       en              en  ru              en  ru          en  ru   \n",
       "count topic    72              83  33              85  70          75  33   \n",
       "\n",
       "topic_text  поддержка/коллаборация      поиск работы     поиск сотрудников  \\\n",
       "language                        en   ru           en  ru                en   \n",
       "count topic                    336  508           89  66                68   \n",
       "\n",
       "topic_text      предложения бизнес-услуг развитие/тренды       \\\n",
       "language     ru                       ru              en   ru   \n",
       "count topic  65                       36            2880  735   \n",
       "\n",
       "topic_text  сайты/статьи/чаты     события      \n",
       "language                   en  ru      en  ru  \n",
       "count topic                91  28     122  61  "
      ]
     },
     "execution_count": 59,
     "metadata": {},
     "output_type": "execute_result"
    }
   ],
   "source": [
    "pd.pivot_table(df_top10, index=['topic_text', 'language'], values='topic', aggfunc=['count']).transpose()"
   ]
  },
  {
   "cell_type": "markdown",
   "id": "7901a361-10be-4ccf-b17f-8759ab7eeea0",
   "metadata": {},
   "source": [
    "Для большей наглядности представим в виде графика"
   ]
  },
  {
   "cell_type": "code",
   "execution_count": 60,
   "id": "2a103753-f253-4c8e-81b0-33c951dad75b",
   "metadata": {
    "tags": []
   },
   "outputs": [
    {
     "data": {
      "image/png": "[encoded data removed]",
      "text/plain": [
       "<Figure size 1200x600 with 1 Axes>"
      ]
     },
     "metadata": {},
     "output_type": "display_data"
    }
   ],
   "source": [
    "plt.figure(figsize=(12, 6))\n",
    "sns.countplot(df_top10, x=df_top10['topic_text'], hue='language').set_title('Популярные темы по языкам')\n",
    "plt.xticks(rotation=90)\n",
    "plt.show()"
   ]
  },
  {
   "cell_type": "markdown",
   "id": "013a6bd2-cae5-43a2-b6a4-98fe1531bbfd",
   "metadata": {},
   "source": [
    "**Выводы**:\n",
    "- англоязычных постов сильно больше - везде кроме темы \"поддержка/коллаборация\" количество русскоязычных постов меньше. На русском языке сильно чаще пишут на эту тему.\n",
    "- сильнее выражено \"лидерство\" темы \"развитие/тренды\" у \"англичан\"\n",
    "- уникальная русскоязычная тема \"предложения бизнес-услуг\"\n",
    "- уникальная англоязычная тема \"AI/ML\""
   ]
  },
  {
   "cell_type": "markdown",
   "id": "8c8397ee-90f3-45dc-83f7-bab933b8fe8d",
   "metadata": {
    "tags": []
   },
   "source": [
    "## Самые популярные посты по темам"
   ]
  },
  {
   "cell_type": "markdown",
   "id": "d87f3bfe-3d0c-4a0d-ba34-16944dcf1633",
   "metadata": {},
   "source": [
    "Поищем посты, лидирующие по количеству репостов, комментариев и реакций в разрезе тем и языков. Для этого построим сводную таблицу с применением функции `idxmax`, а затем \"вытащим\" соответствующий индексу пост"
   ]
  },
  {
   "cell_type": "code",
   "execution_count": 121,
   "id": "e7c44054-b090-415f-89a4-e5030b2ef4d2",
   "metadata": {
    "tags": []
   },
   "outputs": [
    {
     "data": {
      "text/html": [
       "<div>\n",
       "<style scoped>\n",
       "    .dataframe tbody tr th:only-of-type {\n",
       "        vertical-align: middle;\n",
       "    }\n",
       "\n",
       "    .dataframe tbody tr th {\n",
       "        vertical-align: top;\n",
       "    }\n",
       "\n",
       "    .dataframe thead th {\n",
       "        text-align: right;\n",
       "    }\n",
       "</style>\n",
       "<table border=\"1\" class=\"dataframe\">\n",
       "  <thead>\n",
       "    <tr style=\"text-align: right;\">\n",
       "      <th></th>\n",
       "      <th></th>\n",
       "      <th>comments_cnt</th>\n",
       "      <th>reactions_cnt</th>\n",
       "      <th>reposts_cnt</th>\n",
       "    </tr>\n",
       "    <tr>\n",
       "      <th>topic_text</th>\n",
       "      <th>language</th>\n",
       "      <th></th>\n",
       "      <th></th>\n",
       "      <th></th>\n",
       "    </tr>\n",
       "  </thead>\n",
       "  <tbody>\n",
       "    <tr>\n",
       "      <th>AI/ML</th>\n",
       "      <th>en</th>\n",
       "      <td>Even Walt Disney will tell you that designing ...</td>\n",
       "      <td>Photoshop will be forever changed after this. ...</td>\n",
       "      <td>Game-changer: Google's revolutionary healthcar...</td>\n",
       "    </tr>\n",
       "    <tr>\n",
       "      <th rowspan=\"2\" valign=\"top\">анонсы/стартапы</th>\n",
       "      <th>en</th>\n",
       "      <td>10 visuals that will make your life and mindse...</td>\n",
       "      <td>Indian young unbeatable chess titan Gukesh Dom...</td>\n",
       "      <td>Hello my dear friends, former and future colle...</td>\n",
       "    </tr>\n",
       "    <tr>\n",
       "      <th>ru</th>\n",
       "      <td>Очень прошу репост!!!Дано: тестировщица с редк...</td>\n",
       "      <td>Очень прошу репост!!!Дано: тестировщица с редк...</td>\n",
       "      <td>Я раз 10 пересмотрел🤣Обычный созвон в IT-компа...</td>\n",
       "    </tr>\n",
       "    <tr>\n",
       "      <th rowspan=\"2\" valign=\"top\">выход на работу</th>\n",
       "      <th>en</th>\n",
       "      <td>Happy #NationalBestFriendsDay! We’re celebrati...</td>\n",
       "      <td>I’m happy to share that I’m starting a new pos...</td>\n",
       "      <td>What is React Native capable of? Vol 2.0://</td>\n",
       "    </tr>\n",
       "    <tr>\n",
       "      <th>ru</th>\n",
       "      <td>Привет линкедин, я к вам за помощью. 🙏 Мы были...</td>\n",
       "      <td>Сегодня знаменательный для меня день. Я начина...</td>\n",
       "      <td>Привет линкедин, я к вам за помощью. 🙏 Мы были...</td>\n",
       "    </tr>\n",
       "    <tr>\n",
       "      <th rowspan=\"2\" valign=\"top\">новый навык</th>\n",
       "      <th>en</th>\n",
       "      <td>BBC interviewer: \"Thank you Mr. President, tha...</td>\n",
       "      <td>BBC interviewer: \"Thank you Mr. President, tha...</td>\n",
       "      <td>BBC interviewer: \"Thank you Mr. President, tha...</td>\n",
       "    </tr>\n",
       "    <tr>\n",
       "      <th>ru</th>\n",
       "      <td>Еще один кот тестировщика)</td>\n",
       "      <td>Еще один кот тестировщика)</td>\n",
       "      <td>Еще один кот тестировщика)</td>\n",
       "    </tr>\n",
       "    <tr>\n",
       "      <th rowspan=\"2\" valign=\"top\">поддержка/коллаборация</th>\n",
       "      <th>en</th>\n",
       "      <td>Cyber Security Lifetime Membership Pass - http...</td>\n",
       "      <td>Free Courses + Certificates from GitLabGitLab ...</td>\n",
       "      <td>This is how 22 different #inventions are savin...</td>\n",
       "    </tr>\n",
       "    <tr>\n",
       "      <th>ru</th>\n",
       "      <td>Стоит ли продолжать общение с компанией котора...</td>\n",
       "      <td>🔥 Если вы в поисках удаленной работы или допол...</td>\n",
       "      <td>🔥 Если вы в поисках удаленной работы или допол...</td>\n",
       "    </tr>\n",
       "    <tr>\n",
       "      <th rowspan=\"2\" valign=\"top\">поиск работы</th>\n",
       "      <th>en</th>\n",
       "      <td>Hi everyone - I am looking for a new role and ...</td>\n",
       "      <td>Hi everyone - I am looking for a new role and ...</td>\n",
       "      <td>Hi everyone - I am looking for a new role and ...</td>\n",
       "    </tr>\n",
       "    <tr>\n",
       "      <th>ru</th>\n",
       "      <td>Здравствуйте, я в поиске новой карьерной возмо...</td>\n",
       "      <td>Привет LinkedIn! Я в поиске новой карьерной во...</td>\n",
       "      <td>Привет LinkedIn! Я в поиске новой карьерной во...</td>\n",
       "    </tr>\n",
       "    <tr>\n",
       "      <th rowspan=\"2\" valign=\"top\">поиск сотрудников</th>\n",
       "      <th>en</th>\n",
       "      <td>I’m #hiring. Know anyone who might be interested?</td>\n",
       "      <td>I'm #hiring professionals. Do you know people ...</td>\n",
       "      <td>I’m #hiring #Scala #developer Mid/Senior level...</td>\n",
       "    </tr>\n",
       "    <tr>\n",
       "      <th>ru</th>\n",
       "      <td>В поисках QA тестировщика в интернет-магазин. ...</td>\n",
       "      <td>В поисках QA тестировщика в интернет-магазин. ...</td>\n",
       "      <td>В поисках QA тестировщика в интернет-магазин. ...</td>\n",
       "    </tr>\n",
       "    <tr>\n",
       "      <th>предложения бизнес-услуг</th>\n",
       "      <th>ru</th>\n",
       "      <td>Штош, надоело мне в IT. Уволюсь и открою пивну...</td>\n",
       "      <td>Правила типографики для дизайнеров#typography ...</td>\n",
       "      <td>Правила типографики для дизайнеров#typography ...</td>\n",
       "    </tr>\n",
       "    <tr>\n",
       "      <th rowspan=\"2\" valign=\"top\">развитие/тренды</th>\n",
       "      <th>en</th>\n",
       "      <td>One thing ChatGPT can’t do is visualise data, ...</td>\n",
       "      <td>React JS  🌟🌟🌟One of the famous and widely use ...</td>\n",
       "      <td>With so many layoffs and hiring freezes happen...</td>\n",
       "    </tr>\n",
       "    <tr>\n",
       "      <th>ru</th>\n",
       "      <td>Коллеги, прошу репост.Одной из целей 2020 (все...</td>\n",
       "      <td>С трепетом готов представить свой продукт. Реф...</td>\n",
       "      <td>Продолжаем апгрейдить нашумевший ⭐️ Гайд для Д...</td>\n",
       "    </tr>\n",
       "    <tr>\n",
       "      <th rowspan=\"2\" valign=\"top\">сайты/статьи/чаты</th>\n",
       "      <th>en</th>\n",
       "      <td>Check out these 16 Figma plugins saving time f...</td>\n",
       "      <td>Finally finished! IoT gate for special sensors...</td>\n",
       "      <td>You need this plugin before starting any desig...</td>\n",
       "    </tr>\n",
       "    <tr>\n",
       "      <th>ru</th>\n",
       "      <td>👀 Последний проект нашей студии получил наград...</td>\n",
       "      <td>⚠️⚠️⚠️ 52 дизайн системы для вашей работы!Прод...</td>\n",
       "      <td>⚠️⚠️⚠️ 52 дизайн системы для вашей работы!Прод...</td>\n",
       "    </tr>\n",
       "    <tr>\n",
       "      <th rowspan=\"2\" valign=\"top\">события</th>\n",
       "      <th>en</th>\n",
       "      <td>Happy Birthday, Mr. President. A leader, a Ukr...</td>\n",
       "      <td>How are European tech companies defying the he...</td>\n",
       "      <td>Happy Birthday, Mr. President. A leader, a Ukr...</td>\n",
       "    </tr>\n",
       "    <tr>\n",
       "      <th>ru</th>\n",
       "      <td>Аналитика, которую мы заслужили 😁 Лайфхак для ...</td>\n",
       "      <td>Аналитика, которую мы заслужили 😁 Лайфхак для ...</td>\n",
       "      <td>Аналитика, которую мы заслужили 😁 Лайфхак для ...</td>\n",
       "    </tr>\n",
       "  </tbody>\n",
       "</table>\n",
       "</div>"
      ],
      "text/plain": [
       "                                                                        comments_cnt  \\\n",
       "topic_text               language                                                      \n",
       "AI/ML                    en        Even Walt Disney will tell you that designing ...   \n",
       "анонсы/стартапы          en        10 visuals that will make your life and mindse...   \n",
       "                         ru        Очень прошу репост!!!Дано: тестировщица с редк...   \n",
       "выход на работу          en        Happy #NationalBestFriendsDay! We’re celebrati...   \n",
       "                         ru        Привет линкедин, я к вам за помощью. 🙏 Мы были...   \n",
       "новый навык              en        BBC interviewer: \"Thank you Mr. President, tha...   \n",
       "                         ru                               Еще один кот тестировщика)   \n",
       "поддержка/коллаборация   en        Cyber Security Lifetime Membership Pass - http...   \n",
       "                         ru        Стоит ли продолжать общение с компанией котора...   \n",
       "поиск работы             en        Hi everyone - I am looking for a new role and ...   \n",
       "                         ru        Здравствуйте, я в поиске новой карьерной возмо...   \n",
       "поиск сотрудников        en        I’m #hiring. Know anyone who might be interested?   \n",
       "                         ru        В поисках QA тестировщика в интернет-магазин. ...   \n",
       "предложения бизнес-услуг ru        Штош, надоело мне в IT. Уволюсь и открою пивну...   \n",
       "развитие/тренды          en        One thing ChatGPT can’t do is visualise data, ...   \n",
       "                         ru        Коллеги, прошу репост.Одной из целей 2020 (все...   \n",
       "сайты/статьи/чаты        en        Check out these 16 Figma plugins saving time f...   \n",
       "                         ru        👀 Последний проект нашей студии получил наград...   \n",
       "события                  en        Happy Birthday, Mr. President. A leader, a Ukr...   \n",
       "                         ru        Аналитика, которую мы заслужили 😁 Лайфхак для ...   \n",
       "\n",
       "                                                                       reactions_cnt  \\\n",
       "topic_text               language                                                      \n",
       "AI/ML                    en        Photoshop will be forever changed after this. ...   \n",
       "анонсы/стартапы          en        Indian young unbeatable chess titan Gukesh Dom...   \n",
       "                         ru        Очень прошу репост!!!Дано: тестировщица с редк...   \n",
       "выход на работу          en        I’m happy to share that I’m starting a new pos...   \n",
       "                         ru        Сегодня знаменательный для меня день. Я начина...   \n",
       "новый навык              en        BBC interviewer: \"Thank you Mr. President, tha...   \n",
       "                         ru                               Еще один кот тестировщика)   \n",
       "поддержка/коллаборация   en        Free Courses + Certificates from GitLabGitLab ...   \n",
       "                         ru        🔥 Если вы в поисках удаленной работы или допол...   \n",
       "поиск работы             en        Hi everyone - I am looking for a new role and ...   \n",
       "                         ru        Привет LinkedIn! Я в поиске новой карьерной во...   \n",
       "поиск сотрудников        en        I'm #hiring professionals. Do you know people ...   \n",
       "                         ru        В поисках QA тестировщика в интернет-магазин. ...   \n",
       "предложения бизнес-услуг ru        Правила типографики для дизайнеров#typography ...   \n",
       "развитие/тренды          en        React JS  🌟🌟🌟One of the famous and widely use ...   \n",
       "                         ru        С трепетом готов представить свой продукт. Реф...   \n",
       "сайты/статьи/чаты        en        Finally finished! IoT gate for special sensors...   \n",
       "                         ru        ⚠️⚠️⚠️ 52 дизайн системы для вашей работы!Прод...   \n",
       "события                  en        How are European tech companies defying the he...   \n",
       "                         ru        Аналитика, которую мы заслужили 😁 Лайфхак для ...   \n",
       "\n",
       "                                                                         reposts_cnt  \n",
       "topic_text               language                                                     \n",
       "AI/ML                    en        Game-changer: Google's revolutionary healthcar...  \n",
       "анонсы/стартапы          en        Hello my dear friends, former and future colle...  \n",
       "                         ru        Я раз 10 пересмотрел🤣Обычный созвон в IT-компа...  \n",
       "выход на работу          en              What is React Native capable of? Vol 2.0://  \n",
       "                         ru        Привет линкедин, я к вам за помощью. 🙏 Мы были...  \n",
       "новый навык              en        BBC interviewer: \"Thank you Mr. President, tha...  \n",
       "                         ru                               Еще один кот тестировщика)  \n",
       "поддержка/коллаборация   en        This is how 22 different #inventions are savin...  \n",
       "                         ru        🔥 Если вы в поисках удаленной работы или допол...  \n",
       "поиск работы             en        Hi everyone - I am looking for a new role and ...  \n",
       "                         ru        Привет LinkedIn! Я в поиске новой карьерной во...  \n",
       "поиск сотрудников        en        I’m #hiring #Scala #developer Mid/Senior level...  \n",
       "                         ru        В поисках QA тестировщика в интернет-магазин. ...  \n",
       "предложения бизнес-услуг ru        Правила типографики для дизайнеров#typography ...  \n",
       "развитие/тренды          en        With so many layoffs and hiring freezes happen...  \n",
       "                         ru        Продолжаем апгрейдить нашумевший ⭐️ Гайд для Д...  \n",
       "сайты/статьи/чаты        en        You need this plugin before starting any desig...  \n",
       "                         ru        ⚠️⚠️⚠️ 52 дизайн системы для вашей работы!Прод...  \n",
       "события                  en        Happy Birthday, Mr. President. A leader, a Ukr...  \n",
       "                         ru        Аналитика, которую мы заслужили 😁 Лайфхак для ...  "
      ]
     },
     "execution_count": 121,
     "metadata": {},
     "output_type": "execute_result"
    }
   ],
   "source": [
    "def get_post(idx):\n",
    "    return df_top10.loc[idx]['post']\n",
    "\n",
    "popular_posts = pd.pivot_table(df_top10, index=['topic_text', 'language'], values=['reactions_cnt', 'comments_cnt', 'reposts_cnt'], aggfunc='idxmax')\n",
    "popular_posts['comments_cnt'] = popular_posts['comments_cnt'].apply(get_post)\n",
    "popular_posts['reactions_cnt'] = popular_posts['reactions_cnt'].apply(get_post)\n",
    "popular_posts['reposts_cnt'] = popular_posts['reposts_cnt'].apply(get_post)\n",
    "\n",
    "popular_posts"
   ]
  },
  {
   "cell_type": "markdown",
   "id": "ff40737b-124e-4eac-ad09-5e5f9a56100d",
   "metadata": {},
   "source": [
    "Отличная вышла таблица для анализа it-рекрутером)) а мы пока сформируем суммарные реакции (комментарии + реакции + репосты), чтобы оценить охват/вовлеченность аудитории по языкам/темам"
   ]
  },
  {
   "cell_type": "code",
   "execution_count": 122,
   "id": "234dd505-38cf-430e-9ca7-9ff8ecca0e5b",
   "metadata": {
    "tags": []
   },
   "outputs": [
    {
     "data": {
      "text/html": [
       "<div>\n",
       "<style scoped>\n",
       "    .dataframe tbody tr th:only-of-type {\n",
       "        vertical-align: middle;\n",
       "    }\n",
       "\n",
       "    .dataframe tbody tr th {\n",
       "        vertical-align: top;\n",
       "    }\n",
       "\n",
       "    .dataframe thead tr th {\n",
       "        text-align: left;\n",
       "    }\n",
       "</style>\n",
       "<table border=\"1\" class=\"dataframe\">\n",
       "  <thead>\n",
       "    <tr>\n",
       "      <th></th>\n",
       "      <th>topic_text</th>\n",
       "      <th>AI/ML</th>\n",
       "      <th colspan=\"2\" halign=\"left\">анонсы/стартапы</th>\n",
       "      <th colspan=\"2\" halign=\"left\">выход на работу</th>\n",
       "      <th colspan=\"2\" halign=\"left\">новый навык</th>\n",
       "      <th colspan=\"2\" halign=\"left\">поддержка/коллаборация</th>\n",
       "      <th colspan=\"2\" halign=\"left\">поиск работы</th>\n",
       "      <th colspan=\"2\" halign=\"left\">поиск сотрудников</th>\n",
       "      <th>предложения бизнес-услуг</th>\n",
       "      <th colspan=\"2\" halign=\"left\">развитие/тренды</th>\n",
       "      <th colspan=\"2\" halign=\"left\">сайты/статьи/чаты</th>\n",
       "      <th colspan=\"2\" halign=\"left\">события</th>\n",
       "    </tr>\n",
       "    <tr>\n",
       "      <th></th>\n",
       "      <th>language</th>\n",
       "      <th>en</th>\n",
       "      <th>en</th>\n",
       "      <th>ru</th>\n",
       "      <th>en</th>\n",
       "      <th>ru</th>\n",
       "      <th>en</th>\n",
       "      <th>ru</th>\n",
       "      <th>en</th>\n",
       "      <th>ru</th>\n",
       "      <th>en</th>\n",
       "      <th>ru</th>\n",
       "      <th>en</th>\n",
       "      <th>ru</th>\n",
       "      <th>ru</th>\n",
       "      <th>en</th>\n",
       "      <th>ru</th>\n",
       "      <th>en</th>\n",
       "      <th>ru</th>\n",
       "      <th>en</th>\n",
       "      <th>ru</th>\n",
       "    </tr>\n",
       "  </thead>\n",
       "  <tbody>\n",
       "    <tr>\n",
       "      <th>mean</th>\n",
       "      <th>sum_reactions</th>\n",
       "      <td>72.992069</td>\n",
       "      <td>36.58747</td>\n",
       "      <td>87.933061</td>\n",
       "      <td>33.003965</td>\n",
       "      <td>33.347971</td>\n",
       "      <td>27.986667</td>\n",
       "      <td>21.878788</td>\n",
       "      <td>45.898664</td>\n",
       "      <td>25.21063</td>\n",
       "      <td>24.651685</td>\n",
       "      <td>15.69697</td>\n",
       "      <td>3.882353</td>\n",
       "      <td>19.692308</td>\n",
       "      <td>4.138889</td>\n",
       "      <td>44.870509</td>\n",
       "      <td>38.89728</td>\n",
       "      <td>46.758407</td>\n",
       "      <td>23.428571</td>\n",
       "      <td>12.209713</td>\n",
       "      <td>12.442623</td>\n",
       "    </tr>\n",
       "    <tr>\n",
       "      <th>median</th>\n",
       "      <th>sum_reactions</th>\n",
       "      <td>6.000000</td>\n",
       "      <td>7.00000</td>\n",
       "      <td>7.000000</td>\n",
       "      <td>11.000000</td>\n",
       "      <td>12.500000</td>\n",
       "      <td>11.000000</td>\n",
       "      <td>1.000000</td>\n",
       "      <td>8.000000</td>\n",
       "      <td>7.50000</td>\n",
       "      <td>11.000000</td>\n",
       "      <td>6.00000</td>\n",
       "      <td>2.000000</td>\n",
       "      <td>6.000000</td>\n",
       "      <td>1.500000</td>\n",
       "      <td>7.000000</td>\n",
       "      <td>9.00000</td>\n",
       "      <td>7.000000</td>\n",
       "      <td>10.000000</td>\n",
       "      <td>6.000000</td>\n",
       "      <td>3.000000</td>\n",
       "    </tr>\n",
       "  </tbody>\n",
       "</table>\n",
       "</div>"
      ],
      "text/plain": [
       "topic_text                AI/ML анонсы/стартапы            выход на работу  \\\n",
       "language                     en              en         ru              en   \n",
       "mean   sum_reactions  72.992069        36.58747  87.933061       33.003965   \n",
       "median sum_reactions   6.000000         7.00000   7.000000       11.000000   \n",
       "\n",
       "topic_text                      новый навык            поддержка/коллаборация  \\\n",
       "language                     ru          en         ru                     en   \n",
       "mean   sum_reactions  33.347971   27.986667  21.878788              45.898664   \n",
       "median sum_reactions  12.500000   11.000000   1.000000               8.000000   \n",
       "\n",
       "topic_text                     поиск работы           поиск сотрудников  \\\n",
       "language                    ru           en        ru                en   \n",
       "mean   sum_reactions  25.21063    24.651685  15.69697          3.882353   \n",
       "median sum_reactions   7.50000    11.000000   6.00000          2.000000   \n",
       "\n",
       "topic_text                      предложения бизнес-услуг развитие/тренды  \\\n",
       "language                     ru                       ru              en   \n",
       "mean   sum_reactions  19.692308                 4.138889       44.870509   \n",
       "median sum_reactions   6.000000                 1.500000        7.000000   \n",
       "\n",
       "topic_text                     сайты/статьи/чаты               события  \\\n",
       "language                    ru                en         ru         en   \n",
       "mean   sum_reactions  38.89728         46.758407  23.428571  12.209713   \n",
       "median sum_reactions   9.00000          7.000000  10.000000   6.000000   \n",
       "\n",
       "topic_text                       \n",
       "language                     ru  \n",
       "mean   sum_reactions  12.442623  \n",
       "median sum_reactions   3.000000  "
      ]
     },
     "execution_count": 122,
     "metadata": {},
     "output_type": "execute_result"
    }
   ],
   "source": [
    "df_top10['sum_reactions'] = df_top10['comments_cnt'] + df_top10['reactions_cnt'] + df_top10['reposts_cnt']\n",
    "top_10_posts_sum = pd.pivot_table(df_top10, index=['topic_text', 'language'], values=['sum_reactions'], aggfunc=['mean', 'median']).transpose()\n",
    "top_10_posts_sum"
   ]
  },
  {
   "cell_type": "markdown",
   "id": "b6e5e079-2fe7-4952-bd3d-c6b146d134d3",
   "metadata": {},
   "source": [
    "**Выводы:**\n",
    "- большая медианная разница в реакциях на новый навык. Русскоязычным практически безразличен этот момент. Англоязычные посты имеют по этой теме огромное преимущество по реакциям (в 11 раз больше по медиане)\n",
    "- приличная медианная разница в реакциях на тему \"поиск сотрудников\" - русскоязычные реагируют в 3 раза чаще.\n",
    "- \"англичане\" в два раза чаще реагируют на события.\n",
    "- максимум реакций по теме \"выход на работу\" по обоим языкам (ан - 11, ру - 12.5). Соцсеть профессиональных контактов всё-таки.\n",
    "- предложения бизнес-услуг вызывают также минимум реакций (1,5)"
   ]
  },
  {
   "cell_type": "markdown",
   "id": "15d0685e-0ed4-4bf6-be5f-49c88653381d",
   "metadata": {},
   "source": [
    "## Определение ТОП-тем в менторстве"
   ]
  },
  {
   "cell_type": "markdown",
   "id": "2287b288-96db-4681-85ec-f468c58a844e",
   "metadata": {},
   "source": [
    "Выберем из всех имеющихся постов те, в которых есть хотя бы один тег из списка, предоставленного it-рекрутером. Для этого создадим \"технические\" столбцы с картой наличия тега в конкретном столбце и посмотрим, сколько постов попало в выборку."
   ]
  },
  {
   "cell_type": "code",
   "execution_count": 145,
   "id": "7bf5259b-27ae-47cb-9433-99f6713271ef",
   "metadata": {
    "tags": []
   },
   "outputs": [
    {
     "data": {
      "text/plain": [
       "mentoringIT        0\n",
       "softskills         8\n",
       "наставник          0\n",
       "наставничество     0\n",
       "ментор             6\n",
       "менторство         0\n",
       "mentor            18\n",
       "mentorship         6\n",
       "коуч               2\n",
       "коучинг            1\n",
       "coach              6\n",
       "coaching           5\n",
       "experience        89\n",
       "опыт               3\n",
       "бадди              0\n",
       "buddy              0\n",
       "dtype: int64"
      ]
     },
     "execution_count": 145,
     "metadata": {},
     "output_type": "execute_result"
    }
   ],
   "source": [
    "df_posts = pd.concat([df_posts_ru, df_posts_en])\n",
    "tag_list = ['mentoringIT', 'softskills', 'наставник', 'наставничество', 'ментор', 'менторство', 'mentor', 'mentorship', 'коуч', 'коучинг', 'coach', 'coaching', 'experience', 'опыт', 'бадди', 'buddy']\n",
    "\n",
    "for tag in tag_list:\n",
    "    df_posts[tag] = df_posts['post'].apply(lambda x: 1 if x.__contains__('#'+tag) == True else 0)\n",
    "    \n",
    "df_posts[tag_list].sum()"
   ]
  },
  {
   "cell_type": "markdown",
   "id": "1048d35e-e2b3-4993-8bd5-8e2ebac7622c",
   "metadata": {},
   "source": [
    "Более 100 постов имеется. Отберем посты, учитывая, что каждый из них может содержать более одного тега и проверим результат визуально, не забыв удалить \"технические\" столбцы."
   ]
  },
  {
   "cell_type": "code",
   "execution_count": 146,
   "id": "899b2b8d-87d0-41be-880c-d98cd1dddc1b",
   "metadata": {
    "tags": []
   },
   "outputs": [
    {
     "name": "stderr",
     "output_type": "stream",
     "text": [
      "C:\\Users\\Валерий Валов\\AppData\\Local\\Temp\\ipykernel_13860\\3609969588.py:7: FutureWarning: As the xlwt package is no longer maintained, the xlwt engine will be removed in a future version of pandas. This is the only engine in pandas that supports writing in the xls format. Install openpyxl and write to an xlsx file instead. You can set the option io.excel.xls.writer to 'xlwt' to silence this warning. While this option is deprecated and will also raise a warning, it can be globally set and the warning suppressed.\n",
      "  mentorship.to_excel('mentorship.xls')\n"
     ]
    },
    {
     "data": {
      "text/html": [
       "<div>\n",
       "<style scoped>\n",
       "    .dataframe tbody tr th:only-of-type {\n",
       "        vertical-align: middle;\n",
       "    }\n",
       "\n",
       "    .dataframe tbody tr th {\n",
       "        vertical-align: top;\n",
       "    }\n",
       "\n",
       "    .dataframe thead th {\n",
       "        text-align: right;\n",
       "    }\n",
       "</style>\n",
       "<table border=\"1\" class=\"dataframe\">\n",
       "  <thead>\n",
       "    <tr style=\"text-align: right;\">\n",
       "      <th></th>\n",
       "      <th>profile_url</th>\n",
       "      <th>post_url</th>\n",
       "      <th>post</th>\n",
       "      <th>reactions_cnt</th>\n",
       "      <th>comments_cnt</th>\n",
       "      <th>reposts_cnt</th>\n",
       "      <th>language</th>\n",
       "      <th>post_len</th>\n",
       "      <th>topic</th>\n",
       "      <th>sum_tag</th>\n",
       "    </tr>\n",
       "  </thead>\n",
       "  <tbody>\n",
       "    <tr>\n",
       "      <th>0</th>\n",
       "      <td>https://www.linkedin.com/in/mikhailsolovyev/re...</td>\n",
       "      <td>0</td>\n",
       "      <td>Прочитал на Хабр отличный материал о том, как ...</td>\n",
       "      <td>13</td>\n",
       "      <td>1.0</td>\n",
       "      <td>0.0</td>\n",
       "      <td>ru</td>\n",
       "      <td>408</td>\n",
       "      <td>56</td>\n",
       "      <td>1</td>\n",
       "    </tr>\n",
       "    <tr>\n",
       "      <th>1</th>\n",
       "      <td>https://www.linkedin.com/in/%D0%BF%D0%BE%D0%BB...</td>\n",
       "      <td>0</td>\n",
       "      <td>🔵 Самая большая подборка для прокачки soft ski...</td>\n",
       "      <td>1,569</td>\n",
       "      <td>85.0</td>\n",
       "      <td>361.0</td>\n",
       "      <td>ru</td>\n",
       "      <td>890</td>\n",
       "      <td>23</td>\n",
       "      <td>1</td>\n",
       "    </tr>\n",
       "    <tr>\n",
       "      <th>2</th>\n",
       "      <td>https://www.linkedin.com/in/ordalion/recent-ac...</td>\n",
       "      <td>0</td>\n",
       "      <td>Делал тестовое для Тинькофф. В кейсе расписал ...</td>\n",
       "      <td>30</td>\n",
       "      <td>0.0</td>\n",
       "      <td>0.0</td>\n",
       "      <td>ru</td>\n",
       "      <td>181</td>\n",
       "      <td>76</td>\n",
       "      <td>1</td>\n",
       "    </tr>\n",
       "    <tr>\n",
       "      <th>3</th>\n",
       "      <td>https://www.linkedin.com/in/enjirouz/recent-ac...</td>\n",
       "      <td>0</td>\n",
       "      <td>Как просить то, что хочешь и добиваться желаем...</td>\n",
       "      <td>4</td>\n",
       "      <td>0.0</td>\n",
       "      <td>0.0</td>\n",
       "      <td>ru</td>\n",
       "      <td>153</td>\n",
       "      <td>90</td>\n",
       "      <td>1</td>\n",
       "    </tr>\n",
       "    <tr>\n",
       "      <th>4</th>\n",
       "      <td>https://www.linkedin.com/in/anna-zaytseva-hrst...</td>\n",
       "      <td>0</td>\n",
       "      <td>Вы в поисках работы?#карьера Компании и сотруд...</td>\n",
       "      <td>31</td>\n",
       "      <td>0.0</td>\n",
       "      <td>0.0</td>\n",
       "      <td>ru</td>\n",
       "      <td>1146</td>\n",
       "      <td>39</td>\n",
       "      <td>1</td>\n",
       "    </tr>\n",
       "  </tbody>\n",
       "</table>\n",
       "</div>"
      ],
      "text/plain": [
       "                                         profile_url post_url  \\\n",
       "0  https://www.linkedin.com/in/mikhailsolovyev/re...        0   \n",
       "1  https://www.linkedin.com/in/%D0%BF%D0%BE%D0%BB...        0   \n",
       "2  https://www.linkedin.com/in/ordalion/recent-ac...        0   \n",
       "3  https://www.linkedin.com/in/enjirouz/recent-ac...        0   \n",
       "4  https://www.linkedin.com/in/anna-zaytseva-hrst...        0   \n",
       "\n",
       "                                                post reactions_cnt  \\\n",
       "0  Прочитал на Хабр отличный материал о том, как ...            13   \n",
       "1  🔵 Самая большая подборка для прокачки soft ski...         1,569   \n",
       "2  Делал тестовое для Тинькофф. В кейсе расписал ...            30   \n",
       "3  Как просить то, что хочешь и добиваться желаем...             4   \n",
       "4  Вы в поисках работы?#карьера Компании и сотруд...            31   \n",
       "\n",
       "   comments_cnt  reposts_cnt language  post_len  topic  sum_tag  \n",
       "0           1.0          0.0       ru       408     56        1  \n",
       "1          85.0        361.0       ru       890     23        1  \n",
       "2           0.0          0.0       ru       181     76        1  \n",
       "3           0.0          0.0       ru       153     90        1  \n",
       "4           0.0          0.0       ru      1146     39        1  "
      ]
     },
     "execution_count": 146,
     "metadata": {},
     "output_type": "execute_result"
    }
   ],
   "source": [
    "df_posts['sum_tag'] = 0\n",
    "\n",
    "for tag in tag_list:\n",
    "    df_posts['sum_tag'] += df_posts[tag]\n",
    "    \n",
    "mentorship = df_posts.query('sum_tag != 0') #.reset_index(drop=True)\n",
    "mentorship.to_excel('mentorship.xls')\n",
    "mentorship = mentorship.reset_index(drop=True)\n",
    "mentorship = mentorship.drop(tag_list, axis=1)\n",
    "mentorship.head()"
   ]
  },
  {
   "cell_type": "markdown",
   "id": "5fd3f9f3-0425-4ad2-b3e4-6fc9d797a40b",
   "metadata": {},
   "source": [
    "Прекрасно. Приведем в соответствие номера тем к текстовой формулировке темы из словарей топ-10 популярных тем. Для этого разделим выборку по языку, применим ранее написанные функции, соединим всё обратно и сформируем топ."
   ]
  },
  {
   "cell_type": "code",
   "execution_count": 147,
   "id": "34326eaf-3a9b-4d9b-97e0-b0c61507860b",
   "metadata": {
    "tags": []
   },
   "outputs": [],
   "source": [
    "mentorship_ru = mentorship.query('language == \"ru\"').copy()\n",
    "mentorship_en = mentorship.query('language == \"en\"').copy()\n",
    "\n",
    "mentorship_ru['topic_text'] = mentorship_ru['topic'].apply(rutopic_num_to_text)\n",
    "mentorship_en['topic_text'] = mentorship_en['topic'].apply(entopic_num_to_text)\n",
    "\n",
    "mentorship = pd.concat([mentorship_ru, mentorship_en])"
   ]
  },
  {
   "cell_type": "code",
   "execution_count": 148,
   "id": "c6052b0e-9b52-4af5-a5df-914aeed4b260",
   "metadata": {
    "tags": []
   },
   "outputs": [
    {
     "data": {
      "image/png": "[encoded data removed]",
      "text/plain": [
       "<Figure size 1000x600 with 1 Axes>"
      ]
     },
     "metadata": {},
     "output_type": "display_data"
    }
   ],
   "source": [
    "mentorship['topic_text'].value_counts().head(10).plot(kind='bar', figsize=(10, 6))\n",
    "\n",
    "plt.title('Топ тем из области менторства')\n",
    "plt.show()"
   ]
  },
  {
   "cell_type": "markdown",
   "id": "ce5d9fa4-4f69-4bda-aee0-0e8c730433da",
   "metadata": {},
   "source": [
    "Как видно, внимания заслуживают лишь 6 тем, и то с натяжкой. Для 106 постов определены темы, на их и стоит ориентироваться при составлении контент-плана: \"Развитие/тренды\" и \"Поддержка/коллаборация\" (примерно 82% постов на эти темы). \n",
    "В свете этого решено было проанализировать вручную темы постов по теме менторство и вот, что вышло:"
   ]
  },
  {
   "cell_type": "code",
   "execution_count": 237,
   "id": "3f747868-8eeb-450b-a077-21e1c8483185",
   "metadata": {
    "tags": []
   },
   "outputs": [],
   "source": [
    "mentoring_topics = pd.read_excel('topics.xlsx')\n",
    "mentoring_topics = sum(mentoring_topics.values.tolist(), [])"
   ]
  },
  {
   "cell_type": "code",
   "execution_count": 242,
   "id": "b41a1ac8-3797-4e5c-9372-8a5a442d7c86",
   "metadata": {
    "tags": []
   },
   "outputs": [
    {
     "data": {
      "image/png": "[encoded data removed]",
      "text/plain": [
       "<Figure size 640x480 with 1 Axes>"
      ]
     },
     "metadata": {},
     "output_type": "display_data"
    }
   ],
   "source": [
    "top10_mentoring_topics = pd.Series(mentoring_topics).value_counts().head(10)\n",
    "\n",
    "sns.barplot(x=top10_mentoring_topics.index, y=top10_mentoring_topics.values, order=top10_mentoring_topics.index).set_title('ТОП-10 тем в менторстве')\n",
    "plt.xticks(rotation=90)\n",
    "plt.show()"
   ]
  },
  {
   "cell_type": "markdown",
   "id": "a289bfea-3d50-4c3a-a2d5-5d59a41b6f86",
   "metadata": {},
   "source": [
    "А как обстоят дела с реакцией аудитории \"менторства\" в разрезе языка поста?"
   ]
  },
  {
   "cell_type": "code",
   "execution_count": 149,
   "id": "d98c9fec-fae6-4e1e-af67-f652de25b4f8",
   "metadata": {
    "tags": []
   },
   "outputs": [
    {
     "data": {
      "text/html": [
       "<div>\n",
       "<style scoped>\n",
       "    .dataframe tbody tr th:only-of-type {\n",
       "        vertical-align: middle;\n",
       "    }\n",
       "\n",
       "    .dataframe tbody tr th {\n",
       "        vertical-align: top;\n",
       "    }\n",
       "\n",
       "    .dataframe thead tr th {\n",
       "        text-align: left;\n",
       "    }\n",
       "\n",
       "    .dataframe thead tr:last-of-type th {\n",
       "        text-align: right;\n",
       "    }\n",
       "</style>\n",
       "<table border=\"1\" class=\"dataframe\">\n",
       "  <thead>\n",
       "    <tr>\n",
       "      <th></th>\n",
       "      <th colspan=\"4\" halign=\"left\">count</th>\n",
       "      <th colspan=\"4\" halign=\"left\">mean</th>\n",
       "      <th colspan=\"4\" halign=\"left\">median</th>\n",
       "      <th colspan=\"4\" halign=\"left\">max</th>\n",
       "    </tr>\n",
       "    <tr>\n",
       "      <th></th>\n",
       "      <th>comments_cnt</th>\n",
       "      <th>post_len</th>\n",
       "      <th>reactions_cnt</th>\n",
       "      <th>reposts_cnt</th>\n",
       "      <th>comments_cnt</th>\n",
       "      <th>post_len</th>\n",
       "      <th>reactions_cnt</th>\n",
       "      <th>reposts_cnt</th>\n",
       "      <th>comments_cnt</th>\n",
       "      <th>post_len</th>\n",
       "      <th>reactions_cnt</th>\n",
       "      <th>reposts_cnt</th>\n",
       "      <th>comments_cnt</th>\n",
       "      <th>post_len</th>\n",
       "      <th>reactions_cnt</th>\n",
       "      <th>reposts_cnt</th>\n",
       "    </tr>\n",
       "    <tr>\n",
       "      <th>language</th>\n",
       "      <th></th>\n",
       "      <th></th>\n",
       "      <th></th>\n",
       "      <th></th>\n",
       "      <th></th>\n",
       "      <th></th>\n",
       "      <th></th>\n",
       "      <th></th>\n",
       "      <th></th>\n",
       "      <th></th>\n",
       "      <th></th>\n",
       "      <th></th>\n",
       "      <th></th>\n",
       "      <th></th>\n",
       "      <th></th>\n",
       "      <th></th>\n",
       "    </tr>\n",
       "  </thead>\n",
       "  <tbody>\n",
       "    <tr>\n",
       "      <th>en</th>\n",
       "      <td>107</td>\n",
       "      <td>107</td>\n",
       "      <td>107</td>\n",
       "      <td>107</td>\n",
       "      <td>6.018692</td>\n",
       "      <td>1025.504673</td>\n",
       "      <td>7.887009</td>\n",
       "      <td>5.056075</td>\n",
       "      <td>0.0</td>\n",
       "      <td>848.0</td>\n",
       "      <td>4.0</td>\n",
       "      <td>0.0</td>\n",
       "      <td>265.0</td>\n",
       "      <td>2895</td>\n",
       "      <td>74.0</td>\n",
       "      <td>260.0</td>\n",
       "    </tr>\n",
       "    <tr>\n",
       "      <th>ru</th>\n",
       "      <td>22</td>\n",
       "      <td>22</td>\n",
       "      <td>22</td>\n",
       "      <td>22</td>\n",
       "      <td>12.318182</td>\n",
       "      <td>1221.045455</td>\n",
       "      <td>37.662227</td>\n",
       "      <td>18.727273</td>\n",
       "      <td>0.0</td>\n",
       "      <td>1102.5</td>\n",
       "      <td>11.0</td>\n",
       "      <td>0.0</td>\n",
       "      <td>93.0</td>\n",
       "      <td>2963</td>\n",
       "      <td>226.0</td>\n",
       "      <td>361.0</td>\n",
       "    </tr>\n",
       "  </tbody>\n",
       "</table>\n",
       "</div>"
      ],
      "text/plain": [
       "                count                                            mean  \\\n",
       "         comments_cnt post_len reactions_cnt reposts_cnt comments_cnt   \n",
       "language                                                                \n",
       "en                107      107           107         107     6.018692   \n",
       "ru                 22       22            22          22    12.318182   \n",
       "\n",
       "                                                      median           \\\n",
       "             post_len reactions_cnt reposts_cnt comments_cnt post_len   \n",
       "language                                                                \n",
       "en        1025.504673      7.887009    5.056075          0.0    848.0   \n",
       "ru        1221.045455     37.662227   18.727273          0.0   1102.5   \n",
       "\n",
       "                                            max                         \\\n",
       "         reactions_cnt reposts_cnt comments_cnt post_len reactions_cnt   \n",
       "language                                                                 \n",
       "en                 4.0         0.0        265.0     2895          74.0   \n",
       "ru                11.0         0.0         93.0     2963         226.0   \n",
       "\n",
       "                      \n",
       "         reposts_cnt  \n",
       "language              \n",
       "en             260.0  \n",
       "ru             361.0  "
      ]
     },
     "execution_count": 149,
     "metadata": {},
     "output_type": "execute_result"
    }
   ],
   "source": [
    "mentorship['reactions_cnt'] = mentorship['reactions_cnt'].apply(reactions_type).astype('float')\n",
    "pd.pivot_table(mentorship, index=['language'], values=['reactions_cnt', 'comments_cnt', 'reposts_cnt', 'post_len'], aggfunc=['count', 'mean', 'median', 'max'])"
   ]
  },
  {
   "cell_type": "markdown",
   "id": "0c3ce01d-7144-45de-88e6-d1a9449ecb3c",
   "metadata": {},
   "source": [
    "**Выводы:**\n",
    "- в данной области доля англоязычных постов ещё больше, чем в общей выборке - более 80%\n",
    "- чаще реагирует русскоязычная аудитория (11 против 4 по медиане)"
   ]
  },
  {
   "cell_type": "markdown",
   "id": "9aa2553b-5cf8-4066-b88b-0f194f0cf98e",
   "metadata": {},
   "source": [
    "сделаем разрез по темам"
   ]
  },
  {
   "cell_type": "code",
   "execution_count": 150,
   "id": "8a8686eb-4e7e-444c-88c7-cfccd7e6cc49",
   "metadata": {
    "tags": []
   },
   "outputs": [
    {
     "data": {
      "text/html": [
       "<div>\n",
       "<style scoped>\n",
       "    .dataframe tbody tr th:only-of-type {\n",
       "        vertical-align: middle;\n",
       "    }\n",
       "\n",
       "    .dataframe tbody tr th {\n",
       "        vertical-align: top;\n",
       "    }\n",
       "\n",
       "    .dataframe thead tr th {\n",
       "        text-align: left;\n",
       "    }\n",
       "</style>\n",
       "<table border=\"1\" class=\"dataframe\">\n",
       "  <thead>\n",
       "    <tr>\n",
       "      <th></th>\n",
       "      <th>topic_text</th>\n",
       "      <th>17</th>\n",
       "      <th>23</th>\n",
       "      <th>36</th>\n",
       "      <th>39</th>\n",
       "      <th>41</th>\n",
       "      <th>48</th>\n",
       "      <th>51</th>\n",
       "      <th>60</th>\n",
       "      <th>64</th>\n",
       "      <th>73</th>\n",
       "      <th>...</th>\n",
       "      <th>85</th>\n",
       "      <th colspan=\"2\" halign=\"left\">88</th>\n",
       "      <th>90</th>\n",
       "      <th>92</th>\n",
       "      <th>анонсы/стартапы</th>\n",
       "      <th colspan=\"2\" halign=\"left\">поддержка/коллаборация</th>\n",
       "      <th colspan=\"2\" halign=\"left\">развитие/тренды</th>\n",
       "    </tr>\n",
       "    <tr>\n",
       "      <th></th>\n",
       "      <th>language</th>\n",
       "      <th>en</th>\n",
       "      <th>ru</th>\n",
       "      <th>en</th>\n",
       "      <th>en</th>\n",
       "      <th>en</th>\n",
       "      <th>en</th>\n",
       "      <th>en</th>\n",
       "      <th>ru</th>\n",
       "      <th>en</th>\n",
       "      <th>en</th>\n",
       "      <th>...</th>\n",
       "      <th>ru</th>\n",
       "      <th>en</th>\n",
       "      <th>ru</th>\n",
       "      <th>ru</th>\n",
       "      <th>en</th>\n",
       "      <th>en</th>\n",
       "      <th>en</th>\n",
       "      <th>ru</th>\n",
       "      <th>en</th>\n",
       "      <th>ru</th>\n",
       "    </tr>\n",
       "  </thead>\n",
       "  <tbody>\n",
       "    <tr>\n",
       "      <th>mean</th>\n",
       "      <th>sum_reactions</th>\n",
       "      <td>0.5</td>\n",
       "      <td>447.569</td>\n",
       "      <td>1.0</td>\n",
       "      <td>0.0</td>\n",
       "      <td>0.0</td>\n",
       "      <td>275.165</td>\n",
       "      <td>1.5</td>\n",
       "      <td>4.0</td>\n",
       "      <td>19.0</td>\n",
       "      <td>1.5</td>\n",
       "      <td>...</td>\n",
       "      <td>9.0</td>\n",
       "      <td>12.0</td>\n",
       "      <td>2.0</td>\n",
       "      <td>4.0</td>\n",
       "      <td>37.0</td>\n",
       "      <td>35.0</td>\n",
       "      <td>4.333333</td>\n",
       "      <td>75.25</td>\n",
       "      <td>17.732701</td>\n",
       "      <td>59.5</td>\n",
       "    </tr>\n",
       "    <tr>\n",
       "      <th>median</th>\n",
       "      <th>sum_reactions</th>\n",
       "      <td>0.5</td>\n",
       "      <td>447.569</td>\n",
       "      <td>1.0</td>\n",
       "      <td>0.0</td>\n",
       "      <td>0.0</td>\n",
       "      <td>275.165</td>\n",
       "      <td>1.5</td>\n",
       "      <td>4.0</td>\n",
       "      <td>19.0</td>\n",
       "      <td>1.5</td>\n",
       "      <td>...</td>\n",
       "      <td>9.0</td>\n",
       "      <td>12.0</td>\n",
       "      <td>2.0</td>\n",
       "      <td>4.0</td>\n",
       "      <td>37.0</td>\n",
       "      <td>35.0</td>\n",
       "      <td>2.000000</td>\n",
       "      <td>72.00</td>\n",
       "      <td>5.000000</td>\n",
       "      <td>14.5</td>\n",
       "    </tr>\n",
       "  </tbody>\n",
       "</table>\n",
       "<p>2 rows × 23 columns</p>\n",
       "</div>"
      ],
      "text/plain": [
       "topic_text             17       23   36   39   41       48   51   60    64  \\\n",
       "language               en       ru   en   en   en       en   en   ru    en   \n",
       "mean   sum_reactions  0.5  447.569  1.0  0.0  0.0  275.165  1.5  4.0  19.0   \n",
       "median sum_reactions  0.5  447.569  1.0  0.0  0.0  275.165  1.5  4.0  19.0   \n",
       "\n",
       "topic_text             73  ...   85    88        90    92 анонсы/стартапы  \\\n",
       "language               en  ...   ru    en   ru   ru    en              en   \n",
       "mean   sum_reactions  1.5  ...  9.0  12.0  2.0  4.0  37.0            35.0   \n",
       "median sum_reactions  1.5  ...  9.0  12.0  2.0  4.0  37.0            35.0   \n",
       "\n",
       "topic_text           поддержка/коллаборация        развитие/тренды        \n",
       "language                                 en     ru              en    ru  \n",
       "mean   sum_reactions               4.333333  75.25       17.732701  59.5  \n",
       "median sum_reactions               2.000000  72.00        5.000000  14.5  \n",
       "\n",
       "[2 rows x 23 columns]"
      ]
     },
     "execution_count": 150,
     "metadata": {},
     "output_type": "execute_result"
    }
   ],
   "source": [
    "mentorship['sum_reactions'] = mentorship['comments_cnt'] + mentorship['reactions_cnt'] + mentorship['reposts_cnt']\n",
    "mentorship_posts_sum = pd.pivot_table(mentorship, index=['topic_text', 'language'], values=['sum_reactions'], aggfunc=['mean', 'median']).transpose()\n",
    "mentorship_posts_sum"
   ]
  },
  {
   "cell_type": "markdown",
   "id": "8814c08d-32bd-4673-b471-0522cc1487ee",
   "metadata": {},
   "source": [
    "проанализируем только популярные темы от топик-моделинга: \"поддержка/коллаборация\" и \"развитие/тренды\"\n",
    "\n",
    "**Выводы:**\n",
    "- медианное значение суммарного количества репостов, реакций и комментариев у русскоязычных постов сильно больше (в 36 раз и в 3 раза). Думаю, это связано с малым количеством постов на русском языке, поэтому данные скорее всего некорректны и четких выводов по ним делать нельзя."
   ]
  },
  {
   "cell_type": "markdown",
   "id": "15677a5a-4585-46a9-b090-003b0879228f",
   "metadata": {},
   "source": [
    "# Общий вывод"
   ]
  },
  {
   "cell_type": "markdown",
   "id": "3e95d689-1025-4443-a21b-fcaea80632ec",
   "metadata": {},
   "source": [
    "В ходе выполнения проекта были напарсены данные с сайта LinkedIn, на основе которых после лемматизации, токенизации и векторизации текстов, алгоритмом LDA был произведен TopicModeling.\n",
    "\n",
    "Далее произведен анализ, на основе которого сделаны следующие выводы:\n",
    "\n",
    "**Популярные темы у англоязычной и русскоязычной аудиторий:**\n",
    "- развитие/тренды\n",
    "- поддержка/коллаборация\n",
    "- события\n",
    "- сайты/статьи/чаты\n",
    "- поиск работы\n",
    "- выход на работу\n",
    "- анонсы/стартапы\n",
    "- новый навык\n",
    "- AI/ML\n",
    "- поиск сотрудников\n",
    "- предложения бизнес/услуг\n",
    "\n",
    "9 общих тем у двух аудиторий\n",
    "\n",
    "**В разрезе по темам и языкам топ-10 популярных у ЦА тем:**\n",
    "- медианные значения количества реакций сильно отличаются от средних, значит есть редкие посты с аномально большим количеством реакций \n",
    "- медианные значения репостов и комментариев практически везде нулевые - это не самые популярные действия у нашей аудитории. Больший акцент на реакциях.\n",
    "- максимум реакций у русскоязычных постов о выходе на работу (медиана 10.5), минимум у русскоязычных постов о новом навыке (медиана 1.0). Эта же тема на английском языке приветствуется очень активно (медиана  9.0).\n",
    "- самые длинные посты в теме \"развитие/тренды\" на русском языке (медиана 987), самые короткие - \"поиск сотрудников\" на английском (медиана 71)\n",
    "\n",
    "**Количество постов по темам и языкам:**\n",
    "- англоязычных постов сильно больше - везде кроме темы \"поддержка/коллаборация\" количество русскоязычных постов меньше. На русском языке сильно чаще пишут на эту тему.\n",
    "- сильнее выражено \"лидерство\" темы \"развитие/тренды\" у \"англичан\"\n",
    "- уникальная русскоязычная тема \"предложения бизнес-услуг\"\n",
    "- уникальная англоязычная тема \"AI/ML\"\n",
    "\n",
    "**Суммарные действия по языкам ЦА и темам (посты+репосты+реакции):**\n",
    "- большая медианная разница в реакциях на новый навык. Русскоязычным практически безразличен этот момент. Англоязычные посты имеют по этой теме огромное преимущество по реакциям (в 11 раз больше по медиане)\n",
    "- приличная медианная разница в реакциях на тему \"поиск сотрудников\" - русскоязычные реагируют в 3 раза чаще.\n",
    "- \"англичане\" в два раза чаще реагируют на события.\n",
    "- максимум реакций по теме \"выход на работу\" по обоим языкам (ан - 11, ру - 12.5). Соцсеть профессиональных контактов всё-таки.\n",
    "- предложения бизнес-услуг вызывают также минимум реакций (1,5)\n",
    "\n",
    "Далее по тегам 'mentoringIT', 'softskills', 'наставник', 'наставничество', 'ментор', 'менторство', 'mentor', 'mentorship', 'коуч', 'коучинг', 'coach', 'coaching', 'experience', 'опыт', 'бадди', 'buddy' были выбраны **посты, относящиеся к наставничеству**. Их оказалось в нашей выборке 129 штук. \n",
    "\n",
    "На основе тем после топик-моделинга какое-то адекватное разделение сделать не удалось (99 из 129 - тема \"развитие/тренды\"), поэтому тексты этих постов были проанализированы it-рекрутером вручную, и выделены топ-10 популярных тем из этой области (в порядке убывания популярности):\n",
    "- предложение услуг для разработки\n",
    "- предложение своих услуг\n",
    "- мотивация для развития софт скилов\n",
    "- опыт работы с заказчиком\n",
    "- вакансия\n",
    "- реклама\n",
    "- личный опыт\n",
    "- мотивация для развития хард скилов\n",
    "- визитка / сотрудничество\n",
    "- советы при поиске работы\n",
    "\n",
    "А на основе анализа реакций были сделаны следующие выводы:\n",
    "\n",
    "**В разрезе по языкам в постах о менторстве:**\n",
    "- в данной области доля англоязычных постов ещё больше, чем в общей выборке - более 80%\n",
    "- чаще реагирует русскоязычная аудитория (11 против 4 по медиане)"
   ]
  }
 ],
 "metadata": {
  "kernelspec": {
   "display_name": "Python 3 (ipykernel)",
   "language": "python",
   "name": "python3"
  },
  "language_info": {
   "codemirror_mode": {
    "name": "ipython",
    "version": 3
   },
   "file_extension": ".py",
   "mimetype": "text/x-python",
   "name": "python",
   "nbconvert_exporter": "python",
   "pygments_lexer": "ipython3",
   "version": "3.11.3"
  }
 },
 "nbformat": 4,
 "nbformat_minor": 5
}
