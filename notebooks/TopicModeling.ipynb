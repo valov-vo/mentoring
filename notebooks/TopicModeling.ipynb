{
 "cells": [
  {
   "cell_type": "markdown",
   "id": "c62f1852-4b22-41cb-9472-0e77f3a565b0",
   "metadata": {},
   "source": [
    "# Тeматическое моделирование\n",
    "\n",
    "В этом ноутбуке я покажу, как работает тематическое моделирование (topic modeling) на примере корпуса новостей с сайта Lenta.ru.\n",
    "\n",
    "**Что это такое:**\n",
    "\"Тематическое моделирование — способ построения модели коллекции текстовых документов, которая определяет, к каким темам относится каждый из документов\" [Википедия](https://ru.wikipedia.org/wiki/%D0%A2%D0%B5%D0%BC%D0%B0%D1%82%D0%B8%D1%87%D0%B5%D1%81%D0%BA%D0%BE%D0%B5_%D0%BC%D0%BE%D0%B4%D0%B5%D0%BB%D0%B8%D1%80%D0%BE%D0%B2%D0%B0%D0%BD%D0%B8%D0%B5)\n",
    "\n",
    "**Зачем?**\n",
    "Тематическое моделирование позволяет автоматически выделить основные темы в корпусе текстов (наборе документов); ключевые слова, соответствующие каждой теме, и распределение тем над документами. Т.е. для каждого документа будет получен набор чисел, насколько данный документ принадлежит той или иной теме. \n",
    "\n",
    "В этом ноутбуке я буду использовать открытый датасет, который состоит из новостей с сайта Lenta.ru. Если хотите самостоятельно выполнить пример, то скачайте этот [датасет](https://github.com/yutkin/Lenta.Ru-News-Dataset/releases/download/v1.1/lenta-ru-news.csv.bz2) и распакуйте его в папку с этой тетрадкой.\n",
    "\n",
    "Существует несколько алгоритмов для тематического моделирования. Мы рассмотрим один из самых базовых - LDA (Latent Dirichle Allocation). А более продвинутые алгоритмы ищете на "
   ]
  },
  {
   "cell_type": "code",
   "execution_count": 1,
   "id": "05e14367-7108-4bd4-9c23-0ef50bbe8fa5",
   "metadata": {},
   "outputs": [],
   "source": [
    "import pandas as pd\n",
    "\n",
    "import json\n",
    "\n",
    "import numpy as np\n",
    "\n",
    "import re\n",
    "from sklearn.decomposition import LatentDirichletAllocation\n",
    "from sklearn.feature_extraction.text import TfidfVectorizer\n",
    "from nltk.corpus import stopwords"
   ]
  },
  {
   "cell_type": "markdown",
   "id": "74a8f070-7580-4bff-ad2c-fec955194125",
   "metadata": {},
   "source": [
    "# EDA"
   ]
  },
  {
   "cell_type": "code",
   "execution_count": 2,
   "id": "04257713-482a-43bf-b4c8-27eb90e02c43",
   "metadata": {},
   "outputs": [
    {
     "name": "stderr",
     "output_type": "stream",
     "text": [
      "/home/frodos/.pyenv/versions/3.8.10/envs/ds/lib/python3.8/site-packages/IPython/core/interactiveshell.py:3444: DtypeWarning: Columns (3) have mixed types.Specify dtype option on import or set low_memory=False.\n",
      "  exec(code_obj, self.user_global_ns, self.user_ns)\n"
     ]
    },
    {
     "data": {
      "text/html": [
       "<div>\n",
       "<style scoped>\n",
       "    .dataframe tbody tr th:only-of-type {\n",
       "        vertical-align: middle;\n",
       "    }\n",
       "\n",
       "    .dataframe tbody tr th {\n",
       "        vertical-align: top;\n",
       "    }\n",
       "\n",
       "    .dataframe thead th {\n",
       "        text-align: right;\n",
       "    }\n",
       "</style>\n",
       "<table border=\"1\" class=\"dataframe\">\n",
       "  <thead>\n",
       "    <tr style=\"text-align: right;\">\n",
       "      <th></th>\n",
       "      <th>url</th>\n",
       "      <th>title</th>\n",
       "      <th>text</th>\n",
       "      <th>topic</th>\n",
       "      <th>tags</th>\n",
       "      <th>date</th>\n",
       "    </tr>\n",
       "  </thead>\n",
       "  <tbody>\n",
       "    <tr>\n",
       "      <th>0</th>\n",
       "      <td>https://lenta.ru/news/1914/09/16/hungarnn/</td>\n",
       "      <td>1914. Русские войска вступили в пределы Венгрии</td>\n",
       "      <td>Бои у Сопоцкина и Друскеник закончились отступ...</td>\n",
       "      <td>Библиотека</td>\n",
       "      <td>Первая мировая</td>\n",
       "      <td>1914/09/16</td>\n",
       "    </tr>\n",
       "    <tr>\n",
       "      <th>1</th>\n",
       "      <td>https://lenta.ru/news/1914/09/16/lermontov/</td>\n",
       "      <td>1914. Празднование столетия М.Ю. Лермонтова от...</td>\n",
       "      <td>Министерство народного просвещения, в виду про...</td>\n",
       "      <td>Библиотека</td>\n",
       "      <td>Первая мировая</td>\n",
       "      <td>1914/09/16</td>\n",
       "    </tr>\n",
       "    <tr>\n",
       "      <th>2</th>\n",
       "      <td>https://lenta.ru/news/1914/09/17/nesteroff/</td>\n",
       "      <td>1914. Das ist Nesteroff!</td>\n",
       "      <td>Штабс-капитан П. Н. Нестеров на днях, увидев в...</td>\n",
       "      <td>Библиотека</td>\n",
       "      <td>Первая мировая</td>\n",
       "      <td>1914/09/17</td>\n",
       "    </tr>\n",
       "    <tr>\n",
       "      <th>3</th>\n",
       "      <td>https://lenta.ru/news/1914/09/17/bulldogn/</td>\n",
       "      <td>1914. Бульдог-гонец под Льежем</td>\n",
       "      <td>Фотограф-корреспондент Daily Mirror рассказыва...</td>\n",
       "      <td>Библиотека</td>\n",
       "      <td>Первая мировая</td>\n",
       "      <td>1914/09/17</td>\n",
       "    </tr>\n",
       "    <tr>\n",
       "      <th>4</th>\n",
       "      <td>https://lenta.ru/news/1914/09/18/zver/</td>\n",
       "      <td>1914. Под Люблином пойман швабский зверь</td>\n",
       "      <td>Лица, приехавшие в Варшаву из Люблина, передаю...</td>\n",
       "      <td>Библиотека</td>\n",
       "      <td>Первая мировая</td>\n",
       "      <td>1914/09/18</td>\n",
       "    </tr>\n",
       "  </tbody>\n",
       "</table>\n",
       "</div>"
      ],
      "text/plain": [
       "                                           url  \\\n",
       "0   https://lenta.ru/news/1914/09/16/hungarnn/   \n",
       "1  https://lenta.ru/news/1914/09/16/lermontov/   \n",
       "2  https://lenta.ru/news/1914/09/17/nesteroff/   \n",
       "3   https://lenta.ru/news/1914/09/17/bulldogn/   \n",
       "4       https://lenta.ru/news/1914/09/18/zver/   \n",
       "\n",
       "                                               title  \\\n",
       "0  1914. Русские войска вступили в пределы Венгрии     \n",
       "1  1914. Празднование столетия М.Ю. Лермонтова от...   \n",
       "2                           1914. Das ist Nesteroff!   \n",
       "3                    1914. Бульдог-гонец под Льежем    \n",
       "4           1914. Под Люблином пойман швабский зверь   \n",
       "\n",
       "                                                text       topic  \\\n",
       "0  Бои у Сопоцкина и Друскеник закончились отступ...  Библиотека   \n",
       "1  Министерство народного просвещения, в виду про...  Библиотека   \n",
       "2  Штабс-капитан П. Н. Нестеров на днях, увидев в...  Библиотека   \n",
       "3  Фотограф-корреспондент Daily Mirror рассказыва...  Библиотека   \n",
       "4  Лица, приехавшие в Варшаву из Люблина, передаю...  Библиотека   \n",
       "\n",
       "             tags        date  \n",
       "0  Первая мировая  1914/09/16  \n",
       "1  Первая мировая  1914/09/16  \n",
       "2  Первая мировая  1914/09/17  \n",
       "3  Первая мировая  1914/09/17  \n",
       "4  Первая мировая  1914/09/18  "
      ]
     },
     "execution_count": 2,
     "metadata": {},
     "output_type": "execute_result"
    }
   ],
   "source": [
    "df = pd.read_csv(\"./lenta-ru-news.csv\")\n",
    "df.head()"
   ]
  },
  {
   "cell_type": "code",
   "execution_count": 3,
   "id": "e640ea07-3f65-4c8f-8375-ca8d4aef49ab",
   "metadata": {},
   "outputs": [
    {
     "data": {
      "text/plain": [
       "(800975, 6)"
      ]
     },
     "execution_count": 3,
     "metadata": {},
     "output_type": "execute_result"
    }
   ],
   "source": [
    "df.shape"
   ]
  },
  {
   "cell_type": "markdown",
   "id": "e1b3d866-e51c-4616-b027-897092665126",
   "metadata": {},
   "source": [
    "Всего в датасете 801 )сяча постов. Для каждого есть адрес (url), заголовок (title), содержание (text),  тема (topic), теги (tags) и дата публикации.\n",
    "\n",
    "Для первых постов дата публикации - это 1914 год. Видимо, это исторические материалы, которые публиковались как хроники."
   ]
  },
  {
   "cell_type": "markdown",
   "id": "3b6c94ec-55a3-4990-b152-47fe04ec805f",
   "metadata": {},
   "source": [
    "## Topic  "
   ]
  },
  {
   "cell_type": "code",
   "execution_count": 4,
   "id": "feef977f-af4a-4714-83f5-21f07b8464bc",
   "metadata": {},
   "outputs": [
    {
     "data": {
      "text/plain": [
       "Россия               160445\n",
       "Мир                  136621\n",
       "Экономика             79528\n",
       "Спорт                 64413\n",
       "Культура              53797\n",
       "Бывший СССР           53402\n",
       "Наука и техника       53136\n",
       "Интернет и СМИ        44663\n",
       "Из жизни              27605\n",
       "Дом                   21734\n",
       "Силовые структуры     19596\n",
       "Ценности               7766\n",
       "Бизнес                 7399\n",
       "Путешествия            6408\n",
       "69-я параллель         1268\n",
       "Крым                    666\n",
       "Культпросвет            340\n",
       "Легпром                 114\n",
       "Библиотека               65\n",
       "Оружие                    3\n",
       "ЧМ-2014                   2\n",
       "МедНовости                1\n",
       "Сочи                      1\n",
       "Name: topic, dtype: int64"
      ]
     },
     "execution_count": 4,
     "metadata": {},
     "output_type": "execute_result"
    }
   ],
   "source": [
    "df[\"topic\"].value_counts()"
   ]
  },
  {
   "cell_type": "code",
   "execution_count": 5,
   "id": "3f106cc2-056b-40b0-9323-41f21381f387",
   "metadata": {},
   "outputs": [
    {
     "data": {
      "text/plain": [
       "<AxesSubplot:>"
      ]
     },
     "execution_count": 5,
     "metadata": {},
     "output_type": "execute_result"
    },
    {
     "data": {
      "image/png": "[encoded data removed]",
      "text/plain": [
       "<Figure size 432x288 with 1 Axes>"
      ]
     },
     "metadata": {
      "needs_background": "light"
     },
     "output_type": "display_data"
    }
   ],
   "source": [
    "df[\"topic\"].value_counts().plot(kind=\"bar\")"
   ]
  },
  {
   "cell_type": "markdown",
   "id": "636e4b97-071a-444c-b282-d0e9061586d3",
   "metadata": {},
   "source": [
    "Топовые темы - Россия, Мир, Экономика. Для нескольких редких категорий представлено буквально по несколько записей."
   ]
  },
  {
   "cell_type": "markdown",
   "id": "d1919256-39d7-40ba-b80b-3bea4aad3e09",
   "metadata": {},
   "source": [
    "## Tags"
   ]
  },
  {
   "cell_type": "code",
   "execution_count": 8,
   "id": "7ce56577-f1a7-4211-8d3d-3988a953a230",
   "metadata": {},
   "outputs": [
    {
     "data": {
      "text/plain": [
       "94"
      ]
     },
     "execution_count": 8,
     "metadata": {},
     "output_type": "execute_result"
    }
   ],
   "source": [
    "df[\"tags\"].nunique()"
   ]
  },
  {
   "cell_type": "code",
   "execution_count": 7,
   "id": "c2e2bad1-7c99-4d5e-9181-b20c48764f9c",
   "metadata": {},
   "outputs": [
    {
     "data": {
      "text/plain": [
       "Все               453762\n",
       "Политика           40716\n",
       "Общество           35202\n",
       "Украина            22523\n",
       "Происшествия       19825\n",
       "                   ...  \n",
       "Мировой опыт           6\n",
       "Нацпроекты             6\n",
       "Вооружение             3\n",
       "Инновации              1\n",
       "69-я параллель         1\n",
       "Name: tags, Length: 94, dtype: int64"
      ]
     },
     "execution_count": 7,
     "metadata": {},
     "output_type": "execute_result"
    }
   ],
   "source": [
    "df[\"tags\"].value_counts()"
   ]
  },
  {
   "cell_type": "markdown",
   "id": "8e522ade-cf61-4623-bf84-739ba3a54632",
   "metadata": {},
   "source": [
    "Всего 94 тега. Кажется, для нашей задачи они не оч полезны."
   ]
  },
  {
   "cell_type": "markdown",
   "id": "dbe3e2cf-4eee-4791-920e-2f15d7e408f7",
   "metadata": {},
   "source": [
    "# Моделирование"
   ]
  },
  {
   "cell_type": "markdown",
   "id": "5184add2-5bd8-4c60-a35c-cd6f903d4e63",
   "metadata": {},
   "source": [
    "## Выбор темы"
   ]
  },
  {
   "cell_type": "markdown",
   "id": "9852468a-8964-4f13-8ef7-c43dbfd1096b",
   "metadata": {},
   "source": [
    "Для тематического моделирования выделим одну тему - \"Наука и техника\" и внутри неё будем искать подтемы."
   ]
  },
  {
   "cell_type": "code",
   "execution_count": 9,
   "id": "46b940fa-4f57-48ef-8fd4-93a63a26753d",
   "metadata": {},
   "outputs": [
    {
     "data": {
      "text/plain": [
       "(53136, 6)"
      ]
     },
     "execution_count": 9,
     "metadata": {},
     "output_type": "execute_result"
    }
   ],
   "source": [
    "df2 = df.query(\"topic == 'Наука и техника'\")\n",
    "df2.shape"
   ]
  },
  {
   "cell_type": "code",
   "execution_count": 10,
   "id": "c71f4ee1-e7ab-448b-9a95-5f4979807eb9",
   "metadata": {},
   "outputs": [
    {
     "data": {
      "text/plain": [
       "0"
      ]
     },
     "execution_count": 10,
     "metadata": {},
     "output_type": "execute_result"
    }
   ],
   "source": [
    "df2.duplicated(subset=\"url\").sum()"
   ]
  },
  {
   "cell_type": "markdown",
   "id": "9ee26cb6-e682-43ed-ba93-32212486112b",
   "metadata": {},
   "source": [
    "## Подготовка текстов"
   ]
  },
  {
   "cell_type": "markdown",
   "id": "1fc70781-b907-46c4-a0f2-f235bf07e5ce",
   "metadata": {},
   "source": [
    "Теперь выполним токенизацию и лемматизацию текстов. Для этого будем использовать библиотеку [Spacy](https://spacy.io).\n",
    "  Если выполнять обработку над каждым текстом по-отдельности, то это займёт достаточно много времени. Для ускорения применим \"пакетную обработку\" (batch processing)."
   ]
  },
  {
   "cell_type": "markdown",
   "id": "60f9883f-6a40-4566-9034-f014d5887f4b",
   "metadata": {},
   "source": [
    "Устанавливаем либу и качаем русскоязычную модель _ru_core_news_sm_."
   ]
  },
  {
   "cell_type": "code",
   "execution_count": 12,
   "id": "93f0e654-8e1f-431f-8285-8a7e9a8df061",
   "metadata": {
    "collapsed": true,
    "jupyter": {
     "outputs_hidden": true
    },
    "tags": []
   },
   "outputs": [
    {
     "name": "stdout",
     "output_type": "stream",
     "text": [
      "Collecting spacy\n",
      "  Downloading spacy-3.5.3-cp38-cp38-manylinux_2_17_x86_64.manylinux2014_x86_64.whl (6.8 MB)\n",
      "\u001b[K     |████████████████████████████████| 6.8 MB 5.4 MB/s eta 0:00:01\n",
      "\u001b[?25hCollecting typer<0.8.0,>=0.3.0\n",
      "  Downloading typer-0.7.0-py3-none-any.whl (38 kB)\n",
      "Collecting thinc<8.2.0,>=8.1.8\n",
      "  Downloading thinc-8.1.10-cp38-cp38-manylinux_2_17_x86_64.manylinux2014_x86_64.whl (928 kB)\n",
      "\u001b[K     |████████████████████████████████| 928 kB 2.5 MB/s eta 0:00:01\n",
      "\u001b[?25hCollecting wasabi<1.2.0,>=0.9.1\n",
      "  Downloading wasabi-1.1.2-py3-none-any.whl (27 kB)\n",
      "Collecting murmurhash<1.1.0,>=0.28.0\n",
      "  Downloading murmurhash-1.0.9-cp38-cp38-manylinux_2_5_x86_64.manylinux1_x86_64.manylinux_2_17_x86_64.manylinux2014_x86_64.whl (21 kB)\n",
      "Requirement already satisfied: requests<3.0.0,>=2.13.0 in /home/frodos/.pyenv/versions/3.8.10/envs/ds/lib/python3.8/site-packages (from spacy) (2.26.0)\n",
      "Requirement already satisfied: setuptools in /home/frodos/.pyenv/versions/3.8.10/envs/ds/lib/python3.8/site-packages (from spacy) (67.7.2)\n",
      "Requirement already satisfied: numpy>=1.15.0 in /home/frodos/.pyenv/versions/3.8.10/envs/ds/lib/python3.8/site-packages (from spacy) (1.21.4)\n",
      "Collecting spacy-legacy<3.1.0,>=3.0.11\n",
      "  Downloading spacy_legacy-3.0.12-py2.py3-none-any.whl (29 kB)\n",
      "Requirement already satisfied: pydantic!=1.8,!=1.8.1,<1.11.0,>=1.7.4 in /home/frodos/.pyenv/versions/3.8.10/envs/ds/lib/python3.8/site-packages (from spacy) (1.10.7)\n",
      "Collecting pathy>=0.10.0\n",
      "  Downloading pathy-0.10.1-py3-none-any.whl (48 kB)\n",
      "\u001b[K     |████████████████████████████████| 48 kB 4.0 MB/s eta 0:00:01\n",
      "\u001b[?25hCollecting catalogue<2.1.0,>=2.0.6\n",
      "  Downloading catalogue-2.0.8-py3-none-any.whl (17 kB)\n",
      "Requirement already satisfied: jinja2 in /home/frodos/.pyenv/versions/3.8.10/envs/ds/lib/python3.8/site-packages (from spacy) (3.0.3)\n",
      "Collecting langcodes<4.0.0,>=3.2.0\n",
      "  Downloading langcodes-3.3.0-py3-none-any.whl (181 kB)\n",
      "\u001b[K     |████████████████████████████████| 181 kB 9.2 MB/s eta 0:00:01\n",
      "\u001b[?25hRequirement already satisfied: tqdm<5.0.0,>=4.38.0 in /home/frodos/.pyenv/versions/3.8.10/envs/ds/lib/python3.8/site-packages (from spacy) (4.62.3)\n",
      "Collecting smart-open<7.0.0,>=5.2.1\n",
      "  Downloading smart_open-6.3.0-py3-none-any.whl (56 kB)\n",
      "\u001b[K     |████████████████████████████████| 56 kB 4.3 MB/s eta 0:00:011\n",
      "\u001b[?25hCollecting cymem<2.1.0,>=2.0.2\n",
      "  Downloading cymem-2.0.7-cp38-cp38-manylinux_2_17_x86_64.manylinux2014_x86_64.whl (36 kB)\n",
      "Collecting preshed<3.1.0,>=3.0.2\n",
      "  Downloading preshed-3.0.8-cp38-cp38-manylinux_2_5_x86_64.manylinux1_x86_64.manylinux_2_17_x86_64.manylinux2014_x86_64.whl (130 kB)\n",
      "\u001b[K     |████████████████████████████████| 130 kB 6.9 MB/s eta 0:00:01\n",
      "\u001b[?25hRequirement already satisfied: packaging>=20.0 in /home/frodos/.pyenv/versions/3.8.10/envs/ds/lib/python3.8/site-packages (from spacy) (21.3)\n",
      "Collecting srsly<3.0.0,>=2.4.3\n",
      "  Downloading srsly-2.4.6-cp38-cp38-manylinux_2_17_x86_64.manylinux2014_x86_64.whl (493 kB)\n",
      "\u001b[K     |████████████████████████████████| 493 kB 2.1 MB/s eta 0:00:01\n",
      "\u001b[?25hCollecting spacy-loggers<2.0.0,>=1.0.0\n",
      "  Downloading spacy_loggers-1.0.4-py3-none-any.whl (11 kB)\n",
      "Requirement already satisfied: pyparsing!=3.0.5,>=2.0.2 in /home/frodos/.pyenv/versions/3.8.10/envs/ds/lib/python3.8/site-packages (from packaging>=20.0->spacy) (2.4.7)\n",
      "Requirement already satisfied: typing-extensions>=4.2.0 in /home/frodos/.pyenv/versions/3.8.10/envs/ds/lib/python3.8/site-packages (from pydantic!=1.8,!=1.8.1,<1.11.0,>=1.7.4->spacy) (4.5.0)\n",
      "Requirement already satisfied: certifi>=2017.4.17 in /home/frodos/.pyenv/versions/3.8.10/envs/ds/lib/python3.8/site-packages (from requests<3.0.0,>=2.13.0->spacy) (2020.12.5)\n",
      "Requirement already satisfied: urllib3<1.27,>=1.21.1 in /home/frodos/.pyenv/versions/3.8.10/envs/ds/lib/python3.8/site-packages (from requests<3.0.0,>=2.13.0->spacy) (1.26.7)\n",
      "Requirement already satisfied: charset-normalizer~=2.0.0 in /home/frodos/.pyenv/versions/3.8.10/envs/ds/lib/python3.8/site-packages (from requests<3.0.0,>=2.13.0->spacy) (2.0.9)\n",
      "Requirement already satisfied: idna<4,>=2.5 in /home/frodos/.pyenv/versions/3.8.10/envs/ds/lib/python3.8/site-packages (from requests<3.0.0,>=2.13.0->spacy) (3.3)\n",
      "Collecting blis<0.8.0,>=0.7.8\n",
      "  Downloading blis-0.7.9-cp38-cp38-manylinux_2_17_x86_64.manylinux2014_x86_64.whl (10.2 MB)\n",
      "\u001b[K     |████████████████████████████████| 10.2 MB 1.9 MB/s eta 0:00:01\n",
      "\u001b[?25hCollecting confection<1.0.0,>=0.0.1\n",
      "  Downloading confection-0.0.4-py3-none-any.whl (32 kB)\n",
      "Requirement already satisfied: click<9.0.0,>=7.1.1 in /home/frodos/.pyenv/versions/3.8.10/envs/ds/lib/python3.8/site-packages (from typer<0.8.0,>=0.3.0->spacy) (8.0.3)\n",
      "Requirement already satisfied: MarkupSafe>=2.0 in /home/frodos/.pyenv/versions/3.8.10/envs/ds/lib/python3.8/site-packages (from jinja2->spacy) (2.0.1)\n",
      "Installing collected packages: catalogue, srsly, murmurhash, cymem, wasabi, typer, smart-open, preshed, confection, blis, thinc, spacy-loggers, spacy-legacy, pathy, langcodes, spacy\n",
      "Successfully installed blis-0.7.9 catalogue-2.0.8 confection-0.0.4 cymem-2.0.7 langcodes-3.3.0 murmurhash-1.0.9 pathy-0.10.1 preshed-3.0.8 smart-open-6.3.0 spacy-3.5.3 spacy-legacy-3.0.12 spacy-loggers-1.0.4 srsly-2.4.6 thinc-8.1.10 typer-0.7.0 wasabi-1.1.2\n",
      "\u001b[33mWARNING: You are using pip version 21.1.1; however, version 23.1.2 is available.\n",
      "You should consider upgrading via the '/home/frodos/.pyenv/versions/3.8.10/envs/ds/bin/python3.8 -m pip install --upgrade pip' command.\u001b[0m\n",
      "/home/frodos/.pyenv/versions/ds/lib/python3.8/site-packages/requests/__init__.py:102: RequestsDependencyWarning: urllib3 (1.26.7) or chardet (5.0.0)/charset_normalizer (2.0.9) doesn't match a supported version!\n",
      "  warnings.warn(\"urllib3 ({}) or chardet ({})/charset_normalizer ({}) doesn't match a supported \"\n",
      "Collecting ru-core-news-sm==3.5.0\n",
      "  Downloading https://github.com/explosion/spacy-models/releases/download/ru_core_news_sm-3.5.0/ru_core_news_sm-3.5.0-py3-none-any.whl (15.3 MB)\n",
      "\u001b[K     |████████████████████████████████| 15.3 MB 371 kB/s eta 0:00:01\n",
      "\u001b[?25hRequirement already satisfied: spacy<3.6.0,>=3.5.0 in /home/frodos/.pyenv/versions/3.8.10/envs/ds/lib/python3.8/site-packages (from ru-core-news-sm==3.5.0) (3.5.3)\n",
      "Collecting pymorphy3>=1.0.0\n",
      "  Downloading pymorphy3-1.2.0-py3-none-any.whl (55 kB)\n",
      "\u001b[K     |████████████████████████████████| 55 kB 265 kB/s eta 0:00:01\n",
      "\u001b[?25hRequirement already satisfied: docopt>=0.6 in /home/frodos/.pyenv/versions/3.8.10/envs/ds/lib/python3.8/site-packages (from pymorphy3>=1.0.0->ru-core-news-sm==3.5.0) (0.6.2)\n",
      "Requirement already satisfied: dawg-python>=0.7.1 in /home/frodos/.pyenv/versions/3.8.10/envs/ds/lib/python3.8/site-packages (from pymorphy3>=1.0.0->ru-core-news-sm==3.5.0) (0.7.2)\n",
      "Collecting pymorphy3-dicts-ru\n",
      "  Downloading pymorphy3_dicts_ru-2.4.417150.4580142-py2.py3-none-any.whl (8.4 MB)\n",
      "\u001b[K     |████████████████████████████████| 8.4 MB 217 kB/s eta 0:00:01\n",
      "\u001b[?25hRequirement already satisfied: tqdm<5.0.0,>=4.38.0 in /home/frodos/.pyenv/versions/3.8.10/envs/ds/lib/python3.8/site-packages (from spacy<3.6.0,>=3.5.0->ru-core-news-sm==3.5.0) (4.62.3)\n",
      "Requirement already satisfied: srsly<3.0.0,>=2.4.3 in /home/frodos/.pyenv/versions/3.8.10/envs/ds/lib/python3.8/site-packages (from spacy<3.6.0,>=3.5.0->ru-core-news-sm==3.5.0) (2.4.6)\n",
      "Requirement already satisfied: pathy>=0.10.0 in /home/frodos/.pyenv/versions/3.8.10/envs/ds/lib/python3.8/site-packages (from spacy<3.6.0,>=3.5.0->ru-core-news-sm==3.5.0) (0.10.1)\n",
      "Requirement already satisfied: requests<3.0.0,>=2.13.0 in /home/frodos/.pyenv/versions/3.8.10/envs/ds/lib/python3.8/site-packages (from spacy<3.6.0,>=3.5.0->ru-core-news-sm==3.5.0) (2.26.0)\n",
      "Requirement already satisfied: smart-open<7.0.0,>=5.2.1 in /home/frodos/.pyenv/versions/3.8.10/envs/ds/lib/python3.8/site-packages (from spacy<3.6.0,>=3.5.0->ru-core-news-sm==3.5.0) (6.3.0)\n",
      "Requirement already satisfied: setuptools in /home/frodos/.pyenv/versions/3.8.10/envs/ds/lib/python3.8/site-packages (from spacy<3.6.0,>=3.5.0->ru-core-news-sm==3.5.0) (67.7.2)\n",
      "Requirement already satisfied: catalogue<2.1.0,>=2.0.6 in /home/frodos/.pyenv/versions/3.8.10/envs/ds/lib/python3.8/site-packages (from spacy<3.6.0,>=3.5.0->ru-core-news-sm==3.5.0) (2.0.8)\n",
      "Requirement already satisfied: spacy-loggers<2.0.0,>=1.0.0 in /home/frodos/.pyenv/versions/3.8.10/envs/ds/lib/python3.8/site-packages (from spacy<3.6.0,>=3.5.0->ru-core-news-sm==3.5.0) (1.0.4)\n",
      "Requirement already satisfied: typer<0.8.0,>=0.3.0 in /home/frodos/.pyenv/versions/3.8.10/envs/ds/lib/python3.8/site-packages (from spacy<3.6.0,>=3.5.0->ru-core-news-sm==3.5.0) (0.7.0)\n",
      "Requirement already satisfied: jinja2 in /home/frodos/.pyenv/versions/3.8.10/envs/ds/lib/python3.8/site-packages (from spacy<3.6.0,>=3.5.0->ru-core-news-sm==3.5.0) (3.0.3)\n",
      "Requirement already satisfied: pydantic!=1.8,!=1.8.1,<1.11.0,>=1.7.4 in /home/frodos/.pyenv/versions/3.8.10/envs/ds/lib/python3.8/site-packages (from spacy<3.6.0,>=3.5.0->ru-core-news-sm==3.5.0) (1.10.7)\n",
      "Requirement already satisfied: spacy-legacy<3.1.0,>=3.0.11 in /home/frodos/.pyenv/versions/3.8.10/envs/ds/lib/python3.8/site-packages (from spacy<3.6.0,>=3.5.0->ru-core-news-sm==3.5.0) (3.0.12)\n",
      "Requirement already satisfied: wasabi<1.2.0,>=0.9.1 in /home/frodos/.pyenv/versions/3.8.10/envs/ds/lib/python3.8/site-packages (from spacy<3.6.0,>=3.5.0->ru-core-news-sm==3.5.0) (1.1.2)\n",
      "Requirement already satisfied: preshed<3.1.0,>=3.0.2 in /home/frodos/.pyenv/versions/3.8.10/envs/ds/lib/python3.8/site-packages (from spacy<3.6.0,>=3.5.0->ru-core-news-sm==3.5.0) (3.0.8)\n",
      "Requirement already satisfied: langcodes<4.0.0,>=3.2.0 in /home/frodos/.pyenv/versions/3.8.10/envs/ds/lib/python3.8/site-packages (from spacy<3.6.0,>=3.5.0->ru-core-news-sm==3.5.0) (3.3.0)\n",
      "Requirement already satisfied: cymem<2.1.0,>=2.0.2 in /home/frodos/.pyenv/versions/3.8.10/envs/ds/lib/python3.8/site-packages (from spacy<3.6.0,>=3.5.0->ru-core-news-sm==3.5.0) (2.0.7)\n",
      "Requirement already satisfied: murmurhash<1.1.0,>=0.28.0 in /home/frodos/.pyenv/versions/3.8.10/envs/ds/lib/python3.8/site-packages (from spacy<3.6.0,>=3.5.0->ru-core-news-sm==3.5.0) (1.0.9)\n",
      "Requirement already satisfied: numpy>=1.15.0 in /home/frodos/.pyenv/versions/3.8.10/envs/ds/lib/python3.8/site-packages (from spacy<3.6.0,>=3.5.0->ru-core-news-sm==3.5.0) (1.21.4)\n",
      "Requirement already satisfied: packaging>=20.0 in /home/frodos/.pyenv/versions/3.8.10/envs/ds/lib/python3.8/site-packages (from spacy<3.6.0,>=3.5.0->ru-core-news-sm==3.5.0) (21.3)\n",
      "Requirement already satisfied: thinc<8.2.0,>=8.1.8 in /home/frodos/.pyenv/versions/3.8.10/envs/ds/lib/python3.8/site-packages (from spacy<3.6.0,>=3.5.0->ru-core-news-sm==3.5.0) (8.1.10)\n",
      "Requirement already satisfied: pyparsing!=3.0.5,>=2.0.2 in /home/frodos/.pyenv/versions/3.8.10/envs/ds/lib/python3.8/site-packages (from packaging>=20.0->spacy<3.6.0,>=3.5.0->ru-core-news-sm==3.5.0) (2.4.7)\n",
      "Requirement already satisfied: typing-extensions>=4.2.0 in /home/frodos/.pyenv/versions/3.8.10/envs/ds/lib/python3.8/site-packages (from pydantic!=1.8,!=1.8.1,<1.11.0,>=1.7.4->spacy<3.6.0,>=3.5.0->ru-core-news-sm==3.5.0) (4.5.0)\n",
      "Requirement already satisfied: certifi>=2017.4.17 in /home/frodos/.pyenv/versions/3.8.10/envs/ds/lib/python3.8/site-packages (from requests<3.0.0,>=2.13.0->spacy<3.6.0,>=3.5.0->ru-core-news-sm==3.5.0) (2020.12.5)\n",
      "Requirement already satisfied: charset-normalizer~=2.0.0 in /home/frodos/.pyenv/versions/3.8.10/envs/ds/lib/python3.8/site-packages (from requests<3.0.0,>=2.13.0->spacy<3.6.0,>=3.5.0->ru-core-news-sm==3.5.0) (2.0.9)\n",
      "Requirement already satisfied: urllib3<1.27,>=1.21.1 in /home/frodos/.pyenv/versions/3.8.10/envs/ds/lib/python3.8/site-packages (from requests<3.0.0,>=2.13.0->spacy<3.6.0,>=3.5.0->ru-core-news-sm==3.5.0) (1.26.7)\n",
      "Requirement already satisfied: idna<4,>=2.5 in /home/frodos/.pyenv/versions/3.8.10/envs/ds/lib/python3.8/site-packages (from requests<3.0.0,>=2.13.0->spacy<3.6.0,>=3.5.0->ru-core-news-sm==3.5.0) (3.3)\n",
      "Requirement already satisfied: blis<0.8.0,>=0.7.8 in /home/frodos/.pyenv/versions/3.8.10/envs/ds/lib/python3.8/site-packages (from thinc<8.2.0,>=8.1.8->spacy<3.6.0,>=3.5.0->ru-core-news-sm==3.5.0) (0.7.9)\n",
      "Requirement already satisfied: confection<1.0.0,>=0.0.1 in /home/frodos/.pyenv/versions/3.8.10/envs/ds/lib/python3.8/site-packages (from thinc<8.2.0,>=8.1.8->spacy<3.6.0,>=3.5.0->ru-core-news-sm==3.5.0) (0.0.4)\n",
      "Requirement already satisfied: click<9.0.0,>=7.1.1 in /home/frodos/.pyenv/versions/3.8.10/envs/ds/lib/python3.8/site-packages (from typer<0.8.0,>=0.3.0->spacy<3.6.0,>=3.5.0->ru-core-news-sm==3.5.0) (8.0.3)\n",
      "Requirement already satisfied: MarkupSafe>=2.0 in /home/frodos/.pyenv/versions/3.8.10/envs/ds/lib/python3.8/site-packages (from jinja2->spacy<3.6.0,>=3.5.0->ru-core-news-sm==3.5.0) (2.0.1)\n",
      "Installing collected packages: pymorphy3-dicts-ru, pymorphy3, ru-core-news-sm\n",
      "Successfully installed pymorphy3-1.2.0 pymorphy3-dicts-ru-2.4.417150.4580142 ru-core-news-sm-3.5.0\n",
      "\u001b[33mWARNING: You are using pip version 21.1.1; however, version 23.1.2 is available.\n",
      "You should consider upgrading via the '/home/frodos/.pyenv/versions/ds/bin/python -m pip install --upgrade pip' command.\u001b[0m\n",
      "\u001b[38;5;2m✔ Download and installation successful\u001b[0m\n",
      "You can now load the package via spacy.load('ru_core_news_sm')\n"
     ]
    }
   ],
   "source": [
    "! pip install spacy\n",
    "! python -m spacy download ru_core_news_sm"
   ]
  },
  {
   "cell_type": "code",
   "execution_count": 14,
   "id": "e48779e9-ba85-4865-bbd4-2eec8207377b",
   "metadata": {},
   "outputs": [
    {
     "name": "stderr",
     "output_type": "stream",
     "text": [
      "/home/frodos/.pyenv/versions/3.8.10/envs/ds/lib/python3.8/site-packages/requests/__init__.py:102: RequestsDependencyWarning: urllib3 (1.26.7) or chardet (5.0.0)/charset_normalizer (2.0.9) doesn't match a supported version!\n",
      "  warnings.warn(\"urllib3 ({}) or chardet ({})/charset_normalizer ({}) doesn't match a supported \"\n"
     ]
    }
   ],
   "source": [
    "import spacy"
   ]
  },
  {
   "cell_type": "code",
   "execution_count": 15,
   "id": "dc7e7c2d-09d1-46b7-a653-60e5e66d3a60",
   "metadata": {},
   "outputs": [],
   "source": [
    "model = spacy.load('ru_core_news_sm', disable=['ner', 'parser'])"
   ]
  },
  {
   "cell_type": "markdown",
   "id": "d51a353e-6397-4135-90f5-4d7a2f2676d8",
   "metadata": {},
   "source": [
    "Складываем все новости в один список"
   ]
  },
  {
   "cell_type": "code",
   "execution_count": 17,
   "id": "fd353ec5-8db2-4460-89f5-bc6f88df4e4c",
   "metadata": {},
   "outputs": [],
   "source": [
    "texts = df2[\"text\"].tolist()"
   ]
  },
  {
   "cell_type": "markdown",
   "id": "dbaf7701-adc2-42ee-b8a0-879a22372bb6",
   "metadata": {},
   "source": [
    "Выполняем лемматизацию текстов. Наберитесь терпения - это долгий процесс, который может занять около часа."
   ]
  },
  {
   "cell_type": "code",
   "execution_count": 30,
   "id": "5d290cce-c7f4-4489-82d3-9e94108ea4f1",
   "metadata": {},
   "outputs": [],
   "source": [
    "res = []\n",
    "for doc in model.pipe(texts, disable=[\"tagger\", \"parser\"]):\n",
    "    res.append([token.lemma_ for token in doc])"
   ]
  },
  {
   "cell_type": "code",
   "execution_count": 32,
   "id": "9c298391-6351-4f82-97a6-f3ffdb7e551d",
   "metadata": {},
   "outputs": [],
   "source": [
    "with open(\"lemmas.json\", \"w\") as fid:\n",
    "    json.dump({\"lemmas\": res}, fid)"
   ]
  },
  {
   "cell_type": "markdown",
   "id": "90ab85f4-6e67-4e79-a1a4-63dcac05160c",
   "metadata": {},
   "source": [
    "Сохраним результат, чтобы не повторять лемматизацию заново в следующий раз."
   ]
  },
  {
   "cell_type": "markdown",
   "id": "180439d6-f077-4f8d-b587-0a6e9c6bb472",
   "metadata": {},
   "source": [
    "Смотрим на результат - случайным образом сэмплируем несколько примеров"
   ]
  },
  {
   "cell_type": "code",
   "execution_count": 40,
   "id": "bcfdf915-27b1-45f4-92eb-ca116c6a623f",
   "metadata": {},
   "outputs": [
    {
     "data": {
      "text/plain": [
       "'астронавт, роберт, бенкен, и, майк, фореман, в, пятница, рано, утро, по, московский, время, начать, четвёртый, выход, в, открытый, космос, с, мкс, в, рамка, текущий, миссия, \", индевора, \", ,,  , сообщать, риа, новость, ., по, слово, представитель, nasa, ,, астронавт, предстоять, испытательный, работа, по, ремонт, теплозащитный, слой, шаттл, -, при, помощь, специальный, пистолет, они, заполнить, раствор, повредить, теплозащитный, плитка, шаттл, ., После, испытание, тестовый, плитка, быть, возвратить, на, земля, на, проверка, и, изучение, ., также, в, ход, работа, в, открыть, космос, бенкен, и, фореман, заменить, сломанный, контрольный, модуль, электропитание, (, предохранитель, ), на, мкс, ., пятый, и, последний, для, этот, экипаж, \", индевора, \", выход, в, открытый, космос, запланировать, на, 01:23, воскресение, по, московский, время, .'"
      ]
     },
     "execution_count": 40,
     "metadata": {},
     "output_type": "execute_result"
    }
   ],
   "source": [
    "\", \".join(res[np.random.randint(len(res))])"
   ]
  },
  {
   "cell_type": "code",
   "execution_count": 43,
   "id": "bd7b72fb-0bc0-4210-99e7-1d9fcb0eda50",
   "metadata": {},
   "outputs": [
    {
     "data": {
      "text/plain": [
       "'дальность, применение, гиперзвуковой, ракета, авиационный, комплекс, \", кинжал, \", достигнуть, примерно, 3000, километр, с,  , ракетоносец, -, бомбардировщик, ту-22м3, ,, тогда, как, в, случай, истребитель, -, перехватчик, миг-31к, она, составлять, более, 2000, километр, ,, сообщить, тасс, источник, в, оборонно, -, промышленный, комплекс, ., собеседник, отметить, ,, что, дальность, применение, комплекс, \", кинжал, \", иметь, смысл, определять, как, сумма, боевой, радиус, действие, самолёт, -, носитель, (, обычно, в, два, раз, меньше, он, максимальный, дальность, ), и, собственный, дальность, ракета, ,, отсчитывать, непосредственно, после, она, пуск, с, носитель, ., \", Для, ту-22м3, ,, на, котором, в, близкий, время, быть, испытываться, ракета, ,, дальность, поражение, цель, гиперзвуковой, ракета, составить, более, 3000, километр, \", ,, —, сказать, источник, ., собеседник, отказаться, назвать, точный, собственный, дальность, ракета, комплекс, \", кинжал, \", ., источник, риа, новость, заявлять, ,, что, ракета, \", кинжал, \", ,, запускать, с, миг-31к, ,, мочь, поражать, цель, на, дистанция, в, три, раз, далёкий, ,, чем, ракета, комплекс, \", искандер, \", (, 1500, километр, против, 500, ), ., высокоточный, авиационный, ракетный, комплекс, \", кинжал, \", быть, представить, президент, россия, владимир, путин, в, март, этот, год, ., тогда, глава, государство, отметить, ,, что, дальность, комплекс, (, в, случай, носитель, миг-31к, ), превышать, 2000, километр, ., по, иметься, данным, ,, ракета, \", кинжал, \", представлять, себя, модернизированный, версия, квазибаллистической, одноступенчатой, управляемый, твердотопливный, ракета, 9М723, наземный, оперативный, -, тактический, комплекс, \", искандер, \", ., впоследствии, стать, известный, план, по, оснащение, \", кинжал, \", сверхзвуковой, ракетоносец, -, бомбардировщик, ту-22м3, ,, каждый, из, которых, ,, в, отличие, от, миг-31к, ,, должный, получить, не, одну, ракета, ,, а, четыре, .'"
      ]
     },
     "execution_count": 43,
     "metadata": {},
     "output_type": "execute_result"
    }
   ],
   "source": [
    "\", \".join(res[np.random.randint(len(res))])"
   ]
  },
  {
   "cell_type": "code",
   "execution_count": 44,
   "id": "b6630ae6-aa02-4255-9f59-7b796bd1bb57",
   "metadata": {},
   "outputs": [
    {
     "data": {
      "text/plain": [
       "'еврокомиссия, одобрить, сделка, по, приобретение, корпорация, microsoft, сервис, voip, -, телефония, skype, ,, передавать, в, пятница, agence, france, -, presse, со, ссылка, на, заявление, власть, евросоюз, ., как, говориться, в, заключение, комиссия, ,, сделка, не, помешать, конкуренция, на, европейский, рынок, частный, интернет, -, телефонии, и, не, ограничить, возможность, около, 500, миллион, европейский, пользователь, ., этот, рынок, продолжать, расти, и, на, нем, действовать, многочисленный, игрок, ,, в, тот, число, google, ,, отмечать, в, комиссия, ., что, касаться, рынок, корпоративный, коммуникация, ,, расследование, еврокомиссия, подтвердить, ,, что, skype, присутствовать, на, нем, в, ограничить, объём, и, не, конкурировать, напрямую, с, microsoft, lync, ,, которую, в, основный, использовать, крупный, компания, ., о, том, ,, что, microsoft, покупать, skype, за, 8,5, миллиард, доллар, ,, стать, известный, в, май, 2011, год, ,, когда, сделка, утвердить, член, совет, директор, оба, компания, ., сообщаться, ,, что, skype, войти, в, состав, microsoft, на, право, отдельный, подразделение, ., microsoft, пообещать, ,, что, быть, поддерживать, версия, skype, для, других, операционный, система, ,, в, тот, число, mac, os, x, и, linux, .'"
      ]
     },
     "execution_count": 44,
     "metadata": {},
     "output_type": "execute_result"
    }
   ],
   "source": [
    "\", \".join(res[np.random.randint(len(res))])"
   ]
  },
  {
   "cell_type": "markdown",
   "id": "5e859143-9aa3-4717-ae64-f8736ac9acf6",
   "metadata": {},
   "source": [
    "\n",
    "\n",
    "Удалим знаки препинания, цифры и слова, содержащие цифры. Для это соберём регулярное выражение, которое подходит для любого слова, состоящего из букв кирилицы.\n",
    "\n"
   ]
  },
  {
   "cell_type": "code",
   "execution_count": 47,
   "id": "0cd293d6-12be-4c2e-96c1-4ba76906934d",
   "metadata": {},
   "outputs": [],
   "source": [
    "word_pattern = re.compile(\"^[а-я]*$\")"
   ]
  },
  {
   "cell_type": "code",
   "execution_count": 50,
   "id": "66e11ab8-6c25-49ad-8509-7aa4257cc7f6",
   "metadata": {},
   "outputs": [],
   "source": [
    "def remove_symbols(doc):\n",
    "    return [token for token in doc if word_pattern.match(token)]"
   ]
  },
  {
   "cell_type": "code",
   "execution_count": 55,
   "id": "f3af2747-80f6-45f5-9afe-ab35e40118d4",
   "metadata": {},
   "outputs": [],
   "source": [
    "corpus = list(map(remove_symbols, res))"
   ]
  },
  {
   "cell_type": "code",
   "execution_count": 56,
   "id": "a99c6244-7b6d-4782-a5c0-6615e269a4ff",
   "metadata": {},
   "outputs": [
    {
     "data": {
      "text/plain": [
       "'в, аргентина, откопать, скелет, двуногий, плотоядный, ящер, жить, около, миллион, год, назад, в, середина, юрский, период, сообщать, рост, хищник, при, жизнь, составлять, примерно, семь, метр, кость, ящер, были, найти, от, патагонский, деревушка, серро, кондор, в, это, место, палеонтологический, изыскание, вестись, уже, около, пять, год, один, из, найти, скелет, палеонтолог, заявить, агентство, что, с, этот, ящер, очень, повезти, так, как, останки, такой, возраст, крайне, редко, когда, находиться, в, такой, хороший, состояние, по, слово, на, полный, извлечение, скелет, ящер, из, земля, уйти, около, год'"
      ]
     },
     "execution_count": 56,
     "metadata": {},
     "output_type": "execute_result"
    }
   ],
   "source": [
    "\", \".join(corpus[np.random.randint(len(corpus))])"
   ]
  },
  {
   "cell_type": "markdown",
   "id": "0a27ce7a-1db6-4161-bacb-f2b820cbb796",
   "metadata": {},
   "source": [
    "Выглядит гораздо лучше."
   ]
  },
  {
   "cell_type": "markdown",
   "id": "f4220f36-13fa-4a86-95f3-6d44d0bd83f6",
   "metadata": {},
   "source": [
    "## Векторизация текстов"
   ]
  },
  {
   "cell_type": "markdown",
   "id": "06cb43e2-df43-4cb8-a78b-43c4acfa5309",
   "metadata": {},
   "source": [
    "Теперь необходимо перевести тексты новостей и слова, из которых они состоят, в числовое представление, т.е. провести векторизацию. Для этого можно использовать подход \"мешок слов\" (Bag of Words) или Tf-iDf. Второй вариант нравится мне больше. "
   ]
  },
  {
   "cell_type": "code",
   "execution_count": 62,
   "id": "78617afc-48e3-4e17-b23d-e7df5c11c9a5",
   "metadata": {},
   "outputs": [],
   "source": []
  },
  {
   "cell_type": "markdown",
   "id": "c82a654f-912b-4d91-b3ad-0f67ed16b2d6",
   "metadata": {},
   "source": [
    "Чтобы уменьшить размерность получаемой матрицы, добавим исключение стоп-слов."
   ]
  },
  {
   "cell_type": "code",
   "execution_count": 73,
   "id": "3555d293-13cd-4de7-82e5-10a32c349ded",
   "metadata": {},
   "outputs": [
    {
     "name": "stdout",
     "output_type": "stream",
     "text": [
      "['и', 'в', 'во', 'не', 'что', 'он', 'на', 'я', 'с', 'со', 'как', 'а', 'то', 'все', 'она', 'так', 'его', 'но', 'да', 'ты', 'к', 'у', 'же', 'вы', 'за', 'бы', 'по', 'только', 'ее', 'мне', 'было', 'вот', 'от', 'меня', 'еще', 'нет', 'о', 'из', 'ему', 'теперь', 'когда', 'даже', 'ну', 'вдруг', 'ли', 'если', 'уже', 'или', 'ни', 'быть', 'был', 'него', 'до', 'вас', 'нибудь', 'опять', 'уж', 'вам', 'ведь', 'там', 'потом', 'себя', 'ничего', 'ей', 'может', 'они', 'тут', 'где', 'есть', 'надо', 'ней', 'для', 'мы', 'тебя', 'их', 'чем', 'была', 'сам', 'чтоб', 'без', 'будто', 'чего', 'раз', 'тоже', 'себе', 'под', 'будет', 'ж', 'тогда', 'кто', 'этот', 'того', 'потому', 'этого', 'какой', 'совсем', 'ним', 'здесь', 'этом', 'один', 'почти', 'мой', 'тем', 'чтобы', 'нее', 'сейчас', 'были', 'куда', 'зачем', 'всех', 'никогда', 'можно', 'при', 'наконец', 'два', 'об', 'другой', 'хоть', 'после', 'над', 'больше', 'тот', 'через', 'эти', 'нас', 'про', 'всего', 'них', 'какая', 'много', 'разве', 'три', 'эту', 'моя', 'впрочем', 'хорошо', 'свою', 'этой', 'перед', 'иногда', 'лучше', 'чуть', 'том', 'нельзя', 'такой', 'им', 'более', 'всегда', 'конечно', 'всю', 'между']\n"
     ]
    }
   ],
   "source": [
    "stop_words = stopwords.words('russian')\n",
    "print(stop_words)"
   ]
  },
  {
   "cell_type": "code",
   "execution_count": 114,
   "id": "6bff388d-dd5a-438c-a5ce-b7d739452586",
   "metadata": {},
   "outputs": [],
   "source": [
    "tfidf = TfidfVectorizer(stop_words=stop_words, min_df=10, max_df=0.9)"
   ]
  },
  {
   "cell_type": "markdown",
   "id": "7468f8ba-4cb9-4a8b-8a65-e2e6fc40a87f",
   "metadata": {},
   "source": [
    "Т.е. TfIdfVectorizer принимает на вход список предложений, поэтому необходимо объединить списки слов, составляющих корпус, в предложения."
   ]
  },
  {
   "cell_type": "code",
   "execution_count": 111,
   "id": "3124cb24-dbc9-4043-abfc-ebacc41bf180",
   "metadata": {
    "collapsed": true,
    "jupyter": {
     "outputs_hidden": true
    },
    "tags": []
   },
   "outputs": [
    {
     "data": {
      "text/plain": [
       "['американский в близкий время отправить на орбита спутник который проверить два фундаментальный предположение выдвинуть альберт эйнштейн в рамка общий теория относительность сообщать представитель и стенфордского университет в пятница рассказать о том что проект спутник разрабатываться с год с тот пора было провести несколько неудачный попытка старт и решить множество технический проблема наконец апрель спутник быть запустить с база ввс сша вандерберг аппарат создать с тем чтобы проверить высказать в теория относительность альберт эйнштейн предположение относительно пространственно временной закономерность любой физический процесс эксперимент касаться заявление о том что пространство и время искривляются в присутствие земля а вращение земля увлекать за себя пространство и время в основа аппарат четыре кварцевый сфера размер с мяч для пинг понг шар находиться в гироскоп и максимально изолировать от воздействие внешний среда в космос на полярный орбита они быть раскрутить ось вращение шар сориентируют на один космический объект в случай если теория эйнштейн верный ось вращение гироскоп должный измениться на ничтожный но измерять величина',\n",
       " 'в суббота в сша быть предпринять попытка создать из объединить в сеть ноутбук суперкомпьютер способный решать самые сложный комплексный исследовательский задача сообщать эксперимент организовать университет сан франциско проводиться в одном из спортивный зал этот город его организатор называть мероприятие планировать войти в список мощный в мир компьютер это демократизация процесс организация вычисление на суперкомпьютер он давать мощь суперкомпьютер человек которые вольный решать как они захотеть ее использовать заявить джон уитчел один из автор проект пройти в суббота мероприятие было лишь пробный в нем планироваться замерить тот мощность которую выдавать объединенные компьютер конкретный задача для ее выполнение система быть задать в следующий раз идея объединение ресурс множество машина для решение какой либо специфический задача не новый на подобный принцип к пример основать всемирно известный проект поиск след внеземной цивилизация',\n",
       " 'защитник животное обратиться к киностудия с просьба помочь им в борьба за сохранение тасманский дьявол передавать именно этот плотоядный зверь послужить прототип для мультипликационный персонаж по имя таз на котором голливудский гигант заработать миллион доллар хищник встречающийся в дикий природа только на австралийский остров тасмания вымирать от рак чтобы убить животное болезнь хватать всего несколько месяц за последний пять десять год численность популяция сократиться почти на половина и составлять сечас тысяча особь мы вести переговоры с ребятами из тасмания чтобы понять что мы мочь помочь заявить пресс секретарь барбара броглиатти однако которые должный быть распоряжаться собранный средство не очень верить что деньга спасти животное все идти к тому что в близкий пять год процент популяция или даже больше заразятся и пожалуй мы ничто не смочь с это поделать заявить биолог ник муни европеец впервые увидеть тасманский дьявол год назад посмотреть на острый клык и послушать грозный хрип и рычание путешественник дать животное это название всемирный известность к тасманский дьявол прийти в год когда таз впервые появиться на экран понять с кто они иметь дело зритель мочь из реплика багс банни тасманский дьявол сорваться с цепь бежать бежать спасайтесь']"
      ]
     },
     "execution_count": 111,
     "metadata": {},
     "output_type": "execute_result"
    }
   ],
   "source": [
    "docs = [\" \".join(tokens) for tokens in corpus]\n",
    "docs[:3]"
   ]
  },
  {
   "cell_type": "code",
   "execution_count": 115,
   "id": "366d58eb-801e-461e-8cca-7db7feb520c1",
   "metadata": {},
   "outputs": [],
   "source": [
    "x = tfidf.fit_transform(docs)"
   ]
  },
  {
   "cell_type": "code",
   "execution_count": 116,
   "id": "091efa54-5db8-423b-a9d3-e43b376a69a9",
   "metadata": {},
   "outputs": [
    {
     "data": {
      "text/plain": [
       "(53136, 19826)"
      ]
     },
     "execution_count": 116,
     "metadata": {},
     "output_type": "execute_result"
    }
   ],
   "source": [
    "x.shape"
   ]
  },
  {
   "cell_type": "markdown",
   "id": "dcdc3280-13fe-490a-a294-0e139d2a4e04",
   "metadata": {},
   "source": [
    "Теперь составим словарь {id_токена: токен} - он пригодится нам позднее."
   ]
  },
  {
   "cell_type": "code",
   "execution_count": 120,
   "id": "60d3ead5-7d38-4417-b333-191e153da469",
   "metadata": {},
   "outputs": [],
   "source": [
    "id2word = {i: token for i, token in enumerate(tfidf.get_feature_names())}"
   ]
  },
  {
   "cell_type": "markdown",
   "id": "835dc774-04ca-4486-820e-c053ae1c5299",
   "metadata": {},
   "source": [
    "## LDA"
   ]
  },
  {
   "cell_type": "markdown",
   "id": "5030b8e4-cdeb-4c6d-a6c2-3ea5bf72d9be",
   "metadata": {},
   "source": [
    "Теперь можем запустить алгоритм LDA. Зададим количество тем равное 20."
   ]
  },
  {
   "cell_type": "code",
   "execution_count": 144,
   "id": "e2f92219-5f50-41d2-91be-5f07796ed677",
   "metadata": {},
   "outputs": [],
   "source": [
    "n_topics = 20"
   ]
  },
  {
   "cell_type": "code",
   "execution_count": 149,
   "id": "95d47fc3-498c-46bc-933d-8aee42382350",
   "metadata": {},
   "outputs": [],
   "source": [
    "lda = LatentDirichletAllocation(n_components=n_topics, random_state=31)"
   ]
  },
  {
   "cell_type": "code",
   "execution_count": 150,
   "id": "9d510749-149f-42fb-b751-1488e7a886ee",
   "metadata": {},
   "outputs": [],
   "source": [
    "topics = lda.fit_transform(x)"
   ]
  },
  {
   "cell_type": "code",
   "execution_count": 151,
   "id": "589f0747-f262-4ce8-9a04-154f7a32831e",
   "metadata": {},
   "outputs": [
    {
     "data": {
      "text/plain": [
       "(53136, 20)"
      ]
     },
     "execution_count": 151,
     "metadata": {},
     "output_type": "execute_result"
    }
   ],
   "source": [
    "topics.shape"
   ]
  },
  {
   "cell_type": "markdown",
   "id": "52b2d01e-d6aa-4750-a2f7-864c7ae21333",
   "metadata": {},
   "source": [
    "Получили массив размера 53136x20. Строки здесь - отдельные тексты, а колонки - 20 выделенных тем. В каждой ячейке стоит вероятность того, что данный текст относится к данной теме. Это то самое распределение тем над документами."
   ]
  },
  {
   "cell_type": "markdown",
   "id": "879a33e7-8179-48ff-9f29-edf66ba34329",
   "metadata": {},
   "source": [
    "### Ключевые слова"
   ]
  },
  {
   "cell_type": "markdown",
   "id": "bf4f9208-bc32-4a32-995c-0c78d7e703e4",
   "metadata": {},
   "source": [
    "Теперь извлечём ключевые слова для каждой из 20 тем. В свойсте _components_ _ лежит матрица соответствия слов темам. Пройдёмся по каждой из 20 выделенных тем и для каждой возьмём ТОП-20 слов."
   ]
  },
  {
   "cell_type": "markdown",
   "id": "b7d7f478-6fe8-41f2-8f5b-18e8924eafda",
   "metadata": {},
   "source": [
    "По очереди пройдёмся по каждой теме (первое измерение массиа) и выберем ТОП-20 слов, наиболее характерных для этой темы. Потом по индексу слова обратимся к словарю и узнаем, что это за слово."
   ]
  },
  {
   "cell_type": "code",
   "execution_count": 155,
   "id": "22943201-2961-46a2-b925-6a0c2f41c6f8",
   "metadata": {},
   "outputs": [
    {
     "name": "stdout",
     "output_type": "stream",
     "text": [
      "Тема 1 :\n",
      "табличка, кларк, эллен, усыпальница, оорта, древнеегипетский, майлз, петрик, тутанхамона, троянов, египтянин, саркофаг, мумия, пирамида, египетский, гробница, литовский, египет, фараон, литва\n",
      "\n",
      " \n",
      "Тема 2 :\n",
      "блок, субмарина, носитель, вмф, фрегат, аппарат, орбита, космический, проект, год, космодром, пуск, запуск, флот, лодка, подлодка, подводный, спутник, корабль, ракета\n",
      "\n",
      " \n",
      "Тема 3 :\n",
      "вещество, группа, мозг, организм, опубликовать, автор, ген, животное, которые, университет, работа, результат, журнал, вода, человек, мочь, это, клетка, исследование, исследователь\n",
      "\n",
      " \n",
      "Тема 4 :\n",
      "процент, модель, представить, рынок, компьютер, версия, система, новый, доллар, продажа, мобильный, планшет, приложение, телефон, экран, год, пользователь, компания, смартфон, устройство\n",
      "\n",
      " \n",
      "Тема 5 :\n",
      "морж, античастица, позитрон, антикварк, подведомственный, нтс, грозовой, перец, копролит, антивещество, солитон, типчак, корсар, молния, мезон, клипер, тасс, итар, фано, интерфакс\n",
      "\n",
      " \n",
      "Тема 6 :\n",
      "новый, представить, ядро, тактовый, энергопотребление, производительность, доллар, накопитель, компания, графический, видеокарта, гигагерц, гигабайт, частота, память, компьютер, нетбук, чип, ноутбук, процессор\n",
      "\n",
      " \n",
      "Тема 7 :\n",
      "выпустить, игровой, появиться, первый, геймер, издательство, релиз, серия, новый, версия, часть, продажа, разработчик, консоль, компания, выйти, проект, студия, год, игра\n",
      "\n",
      " \n",
      "Тема 8 :\n",
      "клещ, время, новгородский, дрсмд, альпинист, полноэкранный, новгород, грамота, аукционный, воп, баннер, вкладка, лот, торг, торнадо, аукцион, возняк, ббм, риа, новость\n",
      "\n",
      " \n",
      "Тема 9 :\n",
      "перегреваться, паоло, тераэлектронвольта, носок, накопителями, лоу, возгорание, ноутбук, ковальчук, дефект, ультрабюджетных, несполи, элемент, батарейка, торо, отозвать, дель, питание, перегрев, отзыв\n",
      "\n",
      " \n",
      "Тема 10 :\n",
      "физика, детектор, фотон, энергия, столкновение, большой, эксперимент, кварк, протон, физик, хиггса, квантовый, пучок, элементарный, адронный, бозон, бак, ускоритель, коллайдер, частица\n",
      "\n",
      " \n",
      "Тема 11 :\n",
      "эрг, бишкек, полиэтиленовый, инспекционный, командор, разбиение, ислам, мд, шос, артустановки, ксир, болл, мусульманин, киргизский, ларсен, гляциолог, киргизия, боливия, анпа, айсберг\n",
      "\n",
      " \n",
      "Тема 12 :\n",
      "динозавр, научный, назад, женщина, наука, кость, возраст, тысяча, археолог, это, животное, университет, премия, вид, исследование, древний, найти, обнаружить, год, человек\n",
      "\n",
      " \n",
      "Тема 13 :\n",
      "доллар, страна, километр, испытание, контракт, российский, поставка, новый, машина, система, боевой, оборона, ракета, ввс, россия, вооружение, сша, военный, истребитель, год\n",
      "\n",
      " \n",
      "Тема 14 :\n",
      "антарктида, плита, северный, море, район, байкал, погружение, метр, затмение, глубина, остров, километр, дно, экспедиция, океан, ледник, озеро, извержение, вулкан, землетрясение\n",
      "\n",
      " \n",
      "Тема 15 :\n",
      "москва, мегагерц, диапазон, ведомость, минкомсвязи, роскомнадзор, тариф, услуга, скартел, билайн, коммерсант, связь, вымпелком, сотовый, частота, абонент, мегафон, мтс, сеть, оператор\n",
      "\n",
      " \n",
      "Тема 16 :\n",
      "судья, обвинять, истец, выплатить, штраф, компенсация, против, обвинение, запрет, разбирательство, обвинить, судебный, компания, патентный, право, нарушение, подать, патент, иск, суд\n",
      "\n",
      " \n",
      "Тема 17 :\n",
      "снимок, обнаружить, поверхность, масса, излучение, астероид, расстояние, космический, солнце, дыра, солнечный, спутник, объект, год, телескоп, астроном, земля, галактика, планета, звезда\n",
      "\n",
      " \n",
      "Тема 18 :\n",
      "оплодотворение, особь, хван, спячка, паук, спаривание, птенец, эмбрион, гусеница, ур, яйцеклетка, клонирование, насекомое, потомство, комар, пингвин, яйцо, половой, самка, самец\n",
      "\n",
      " \n",
      "Тема 19 :\n",
      "прогресс, время, роскосмос, год, спутник, агентство, экипаж, союз, космонавт, запуск, аппарат, ракета, шаттл, космос, астронавт, орбита, станция, корабль, мкс, космический\n",
      "\n",
      " \n",
      "Тема 20 :\n",
      "антивирусный, армстронг, антивирус, вычислительный, убс, рингтон, заразить, рейтинг, троян, археоптерикс, хоббит, ботнет, терафлопс, вредоносный, фбр, вирус, петафлопс, касперский, производительность, суперкомпьютер\n",
      "\n",
      " \n"
     ]
    }
   ],
   "source": [
    "for i in range(n_topics):\n",
    "    c = lda.components_[i, :]\n",
    "    topic_tokens = [id2word.get(token_id) for token_id in np.argsort(c)[-20:]]\n",
    "    print(\"Тема\",i+1, \":\")\n",
    "    print(\", \".join(topic_tokens))\n",
    "    print(\"\\n \")"
   ]
  },
  {
   "cell_type": "markdown",
   "id": "c79be3dc-87e2-4ff7-986e-eaee3e8b7b91",
   "metadata": {},
   "source": [
    "По полученным ключевым словам можно составить представление о содержании той или иной темы. Хотя иногда сочетания слов довольно странные )  "
   ]
  },
  {
   "cell_type": "markdown",
   "id": "34921b4f-2611-4a05-9ab2-7d4e4857a6cc",
   "metadata": {},
   "source": [
    "### Типичные статьи"
   ]
  },
  {
   "cell_type": "markdown",
   "id": "201ebeab-f859-4b6c-8f24-213c875fee74",
   "metadata": {},
   "source": [
    "Теперь для каждой темы возьмём по одному документу, который хорошо соответсвует этой теме. Для этого заглянем в массив _topics_."
   ]
  },
  {
   "cell_type": "code",
   "execution_count": 167,
   "id": "07d1a6e6-b179-44e7-8220-d8aff056bfa8",
   "metadata": {},
   "outputs": [
    {
     "name": "stdout",
     "output_type": "stream",
     "text": [
      "Тема  0\n",
      "Группа археологов из Египта обнаружила в районе Дахшур — некрополь фараонов Древнего и Среднего царств в Египте и в 26 километрах от Каира — руины ранее неизвестной древней пирамиды. Об этом заявили в министерстве по делам памятников древнего Египта, сообщает РИА Новости. По оценкам, пирамида была построена во времена XIII династии фараонов (XVIII — XVII века до нашей эры) и располагалась она к югу от знаменитой Ломаной пирамиды фараона Снофру. Также специалисты нашли обломок алебастровой таблички с иероглифическим текстом размером 17 на 15 сантиметров. «Обнаруженная часть находится в хорошем состоянии, археологическая миссия продолжит работы, надеясь обнаружить другие части пирамиды», — рассказал руководитель центрального управления министерства по Каиру и Гизе Аля аш-Шахат. На территории Дахшура всего было найдено 15 пирамид, которые относятся к IV, XII и XIII династиям фараонов. Лучше других сохранились Ломаная и Розовая пирамиды Снофру, при строительстве которых египтянам удалось выработать правильную форму пирамиды.\n",
      "\n",
      "\n",
      "Тема  1\n",
      "Министерство обороны России приняло решение приостановить разработку проекта 955/955А \"Борей\" по созданию современного подводного атомного крейсера. Об этом пишет газета \"Известия\" со ссылкой на собственный источник в ведомстве. В частности, намеченная на 22 декабря закладка четвертого корабля проекта \"Борей\" на Северодвинском машиностроительном предприятии может не состояться. По данным газеты, причиной заморозки проекта стал неудачный 12-й пуск межконтинентальной ракеты \"Булава\", которая должна стать основным вооружением перспективных АПЛ. Межконтинентальная баллистическая ракета морского базирования \"Булава\" способна нести несколько ядерных блоков, мощность каждого из которых может достигать 150 килотонн. Дальность полета \"Булавы\" составляет восемь тысяч километров. Косвенно данные о приостановке реализации проекта \"Борей\" подтвердил генеральный директор Севмашпредприятия Николай Калистратов, который при этом уточнил, что окончательное решение будет принято по результатам расследования, проводимого сейчас государственной комиссией. Госкомиссия ведет расследование с 9 декабря 2009 года, когда во время испытательного пуска \"Булавы\" с АПЛ \"Дмитрий Донской\", ракета значительно отклонилась от заданного курса. По предварительным данным, во время полета \"Булавы\" первые две ступени отработали в штатном режиме, однако на третьем этапе была зафиксирована нестабильная работа двигателей третьей ступени. Более точные данные, как ожидается, будут озвучены не позже марта 2010 года. Ранее стало известно, что новые испытания \"Булавы\" начнутся не раньше марта 2010 года, то есть пока не будут обнародованы результаты расследования специальной госкомиссии. Впрочем, как сообщает 15 декабря 2009 года РИА Новости со ссылкой на представителя военного ведомства, новый запуск \"Булавы\" может состояться в январе 2010 года. Сейчас на заводе Севмашпредприятия в различной стадии готовности находятся три лодки проекта 955/955А \"Борей\" - \"Юрий Долгорукий\", \"Александр Невский\" и \"Владимир Мономах\".  Согласно планам Министерства обороны России по упомянутому проекту должно быть построено восемь АПЛ. Водоизмещение перспективных АПЛ составляет 17 тысяч тонн, а максимальная подводная скорость - 26 узлов. АПЛ, длина корпуса которых составляет 170 метров, способны осуществлять автономное плавание продолжительностью до ста дней.\n",
      "\n",
      "\n",
      "Тема  2\n",
      "Биологи из Университета Южной Каролины в США выяснили, какое влияние оказало ионизирующее излучение в зонах отчуждения вокруг Чернобыльской АЭС и АЭС Фукусима-1 на диких животных в их естественной среде обитания.  Оказалось, что радиация способствует уменьшению популяций и развитию таких болезней, как катаракта.  Результаты опубликованы в журнале Science of The Total Environment во вторник, 26 апреля. По словам ученых, авария на атомной электростанции в Чернобыле была катастрофой для окружающей среды и населяющих ее организмов, однако в то же время она создала своего рода естественную радиологическую лабораторию. Исследователи имеют возможность изучить воздействие ионизирующего излучения на животных, живущих в дикой природе. Ранее во время испытаний атомных бомб ученые проводили подобные исследования, оценивая влияние токсикологических эффектов радиации на живые организмы, однако при этом невозможно было проследить, как излучение воздействует на экосистемы и популяции животных. Дикие животные, чтобы существовать, должны постоянно искать пищу, а также уметь постоять за себя, что делает их уязвимыми для новых стрессовых факторов. Радиобиологи начали исследование зоны отчуждения в Чернобыле в 2000 году, а в 2011 году их полевая лаборатория расширилась, когда возникла еще одна зона — у японской атомной электростанции Фукусима-1, на которой произошла еще одна радиационная авария. Ученые обнаружили, что дикие животные страдают от широкого спектра вреда их организму, возникающего даже на низком уровне хронического облучения. Одним из таких эффектов является катаракта. Еще во время ядерных испытаний врачи заметили, что у людей, подвергшихся световой и радиационной энергии взорвавшихся бомб, склонна развиваться катаракта. Схожие симптомы биологи обнаружили у птиц и у грызунов, у которых заболевания глаз встречались чаще и были более тяжелыми, чем у животных вне зон отчуждения. Ученые подчеркивают, что катаракта является общим следствием хронического действия радиации и развивается, например, у летчиков, которые летают на большой высоте, или у работников радиологической сферы. Для животных чернобыльской зоны также характерно уменьшение размеров мозга, увеличение числа случаев развития опухолей, снижение фертильности, а также распространенность аномалий развития у птиц. Кроме того, неблагоприятный радиологический фон влияет и на численность животных. Ученые заметили, что популяции ласточек были меньше в районах с более сильным загрязнением, и они могли бы полностью исчезнуть, если бы не миграция птиц из других районов. Радиация также оказывает влияние на окислительные процессы в клетках. Ионизирующее излучение, как известно, влияет на ДНК и приводит к увеличению количества образующейся перекиси водорода. Перекись водорода, в свою очередь, изменяет окислительно-восстановительный баланс клетки и влияет на многие другие биохимические процессы. Окислительному стрессу противодействуют антиоксиданты, и это может быть объяснением, почему некоторые популяции менее подвержены радиации, чем другие. Виды, которые способны регулировать содержание антиокислительных веществ в клетках, могут использовать это как защиту против генетических повреждений.\n",
      "\n",
      "\n",
      "Тема  3\n",
      "LG анонсировала флагманский смартфон G3 с рекордным разрешением экрана. Об этом компания сообщила на презентации. В России его продажи начнутся в начале июля, сообщили «Ленте.ру» в пресс-службе ритейлера «Связной». Аппарат LG G3 имеет дисплей с диагональю 5,5 дюймов. Разрешение экрана, как и ожидалось, составляет Quad HD (2560 на 1440 точек). Конкурирующие модели Samsung, Sony и других компаний имеют вчетверо меньшую детализацию ─ Full HD (1600 на 1200 точек). Плотность элементов изображения на G3 также получилась рекордной ─ 538 пикселей на дюйм. Представители компании утверждают, что пользователи смогут заметить разницу с мониторами существующих телефонов. Еще одним нововведением стала лазерная подсветка автофокуса. В смартфонах она применена впервые, что позволило LG заявить о времени наведения основной камеры на объект съемки всего за 0,267 с. Формально это на 10 процентов быстрее, чем у предыдущего рекордсмена по этому показателю ─ Samsung Galaxy S5. На практике важнее будет качество получаемых фотографий. Разрешение основной камеры анонсированного смартфона составляет 13 мегапикселей, фронтальной ─ два. Производитель оснастил объектив на задней панели системой оптической стабилизации OIS+, которая уменьшает смазывание снимков. Фронтальная камера получила более чувствительную матрицу и просветленный объектив, наиболее интересная ее функция ─ съемка по жесту. При сжимании кулака в кадре, запускается трехсекундный отсчет для создания «селфи». LG G3 построен на аппаратной базе, типичной для старших моделей смартфонов. Он имеет процессор Qualcomm Snapdragon 801 с частотой до 2,5 гигагерца. Аппарат обладает двумя или тремя гигабайтами оперативной памяти и 16 или 32 гигабайтами ─ встроенной. Поддерживаются карты microSD емкостью до 128 гигабайт. Емкость сменного аккумулятора составляет 3000 миллиампер-часов. Поддерживаются все современные беспроводные стандарты: Wi-Fi, Bluetooth, NFC и LTE. По заявлению производителя, конкретные характеристики устройств могут зависеть от страны реализации. G3 получил несколько фирменных технологий безопасности. Knock Code позволяет разблокировать смартфон путем постукивания по экрану в определенной последовательности. Content Lock скрывает содержимое выбранных папок, а Kill Switch блокирует доступ к данным при краже аппарата. Фирменная графическая оболочка выполнена в модном сейчас «плоском» дизайне с простым изображением деталей интерфейса. Система подсказок «Умные уведомления» учитывает данные из различных источников: например, предлагает взять зонт вечером на встречу, так как прогноз погоды обещает дождь. Экранная клавиатура допускает подстройку по высоте для удобства ввода. Она учитывает особенности ввода пользователем, что позволяет на 75 процентов снизить число ошибочно набранных символов, по утверждению производителя. Новый телефон LG работает под управлением операционной системы Android 4.4.2. KitKat. Габариты корейского аппарата составляют 146 на 75 на 8,9 миллиметра при массе 149 грамм. Он поставляется в пяти цветовых вариантах: черный, белый, золотой, фиолетовый и «бургунди». Цена аппарата в России на момент публикации неизвестна. В последнее время многие известные производители гаджетов существенно сократили временной промежуток, который проходит с момента мировой премьеры до появления устройства в России. Бренд LG не стал исключением - мы ожидаем появления LG G3 в России в начале июля, то есть фактически через месяц после мировой премьеры. «Выход новинки с диагональю дисплея более 5 дюймов позволит LG укрепить свои позиции на рынке планшетофонов», ─ сообщила «Ленте.ру» руководитель пресс-службы группы компаний «Связной» Мария Заикина. Они напомнила, что по итогам первого квартала 2014 года LG впервые вошла в пятерку ведущих продавцов планшетофонов (фаблетов). По мнению Заикиной, на продажах устройства положительно скажется достаточно быстрое появление на российском рынке после мировой премьеры, а также форм-фактор G3: «Его можно отнести к двум категориям «умных» устройств: к камерофонам и планшетофонам, динамика роста продаж которых во многом определяет темпы развития рынка смартфонов в России в целом».\n",
      "\n",
      "\n",
      "Тема  4\n",
      "ИТАР-ТАСС\n",
      "\n",
      "\n",
      "Тема  5\n",
      "Компания ASRock представила ультрадешевый настольный компьютер NetTop ION 330, построенный на платформе Nvidia Ion. Внутри этого ПК установлен двухъядерный процессор Intel Atom 330, работающий на частоте 1,6 гигагерца. Об этом сообщается в пресс-релизе ASRock. В стандартной комплектации NetTop ION 330 оснащен двумя гигабайтами оперативной памяти, 320 гигабайтным винчестером и DVD-приводом. На корпусе неттопа есть шесть портов USB и разъем HDMI. Размеры компьютера - 195x186x70 миллиметра, вес - 1,69 килограмма. Рекомендованная розничная цена ASRock NetTop ION 330 составляет 330 долларов. В российских магазинах этот компьютер появится в конце лета или начале осени текущего года. Первым компьютером с Nvidia Ion стал десктоп Acer Aspire Revo. Он был анонсирован в начале апреля и построен на базе одноядерного процессора Intel Atom. Минимальная цена этого компьютера в России составляет девять тысяч рублей. Платформа Nvidia Ion была представлена в декабре 2008 года. Ее встроенная видеосистема GeForce 9400M в несколько раз превосходит по производительности аналогичные решения компании Intel. Компьютер на платформе Nvidia Ion может работать с HD-видео с разрешением 1080р. Кроме того, на нем можно запускать игры, требующие поддержки DirectX 10.\n",
      "\n",
      "\n",
      "Тема  6\n",
      "Студия Black Isle решила разработать постапокалиптическую RPG с элементами стратегии. Об этом говорится в видеоролике, который обнародовала компания. Проект носит кодовое название PV13. Ранее под ним скрывалась Fallout Online, которую по лицензии Interplay разрабатывала болгарская студия Masthead. Стоит заметить, что непосредственно в ролике слово Fallout так и не прозвучало. Каждый раз, когда кто-либо из представителей Black Isle его произносил, оно заменялось звуковым сигналом. На сайте студии начался сбор средств от геймеров в пользу проекта. Он будет идти в течение тридцати дней. В отличие от других подобных кампаний, пожертвование в пользу PV13 не дает геймерам право на получение копии игры после ее выхода. За эти деньги игроки могут лишь получить доступ к форуму Black Isle. Если они пожертвуют 10 долларов, то смогут его читать. Те, кто перечислят больше 20, смогут также добавлять там сообщения. По словам самих разработчиков, сбор средств нужен для того, чтобы доказать \"необходимость воскрешения\" Black Isle Studios. Помимо этого средства от кампании пойдут на подбор новых сотрудников. Они также нужны на создание концепта игры, который Black Isle уже собирается демонстрировать инвесторам. Сколько денег нужно набрать студии, чтобы начать работу над PV13, на официальном сайте не говорится. В настоящее время над проектом работают Крис Тейлор (гейм-дизайнер, который работал над обеими частями Fallout), продюсер Чип Бумгарднер, сценарист Fallout Марк О'Грин и художник Джефф Кледеннинг. Согласно описанию, размещенному на сайте игры, в PV13 геймерам нужно будет создать своего персонажа, который может быть либо человеком, либо мутантом, либо киборгом. После этого им придется создать в постапокалиптическом мире колонию и повелевать ею: строить новые здания, привлекать туда воинов, рабочих, ученых и других неигровых персонажей. Одновременно с этим главный герой будет путешествовать по миру, искать технологии и сражаться с врагами. Компания Interplay, которой принадлежит студия Black Isle, объявила о ее воскрешении в августе. До последнего времени никакой информации о новых проектах, над которыми она работает, не поступало. Студия Black Isle существовала с 1996 по 2003 год. Ее основал Фергус Уркхарт. В активе студии две части Fallout, Icewind Dale и Planescape: Torment. Студия закрылась после того, как Interplay выкупила компания Titus Interacrive. В последние годы это издательство не прославилось ничем, кроме судебного спора с Bethesda из-за лицензии на Fallout Online. Interplay, планировавшая выпустить этот проект, должна была набрать на его разработку как минимум 30 миллионов долларов, однако так этого и не сделала. Из-за этого Bethesda обвинила компанию в нарушении контракта и подала в суд. В 2012 году это дело завершилось тем, что Interplay отказалась от разработки игры и получила за это компенсацию в размере двух миллионов долларов.\n",
      "\n",
      "\n",
      "Тема  7\n",
      "Центрально-азиатские новости\n",
      "\n",
      "\n",
      "Тема  8\n",
      "Альфреда Вегенера\n",
      "\n",
      "\n",
      "Тема  9\n",
      "На Большом адронном коллайдере впервые после его двухлетней реконструкции прошли первые столкновения низкоэнергетических протонов. Об этом сообщается на сайте ЦЕРНа. Физики из четырех основных коллабораций БАКа столкнули два пучка протонов с энергией 450 гигаэлектронвольт каждый. Это необходимо для калибровки датчиков ускорителя. С такой энергией частицы поступают в БАК из предускорителя — протонного суперсинхротрона. Ожидается, что столкновение частиц на максимальной энергии (6,5 тераэлектронвольта на пучок) произойдет в начале июня 2015 года. Ранее на БАКе были пропущены пучки протонов в обоих направлениях (по и против часовой стрелки) по всем восьми сегментам кольца ускорителя. В середине марта сообщалось, что на БАКе провели пуск пучков для тестирования детекторов двух экспериментов — LHCb (Large Hadron Collider beauty experiment) и ALICE (A Large Ion Collider Experiment). В ходе испытаний частицы прошли 10 из 27 километров (три из восьми секторов) ускорительного кольца. Коллайдер был остановлен 14 февраля 2013 года. После его двухлетней модернизации и ожидаемого перезапуска исследователи собираются сконцентрироваться на поисках частиц темной материи, следов суперсимметрии и дополнительных пространственных измерений. БАК — крупнейшая в мире ускорительная установка. Она расположена в ЦЕРНе на границе Франции и Швейцарии. В 2012 году специалисты этой организации сообщили об открытии частицы со свойствами бозона Хиггса.\n",
      "\n",
      "\n",
      "Тема  10\n",
      "США и Киргизия заключили соглашение о дальнейшем использовании авиабазы в пригороде Бишкека, сообщает CNN. Документ подписали госсекретарь США Кондолизза Райс и президент Киргизии Курманбек Бакиев, которые провели переговоры в Бишкеке. Представитель американского департамента заявил в интервью CNN, что переговоры были \"очень жесткими\". В соглашении говорится, что правительство республики \"будет поддерживать присутствие коалиционных сил в регионе до тех пор, пока будет продолжаться контртеррористическая операция, которую поддерживают США\". Соответственно, как утверждается в документе, Киргизия \"поддерживает присутствие США на авиабазе в \"Манасе\". В ответ США пообещали доплатить нынешнему правительству 10 миллионов долларов в счет аренды авиабазы за прошлый год. В 2004 году Киргизии было выплачено 40 миллионов долларов. На авиабазе \"Ганчи\", начиная с 2001 года, дислоцируются примерно тысяча американских военнослужащих, преимущественно - технический персонал и пилоты ВВС. Они участвуют в военных операциях в Афганистане. Между тем в ходе летнего саммита стран-членов Шанхайской организации сотрудничества была принята резолюция, в которой США попросили определиться со сроками своего присутствия в Средней Азии. В частности, резолюцию подписали и представители Киргизии. Впоследствии после серии переговоров с США киргизское правительство приняло решение оставить авиабазу в аэропорту \"Манас\". В ходе своего нынешнего визита в Среднюю Азию Кондолизза Райс посетила пять стран - Таджикистан, Киргизию, Казахстан, Пакистан и Афганистан.\n",
      "\n",
      "\n",
      "Тема  11\n",
      "Специалисты из университета Чикаго пришли к выводу о том, что знакомство через интернет не увеличивает, а уменьшает риск развода в первые годы после свадьбы. Это заключение ученых основано на результатах опроса, проведенного онлайн-сервисом eHarmony. Сильные и слабые стороны исследования, опубликованного в Proceedings of the National Academy of Sciences разбирает Nature News. Опрос набрал более 19 тысяч голосов, анализ которых позволил сопоставить благополучие пар, познакомившихся тем или иным образом. Выяснилось, что знакомство через интернет свело вместе 35 процентов опрошенных, причем непосредственно на сайтах знакомств нашли друг друга далеко не все эти респонденты. Из числа познакомившихся онлайн лишь 45 процентов встретились на специализированных сайтах, в то время как все остальные узнали друг о друге иными способами. По словам Джона Каккиопо, ведущего автора исследования, встретившие друг друга в сети супруги обычно несколько старше, образованнее и богаче тех, кто познакомились более традиционными способами. Доля тех, кто познакомился, женился и развелся к моменту исследования, при этом намного ниже: четыре процента против восьми. Авторы поясняют, что во многом именно разница в материальном положении, возрасте и образовании обуславливает разницу в исходе брака. Но при этом ученые подчеркивают, что полностью объяснить выявленный эффект отличиями в демографических характеристиках нельзя: когда данные были отнормированы (учтено влияние дохода, образования, возраста и всех прочих факторов), закономерность все равно сохранила свою статистическую значимость. Кроме того, исследователи провели дополнительный опрос не только на eHarmony, но и ряде других сайтов знакомств, чтобы исключить гипотезу о привлечении к определенному сайту какой-то определенной категории пользователей: выяснилось, что от перемены сайта число разведенных пар не меняется. Ряд экспертов, опрошенных Nature News, при этом смотрят на результаты скептически. Одним из слабых мест исследования называют то, что далеко не все пользователи заполняли анкету до конца: на 19 тысяч респондентов пришлось почти вдвое больше тех, кто бросили отвечать на вопросы еще до отправки результатов. Возможно, говорит специалист Корнельского университета Джилес Хукер, анкеты заполняют более терпеливые люди и они же более счастливы в семейной жизни.\n",
      "\n",
      "\n",
      "Тема  12\n",
      "Вооружение и военная техника, выпускаемые российскими оборонными предприятиями для Сухопутных войск России, отстают по своим характеристикам от аналогичных систем НАТО и Китая. Об этом, как сообщает РИА Новости, заявил главнокомандующий Сухопутными войсками Александр Постников. \"Те образцы оружия, которые производит промышленность, в том числе бронетанковое вооружение, артиллерия и стрелковое, по своим параметрам не соответствуют образцам НАТО и даже Китая\", - рассказал главком. Постников пояснил свои слова на примере российского танка Т-90, который \"на самом деле является 17-й модификацией советского Т-72\", выпускавшегося с 1973 года. При этом, по словам главкома Сухопутных войск, стоимость одного такого танка в настоящее время составляет 118 миллионов рублей за штуку. \"Нам проще было бы купить за эти деньги три \"Леопарда\", - отметил главком. Между тем, российские танки Т-90 пользуются высоким спросом на внешнем рынке. В частности, Индия намерена заменить новыми Т-90 устаревшие Т-72 и Т-55. Немецкий основной боевой танк Leopard 2, который упомянул Постников, выпускается с 1979 года. За это время машина прошла шесть основных программ модернизации и в настоящее время выпускается в версии 2A6, а с 2012 года начнется серийное производство 2A7+. В настоящее время средняя стоимость одного Leopard 2A6 составляет около шести миллионов долларов (172,2 миллиона рублей). Следует отметить, что многие мировые оборонные компании нередко выпускают новые версии военной техники, которые являются глубокой модернизацией уже существующих образцов. Несмотря на отставание российских образцов вооружения от западных, вооружение и военная техника, произведенная в России, пользуется все большей популярностью в мире. В настоящее время российская военная продукция поставляется в 80 стран мира. По данным \"Рособоронэкспорта\", в 2009 году Россия продала вооружений на 8,8 миллиарда долларов, а в 2010-м - на десять миллиардов долларов. Согласно оценке госкомпании, этот показатель увеличивается в среднем на 500-700 миллионов долларов в год. Наибольшей популярностью пользуются российская авиационная техника и техника для сухопутных войск. По оценке министерства обороны России, отечественная промышленность сегодня не в состоянии выпускать некоторые образцы военной продукции, которая бы удовлетворяла современным требованиям. Для исправления сложившейся ситуации, в частности, планируется приобретать легкую броню у немецкой компании Rheinmetall Chempro. Не исключено, что в России будет открыто производство немецкой брони по лицензии. Легкая броня будет устанавливаться на легкую и среднюю бронетехнику на гусеничном и колесном ходу. Ранее сообщалось, что в России в 2011 году начнется лицензионное производство итальянских бронемашин Iveco Lynx. По словам первого заместителя министра обороны России Владимира Поповкина, доля российских комплектующих при сборке итальянских бронемашин \"со временем должна превысить 50 процентов\". При этом на лицензионные бронеавтомобили будет устанавливаться броня немецкого производства. В настоящее время потребность вооруженных сил России в бронемашинах Lynx оценивается в 1775 единиц. В 2010 году министерство обороны России и командование ВВС и Сухопутных войск выражали недовольство качеством и техническими характеристиками российских беспилотных летательных аппаратов. В частности, Поповкин заявлял, что на создание, производство и испытание российских аппаратов были потрачены пять миллиардов рублей, однако какого-либо результата добиться не удалось. В конце сентября 2010 года Постников объявил, что Сухопутные войска завершили испытание 22 российских беспилотников. При этом он отметил, что \"отечественные производители комплексов с БПЛА существенно продвинулись в работе\", а некоторые образцы \"после доработки могут быть приняты на вооружение\". В июне 2009 года министерство обороны России приобрело у Израиля 12 беспилотников на сумму в 53 миллиона долларов. Позже был заключен второй контракт на поставку 36 израильских аппаратов на сумму в сто миллионов долларов. В апреле 2010 года генеральный директор госкорпорации “Ростехнологии” Сергей Чемезов объявил о покупке у Израиля еще 15 беспилотников. Кроме того, на базе Казанского вертолетного завода планируется производить израильские беспилотники в рамках совместного российского-израильского предприятия. Стоимость проекта оценивается в 300 миллионов долларов. При осуществлении любой покупки военной продукции за рубежом, российские военные и чиновники заявляли, что она производится на условии передачи лицензии для освоения передовых технологий. Аналогичные заявления были сделаны и при покупке четырех французских десантных вертолетоносных кораблей-доков \"Мистраль\" для ВМФ России. Необходимость приобретения таких кораблей за рубежом министерство обороны России объяснило неспособностью российских предприятий разработать и построить корабли такого класса.\n",
      "\n",
      "\n",
      "Тема  13\n",
      "Ученые зафиксировали выброс пепла от вулкана Жупановский. Высота образовавшегося 18 января 2016 года столба могла достичь, по оценкам специалистов, восьми километров. Вулкан расположен в восточной части полуострова Камчатка. Последнее извержение Жупановского было зафиксировано в 2013 и 2014 годах.\n",
      "\n",
      "\n",
      "Тема  14\n",
      "РБК\n",
      "\n",
      "\n",
      "Тема  15\n",
      "Судья Комиссии по международной торговле США (ITC) признал компанию Eastman Kodak невиновной в нарушении патентов Apple. Об этом пишет Reuters. Постановление судьи вступит в силу, если 19 сентября его утвердит руководство Комиссии. Apple подала патентный иск против Kodak в апреле 2010 года. В исковом заявлении Apple обвинила производителя фотоаппаратов в нарушении двух своих патентов. Эти патенты касаются методов обработки изображения в цифровых камерах. Тремя месяцами ранее, в январе 2010 года, Kodak обратилась в суд с жалобой на Apple и Research in Motion. Kodak сочла, что компании незаконно используют в смартфонах iPhone и BlackBerry запатентованную ей технологию предпросмотра изображений. Постановление по этому иску Комиссия должна вынести 23 мая. Аналогичные патентные тяжбы Kodak вела с компаниями LG и Samsung. Разногласия с LG были улажены в 2009, а с Samsung - в 2010 году. Обе компании согласились выплатить Kodak отчисления за использование ее разработок. В общей сложности Kodak является держателем более тысячи патентов.\n",
      "\n",
      "\n",
      "Тема  16\n",
      "Ученые из Италии, Нидерландов и США открыли самую далекую от звезды экзопланету. Радиус ее орбиты составляет 630 астрономических единиц, что в 20 раз больше орбиты Нептуна. Подробности приведены в статье, которая принята к печати в журнале Astrophysical Journal Letters и уже доступна в виде препринта. Кратко о работе исследователей рассказывает сайт университета Аризоны. Планета HD 106906 b была обнаружена методом, который довольно редко используется для поиска экзопланет. Ее удалось рассмотреть непосредственно на снимках, сделанных сначала при помощи 6,5 метрового телескопа «Магеллан», а потом и на фотографиях с «Хаббла». Ученые решили изучить звезду HD 106906 из-за того, что ранее вблизи нее инфракрасная обсерватория Спитцер выявила некий источник теплового излучения. Изначально астрономы рассчитывали найти у звезды газопылевой диск. Это действительно удалось сделать и, согласно представленным в статье ученых данным, диск может простираться примерно на 120 астрономических единиц вокруг HD 106906. Одна астрономическая единица по определению равна радиусу орбиты Земли (150 миллионов километров), а орбита Нептуна, самой дальней планеты Солнечной системы, имеет радиус в 30 астрономических единиц. Пояс Койпера занимает пространство от 30 до 55 астрономических единиц, поэтому диск вокруг HD 106906 можно считать примерно в два с половиной раза больше Солнечной системы. Однако диском система HD 106906 не ограничилась: на снимках исследователи обнаружили объект, который расположен еще дальше, на отметке в 630 астрономических единиц. Авторы открытия подчеркивают, что планета HD 106906 b интересна тем, что она плохо укладывается в ряд существующих моделей формирования небесных тел. На столь большом расстоянии (оно почти вдвое больше предыдущего рекорда, объекта 1RXS J160929.1-210524) планете с массой около 11 масс Юпитера не из чего сформироваться. Астрономы предположили вначале то, что они приняли за планету случайно попавшую в кадр звезду, но статистический анализ показал, что при известной плотности звезд такое совпадение маловероятно. Другое возможное объяснение заключалось в том, что планета выросла из газопылевого диска вблизи звезды и затем была выброшена на дальнюю орбиту за счет взаимодействия системы с каким-то иным объектом. Против этой гипотезы свидетельствовала правильная форма диска: ученые пишут, что навряд ли внешнее воздействие выкинуло бы планету и при этом сохранило диск. Скорее, отмечают исследователи, и звезда, и HD 106906 b возникли из одного облака пыли и газа, хотя ранее полученные данные свидетельствуют о том, что столь большие облака встречаются крайне редко. Для фотографирования экзопланеты использовалась как космическая, так и наземная обсерватории. В сообщении университета подчеркивается то, что ключевую роль в открытии сыграла адаптивная оптика. Чтобы скорректировать искажения, вносимые атмосферой Земли, форму зеркала телескопа оперативно изменяли. Специальный лазер следил за состоянием атмосферы в направлении обзора и передавал данные компьютерной системе, управляющей формой оптического элемента.\n",
      "\n",
      "\n",
      "Тема  17\n",
      "YouTube-канале Deep Look опубликовал ролик, на котором запечатлена самка богомола, спаривающаяся с ранее обезглавленным ею самцом. На видео с сексуальным каннибализмом, снятое в в Восточной Сьерре (Калифорния), обратило внимание Daily Mail. Перед спариванием самка откусила самцу голову. После этого тело самца продолжило движение, приняв участие в совокуплении с самкой. Поедание самца, как полагает биолог и автор видео Майк Максвелл, обеспечивает самку необходимой для вынашивания сотни яиц энергией.\n",
      "\n",
      "\n",
      "Тема  18\n",
      "Первый пуск ракеты с нового российского космодрома Восточный предварительно перенесен ровно на сутки. Об этом, как передает ТАСС, объявил диктор на космодроме. «Привести стартовый комплекс в исходное состояние», — сказал диктор. «В \"Роскосмосе\" не располагают информацией», — сказал агентству представитель госкорпорации, отвечая на вопрос о причинах переноса. Все руководители работ вызваны для проведения совещания. Наблюдавшие за подготовкой к старту на космодроме сотрудники ракетно-космической отрасли покидают смотровую площадку. По данным источника, пуск перенесен по техническим причинам. Он добавил, что команда на запуск была прервана на последней минуте перед стартом. Повторная попытка запустить носитель будет произведена в четверг, 28 апреля, в 05:01 мск. Ракета-носитель «Союз-2.1а», установленная на стартовой площадке, должна вывести на орбиту спутники «Михайло Ломоносов», «Аист-2Д» и SamSat-218Д. Спутник «Михайло Ломоносов» предназначен для проведения космологических исследований, изучения транзиентных световых явлений верхней атмосферы Земли, а также радиационных характеристик магнитосферы. Аппарат планируется запустить на высоту 490 километров. Масса спутника составляет 645 килограммов, при этом масса научного оборудования достигает 160 килограммов. Запланированный срок службы аппарата составит три года. Заказчиком аппарата выступил Московский государственный университет имени Михаила Ломоносова, изготовителем — корпорация «ВНИИЭМ». Оптико-электронный аппарат дистанционного зондирования Земли «Аист-2Д» создан специалистами ракетно-космического центра «Прогресс» (Самара) и Самарского университета (объединенного Самарского государственного университета и Самарского государственного аэрокосмического университета). Аппарат имеет массу 531 килограмм и имеет новый объектив, который при съемке земной поверхности может обеспечить разрешение в 1,5 метра с полосой захвата почти 40 километров. Наноспутник SamSat-218 предназначен для решения технологических и образовательных задач. Он будет применяться для отработки алгоритмов управления ориентацией наноспутников. Управлять процессами, происходящими на его борту, ученые планируют с мобильного устройства, подключенного к системе спутниковой связи GlobalStar. Строительство космодрома Восточный в Приамурье сопровождается скандалами, связанными с выявлением хищений, а также массовыми забастовками и голодовками рабочих из-за задержек зарплаты. В январе прошлого года глава Счетной палаты Татьяна Голикова заявляла, что объем хищений на Восточном превысил 13 миллиардов рублей.\n",
      "\n",
      "\n",
      "Тема  19\n",
      "В первой десятке рейтинга 500 самых мощных суперкомпьютеров мира, опубликованного 23 июня, появилось два новых вычислительных комплекса. Возглавляет рейтинг по-прежнему IBM Roadrunner, производительность которого составляет 1,105 петафлопс (квадриллион операций в секунду). Новичками в десятке самых мощных суперкомпьютеров мира стали вычислительные комплексы Jugene и Juropa. Оба они находятся в Германии и занимают третью и десятую строчки в рейтинге ТОР-500 соответственно. Все остальные суперкомпьютеры первой десятки расположены в США. Производительность Jugene равна 825,5 терафлопса, при этом его пиковая производительность достигает петафлопса. Мощность суперкомпьютера Juropa составляет 274,8 терафлопса. Его пиковая производительность равна 308,3 терафлопса. Второе место в ТОР-500 занимает суперкомпьютер Jaguar. Его мощность равна 1,059 петафлопс, а пиковая производительность - 1,381 петафлопса. Пиковая производительность IBM Roadrunner составляет 1,456 петафлопс. Лучший российский суперкомпьютер занимает 35 место в рейтинге мощнейших вычислительных комплексов мира. Его производительность равна 94,74 терафлопса, а пиковая производительность - 122,9 терафлопса.\n",
      "\n",
      "\n"
     ]
    }
   ],
   "source": [
    "for i in range(n_topics):\n",
    "    doc_id = np.argmax(topics[:, i])\n",
    "    print(\"Тема \", i)\n",
    "    print(df2.iloc[doc_id][\"text\"])\n",
    "    print(\"\\n\")"
   ]
  },
  {
   "cell_type": "markdown",
   "id": "9d396f94-6583-448c-aed2-b7affa82e3b4",
   "metadata": {},
   "source": [
    "Типичные статьи, в целом хорошо согласуются с ключевыми словами, которые мы выделили. Например, первая выделенная тема - про египтологию и археологию. \n",
    " В тоже время, мы видим и очень короткие тексты, например 4 и 14. Это подсказывает дальнейшие шаги. Например:\n",
    "  - удалить из корпуса текстов очень короткие статьи. Чтобы правильно задать порог отсечения, необходимо построить распределение текстов по длине.   - возможно, ключевыми словами, на которые ориентировался алгоритм, стали названия информационных агентств - РБК и ИТАР-ТАСС. Стоит подумать о том, чтобы добавить эти слова в стоп-лист. "
   ]
  },
  {
   "cell_type": "markdown",
   "id": "cde09df7-da5c-4002-9c6a-37d6b1ad39ea",
   "metadata": {},
   "source": [
    "А ещё вы всегда можете сделать шаг назад и дополнить модель. Например:\n",
    "- пополнить список стоп-слов (просмотрите внимательно ключевые слова каждой из тем - нет ли там случайных слов?);\n",
    "- изменить настройки Tf-idF;\n",
    "- увеличить/уменьшить количество тем;\n",
    "- обучать LDA чуть дольше;\n",
    "- заменить LDA на другой алгоритм тематического моделирояни."
   ]
  },
  {
   "cell_type": "markdown",
   "id": "a5d040dd-5988-4107-b009-bf71da05d794",
   "metadata": {},
   "source": [
    "# Полезные ссылки\n",
    "\n",
    "- [Вики](https://ru.wikipedia.org/wiki/%D0%A2%D0%B5%D0%BC%D0%B0%D1%82%D0%B8%D1%87%D0%B5%D1%81%D0%BA%D0%BE%D0%B5_%D0%BC%D0%BE%D0%B4%D0%B5%D0%BB%D0%B8%D1%80%D0%BE%D0%B2%D0%B0%D0%BD%D0%B8%D0%B5)\n",
    "\n",
    "- [История о том, как прочитать 120 тысяч анекдотов и не рассмеяться раньше времени](https://habr.com/ru/companies/otus/articles/723306/)\n",
    "\n",
    "- [Видеоурок \"Анализ текстовых данных тематическое моделирование комментариев Вконтакте\"](https://www.youtube.com/watch?v=0DnfzQdbwQw)\n",
    "\n",
    "- [LDA в Sklearn](https://scikit-learn.org/0.16/modules/generated/sklearn.lda.LDA.html)\n",
    "\n",
    "- [Topic Modeling разными алгоритмами](https://scikit-learn.org/stable/auto_examples/applications/plot_topics_extraction_with_nmf_lda.html#sphx-glr-auto-examples-applications-plot-topics-extraction-with-nmf-lda-py)\n",
    "\n",
    "- [Более академическое описание тематического моделировния](http://www.machinelearning.ru/wiki/index.php?title=%D0%A2%D0%B5%D0%BC%D0%B0%D1%82%D0%B8%D1%87%D0%B5%D1%81%D0%BA%D0%BE%D0%B5_%D0%BC%D0%BE%D0%B4%D0%B5%D0%BB%D0%B8%D1%80%D0%BE%D0%B2%D0%B0%D0%BD%D0%B8%D0%B5)"
   ]
  },
  {
   "cell_type": "code",
   "execution_count": null,
   "id": "d7641afc-f84a-4c3b-812c-d4f872338094",
   "metadata": {},
   "outputs": [],
   "source": []
  }
 ],
 "metadata": {
  "kernelspec": {
   "display_name": "general-ds",
   "language": "python",
   "name": "general-ds"
  },
  "language_info": {
   "codemirror_mode": {
    "name": "ipython",
    "version": 3
   },
   "file_extension": ".py",
   "mimetype": "text/x-python",
   "name": "python",
   "nbconvert_exporter": "python",
   "pygments_lexer": "ipython3",
   "version": "3.8.10"
  },
  "toc-autonumbering": true
 },
 "nbformat": 4,
 "nbformat_minor": 5
}
