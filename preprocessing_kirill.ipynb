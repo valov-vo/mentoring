{
 "cells": [
  {
   "cell_type": "code",
   "execution_count": 255,
   "id": "53d45bc9",
   "metadata": {},
   "outputs": [],
   "source": [
    "import ast\n",
    "import pandas as pd"
   ]
  },
  {
   "cell_type": "code",
   "execution_count": 256,
   "id": "02ba04bd",
   "metadata": {},
   "outputs": [],
   "source": [
    "def comment_prep(toy2):\n",
    "    if type(toy2) == str:\n",
    "        toy = toy2.split()\n",
    "        return int(toy2[0])\n",
    "    else:\n",
    "        return toy2"
   ]
  },
  {
   "cell_type": "code",
   "execution_count": 257,
   "id": "d415787e",
   "metadata": {},
   "outputs": [],
   "source": [
    "def posts_cnt(toy):\n",
    "        return len(toy)"
   ]
  },
  {
   "cell_type": "code",
   "execution_count": 265,
   "id": "b86fc72f",
   "metadata": {},
   "outputs": [],
   "source": [
    "data = pd.read_csv('profile_info_ios_60.csv', index_col=0)"
   ]
  },
  {
   "cell_type": "code",
   "execution_count": 266,
   "id": "7d9cd42c",
   "metadata": {},
   "outputs": [],
   "source": [
    "exp_col = ['posts', 'reactions', 'comments', 'post_url']"
   ]
  },
  {
   "cell_type": "code",
   "execution_count": 267,
   "id": "481d0174",
   "metadata": {},
   "outputs": [],
   "source": [
    "data[exp_col] = data[exp_col].applymap(ast.literal_eval)"
   ]
  },
  {
   "cell_type": "code",
   "execution_count": 268,
   "id": "663f1f6f",
   "metadata": {},
   "outputs": [],
   "source": [
    "data['posts_cnt'] = data['posts'].apply(posts_cnt)"
   ]
  },
  {
   "cell_type": "code",
   "execution_count": 269,
   "id": "98fb1685",
   "metadata": {},
   "outputs": [],
   "source": [
    "data_exp = data.apply(pd.Series.explode)"
   ]
  },
  {
   "cell_type": "code",
   "execution_count": 270,
   "id": "d1b22378",
   "metadata": {},
   "outputs": [],
   "source": [
    "data_exp.fillna(value = {'posts'    : 'нет постов',\n",
    "                         'post_url' : 'нет постов',\n",
    "                         'reactions': 0,\n",
    "                         'comments' : 0\n",
    "                        },\n",
    "                inplace = True)"
   ]
  },
  {
   "cell_type": "code",
   "execution_count": 271,
   "id": "ed6cc81a",
   "metadata": {},
   "outputs": [],
   "source": [
    "data_exp['comments'] = data_exp['comments'].apply(comment_prep)"
   ]
  },
  {
   "cell_type": "code",
   "execution_count": 272,
   "id": "5a4b8002",
   "metadata": {},
   "outputs": [],
   "source": [
    "data_exp.rename(columns = {'posts': 'post',\n",
    "                          'reactions': 'reactions_cnt',\n",
    "                          'comments': 'comments_cnt'},\n",
    "               inplace = True)"
   ]
  },
  {
   "cell_type": "code",
   "execution_count": 276,
   "id": "4804db6c",
   "metadata": {},
   "outputs": [],
   "source": [
    "data_exp.to_csv('data_exp.csv', sep=';')"
   ]
  },
  {
   "cell_type": "code",
   "execution_count": null,
   "id": "d50b281a",
   "metadata": {},
   "outputs": [],
   "source": []
  }
 ],
 "metadata": {
  "kernelspec": {
   "display_name": "Python 3 (ipykernel)",
   "language": "python",
   "name": "python3"
  },
  "language_info": {
   "codemirror_mode": {
    "name": "ipython",
    "version": 3
   },
   "file_extension": ".py",
   "mimetype": "text/x-python",
   "name": "python",
   "nbconvert_exporter": "python",
   "pygments_lexer": "ipython3",
   "version": "3.9.7"
  }
 },
 "nbformat": 4,
 "nbformat_minor": 5
}
